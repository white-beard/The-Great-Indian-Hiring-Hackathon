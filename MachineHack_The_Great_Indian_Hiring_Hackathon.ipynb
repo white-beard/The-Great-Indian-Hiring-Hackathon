{
  "nbformat": 4,
  "nbformat_minor": 0,
  "metadata": {
    "colab": {
      "name": "MachineHack:The Great Indian Hiring Hackathon.ipynb",
      "provenance": [],
      "collapsed_sections": [
        "kXdnwzfNirk_",
        "d-905IpVCIhy"
      ],
      "toc_visible": true
    },
    "kernelspec": {
      "name": "python3",
      "display_name": "Python 3"
    }
  },
  "cells": [
    {
      "cell_type": "markdown",
      "metadata": {
        "id": "_tvpx_LwEgNU"
      },
      "source": [
        "## Importing Libraries\n"
      ]
    },
    {
      "cell_type": "code",
      "metadata": {
        "id": "GOLjT2HwF6IH"
      },
      "source": [
        "import numpy as np\n",
        "import pandas as pd\n",
        "import datetime\n",
        "import matplotlib.pyplot as plt\n",
        "import seaborn as sns\n",
        "from sklearn.model_selection import train_test_split\n",
        "from sklearn.metrics import mean_squared_error\n",
        "from sklearn import datasets, linear_model, metrics\n",
        "from matplotlib import pyplot\n"
      ],
      "execution_count": null,
      "outputs": []
    },
    {
      "cell_type": "code",
      "metadata": {
        "id": "6RvUL1fyRppg"
      },
      "source": [
        "train = pd.read_csv(\"/content/Train.csv\")\n",
        "test = pd.read_csv(\"/content/Test.csv\")\n"
      ],
      "execution_count": null,
      "outputs": []
    },
    {
      "cell_type": "markdown",
      "metadata": {
        "id": "k3JSAPfMK2Ip"
      },
      "source": [
        "### Conversion to DateTime Datatype:\n"
      ]
    },
    {
      "cell_type": "code",
      "metadata": {
        "id": "mT39r0uBLEy5",
        "colab": {
          "base_uri": "https://localhost:8080/"
        },
        "outputId": "b02a7f69-500d-4bb2-d478-d6e9878c90ae"
      },
      "source": [
        "train['InvoiceDate']= pd.to_datetime(train['InvoiceDate']) \n",
        "train.dtypes"
      ],
      "execution_count": null,
      "outputs": [
        {
          "output_type": "execute_result",
          "data": {
            "text/plain": [
              "InvoiceNo               int64\n",
              "StockCode               int64\n",
              "Description             int64\n",
              "Quantity                int64\n",
              "InvoiceDate    datetime64[ns]\n",
              "UnitPrice             float64\n",
              "CustomerID            float64\n",
              "Country                 int64\n",
              "dtype: object"
            ]
          },
          "metadata": {
            "tags": []
          },
          "execution_count": 3
        }
      ]
    },
    {
      "cell_type": "code",
      "metadata": {
        "id": "_4dREmVYLgIu",
        "colab": {
          "base_uri": "https://localhost:8080/"
        },
        "outputId": "54dcdd64-ae18-4618-bf35-c97d5d55013c"
      },
      "source": [
        "train['month'] = train['InvoiceDate'].dt.month\n",
        "train['day'] = train['InvoiceDate'].dt.day\n",
        "train['year'] = train['InvoiceDate'].dt.year\n",
        "train['quarter'] = train['InvoiceDate'].dt.quarter\n",
        "train['day of the week'] = train['InvoiceDate'].dt.dayofweek # Monday = 0 & Sunday = 6\n",
        "train['dayofweek_name'] = train['InvoiceDate'].dt.day_name()\n",
        "train['is_weekend'] = np.where(train['dayofweek_name'].isin(['Sunday','Saturday']),1,0)\n",
        "train[\"week_of_the_year\"] =  train['InvoiceDate'].dt.weekofyear\n",
        "train['Dayofyear'] = train['InvoiceDate'].dt.dayofyear\n",
        "# train[\"hour\"] = train['InvoiceDate'].dt.hour\n",
        "# train[\"minute\"] = train['InvoiceDate'].dt.minute\n",
        "# train[\"minute\"] = train['InvoiceDate'].dt.time\n",
        "\n",
        "\n",
        "\n"
      ],
      "execution_count": null,
      "outputs": [
        {
          "output_type": "stream",
          "text": [
            "/usr/local/lib/python3.6/dist-packages/ipykernel_launcher.py:8: FutureWarning: Series.dt.weekofyear and Series.dt.week have been deprecated.  Please use Series.dt.isocalendar().week instead.\n",
            "  \n"
          ],
          "name": "stderr"
        }
      ]
    },
    {
      "cell_type": "code",
      "metadata": {
        "id": "wu9TnrbTVpwL",
        "colab": {
          "base_uri": "https://localhost:8080/"
        },
        "outputId": "9b7fdf68-ef93-4570-8d6d-ca4cb439c6fd"
      },
      "source": [
        "# Performing the same on test data\n",
        "test['InvoiceDate']= pd.to_datetime(test['InvoiceDate']) \n",
        "test['month'] = test['InvoiceDate'].dt.month\n",
        "test['day'] = test['InvoiceDate'].dt.day\n",
        "test['year'] = test['InvoiceDate'].dt.year\n",
        "test['quarter'] = test['InvoiceDate'].dt.quarter\n",
        "test['day of the week'] = test['InvoiceDate'].dt.dayofweek # Monday = 0 & Sunday = 6\n",
        "test['dayofweek_name'] = test['InvoiceDate'].dt.day_name()\n",
        "test['is_weekend'] = np.where(test['dayofweek_name'].isin(['Sunday','Saturday']),1,0)\n",
        "test[\"week_of_the_year\"] =  test['InvoiceDate'].dt.weekofyear\n",
        "test['Dayofyear'] = test['InvoiceDate'].dt.dayofyear\n",
        "# test[\"hour\"] = test['InvoiceDate'].dt.hour\n",
        "# test[\"minute\"] = test['InvoiceDate'].dt.minute\n",
        "# test[\"minute\"] = test['InvoiceDate'].dt.time\n"
      ],
      "execution_count": null,
      "outputs": [
        {
          "output_type": "stream",
          "text": [
            "/usr/local/lib/python3.6/dist-packages/ipykernel_launcher.py:10: FutureWarning: Series.dt.weekofyear and Series.dt.week have been deprecated.  Please use Series.dt.isocalendar().week instead.\n",
            "  # Remove the CWD from sys.path while we load stuff.\n"
          ],
          "name": "stderr"
        }
      ]
    },
    {
      "cell_type": "code",
      "metadata": {
        "id": "8HFaZ4B1Vjus",
        "colab": {
          "base_uri": "https://localhost:8080/"
        },
        "outputId": "ec4b168b-2d6b-4375-d57f-f49acc6a8394"
      },
      "source": [
        "print(train.shape)\n",
        "print(test.shape)"
      ],
      "execution_count": null,
      "outputs": [
        {
          "output_type": "stream",
          "text": [
            "(284780, 17)\n",
            "(122049, 16)\n"
          ],
          "name": "stdout"
        }
      ]
    },
    {
      "cell_type": "code",
      "metadata": {
        "id": "0wYATfhgPl1R",
        "colab": {
          "base_uri": "https://localhost:8080/",
          "height": 356
        },
        "outputId": "6d60c78f-05d7-4c43-f2d8-d6d7572ffb2f"
      },
      "source": [
        "train.head()"
      ],
      "execution_count": null,
      "outputs": [
        {
          "output_type": "execute_result",
          "data": {
            "text/html": [
              "<div>\n",
              "<style scoped>\n",
              "    .dataframe tbody tr th:only-of-type {\n",
              "        vertical-align: middle;\n",
              "    }\n",
              "\n",
              "    .dataframe tbody tr th {\n",
              "        vertical-align: top;\n",
              "    }\n",
              "\n",
              "    .dataframe thead th {\n",
              "        text-align: right;\n",
              "    }\n",
              "</style>\n",
              "<table border=\"1\" class=\"dataframe\">\n",
              "  <thead>\n",
              "    <tr style=\"text-align: right;\">\n",
              "      <th></th>\n",
              "      <th>InvoiceNo</th>\n",
              "      <th>StockCode</th>\n",
              "      <th>Description</th>\n",
              "      <th>Quantity</th>\n",
              "      <th>InvoiceDate</th>\n",
              "      <th>UnitPrice</th>\n",
              "      <th>CustomerID</th>\n",
              "      <th>Country</th>\n",
              "      <th>month</th>\n",
              "      <th>day</th>\n",
              "      <th>year</th>\n",
              "      <th>quarter</th>\n",
              "      <th>day of the week</th>\n",
              "      <th>dayofweek_name</th>\n",
              "      <th>is_weekend</th>\n",
              "      <th>week_of_the_year</th>\n",
              "      <th>Dayofyear</th>\n",
              "    </tr>\n",
              "  </thead>\n",
              "  <tbody>\n",
              "    <tr>\n",
              "      <th>0</th>\n",
              "      <td>6141</td>\n",
              "      <td>1583</td>\n",
              "      <td>144</td>\n",
              "      <td>3</td>\n",
              "      <td>2011-05-06 16:54:00</td>\n",
              "      <td>3.75</td>\n",
              "      <td>14056.0</td>\n",
              "      <td>35</td>\n",
              "      <td>5</td>\n",
              "      <td>6</td>\n",
              "      <td>2011</td>\n",
              "      <td>2</td>\n",
              "      <td>4</td>\n",
              "      <td>Friday</td>\n",
              "      <td>0</td>\n",
              "      <td>18</td>\n",
              "      <td>126</td>\n",
              "    </tr>\n",
              "    <tr>\n",
              "      <th>1</th>\n",
              "      <td>6349</td>\n",
              "      <td>1300</td>\n",
              "      <td>3682</td>\n",
              "      <td>6</td>\n",
              "      <td>2011-05-11 07:35:00</td>\n",
              "      <td>1.95</td>\n",
              "      <td>13098.0</td>\n",
              "      <td>35</td>\n",
              "      <td>5</td>\n",
              "      <td>11</td>\n",
              "      <td>2011</td>\n",
              "      <td>2</td>\n",
              "      <td>2</td>\n",
              "      <td>Wednesday</td>\n",
              "      <td>0</td>\n",
              "      <td>19</td>\n",
              "      <td>131</td>\n",
              "    </tr>\n",
              "    <tr>\n",
              "      <th>2</th>\n",
              "      <td>16783</td>\n",
              "      <td>2178</td>\n",
              "      <td>1939</td>\n",
              "      <td>4</td>\n",
              "      <td>2011-11-20 13:20:00</td>\n",
              "      <td>5.95</td>\n",
              "      <td>15044.0</td>\n",
              "      <td>35</td>\n",
              "      <td>11</td>\n",
              "      <td>20</td>\n",
              "      <td>2011</td>\n",
              "      <td>4</td>\n",
              "      <td>6</td>\n",
              "      <td>Sunday</td>\n",
              "      <td>1</td>\n",
              "      <td>46</td>\n",
              "      <td>324</td>\n",
              "    </tr>\n",
              "    <tr>\n",
              "      <th>3</th>\n",
              "      <td>16971</td>\n",
              "      <td>2115</td>\n",
              "      <td>2983</td>\n",
              "      <td>1</td>\n",
              "      <td>2011-11-22 12:07:00</td>\n",
              "      <td>0.83</td>\n",
              "      <td>15525.0</td>\n",
              "      <td>35</td>\n",
              "      <td>11</td>\n",
              "      <td>22</td>\n",
              "      <td>2011</td>\n",
              "      <td>4</td>\n",
              "      <td>1</td>\n",
              "      <td>Tuesday</td>\n",
              "      <td>0</td>\n",
              "      <td>47</td>\n",
              "      <td>326</td>\n",
              "    </tr>\n",
              "    <tr>\n",
              "      <th>4</th>\n",
              "      <td>6080</td>\n",
              "      <td>1210</td>\n",
              "      <td>2886</td>\n",
              "      <td>12</td>\n",
              "      <td>2011-05-06 09:00:00</td>\n",
              "      <td>1.65</td>\n",
              "      <td>13952.0</td>\n",
              "      <td>35</td>\n",
              "      <td>5</td>\n",
              "      <td>6</td>\n",
              "      <td>2011</td>\n",
              "      <td>2</td>\n",
              "      <td>4</td>\n",
              "      <td>Friday</td>\n",
              "      <td>0</td>\n",
              "      <td>18</td>\n",
              "      <td>126</td>\n",
              "    </tr>\n",
              "  </tbody>\n",
              "</table>\n",
              "</div>"
            ],
            "text/plain": [
              "   InvoiceNo  StockCode  Description  ...  is_weekend week_of_the_year  Dayofyear\n",
              "0       6141       1583          144  ...           0               18        126\n",
              "1       6349       1300         3682  ...           0               19        131\n",
              "2      16783       2178         1939  ...           1               46        324\n",
              "3      16971       2115         2983  ...           0               47        326\n",
              "4       6080       1210         2886  ...           0               18        126\n",
              "\n",
              "[5 rows x 17 columns]"
            ]
          },
          "metadata": {
            "tags": []
          },
          "execution_count": 7
        }
      ]
    },
    {
      "cell_type": "code",
      "metadata": {
        "id": "asY20hkIdjS5"
      },
      "source": [
        "train =train.drop([\"dayofweek_name\",\"InvoiceDate\"],axis =1)"
      ],
      "execution_count": null,
      "outputs": []
    },
    {
      "cell_type": "markdown",
      "metadata": {
        "id": "bX_a4IxpnCFm"
      },
      "source": [
        "# EDA"
      ]
    },
    {
      "cell_type": "code",
      "metadata": {
        "id": "ViCeEq8fRzga",
        "colab": {
          "base_uri": "https://localhost:8080/"
        },
        "outputId": "dd21ab99-57a4-49dd-d69b-bf56a2a7128a"
      },
      "source": [
        "train.shape"
      ],
      "execution_count": null,
      "outputs": [
        {
          "output_type": "execute_result",
          "data": {
            "text/plain": [
              "(284780, 17)"
            ]
          },
          "metadata": {
            "tags": []
          },
          "execution_count": 8
        }
      ]
    },
    {
      "cell_type": "code",
      "metadata": {
        "id": "1CCaR4yMWGee"
      },
      "source": [
        "# train1 = train.drop([\"UnitPrice\"],axis=1)"
      ],
      "execution_count": null,
      "outputs": []
    },
    {
      "cell_type": "code",
      "metadata": {
        "id": "QZED1PCfWXQQ",
        "colab": {
          "base_uri": "https://localhost:8080/"
        },
        "outputId": "dd7973c3-4265-42bb-895e-2aeb4f8810ab"
      },
      "source": [
        "train.shape"
      ],
      "execution_count": null,
      "outputs": [
        {
          "output_type": "execute_result",
          "data": {
            "text/plain": [
              "(284780, 17)"
            ]
          },
          "metadata": {
            "tags": []
          },
          "execution_count": 9
        }
      ]
    },
    {
      "cell_type": "code",
      "metadata": {
        "id": "3albfegsWmor"
      },
      "source": [
        "# country_dummies = pd.get_dummies(combo.Country, prefix='Country_')\n",
        "# combo=combo.drop([\"Country\"],axis =1)\n",
        "# # buddy_1.head()\n",
        "# # concat dummy variables \n",
        "# combo = pd.concat([combo,country_dummies],axis=1)\n",
        "# combo.head()\n"
      ],
      "execution_count": null,
      "outputs": []
    },
    {
      "cell_type": "code",
      "metadata": {
        "id": "zJAf3FcnZYi2"
      },
      "source": [
        ""
      ],
      "execution_count": null,
      "outputs": []
    },
    {
      "cell_type": "code",
      "metadata": {
        "id": "oHbFRvL5WpRu"
      },
      "source": [
        ""
      ],
      "execution_count": null,
      "outputs": []
    },
    {
      "cell_type": "code",
      "metadata": {
        "id": "nTya7nyEaUHh"
      },
      "source": [
        ""
      ],
      "execution_count": null,
      "outputs": []
    },
    {
      "cell_type": "code",
      "metadata": {
        "id": "bmhPpQYCc6YZ"
      },
      "source": [
        ""
      ],
      "execution_count": null,
      "outputs": []
    },
    {
      "cell_type": "code",
      "metadata": {
        "id": "YLCV0mejcekg"
      },
      "source": [
        ""
      ],
      "execution_count": null,
      "outputs": []
    },
    {
      "cell_type": "code",
      "metadata": {
        "id": "LvLlGklZdgKq"
      },
      "source": [
        ""
      ],
      "execution_count": null,
      "outputs": []
    },
    {
      "cell_type": "code",
      "metadata": {
        "id": "VPUYYMP6d8_6"
      },
      "source": [
        ""
      ],
      "execution_count": null,
      "outputs": []
    },
    {
      "cell_type": "code",
      "metadata": {
        "id": "M0FSCUVlael9"
      },
      "source": [
        ""
      ],
      "execution_count": null,
      "outputs": []
    },
    {
      "cell_type": "code",
      "metadata": {
        "id": "WToTbHKre23Y",
        "colab": {
          "base_uri": "https://localhost:8080/",
          "height": 198
        },
        "outputId": "6644679e-cb47-49fd-c778-db3c8081b925"
      },
      "source": [
        "# # Quantity of each stock\n",
        "# train_join = train.groupby('StockCode')[['Quantity']].sum()\n",
        "# train_join = train_join.reset_index()\n",
        "# train_join.head()"
      ],
      "execution_count": null,
      "outputs": [
        {
          "output_type": "execute_result",
          "data": {
            "text/html": [
              "<div>\n",
              "<style scoped>\n",
              "    .dataframe tbody tr th:only-of-type {\n",
              "        vertical-align: middle;\n",
              "    }\n",
              "\n",
              "    .dataframe tbody tr th {\n",
              "        vertical-align: top;\n",
              "    }\n",
              "\n",
              "    .dataframe thead th {\n",
              "        text-align: right;\n",
              "    }\n",
              "</style>\n",
              "<table border=\"1\" class=\"dataframe\">\n",
              "  <thead>\n",
              "    <tr style=\"text-align: right;\">\n",
              "      <th></th>\n",
              "      <th>StockCode</th>\n",
              "      <th>Quantity</th>\n",
              "    </tr>\n",
              "  </thead>\n",
              "  <tbody>\n",
              "    <tr>\n",
              "      <th>0</th>\n",
              "      <td>0</td>\n",
              "      <td>574</td>\n",
              "    </tr>\n",
              "    <tr>\n",
              "      <th>1</th>\n",
              "      <td>1</td>\n",
              "      <td>190</td>\n",
              "    </tr>\n",
              "    <tr>\n",
              "      <th>2</th>\n",
              "      <td>2</td>\n",
              "      <td>129</td>\n",
              "    </tr>\n",
              "    <tr>\n",
              "      <th>3</th>\n",
              "      <td>3</td>\n",
              "      <td>5</td>\n",
              "    </tr>\n",
              "    <tr>\n",
              "      <th>4</th>\n",
              "      <td>4</td>\n",
              "      <td>12</td>\n",
              "    </tr>\n",
              "  </tbody>\n",
              "</table>\n",
              "</div>"
            ],
            "text/plain": [
              "   StockCode  Quantity\n",
              "0          0       574\n",
              "1          1       190\n",
              "2          2       129\n",
              "3          3         5\n",
              "4          4        12"
            ]
          },
          "metadata": {
            "tags": []
          },
          "execution_count": 38
        }
      ]
    },
    {
      "cell_type": "code",
      "metadata": {
        "id": "IzUCH7bJjoTe"
      },
      "source": [
        "# train = train.merge(train_join, how='left', on='StockCode')\n",
        "# train = train.rename(columns={'Quantity_x' : 'Quantity', 'Quantity_y' : 'Quantity_per_Stock'})\n",
        "\n"
      ],
      "execution_count": null,
      "outputs": []
    },
    {
      "cell_type": "code",
      "metadata": {
        "id": "WVFGslS_jogt"
      },
      "source": [
        ""
      ],
      "execution_count": null,
      "outputs": []
    },
    {
      "cell_type": "code",
      "metadata": {
        "id": "SYEv7jaYlyZf",
        "colab": {
          "base_uri": "https://localhost:8080/",
          "height": 198
        },
        "outputId": "59c906a2-57a6-425f-a1ca-833a1ae51fc8"
      },
      "source": [
        "# # Total Quantity per invoice\n",
        "# train_in = train.groupby('InvoiceNo')[['Quantity']].sum()\n",
        "# train_in = train_in.reset_index()\n",
        "# train_in.head()"
      ],
      "execution_count": null,
      "outputs": [
        {
          "output_type": "execute_result",
          "data": {
            "text/html": [
              "<div>\n",
              "<style scoped>\n",
              "    .dataframe tbody tr th:only-of-type {\n",
              "        vertical-align: middle;\n",
              "    }\n",
              "\n",
              "    .dataframe tbody tr th {\n",
              "        vertical-align: top;\n",
              "    }\n",
              "\n",
              "    .dataframe thead th {\n",
              "        text-align: right;\n",
              "    }\n",
              "</style>\n",
              "<table border=\"1\" class=\"dataframe\">\n",
              "  <thead>\n",
              "    <tr style=\"text-align: right;\">\n",
              "      <th></th>\n",
              "      <th>InvoiceNo</th>\n",
              "      <th>Quantity</th>\n",
              "    </tr>\n",
              "  </thead>\n",
              "  <tbody>\n",
              "    <tr>\n",
              "      <th>0</th>\n",
              "      <td>0</td>\n",
              "      <td>34</td>\n",
              "    </tr>\n",
              "    <tr>\n",
              "      <th>1</th>\n",
              "      <td>1</td>\n",
              "      <td>6</td>\n",
              "    </tr>\n",
              "    <tr>\n",
              "      <th>2</th>\n",
              "      <td>2</td>\n",
              "      <td>74</td>\n",
              "    </tr>\n",
              "    <tr>\n",
              "      <th>3</th>\n",
              "      <td>3</td>\n",
              "      <td>15</td>\n",
              "    </tr>\n",
              "    <tr>\n",
              "      <th>4</th>\n",
              "      <td>4</td>\n",
              "      <td>3</td>\n",
              "    </tr>\n",
              "  </tbody>\n",
              "</table>\n",
              "</div>"
            ],
            "text/plain": [
              "   InvoiceNo  Quantity\n",
              "0          0        34\n",
              "1          1         6\n",
              "2          2        74\n",
              "3          3        15\n",
              "4          4         3"
            ]
          },
          "metadata": {
            "tags": []
          },
          "execution_count": 40
        }
      ]
    },
    {
      "cell_type": "code",
      "metadata": {
        "id": "jicxK65CokX3"
      },
      "source": [
        "# train = train.merge(train_in, how='left', on='InvoiceNo')\n",
        "# train = train.rename(columns={'Quantity_x' : 'Quantity', 'Quantity_y' : 'Quantity_per_invoice'})\n"
      ],
      "execution_count": null,
      "outputs": []
    },
    {
      "cell_type": "code",
      "metadata": {
        "id": "x5NAk-syED6d",
        "colab": {
          "base_uri": "https://localhost:8080/",
          "height": 198
        },
        "outputId": "1dc1db1e-5cd3-4bf3-a938-b916150aece3"
      },
      "source": [
        "# # Unique customers per stock\n",
        "# train_cust_per_stock = train.groupby(by='StockCode', as_index=False).agg({'CustomerID': pd.Series.nunique})\n",
        "# train_cust_per_stock = train_cust_per_stock.rename(columns = {'CustomerID':'Unique_customers_per_stock'})\n",
        "# train = train.merge(train_cust_per_stock, how='left', on='StockCode')\n",
        "# train_cust_per_stock.head()"
      ],
      "execution_count": null,
      "outputs": [
        {
          "output_type": "execute_result",
          "data": {
            "text/html": [
              "<div>\n",
              "<style scoped>\n",
              "    .dataframe tbody tr th:only-of-type {\n",
              "        vertical-align: middle;\n",
              "    }\n",
              "\n",
              "    .dataframe tbody tr th {\n",
              "        vertical-align: top;\n",
              "    }\n",
              "\n",
              "    .dataframe thead th {\n",
              "        text-align: right;\n",
              "    }\n",
              "</style>\n",
              "<table border=\"1\" class=\"dataframe\">\n",
              "  <thead>\n",
              "    <tr style=\"text-align: right;\">\n",
              "      <th></th>\n",
              "      <th>StockCode</th>\n",
              "      <th>Unique_customers_per_stock</th>\n",
              "    </tr>\n",
              "  </thead>\n",
              "  <tbody>\n",
              "    <tr>\n",
              "      <th>0</th>\n",
              "      <td>0</td>\n",
              "      <td>27.0</td>\n",
              "    </tr>\n",
              "    <tr>\n",
              "      <th>1</th>\n",
              "      <td>1</td>\n",
              "      <td>14.0</td>\n",
              "    </tr>\n",
              "    <tr>\n",
              "      <th>2</th>\n",
              "      <td>2</td>\n",
              "      <td>18.0</td>\n",
              "    </tr>\n",
              "    <tr>\n",
              "      <th>3</th>\n",
              "      <td>3</td>\n",
              "      <td>3.0</td>\n",
              "    </tr>\n",
              "    <tr>\n",
              "      <th>4</th>\n",
              "      <td>4</td>\n",
              "      <td>4.0</td>\n",
              "    </tr>\n",
              "  </tbody>\n",
              "</table>\n",
              "</div>"
            ],
            "text/plain": [
              "   StockCode  Unique_customers_per_stock\n",
              "0          0                        27.0\n",
              "1          1                        14.0\n",
              "2          2                        18.0\n",
              "3          3                         3.0\n",
              "4          4                         4.0"
            ]
          },
          "metadata": {
            "tags": []
          },
          "execution_count": 49
        }
      ]
    },
    {
      "cell_type": "code",
      "metadata": {
        "id": "nLMvKoIQEpJn",
        "colab": {
          "base_uri": "https://localhost:8080/",
          "height": 198
        },
        "outputId": "ca4bf959-1f29-4b19-c416-438325f01e6e"
      },
      "source": [
        "# # Unique transactions per stock\n",
        "# transactions_per_stock = train.groupby(by='StockCode', as_index=False).agg({'InvoiceNo': pd.Series.nunique})\n",
        "# transactions_per_stock = transactions_per_stock.rename(columns = {'InvoiceNo':'transactions_per_stock'})\n",
        "# train = train.merge(transactions_per_stock, how='left', on='StockCode')\n",
        "# transactions_per_stock.head()"
      ],
      "execution_count": null,
      "outputs": [
        {
          "output_type": "execute_result",
          "data": {
            "text/html": [
              "<div>\n",
              "<style scoped>\n",
              "    .dataframe tbody tr th:only-of-type {\n",
              "        vertical-align: middle;\n",
              "    }\n",
              "\n",
              "    .dataframe tbody tr th {\n",
              "        vertical-align: top;\n",
              "    }\n",
              "\n",
              "    .dataframe thead th {\n",
              "        text-align: right;\n",
              "    }\n",
              "</style>\n",
              "<table border=\"1\" class=\"dataframe\">\n",
              "  <thead>\n",
              "    <tr style=\"text-align: right;\">\n",
              "      <th></th>\n",
              "      <th>StockCode</th>\n",
              "      <th>transactions_per_stock</th>\n",
              "    </tr>\n",
              "  </thead>\n",
              "  <tbody>\n",
              "    <tr>\n",
              "      <th>0</th>\n",
              "      <td>0</td>\n",
              "      <td>32</td>\n",
              "    </tr>\n",
              "    <tr>\n",
              "      <th>1</th>\n",
              "      <td>1</td>\n",
              "      <td>14</td>\n",
              "    </tr>\n",
              "    <tr>\n",
              "      <th>2</th>\n",
              "      <td>2</td>\n",
              "      <td>22</td>\n",
              "    </tr>\n",
              "    <tr>\n",
              "      <th>3</th>\n",
              "      <td>3</td>\n",
              "      <td>3</td>\n",
              "    </tr>\n",
              "    <tr>\n",
              "      <th>4</th>\n",
              "      <td>4</td>\n",
              "      <td>4</td>\n",
              "    </tr>\n",
              "  </tbody>\n",
              "</table>\n",
              "</div>"
            ],
            "text/plain": [
              "   StockCode  transactions_per_stock\n",
              "0          0                      32\n",
              "1          1                      14\n",
              "2          2                      22\n",
              "3          3                       3\n",
              "4          4                       4"
            ]
          },
          "metadata": {
            "tags": []
          },
          "execution_count": 60
        }
      ]
    },
    {
      "cell_type": "code",
      "metadata": {
        "id": "C0N7T8kQDj4p",
        "colab": {
          "base_uri": "https://localhost:8080/",
          "height": 228
        },
        "outputId": "36a65993-2847-4428-85de-f8fda7296bfd"
      },
      "source": [
        "# Total days per stockcode (test)\n",
        "total_days_per_stockcode = test.groupby('StockCode')['Dayofyear'].count()\n",
        "total_days_per_stockcode = pd.DataFrame(total_days_per_stockcode)\n",
        "total_days_per_stockcode = total_days_per_stockcode.rename(columns = {'Dayofyear':'total_days_per_stockcode'})\n",
        "test =test.merge(total_days_per_stockcode, how='left', on='StockCode')\n",
        "total_days_per_stockcode.head()"
      ],
      "execution_count": null,
      "outputs": [
        {
          "output_type": "execute_result",
          "data": {
            "text/html": [
              "<div>\n",
              "<style scoped>\n",
              "    .dataframe tbody tr th:only-of-type {\n",
              "        vertical-align: middle;\n",
              "    }\n",
              "\n",
              "    .dataframe tbody tr th {\n",
              "        vertical-align: top;\n",
              "    }\n",
              "\n",
              "    .dataframe thead th {\n",
              "        text-align: right;\n",
              "    }\n",
              "</style>\n",
              "<table border=\"1\" class=\"dataframe\">\n",
              "  <thead>\n",
              "    <tr style=\"text-align: right;\">\n",
              "      <th></th>\n",
              "      <th>total_days_per_stockcode</th>\n",
              "    </tr>\n",
              "    <tr>\n",
              "      <th>StockCode</th>\n",
              "      <th></th>\n",
              "    </tr>\n",
              "  </thead>\n",
              "  <tbody>\n",
              "    <tr>\n",
              "      <th>0</th>\n",
              "      <td>17</td>\n",
              "    </tr>\n",
              "    <tr>\n",
              "      <th>1</th>\n",
              "      <td>7</td>\n",
              "    </tr>\n",
              "    <tr>\n",
              "      <th>2</th>\n",
              "      <td>7</td>\n",
              "    </tr>\n",
              "    <tr>\n",
              "      <th>4</th>\n",
              "      <td>1</td>\n",
              "    </tr>\n",
              "    <tr>\n",
              "      <th>5</th>\n",
              "      <td>1</td>\n",
              "    </tr>\n",
              "  </tbody>\n",
              "</table>\n",
              "</div>"
            ],
            "text/plain": [
              "           total_days_per_stockcode\n",
              "StockCode                          \n",
              "0                                17\n",
              "1                                 7\n",
              "2                                 7\n",
              "4                                 1\n",
              "5                                 1"
            ]
          },
          "metadata": {
            "tags": []
          },
          "execution_count": 10
        }
      ]
    },
    {
      "cell_type": "code",
      "metadata": {
        "id": "XAI9IahRDk7C",
        "colab": {
          "base_uri": "https://localhost:8080/",
          "height": 228
        },
        "outputId": "d94fc26b-7cda-46ce-df61-5a366ba6a538"
      },
      "source": [
        "# Total days per stockcode\n",
        "total_days_per_stockcode = train.groupby('StockCode')['Dayofyear'].count()\n",
        "total_days_per_stockcode = pd.DataFrame(total_days_per_stockcode)\n",
        "total_days_per_stockcode = total_days_per_stockcode.rename(columns = {'Dayofyear':'total_days_per_stockcode'})\n",
        "train = train.merge(total_days_per_stockcode, how='left', on='StockCode')\n",
        "total_days_per_stockcode.head()"
      ],
      "execution_count": null,
      "outputs": [
        {
          "output_type": "execute_result",
          "data": {
            "text/html": [
              "<div>\n",
              "<style scoped>\n",
              "    .dataframe tbody tr th:only-of-type {\n",
              "        vertical-align: middle;\n",
              "    }\n",
              "\n",
              "    .dataframe tbody tr th {\n",
              "        vertical-align: top;\n",
              "    }\n",
              "\n",
              "    .dataframe thead th {\n",
              "        text-align: right;\n",
              "    }\n",
              "</style>\n",
              "<table border=\"1\" class=\"dataframe\">\n",
              "  <thead>\n",
              "    <tr style=\"text-align: right;\">\n",
              "      <th></th>\n",
              "      <th>total_days_per_stockcode</th>\n",
              "    </tr>\n",
              "    <tr>\n",
              "      <th>StockCode</th>\n",
              "      <th></th>\n",
              "    </tr>\n",
              "  </thead>\n",
              "  <tbody>\n",
              "    <tr>\n",
              "      <th>0</th>\n",
              "      <td>32</td>\n",
              "    </tr>\n",
              "    <tr>\n",
              "      <th>1</th>\n",
              "      <td>14</td>\n",
              "    </tr>\n",
              "    <tr>\n",
              "      <th>2</th>\n",
              "      <td>23</td>\n",
              "    </tr>\n",
              "    <tr>\n",
              "      <th>3</th>\n",
              "      <td>3</td>\n",
              "    </tr>\n",
              "    <tr>\n",
              "      <th>4</th>\n",
              "      <td>4</td>\n",
              "    </tr>\n",
              "  </tbody>\n",
              "</table>\n",
              "</div>"
            ],
            "text/plain": [
              "           total_days_per_stockcode\n",
              "StockCode                          \n",
              "0                                32\n",
              "1                                14\n",
              "2                                23\n",
              "3                                 3\n",
              "4                                 4"
            ]
          },
          "metadata": {
            "tags": []
          },
          "execution_count": 11
        }
      ]
    },
    {
      "cell_type": "code",
      "metadata": {
        "id": "uCNpEFBtEQ9I",
        "colab": {
          "base_uri": "https://localhost:8080/",
          "height": 198
        },
        "outputId": "b738d6ca-1840-4b2e-e8a8-f2bad1188710"
      },
      "source": [
        "# Unique days per stockcode\n",
        "Unique_days_per_stockcode = train.groupby(by='StockCode', as_index=False).agg({'Dayofyear': pd.Series.nunique})\n",
        "Unique_days_per_stockcode = Unique_days_per_stockcode.rename(columns = {'Dayofyear':'Unique_days_per_stockcode'})\n",
        "train = train.merge(Unique_days_per_stockcode, how='left', on='StockCode')\n",
        "Unique_days_per_stockcode.head()"
      ],
      "execution_count": null,
      "outputs": [
        {
          "output_type": "execute_result",
          "data": {
            "text/html": [
              "<div>\n",
              "<style scoped>\n",
              "    .dataframe tbody tr th:only-of-type {\n",
              "        vertical-align: middle;\n",
              "    }\n",
              "\n",
              "    .dataframe tbody tr th {\n",
              "        vertical-align: top;\n",
              "    }\n",
              "\n",
              "    .dataframe thead th {\n",
              "        text-align: right;\n",
              "    }\n",
              "</style>\n",
              "<table border=\"1\" class=\"dataframe\">\n",
              "  <thead>\n",
              "    <tr style=\"text-align: right;\">\n",
              "      <th></th>\n",
              "      <th>StockCode</th>\n",
              "      <th>Unique_days_per_stockcode</th>\n",
              "    </tr>\n",
              "  </thead>\n",
              "  <tbody>\n",
              "    <tr>\n",
              "      <th>0</th>\n",
              "      <td>0</td>\n",
              "      <td>29</td>\n",
              "    </tr>\n",
              "    <tr>\n",
              "      <th>1</th>\n",
              "      <td>1</td>\n",
              "      <td>14</td>\n",
              "    </tr>\n",
              "    <tr>\n",
              "      <th>2</th>\n",
              "      <td>2</td>\n",
              "      <td>20</td>\n",
              "    </tr>\n",
              "    <tr>\n",
              "      <th>3</th>\n",
              "      <td>3</td>\n",
              "      <td>3</td>\n",
              "    </tr>\n",
              "    <tr>\n",
              "      <th>4</th>\n",
              "      <td>4</td>\n",
              "      <td>4</td>\n",
              "    </tr>\n",
              "  </tbody>\n",
              "</table>\n",
              "</div>"
            ],
            "text/plain": [
              "   StockCode  Unique_days_per_stockcode\n",
              "0          0                         29\n",
              "1          1                         14\n",
              "2          2                         20\n",
              "3          3                          3\n",
              "4          4                          4"
            ]
          },
          "metadata": {
            "tags": []
          },
          "execution_count": 11
        }
      ]
    },
    {
      "cell_type": "code",
      "metadata": {
        "id": "poDDGJJPEkiq",
        "colab": {
          "base_uri": "https://localhost:8080/",
          "height": 198
        },
        "outputId": "aff82fbf-80d1-47b7-c9c7-c5766d593ea7"
      },
      "source": [
        "# Unique weeks per stockcode\n",
        "Unique_weeks_per_stockcode = train.groupby(by='StockCode', as_index=False).agg({'week_of_the_year': pd.Series.nunique})\n",
        "Unique_weeks_per_stockcode = Unique_weeks_per_stockcode.rename(columns = {'week_of_the_year':'Unique_weeks_per_stockcode'})\n",
        "train = train.merge(Unique_weeks_per_stockcode, how='left', on='StockCode')\n",
        "Unique_weeks_per_stockcode.head()"
      ],
      "execution_count": null,
      "outputs": [
        {
          "output_type": "execute_result",
          "data": {
            "text/html": [
              "<div>\n",
              "<style scoped>\n",
              "    .dataframe tbody tr th:only-of-type {\n",
              "        vertical-align: middle;\n",
              "    }\n",
              "\n",
              "    .dataframe tbody tr th {\n",
              "        vertical-align: top;\n",
              "    }\n",
              "\n",
              "    .dataframe thead th {\n",
              "        text-align: right;\n",
              "    }\n",
              "</style>\n",
              "<table border=\"1\" class=\"dataframe\">\n",
              "  <thead>\n",
              "    <tr style=\"text-align: right;\">\n",
              "      <th></th>\n",
              "      <th>StockCode</th>\n",
              "      <th>Unique_weeks_per_stockcode</th>\n",
              "    </tr>\n",
              "  </thead>\n",
              "  <tbody>\n",
              "    <tr>\n",
              "      <th>0</th>\n",
              "      <td>0</td>\n",
              "      <td>15</td>\n",
              "    </tr>\n",
              "    <tr>\n",
              "      <th>1</th>\n",
              "      <td>1</td>\n",
              "      <td>12</td>\n",
              "    </tr>\n",
              "    <tr>\n",
              "      <th>2</th>\n",
              "      <td>2</td>\n",
              "      <td>15</td>\n",
              "    </tr>\n",
              "    <tr>\n",
              "      <th>3</th>\n",
              "      <td>3</td>\n",
              "      <td>3</td>\n",
              "    </tr>\n",
              "    <tr>\n",
              "      <th>4</th>\n",
              "      <td>4</td>\n",
              "      <td>4</td>\n",
              "    </tr>\n",
              "  </tbody>\n",
              "</table>\n",
              "</div>"
            ],
            "text/plain": [
              "   StockCode  Unique_weeks_per_stockcode\n",
              "0          0                          15\n",
              "1          1                          12\n",
              "2          2                          15\n",
              "3          3                           3\n",
              "4          4                           4"
            ]
          },
          "metadata": {
            "tags": []
          },
          "execution_count": 12
        }
      ]
    },
    {
      "cell_type": "code",
      "metadata": {
        "id": "rKM5_cI4Cde7",
        "colab": {
          "base_uri": "https://localhost:8080/",
          "height": 198
        },
        "outputId": "1de5276f-7e8a-4c2f-cbe3-a3b56a97da04"
      },
      "source": [
        "# Unique transactions per customer\n",
        "transactions_per_customer = train.groupby(by='CustomerID', as_index=False).agg({'InvoiceNo': pd.Series.nunique})\n",
        "transactions_per_customer = transactions_per_customer.rename(columns = {'InvoiceNo':'transactions_per_customer'})\n",
        "train = train.merge(transactions_per_customer, how='left', on='CustomerID')\n",
        "transactions_per_customer.head()\n"
      ],
      "execution_count": null,
      "outputs": [
        {
          "output_type": "execute_result",
          "data": {
            "text/html": [
              "<div>\n",
              "<style scoped>\n",
              "    .dataframe tbody tr th:only-of-type {\n",
              "        vertical-align: middle;\n",
              "    }\n",
              "\n",
              "    .dataframe tbody tr th {\n",
              "        vertical-align: top;\n",
              "    }\n",
              "\n",
              "    .dataframe thead th {\n",
              "        text-align: right;\n",
              "    }\n",
              "</style>\n",
              "<table border=\"1\" class=\"dataframe\">\n",
              "  <thead>\n",
              "    <tr style=\"text-align: right;\">\n",
              "      <th></th>\n",
              "      <th>CustomerID</th>\n",
              "      <th>transactions_per_customer</th>\n",
              "    </tr>\n",
              "  </thead>\n",
              "  <tbody>\n",
              "    <tr>\n",
              "      <th>0</th>\n",
              "      <td>12346.0</td>\n",
              "      <td>2</td>\n",
              "    </tr>\n",
              "    <tr>\n",
              "      <th>1</th>\n",
              "      <td>12347.0</td>\n",
              "      <td>7</td>\n",
              "    </tr>\n",
              "    <tr>\n",
              "      <th>2</th>\n",
              "      <td>12348.0</td>\n",
              "      <td>4</td>\n",
              "    </tr>\n",
              "    <tr>\n",
              "      <th>3</th>\n",
              "      <td>12349.0</td>\n",
              "      <td>1</td>\n",
              "    </tr>\n",
              "    <tr>\n",
              "      <th>4</th>\n",
              "      <td>12350.0</td>\n",
              "      <td>1</td>\n",
              "    </tr>\n",
              "  </tbody>\n",
              "</table>\n",
              "</div>"
            ],
            "text/plain": [
              "   CustomerID  transactions_per_customer\n",
              "0     12346.0                          2\n",
              "1     12347.0                          7\n",
              "2     12348.0                          4\n",
              "3     12349.0                          1\n",
              "4     12350.0                          1"
            ]
          },
          "metadata": {
            "tags": []
          },
          "execution_count": 12
        }
      ]
    },
    {
      "cell_type": "code",
      "metadata": {
        "id": "kOxIxNJSNpsO",
        "colab": {
          "base_uri": "https://localhost:8080/",
          "height": 198
        },
        "outputId": "2dc58486-6f30-44be-c99a-f1ea161567e3"
      },
      "source": [
        "# Unique transactions per customer (test)\n",
        "transactions_per_customer = test.groupby(by='CustomerID', as_index=False).agg({'InvoiceNo': pd.Series.nunique})\n",
        "transactions_per_customer = transactions_per_customer.rename(columns = {'InvoiceNo':'transactions_per_customer'})\n",
        "test = test.merge(transactions_per_customer, how='left', on='CustomerID')\n",
        "transactions_per_customer.head()\n"
      ],
      "execution_count": null,
      "outputs": [
        {
          "output_type": "execute_result",
          "data": {
            "text/html": [
              "<div>\n",
              "<style scoped>\n",
              "    .dataframe tbody tr th:only-of-type {\n",
              "        vertical-align: middle;\n",
              "    }\n",
              "\n",
              "    .dataframe tbody tr th {\n",
              "        vertical-align: top;\n",
              "    }\n",
              "\n",
              "    .dataframe thead th {\n",
              "        text-align: right;\n",
              "    }\n",
              "</style>\n",
              "<table border=\"1\" class=\"dataframe\">\n",
              "  <thead>\n",
              "    <tr style=\"text-align: right;\">\n",
              "      <th></th>\n",
              "      <th>CustomerID</th>\n",
              "      <th>transactions_per_customer</th>\n",
              "    </tr>\n",
              "  </thead>\n",
              "  <tbody>\n",
              "    <tr>\n",
              "      <th>0</th>\n",
              "      <td>12347.0</td>\n",
              "      <td>7</td>\n",
              "    </tr>\n",
              "    <tr>\n",
              "      <th>1</th>\n",
              "      <td>12348.0</td>\n",
              "      <td>4</td>\n",
              "    </tr>\n",
              "    <tr>\n",
              "      <th>2</th>\n",
              "      <td>12349.0</td>\n",
              "      <td>1</td>\n",
              "    </tr>\n",
              "    <tr>\n",
              "      <th>3</th>\n",
              "      <td>12350.0</td>\n",
              "      <td>1</td>\n",
              "    </tr>\n",
              "    <tr>\n",
              "      <th>4</th>\n",
              "      <td>12352.0</td>\n",
              "      <td>9</td>\n",
              "    </tr>\n",
              "  </tbody>\n",
              "</table>\n",
              "</div>"
            ],
            "text/plain": [
              "   CustomerID  transactions_per_customer\n",
              "0     12347.0                          7\n",
              "1     12348.0                          4\n",
              "2     12349.0                          1\n",
              "3     12350.0                          1\n",
              "4     12352.0                          9"
            ]
          },
          "metadata": {
            "tags": []
          },
          "execution_count": 14
        }
      ]
    },
    {
      "cell_type": "code",
      "metadata": {
        "id": "B0PyV4f12-vx",
        "colab": {
          "base_uri": "https://localhost:8080/",
          "height": 198
        },
        "outputId": "95798995-c87d-4c61-bdc7-5bbb34caf54b"
      },
      "source": [
        "# Unique stocks per customer\n",
        "stocks_per_customer = train.groupby(by='CustomerID', as_index=False).agg({'StockCode': pd.Series.nunique})\n",
        "stocks_per_customer = stocks_per_customer.rename(columns = {'StockCode':'stocks_per_customer'})\n",
        "train = train.merge(stocks_per_customer, how='left', on='CustomerID')\n",
        "stocks_per_customer.head()"
      ],
      "execution_count": null,
      "outputs": [
        {
          "output_type": "execute_result",
          "data": {
            "text/html": [
              "<div>\n",
              "<style scoped>\n",
              "    .dataframe tbody tr th:only-of-type {\n",
              "        vertical-align: middle;\n",
              "    }\n",
              "\n",
              "    .dataframe tbody tr th {\n",
              "        vertical-align: top;\n",
              "    }\n",
              "\n",
              "    .dataframe thead th {\n",
              "        text-align: right;\n",
              "    }\n",
              "</style>\n",
              "<table border=\"1\" class=\"dataframe\">\n",
              "  <thead>\n",
              "    <tr style=\"text-align: right;\">\n",
              "      <th></th>\n",
              "      <th>CustomerID</th>\n",
              "      <th>stocks_per_customer</th>\n",
              "    </tr>\n",
              "  </thead>\n",
              "  <tbody>\n",
              "    <tr>\n",
              "      <th>0</th>\n",
              "      <td>12346.0</td>\n",
              "      <td>1</td>\n",
              "    </tr>\n",
              "    <tr>\n",
              "      <th>1</th>\n",
              "      <td>12347.0</td>\n",
              "      <td>86</td>\n",
              "    </tr>\n",
              "    <tr>\n",
              "      <th>2</th>\n",
              "      <td>12348.0</td>\n",
              "      <td>17</td>\n",
              "    </tr>\n",
              "    <tr>\n",
              "      <th>3</th>\n",
              "      <td>12349.0</td>\n",
              "      <td>53</td>\n",
              "    </tr>\n",
              "    <tr>\n",
              "      <th>4</th>\n",
              "      <td>12350.0</td>\n",
              "      <td>11</td>\n",
              "    </tr>\n",
              "  </tbody>\n",
              "</table>\n",
              "</div>"
            ],
            "text/plain": [
              "   CustomerID  stocks_per_customer\n",
              "0     12346.0                    1\n",
              "1     12347.0                   86\n",
              "2     12348.0                   17\n",
              "3     12349.0                   53\n",
              "4     12350.0                   11"
            ]
          },
          "metadata": {
            "tags": []
          },
          "execution_count": 15
        }
      ]
    },
    {
      "cell_type": "code",
      "metadata": {
        "id": "1MZDxDpeN3qR",
        "colab": {
          "base_uri": "https://localhost:8080/",
          "height": 198
        },
        "outputId": "c9f25282-435f-42e6-c53a-b6f90f1ae217"
      },
      "source": [
        "# Unique stocks per customer (test)\n",
        "stocks_per_customer = test.groupby(by='CustomerID', as_index=False).agg({'StockCode': pd.Series.nunique})\n",
        "stocks_per_customer = stocks_per_customer.rename(columns = {'StockCode':'stocks_per_customer'})\n",
        "test = test.merge(stocks_per_customer, how='left', on='CustomerID')\n",
        "stocks_per_customer.head()"
      ],
      "execution_count": null,
      "outputs": [
        {
          "output_type": "execute_result",
          "data": {
            "text/html": [
              "<div>\n",
              "<style scoped>\n",
              "    .dataframe tbody tr th:only-of-type {\n",
              "        vertical-align: middle;\n",
              "    }\n",
              "\n",
              "    .dataframe tbody tr th {\n",
              "        vertical-align: top;\n",
              "    }\n",
              "\n",
              "    .dataframe thead th {\n",
              "        text-align: right;\n",
              "    }\n",
              "</style>\n",
              "<table border=\"1\" class=\"dataframe\">\n",
              "  <thead>\n",
              "    <tr style=\"text-align: right;\">\n",
              "      <th></th>\n",
              "      <th>CustomerID</th>\n",
              "      <th>stocks_per_customer</th>\n",
              "    </tr>\n",
              "  </thead>\n",
              "  <tbody>\n",
              "    <tr>\n",
              "      <th>0</th>\n",
              "      <td>12347.0</td>\n",
              "      <td>45</td>\n",
              "    </tr>\n",
              "    <tr>\n",
              "      <th>1</th>\n",
              "      <td>12348.0</td>\n",
              "      <td>7</td>\n",
              "    </tr>\n",
              "    <tr>\n",
              "      <th>2</th>\n",
              "      <td>12349.0</td>\n",
              "      <td>20</td>\n",
              "    </tr>\n",
              "    <tr>\n",
              "      <th>3</th>\n",
              "      <td>12350.0</td>\n",
              "      <td>6</td>\n",
              "    </tr>\n",
              "    <tr>\n",
              "      <th>4</th>\n",
              "      <td>12352.0</td>\n",
              "      <td>25</td>\n",
              "    </tr>\n",
              "  </tbody>\n",
              "</table>\n",
              "</div>"
            ],
            "text/plain": [
              "   CustomerID  stocks_per_customer\n",
              "0     12347.0                   45\n",
              "1     12348.0                    7\n",
              "2     12349.0                   20\n",
              "3     12350.0                    6\n",
              "4     12352.0                   25"
            ]
          },
          "metadata": {
            "tags": []
          },
          "execution_count": 16
        }
      ]
    },
    {
      "cell_type": "code",
      "metadata": {
        "id": "k1HUa7wMH7sQ",
        "colab": {
          "base_uri": "https://localhost:8080/",
          "height": 198
        },
        "outputId": "8e51a33d-f1cb-42bb-975b-d0e18d6c419b"
      },
      "source": [
        "# Total Quantity per customer\n",
        "quantity_per_customer = train.groupby('CustomerID')[['Quantity']].sum()\n",
        "quantity_per_customer = quantity_per_customer.reset_index()\n",
        "train = train.merge(quantity_per_customer, how='left', on='CustomerID')\n",
        "train = train.rename(columns={'Quantity_x' : 'Quantity', 'Quantity_y' : 'quantity_per_customer'})\n",
        "quantity_per_customer.head()\n"
      ],
      "execution_count": null,
      "outputs": [
        {
          "output_type": "execute_result",
          "data": {
            "text/html": [
              "<div>\n",
              "<style scoped>\n",
              "    .dataframe tbody tr th:only-of-type {\n",
              "        vertical-align: middle;\n",
              "    }\n",
              "\n",
              "    .dataframe tbody tr th {\n",
              "        vertical-align: top;\n",
              "    }\n",
              "\n",
              "    .dataframe thead th {\n",
              "        text-align: right;\n",
              "    }\n",
              "</style>\n",
              "<table border=\"1\" class=\"dataframe\">\n",
              "  <thead>\n",
              "    <tr style=\"text-align: right;\">\n",
              "      <th></th>\n",
              "      <th>CustomerID</th>\n",
              "      <th>Quantity</th>\n",
              "    </tr>\n",
              "  </thead>\n",
              "  <tbody>\n",
              "    <tr>\n",
              "      <th>0</th>\n",
              "      <td>12346.0</td>\n",
              "      <td>0</td>\n",
              "    </tr>\n",
              "    <tr>\n",
              "      <th>1</th>\n",
              "      <td>12347.0</td>\n",
              "      <td>1756</td>\n",
              "    </tr>\n",
              "    <tr>\n",
              "      <th>2</th>\n",
              "      <td>12348.0</td>\n",
              "      <td>1517</td>\n",
              "    </tr>\n",
              "    <tr>\n",
              "      <th>3</th>\n",
              "      <td>12349.0</td>\n",
              "      <td>512</td>\n",
              "    </tr>\n",
              "    <tr>\n",
              "      <th>4</th>\n",
              "      <td>12350.0</td>\n",
              "      <td>125</td>\n",
              "    </tr>\n",
              "  </tbody>\n",
              "</table>\n",
              "</div>"
            ],
            "text/plain": [
              "   CustomerID  Quantity\n",
              "0     12346.0         0\n",
              "1     12347.0      1756\n",
              "2     12348.0      1517\n",
              "3     12349.0       512\n",
              "4     12350.0       125"
            ]
          },
          "metadata": {
            "tags": []
          },
          "execution_count": 17
        }
      ]
    },
    {
      "cell_type": "code",
      "metadata": {
        "id": "BTbXKqa4OC0v",
        "colab": {
          "base_uri": "https://localhost:8080/",
          "height": 198
        },
        "outputId": "a409c2e4-f496-4d21-c557-c668e5166595"
      },
      "source": [
        "# Total Quantity per customer(test)\n",
        "quantity_per_customer = test.groupby('CustomerID')[['Quantity']].sum()\n",
        "quantity_per_customer = quantity_per_customer.reset_index()\n",
        "test = test.merge(quantity_per_customer, how='left', on='CustomerID')\n",
        "test = test.rename(columns={'Quantity_x' : 'Quantity', 'Quantity_y' : 'quantity_per_customer'})\n",
        "quantity_per_customer.head()\n"
      ],
      "execution_count": null,
      "outputs": [
        {
          "output_type": "execute_result",
          "data": {
            "text/html": [
              "<div>\n",
              "<style scoped>\n",
              "    .dataframe tbody tr th:only-of-type {\n",
              "        vertical-align: middle;\n",
              "    }\n",
              "\n",
              "    .dataframe tbody tr th {\n",
              "        vertical-align: top;\n",
              "    }\n",
              "\n",
              "    .dataframe thead th {\n",
              "        text-align: right;\n",
              "    }\n",
              "</style>\n",
              "<table border=\"1\" class=\"dataframe\">\n",
              "  <thead>\n",
              "    <tr style=\"text-align: right;\">\n",
              "      <th></th>\n",
              "      <th>CustomerID</th>\n",
              "      <th>Quantity</th>\n",
              "    </tr>\n",
              "  </thead>\n",
              "  <tbody>\n",
              "    <tr>\n",
              "      <th>0</th>\n",
              "      <td>12347.0</td>\n",
              "      <td>702</td>\n",
              "    </tr>\n",
              "    <tr>\n",
              "      <th>1</th>\n",
              "      <td>12348.0</td>\n",
              "      <td>824</td>\n",
              "    </tr>\n",
              "    <tr>\n",
              "      <th>2</th>\n",
              "      <td>12349.0</td>\n",
              "      <td>119</td>\n",
              "    </tr>\n",
              "    <tr>\n",
              "      <th>3</th>\n",
              "      <td>12350.0</td>\n",
              "      <td>72</td>\n",
              "    </tr>\n",
              "    <tr>\n",
              "      <th>4</th>\n",
              "      <td>12352.0</td>\n",
              "      <td>160</td>\n",
              "    </tr>\n",
              "  </tbody>\n",
              "</table>\n",
              "</div>"
            ],
            "text/plain": [
              "   CustomerID  Quantity\n",
              "0     12347.0       702\n",
              "1     12348.0       824\n",
              "2     12349.0       119\n",
              "3     12350.0        72\n",
              "4     12352.0       160"
            ]
          },
          "metadata": {
            "tags": []
          },
          "execution_count": 18
        }
      ]
    },
    {
      "cell_type": "code",
      "metadata": {
        "id": "1cWGfh9RxgS7",
        "colab": {
          "base_uri": "https://localhost:8080/",
          "height": 228
        },
        "outputId": "c7a764ff-6560-4006-b4c1-723360c332d9"
      },
      "source": [
        "# # Total Number of stocks per customer\n",
        "# total_stocks_per_customer = train.groupby('CustomerID')['StockCode'].count()\n",
        "# total_stocks_per_customer = pd.DataFrame(total_stocks_per_customer)\n",
        "# total_stocks_per_customer = total_stocks_per_customer.rename(columns = {'StockCode':'total_stocks_per_customer'})\n",
        "# train = train.merge(total_stocks_per_customer, how='left', on='CustomerID')\n",
        "# total_stocks_per_customer.head()\n",
        "\n",
        "\n"
      ],
      "execution_count": null,
      "outputs": [
        {
          "output_type": "execute_result",
          "data": {
            "text/html": [
              "<div>\n",
              "<style scoped>\n",
              "    .dataframe tbody tr th:only-of-type {\n",
              "        vertical-align: middle;\n",
              "    }\n",
              "\n",
              "    .dataframe tbody tr th {\n",
              "        vertical-align: top;\n",
              "    }\n",
              "\n",
              "    .dataframe thead th {\n",
              "        text-align: right;\n",
              "    }\n",
              "</style>\n",
              "<table border=\"1\" class=\"dataframe\">\n",
              "  <thead>\n",
              "    <tr style=\"text-align: right;\">\n",
              "      <th></th>\n",
              "      <th>total_stocks_per_customer</th>\n",
              "    </tr>\n",
              "    <tr>\n",
              "      <th>CustomerID</th>\n",
              "      <th></th>\n",
              "    </tr>\n",
              "  </thead>\n",
              "  <tbody>\n",
              "    <tr>\n",
              "      <th>12346.0</th>\n",
              "      <td>2</td>\n",
              "    </tr>\n",
              "    <tr>\n",
              "      <th>12347.0</th>\n",
              "      <td>132</td>\n",
              "    </tr>\n",
              "    <tr>\n",
              "      <th>12348.0</th>\n",
              "      <td>22</td>\n",
              "    </tr>\n",
              "    <tr>\n",
              "      <th>12349.0</th>\n",
              "      <td>53</td>\n",
              "    </tr>\n",
              "    <tr>\n",
              "      <th>12350.0</th>\n",
              "      <td>11</td>\n",
              "    </tr>\n",
              "  </tbody>\n",
              "</table>\n",
              "</div>"
            ],
            "text/plain": [
              "            total_stocks_per_customer\n",
              "CustomerID                           \n",
              "12346.0                             2\n",
              "12347.0                           132\n",
              "12348.0                            22\n",
              "12349.0                            53\n",
              "12350.0                            11"
            ]
          },
          "metadata": {
            "tags": []
          },
          "execution_count": 111
        }
      ]
    },
    {
      "cell_type": "code",
      "metadata": {
        "id": "GGlIRtoJDPWq"
      },
      "source": [
        ""
      ],
      "execution_count": null,
      "outputs": []
    },
    {
      "cell_type": "code",
      "metadata": {
        "id": "DZbrFDGwzMAU",
        "colab": {
          "base_uri": "https://localhost:8080/",
          "height": 228
        },
        "outputId": "694db6d9-6cfe-4d1b-a001-4b14a0a361c3"
      },
      "source": [
        "# Total transactions per customer\n",
        "total_transactions_per_customer = train.groupby('CustomerID')['InvoiceNo'].count()\n",
        "total_transactions_per_customer = pd.DataFrame(total_transactions_per_customer)\n",
        "total_transactions_per_customer = total_transactions_per_customer.rename(columns = {'InvoiceNo':'total_transactions_per_customer'})\n",
        "train = train.merge(total_transactions_per_customer, how='left', on='CustomerID')\n",
        "total_transactions_per_customer.head()\n",
        "\n",
        "\n"
      ],
      "execution_count": null,
      "outputs": [
        {
          "output_type": "execute_result",
          "data": {
            "text/html": [
              "<div>\n",
              "<style scoped>\n",
              "    .dataframe tbody tr th:only-of-type {\n",
              "        vertical-align: middle;\n",
              "    }\n",
              "\n",
              "    .dataframe tbody tr th {\n",
              "        vertical-align: top;\n",
              "    }\n",
              "\n",
              "    .dataframe thead th {\n",
              "        text-align: right;\n",
              "    }\n",
              "</style>\n",
              "<table border=\"1\" class=\"dataframe\">\n",
              "  <thead>\n",
              "    <tr style=\"text-align: right;\">\n",
              "      <th></th>\n",
              "      <th>total_transactions_per_customer</th>\n",
              "    </tr>\n",
              "    <tr>\n",
              "      <th>CustomerID</th>\n",
              "      <th></th>\n",
              "    </tr>\n",
              "  </thead>\n",
              "  <tbody>\n",
              "    <tr>\n",
              "      <th>12346.0</th>\n",
              "      <td>2</td>\n",
              "    </tr>\n",
              "    <tr>\n",
              "      <th>12347.0</th>\n",
              "      <td>132</td>\n",
              "    </tr>\n",
              "    <tr>\n",
              "      <th>12348.0</th>\n",
              "      <td>22</td>\n",
              "    </tr>\n",
              "    <tr>\n",
              "      <th>12349.0</th>\n",
              "      <td>53</td>\n",
              "    </tr>\n",
              "    <tr>\n",
              "      <th>12350.0</th>\n",
              "      <td>11</td>\n",
              "    </tr>\n",
              "  </tbody>\n",
              "</table>\n",
              "</div>"
            ],
            "text/plain": [
              "            total_transactions_per_customer\n",
              "CustomerID                                 \n",
              "12346.0                                   2\n",
              "12347.0                                 132\n",
              "12348.0                                  22\n",
              "12349.0                                  53\n",
              "12350.0                                  11"
            ]
          },
          "metadata": {
            "tags": []
          },
          "execution_count": 19
        }
      ]
    },
    {
      "cell_type": "code",
      "metadata": {
        "id": "BliYQGm-Ockz",
        "colab": {
          "base_uri": "https://localhost:8080/",
          "height": 228
        },
        "outputId": "ffdf5f64-4bc6-4f24-804e-593c2c2f8072"
      },
      "source": [
        "# Total transactions per customer (test)\n",
        "total_transactions_per_customer = test.groupby('CustomerID')['InvoiceNo'].count()\n",
        "total_transactions_per_customer = pd.DataFrame(total_transactions_per_customer)\n",
        "total_transactions_per_customer = total_transactions_per_customer.rename(columns = {'InvoiceNo':'total_transactions_per_customer'})\n",
        "test = test.merge(total_transactions_per_customer, how='left', on='CustomerID')\n",
        "total_transactions_per_customer.head()\n"
      ],
      "execution_count": null,
      "outputs": [
        {
          "output_type": "execute_result",
          "data": {
            "text/html": [
              "<div>\n",
              "<style scoped>\n",
              "    .dataframe tbody tr th:only-of-type {\n",
              "        vertical-align: middle;\n",
              "    }\n",
              "\n",
              "    .dataframe tbody tr th {\n",
              "        vertical-align: top;\n",
              "    }\n",
              "\n",
              "    .dataframe thead th {\n",
              "        text-align: right;\n",
              "    }\n",
              "</style>\n",
              "<table border=\"1\" class=\"dataframe\">\n",
              "  <thead>\n",
              "    <tr style=\"text-align: right;\">\n",
              "      <th></th>\n",
              "      <th>total_transactions_per_customer</th>\n",
              "    </tr>\n",
              "    <tr>\n",
              "      <th>CustomerID</th>\n",
              "      <th></th>\n",
              "    </tr>\n",
              "  </thead>\n",
              "  <tbody>\n",
              "    <tr>\n",
              "      <th>12347.0</th>\n",
              "      <td>50</td>\n",
              "    </tr>\n",
              "    <tr>\n",
              "      <th>12348.0</th>\n",
              "      <td>9</td>\n",
              "    </tr>\n",
              "    <tr>\n",
              "      <th>12349.0</th>\n",
              "      <td>20</td>\n",
              "    </tr>\n",
              "    <tr>\n",
              "      <th>12350.0</th>\n",
              "      <td>6</td>\n",
              "    </tr>\n",
              "    <tr>\n",
              "      <th>12352.0</th>\n",
              "      <td>26</td>\n",
              "    </tr>\n",
              "  </tbody>\n",
              "</table>\n",
              "</div>"
            ],
            "text/plain": [
              "            total_transactions_per_customer\n",
              "CustomerID                                 \n",
              "12347.0                                  50\n",
              "12348.0                                   9\n",
              "12349.0                                  20\n",
              "12350.0                                   6\n",
              "12352.0                                  26"
            ]
          },
          "metadata": {
            "tags": []
          },
          "execution_count": 20
        }
      ]
    },
    {
      "cell_type": "code",
      "metadata": {
        "id": "FoyM3On6xggj"
      },
      "source": [
        ""
      ],
      "execution_count": null,
      "outputs": []
    },
    {
      "cell_type": "code",
      "metadata": {
        "id": "bYuDewdv1Rxo",
        "colab": {
          "base_uri": "https://localhost:8080/",
          "height": 228
        },
        "outputId": "ac5e5c68-45a0-42cf-9731-a123496ae692"
      },
      "source": [
        "# # # Total days a unique customer shops\n",
        "# total_days_per_customer = train.groupby('CustomerID')['day of the week'].count()\n",
        "# total_days_per_customer = pd.DataFrame(total_days_per_customer)\n",
        "# total_days_per_customer = total_days_per_customer.rename(columns = {'day of the week':'total_days_per_customer'})\n",
        "# train = train.merge(total_days_per_customer, how='left', on='CustomerID')\n",
        "# total_days_per_customer.head()"
      ],
      "execution_count": null,
      "outputs": [
        {
          "output_type": "execute_result",
          "data": {
            "text/html": [
              "<div>\n",
              "<style scoped>\n",
              "    .dataframe tbody tr th:only-of-type {\n",
              "        vertical-align: middle;\n",
              "    }\n",
              "\n",
              "    .dataframe tbody tr th {\n",
              "        vertical-align: top;\n",
              "    }\n",
              "\n",
              "    .dataframe thead th {\n",
              "        text-align: right;\n",
              "    }\n",
              "</style>\n",
              "<table border=\"1\" class=\"dataframe\">\n",
              "  <thead>\n",
              "    <tr style=\"text-align: right;\">\n",
              "      <th></th>\n",
              "      <th>total_days_per_customer</th>\n",
              "    </tr>\n",
              "    <tr>\n",
              "      <th>CustomerID</th>\n",
              "      <th></th>\n",
              "    </tr>\n",
              "  </thead>\n",
              "  <tbody>\n",
              "    <tr>\n",
              "      <th>12346.0</th>\n",
              "      <td>2</td>\n",
              "    </tr>\n",
              "    <tr>\n",
              "      <th>12347.0</th>\n",
              "      <td>132</td>\n",
              "    </tr>\n",
              "    <tr>\n",
              "      <th>12348.0</th>\n",
              "      <td>22</td>\n",
              "    </tr>\n",
              "    <tr>\n",
              "      <th>12349.0</th>\n",
              "      <td>53</td>\n",
              "    </tr>\n",
              "    <tr>\n",
              "      <th>12350.0</th>\n",
              "      <td>11</td>\n",
              "    </tr>\n",
              "  </tbody>\n",
              "</table>\n",
              "</div>"
            ],
            "text/plain": [
              "            total_days_per_customer\n",
              "CustomerID                         \n",
              "12346.0                           2\n",
              "12347.0                         132\n",
              "12348.0                          22\n",
              "12349.0                          53\n",
              "12350.0                          11"
            ]
          },
          "metadata": {
            "tags": []
          },
          "execution_count": 118
        }
      ]
    },
    {
      "cell_type": "code",
      "metadata": {
        "id": "c3ZZAk5yKvZh",
        "colab": {
          "base_uri": "https://localhost:8080/",
          "height": 356
        },
        "outputId": "639b7213-5d55-47f5-dec0-5bf23c1b2515"
      },
      "source": [
        "train.head()"
      ],
      "execution_count": null,
      "outputs": [
        {
          "output_type": "execute_result",
          "data": {
            "text/html": [
              "<div>\n",
              "<style scoped>\n",
              "    .dataframe tbody tr th:only-of-type {\n",
              "        vertical-align: middle;\n",
              "    }\n",
              "\n",
              "    .dataframe tbody tr th {\n",
              "        vertical-align: top;\n",
              "    }\n",
              "\n",
              "    .dataframe thead th {\n",
              "        text-align: right;\n",
              "    }\n",
              "</style>\n",
              "<table border=\"1\" class=\"dataframe\">\n",
              "  <thead>\n",
              "    <tr style=\"text-align: right;\">\n",
              "      <th></th>\n",
              "      <th>InvoiceNo</th>\n",
              "      <th>StockCode</th>\n",
              "      <th>Description</th>\n",
              "      <th>Quantity</th>\n",
              "      <th>InvoiceDate</th>\n",
              "      <th>UnitPrice</th>\n",
              "      <th>CustomerID</th>\n",
              "      <th>Country</th>\n",
              "      <th>month</th>\n",
              "      <th>day</th>\n",
              "      <th>year</th>\n",
              "      <th>quarter</th>\n",
              "      <th>day of the week</th>\n",
              "      <th>dayofweek_name</th>\n",
              "      <th>is_weekend</th>\n",
              "      <th>week_of_the_year</th>\n",
              "      <th>Dayofyear</th>\n",
              "      <th>total_days_per_stockcode</th>\n",
              "      <th>transactions_per_customer</th>\n",
              "      <th>stocks_per_customer</th>\n",
              "      <th>quantity_per_customer</th>\n",
              "      <th>total_transactions_per_customer</th>\n",
              "    </tr>\n",
              "  </thead>\n",
              "  <tbody>\n",
              "    <tr>\n",
              "      <th>0</th>\n",
              "      <td>6141</td>\n",
              "      <td>1583</td>\n",
              "      <td>144</td>\n",
              "      <td>3</td>\n",
              "      <td>2011-05-06 16:54:00</td>\n",
              "      <td>3.75</td>\n",
              "      <td>14056.0</td>\n",
              "      <td>35</td>\n",
              "      <td>5</td>\n",
              "      <td>6</td>\n",
              "      <td>2011</td>\n",
              "      <td>2</td>\n",
              "      <td>4</td>\n",
              "      <td>Friday</td>\n",
              "      <td>0</td>\n",
              "      <td>18</td>\n",
              "      <td>126</td>\n",
              "      <td>331</td>\n",
              "      <td>28</td>\n",
              "      <td>301</td>\n",
              "      <td>2970</td>\n",
              "      <td>791</td>\n",
              "    </tr>\n",
              "    <tr>\n",
              "      <th>1</th>\n",
              "      <td>6349</td>\n",
              "      <td>1300</td>\n",
              "      <td>3682</td>\n",
              "      <td>6</td>\n",
              "      <td>2011-05-11 07:35:00</td>\n",
              "      <td>1.95</td>\n",
              "      <td>13098.0</td>\n",
              "      <td>35</td>\n",
              "      <td>5</td>\n",
              "      <td>11</td>\n",
              "      <td>2011</td>\n",
              "      <td>2</td>\n",
              "      <td>2</td>\n",
              "      <td>Wednesday</td>\n",
              "      <td>0</td>\n",
              "      <td>19</td>\n",
              "      <td>131</td>\n",
              "      <td>194</td>\n",
              "      <td>38</td>\n",
              "      <td>146</td>\n",
              "      <td>9960</td>\n",
              "      <td>394</td>\n",
              "    </tr>\n",
              "    <tr>\n",
              "      <th>2</th>\n",
              "      <td>16783</td>\n",
              "      <td>2178</td>\n",
              "      <td>1939</td>\n",
              "      <td>4</td>\n",
              "      <td>2011-11-20 13:20:00</td>\n",
              "      <td>5.95</td>\n",
              "      <td>15044.0</td>\n",
              "      <td>35</td>\n",
              "      <td>11</td>\n",
              "      <td>20</td>\n",
              "      <td>2011</td>\n",
              "      <td>4</td>\n",
              "      <td>6</td>\n",
              "      <td>Sunday</td>\n",
              "      <td>1</td>\n",
              "      <td>46</td>\n",
              "      <td>324</td>\n",
              "      <td>317</td>\n",
              "      <td>20</td>\n",
              "      <td>170</td>\n",
              "      <td>1787</td>\n",
              "      <td>307</td>\n",
              "    </tr>\n",
              "    <tr>\n",
              "      <th>3</th>\n",
              "      <td>16971</td>\n",
              "      <td>2115</td>\n",
              "      <td>2983</td>\n",
              "      <td>1</td>\n",
              "      <td>2011-11-22 12:07:00</td>\n",
              "      <td>0.83</td>\n",
              "      <td>15525.0</td>\n",
              "      <td>35</td>\n",
              "      <td>11</td>\n",
              "      <td>22</td>\n",
              "      <td>2011</td>\n",
              "      <td>4</td>\n",
              "      <td>1</td>\n",
              "      <td>Tuesday</td>\n",
              "      <td>0</td>\n",
              "      <td>47</td>\n",
              "      <td>326</td>\n",
              "      <td>328</td>\n",
              "      <td>4</td>\n",
              "      <td>105</td>\n",
              "      <td>323</td>\n",
              "      <td>128</td>\n",
              "    </tr>\n",
              "    <tr>\n",
              "      <th>4</th>\n",
              "      <td>6080</td>\n",
              "      <td>1210</td>\n",
              "      <td>2886</td>\n",
              "      <td>12</td>\n",
              "      <td>2011-05-06 09:00:00</td>\n",
              "      <td>1.65</td>\n",
              "      <td>13952.0</td>\n",
              "      <td>35</td>\n",
              "      <td>5</td>\n",
              "      <td>6</td>\n",
              "      <td>2011</td>\n",
              "      <td>2</td>\n",
              "      <td>4</td>\n",
              "      <td>Friday</td>\n",
              "      <td>0</td>\n",
              "      <td>18</td>\n",
              "      <td>126</td>\n",
              "      <td>114</td>\n",
              "      <td>2</td>\n",
              "      <td>86</td>\n",
              "      <td>1042</td>\n",
              "      <td>95</td>\n",
              "    </tr>\n",
              "  </tbody>\n",
              "</table>\n",
              "</div>"
            ],
            "text/plain": [
              "   InvoiceNo  StockCode  ...  quantity_per_customer  total_transactions_per_customer\n",
              "0       6141       1583  ...                   2970                              791\n",
              "1       6349       1300  ...                   9960                              394\n",
              "2      16783       2178  ...                   1787                              307\n",
              "3      16971       2115  ...                    323                              128\n",
              "4       6080       1210  ...                   1042                               95\n",
              "\n",
              "[5 rows x 22 columns]"
            ]
          },
          "metadata": {
            "tags": []
          },
          "execution_count": 21
        }
      ]
    },
    {
      "cell_type": "code",
      "metadata": {
        "id": "BUUxsj5Q2KPR",
        "colab": {
          "base_uri": "https://localhost:8080/",
          "height": 228
        },
        "outputId": "a4ef1ac1-9818-4480-ae58-b5e9daad02ae"
      },
      "source": [
        "# Total weeks per customer\n",
        "total_weeks_per_customer = train.groupby('CustomerID')['week_of_the_year'].count()\n",
        "total_weeks_per_customer = pd.DataFrame(total_weeks_per_customer)\n",
        "total_weeks_per_customer = total_weeks_per_customer.rename(columns = {'week_of_the_year':'total_weeks_per_customer'})\n",
        "train = train.merge(total_weeks_per_customer, how='left', on='CustomerID')\n",
        "total_weeks_per_customer.head()\n"
      ],
      "execution_count": null,
      "outputs": [
        {
          "output_type": "execute_result",
          "data": {
            "text/html": [
              "<div>\n",
              "<style scoped>\n",
              "    .dataframe tbody tr th:only-of-type {\n",
              "        vertical-align: middle;\n",
              "    }\n",
              "\n",
              "    .dataframe tbody tr th {\n",
              "        vertical-align: top;\n",
              "    }\n",
              "\n",
              "    .dataframe thead th {\n",
              "        text-align: right;\n",
              "    }\n",
              "</style>\n",
              "<table border=\"1\" class=\"dataframe\">\n",
              "  <thead>\n",
              "    <tr style=\"text-align: right;\">\n",
              "      <th></th>\n",
              "      <th>total_weeks_per_customer</th>\n",
              "    </tr>\n",
              "    <tr>\n",
              "      <th>CustomerID</th>\n",
              "      <th></th>\n",
              "    </tr>\n",
              "  </thead>\n",
              "  <tbody>\n",
              "    <tr>\n",
              "      <th>12346.0</th>\n",
              "      <td>2</td>\n",
              "    </tr>\n",
              "    <tr>\n",
              "      <th>12347.0</th>\n",
              "      <td>132</td>\n",
              "    </tr>\n",
              "    <tr>\n",
              "      <th>12348.0</th>\n",
              "      <td>22</td>\n",
              "    </tr>\n",
              "    <tr>\n",
              "      <th>12349.0</th>\n",
              "      <td>53</td>\n",
              "    </tr>\n",
              "    <tr>\n",
              "      <th>12350.0</th>\n",
              "      <td>11</td>\n",
              "    </tr>\n",
              "  </tbody>\n",
              "</table>\n",
              "</div>"
            ],
            "text/plain": [
              "            total_weeks_per_customer\n",
              "CustomerID                          \n",
              "12346.0                            2\n",
              "12347.0                          132\n",
              "12348.0                           22\n",
              "12349.0                           53\n",
              "12350.0                           11"
            ]
          },
          "metadata": {
            "tags": []
          },
          "execution_count": 50
        }
      ]
    },
    {
      "cell_type": "code",
      "metadata": {
        "id": "iONrdfJ5O0wX",
        "colab": {
          "base_uri": "https://localhost:8080/",
          "height": 228
        },
        "outputId": "d137eebe-3358-4f0d-c62a-8647a0b6b0f7"
      },
      "source": [
        "# Total weeks per customer (test)\n",
        "total_weeks_per_customer = test.groupby('CustomerID')['week_of_the_year'].count()\n",
        "total_weeks_per_customer = pd.DataFrame(total_weeks_per_customer)\n",
        "total_weeks_per_customer = total_weeks_per_customer.rename(columns = {'week_of_the_year':'total_weeks_per_customer'})\n",
        "test = test.merge(total_weeks_per_customer, how='left', on='CustomerID')\n",
        "total_weeks_per_customer.head()"
      ],
      "execution_count": null,
      "outputs": [
        {
          "output_type": "execute_result",
          "data": {
            "text/html": [
              "<div>\n",
              "<style scoped>\n",
              "    .dataframe tbody tr th:only-of-type {\n",
              "        vertical-align: middle;\n",
              "    }\n",
              "\n",
              "    .dataframe tbody tr th {\n",
              "        vertical-align: top;\n",
              "    }\n",
              "\n",
              "    .dataframe thead th {\n",
              "        text-align: right;\n",
              "    }\n",
              "</style>\n",
              "<table border=\"1\" class=\"dataframe\">\n",
              "  <thead>\n",
              "    <tr style=\"text-align: right;\">\n",
              "      <th></th>\n",
              "      <th>total_weeks_per_customer</th>\n",
              "    </tr>\n",
              "    <tr>\n",
              "      <th>CustomerID</th>\n",
              "      <th></th>\n",
              "    </tr>\n",
              "  </thead>\n",
              "  <tbody>\n",
              "    <tr>\n",
              "      <th>12347.0</th>\n",
              "      <td>50</td>\n",
              "    </tr>\n",
              "    <tr>\n",
              "      <th>12348.0</th>\n",
              "      <td>9</td>\n",
              "    </tr>\n",
              "    <tr>\n",
              "      <th>12349.0</th>\n",
              "      <td>20</td>\n",
              "    </tr>\n",
              "    <tr>\n",
              "      <th>12350.0</th>\n",
              "      <td>6</td>\n",
              "    </tr>\n",
              "    <tr>\n",
              "      <th>12352.0</th>\n",
              "      <td>26</td>\n",
              "    </tr>\n",
              "  </tbody>\n",
              "</table>\n",
              "</div>"
            ],
            "text/plain": [
              "            total_weeks_per_customer\n",
              "CustomerID                          \n",
              "12347.0                           50\n",
              "12348.0                            9\n",
              "12349.0                           20\n",
              "12350.0                            6\n",
              "12352.0                           26"
            ]
          },
          "metadata": {
            "tags": []
          },
          "execution_count": 51
        }
      ]
    },
    {
      "cell_type": "code",
      "metadata": {
        "id": "YaVuDBhHqgeQ"
      },
      "source": [
        "# test.head()"
      ],
      "execution_count": null,
      "outputs": []
    },
    {
      "cell_type": "code",
      "metadata": {
        "id": "a4PhuzI0zSb_",
        "colab": {
          "base_uri": "https://localhost:8080/",
          "height": 198
        },
        "outputId": "9e03f567-8019-42cc-ead7-c13885cb6e88"
      },
      "source": [
        "# Unique weeks per customer\n",
        "Unique_weeks_per_customer = train.groupby(by='CustomerID', as_index=False).agg({'week_of_the_year': pd.Series.nunique})\n",
        "Unique_weeks_per_customer = Unique_weeks_per_customer.rename(columns = {'week_of_the_year':'Unique_weeks_per_customer'})\n",
        "train = train.merge(Unique_weeks_per_customer, how='left', on='CustomerID')\n",
        "Unique_weeks_per_customer.head()"
      ],
      "execution_count": null,
      "outputs": [
        {
          "output_type": "execute_result",
          "data": {
            "text/html": [
              "<div>\n",
              "<style scoped>\n",
              "    .dataframe tbody tr th:only-of-type {\n",
              "        vertical-align: middle;\n",
              "    }\n",
              "\n",
              "    .dataframe tbody tr th {\n",
              "        vertical-align: top;\n",
              "    }\n",
              "\n",
              "    .dataframe thead th {\n",
              "        text-align: right;\n",
              "    }\n",
              "</style>\n",
              "<table border=\"1\" class=\"dataframe\">\n",
              "  <thead>\n",
              "    <tr style=\"text-align: right;\">\n",
              "      <th></th>\n",
              "      <th>CustomerID</th>\n",
              "      <th>Unique_weeks_per_customer</th>\n",
              "    </tr>\n",
              "  </thead>\n",
              "  <tbody>\n",
              "    <tr>\n",
              "      <th>0</th>\n",
              "      <td>12346.0</td>\n",
              "      <td>1</td>\n",
              "    </tr>\n",
              "    <tr>\n",
              "      <th>1</th>\n",
              "      <td>12347.0</td>\n",
              "      <td>6</td>\n",
              "    </tr>\n",
              "    <tr>\n",
              "      <th>2</th>\n",
              "      <td>12348.0</td>\n",
              "      <td>4</td>\n",
              "    </tr>\n",
              "    <tr>\n",
              "      <th>3</th>\n",
              "      <td>12349.0</td>\n",
              "      <td>1</td>\n",
              "    </tr>\n",
              "    <tr>\n",
              "      <th>4</th>\n",
              "      <td>12350.0</td>\n",
              "      <td>1</td>\n",
              "    </tr>\n",
              "  </tbody>\n",
              "</table>\n",
              "</div>"
            ],
            "text/plain": [
              "   CustomerID  Unique_weeks_per_customer\n",
              "0     12346.0                          1\n",
              "1     12347.0                          6\n",
              "2     12348.0                          4\n",
              "3     12349.0                          1\n",
              "4     12350.0                          1"
            ]
          },
          "metadata": {
            "tags": []
          },
          "execution_count": 22
        }
      ]
    },
    {
      "cell_type": "code",
      "metadata": {
        "id": "woCM-gGfPCZ_",
        "colab": {
          "base_uri": "https://localhost:8080/",
          "height": 198
        },
        "outputId": "fac37c0d-4d50-4a77-eb56-5e1b891055cc"
      },
      "source": [
        "# Unique weeks per customer (test)\n",
        "Unique_weeks_per_customer = test.groupby(by='CustomerID', as_index=False).agg({'week_of_the_year': pd.Series.nunique})\n",
        "Unique_weeks_per_customer = Unique_weeks_per_customer.rename(columns = {'week_of_the_year':'Unique_weeks_per_customer'})\n",
        "test = test.merge(Unique_weeks_per_customer, how='left', on='CustomerID')\n",
        "Unique_weeks_per_customer.head()"
      ],
      "execution_count": null,
      "outputs": [
        {
          "output_type": "execute_result",
          "data": {
            "text/html": [
              "<div>\n",
              "<style scoped>\n",
              "    .dataframe tbody tr th:only-of-type {\n",
              "        vertical-align: middle;\n",
              "    }\n",
              "\n",
              "    .dataframe tbody tr th {\n",
              "        vertical-align: top;\n",
              "    }\n",
              "\n",
              "    .dataframe thead th {\n",
              "        text-align: right;\n",
              "    }\n",
              "</style>\n",
              "<table border=\"1\" class=\"dataframe\">\n",
              "  <thead>\n",
              "    <tr style=\"text-align: right;\">\n",
              "      <th></th>\n",
              "      <th>CustomerID</th>\n",
              "      <th>Unique_weeks_per_customer</th>\n",
              "    </tr>\n",
              "  </thead>\n",
              "  <tbody>\n",
              "    <tr>\n",
              "      <th>0</th>\n",
              "      <td>12347.0</td>\n",
              "      <td>6</td>\n",
              "    </tr>\n",
              "    <tr>\n",
              "      <th>1</th>\n",
              "      <td>12348.0</td>\n",
              "      <td>4</td>\n",
              "    </tr>\n",
              "    <tr>\n",
              "      <th>2</th>\n",
              "      <td>12349.0</td>\n",
              "      <td>1</td>\n",
              "    </tr>\n",
              "    <tr>\n",
              "      <th>3</th>\n",
              "      <td>12350.0</td>\n",
              "      <td>1</td>\n",
              "    </tr>\n",
              "    <tr>\n",
              "      <th>4</th>\n",
              "      <td>12352.0</td>\n",
              "      <td>7</td>\n",
              "    </tr>\n",
              "  </tbody>\n",
              "</table>\n",
              "</div>"
            ],
            "text/plain": [
              "   CustomerID  Unique_weeks_per_customer\n",
              "0     12347.0                          6\n",
              "1     12348.0                          4\n",
              "2     12349.0                          1\n",
              "3     12350.0                          1\n",
              "4     12352.0                          7"
            ]
          },
          "metadata": {
            "tags": []
          },
          "execution_count": 26
        }
      ]
    },
    {
      "cell_type": "code",
      "metadata": {
        "id": "2T5aMODx0eLd",
        "colab": {
          "base_uri": "https://localhost:8080/",
          "height": 198
        },
        "outputId": "228f3084-fd45-41d4-a75a-96282f7a51b8"
      },
      "source": [
        "# Unique days per customer\n",
        "Unique_days_per_customer = train.groupby(by='CustomerID', as_index=False).agg({'Dayofyear': pd.Series.nunique})\n",
        "Unique_days_per_customer = Unique_days_per_customer.rename(columns = {'Dayofyear':'Unique_days_per_customer'})\n",
        "train = train.merge(Unique_days_per_customer, how='left', on='CustomerID')\n",
        "Unique_days_per_customer.head()"
      ],
      "execution_count": null,
      "outputs": [
        {
          "output_type": "execute_result",
          "data": {
            "text/html": [
              "<div>\n",
              "<style scoped>\n",
              "    .dataframe tbody tr th:only-of-type {\n",
              "        vertical-align: middle;\n",
              "    }\n",
              "\n",
              "    .dataframe tbody tr th {\n",
              "        vertical-align: top;\n",
              "    }\n",
              "\n",
              "    .dataframe thead th {\n",
              "        text-align: right;\n",
              "    }\n",
              "</style>\n",
              "<table border=\"1\" class=\"dataframe\">\n",
              "  <thead>\n",
              "    <tr style=\"text-align: right;\">\n",
              "      <th></th>\n",
              "      <th>CustomerID</th>\n",
              "      <th>Unique_days_per_customer</th>\n",
              "    </tr>\n",
              "  </thead>\n",
              "  <tbody>\n",
              "    <tr>\n",
              "      <th>0</th>\n",
              "      <td>12346.0</td>\n",
              "      <td>1</td>\n",
              "    </tr>\n",
              "    <tr>\n",
              "      <th>1</th>\n",
              "      <td>12347.0</td>\n",
              "      <td>6</td>\n",
              "    </tr>\n",
              "    <tr>\n",
              "      <th>2</th>\n",
              "      <td>12348.0</td>\n",
              "      <td>4</td>\n",
              "    </tr>\n",
              "    <tr>\n",
              "      <th>3</th>\n",
              "      <td>12349.0</td>\n",
              "      <td>1</td>\n",
              "    </tr>\n",
              "    <tr>\n",
              "      <th>4</th>\n",
              "      <td>12350.0</td>\n",
              "      <td>1</td>\n",
              "    </tr>\n",
              "  </tbody>\n",
              "</table>\n",
              "</div>"
            ],
            "text/plain": [
              "   CustomerID  Unique_days_per_customer\n",
              "0     12346.0                         1\n",
              "1     12347.0                         6\n",
              "2     12348.0                         4\n",
              "3     12349.0                         1\n",
              "4     12350.0                         1"
            ]
          },
          "metadata": {
            "tags": []
          },
          "execution_count": 27
        }
      ]
    },
    {
      "cell_type": "code",
      "metadata": {
        "id": "MOd-bj82POhe",
        "colab": {
          "base_uri": "https://localhost:8080/",
          "height": 198
        },
        "outputId": "f12c4167-98d7-40f8-e586-b9d38da38d92"
      },
      "source": [
        "# Unique days per customer (test)\n",
        "Unique_days_per_customer = test.groupby(by='CustomerID', as_index=False).agg({'Dayofyear': pd.Series.nunique})\n",
        "Unique_days_per_customer = Unique_days_per_customer.rename(columns = {'Dayofyear':'Unique_days_per_customer'})\n",
        "test = test.merge(Unique_days_per_customer, how='left', on='CustomerID')\n",
        "Unique_days_per_customer.head()"
      ],
      "execution_count": null,
      "outputs": [
        {
          "output_type": "execute_result",
          "data": {
            "text/html": [
              "<div>\n",
              "<style scoped>\n",
              "    .dataframe tbody tr th:only-of-type {\n",
              "        vertical-align: middle;\n",
              "    }\n",
              "\n",
              "    .dataframe tbody tr th {\n",
              "        vertical-align: top;\n",
              "    }\n",
              "\n",
              "    .dataframe thead th {\n",
              "        text-align: right;\n",
              "    }\n",
              "</style>\n",
              "<table border=\"1\" class=\"dataframe\">\n",
              "  <thead>\n",
              "    <tr style=\"text-align: right;\">\n",
              "      <th></th>\n",
              "      <th>CustomerID</th>\n",
              "      <th>Unique_days_per_customer</th>\n",
              "    </tr>\n",
              "  </thead>\n",
              "  <tbody>\n",
              "    <tr>\n",
              "      <th>0</th>\n",
              "      <td>12347.0</td>\n",
              "      <td>6</td>\n",
              "    </tr>\n",
              "    <tr>\n",
              "      <th>1</th>\n",
              "      <td>12348.0</td>\n",
              "      <td>4</td>\n",
              "    </tr>\n",
              "    <tr>\n",
              "      <th>2</th>\n",
              "      <td>12349.0</td>\n",
              "      <td>1</td>\n",
              "    </tr>\n",
              "    <tr>\n",
              "      <th>3</th>\n",
              "      <td>12350.0</td>\n",
              "      <td>1</td>\n",
              "    </tr>\n",
              "    <tr>\n",
              "      <th>4</th>\n",
              "      <td>12352.0</td>\n",
              "      <td>7</td>\n",
              "    </tr>\n",
              "  </tbody>\n",
              "</table>\n",
              "</div>"
            ],
            "text/plain": [
              "   CustomerID  Unique_days_per_customer\n",
              "0     12347.0                         6\n",
              "1     12348.0                         4\n",
              "2     12349.0                         1\n",
              "3     12350.0                         1\n",
              "4     12352.0                         7"
            ]
          },
          "metadata": {
            "tags": []
          },
          "execution_count": 28
        }
      ]
    },
    {
      "cell_type": "code",
      "metadata": {
        "id": "NkX1freq1EGW",
        "colab": {
          "base_uri": "https://localhost:8080/",
          "height": 228
        },
        "outputId": "ffa74f85-4e65-4a40-fe9e-f6f3b192ae7d"
      },
      "source": [
        "# Total days per customer\n",
        "total_days_per_customer = train.groupby('CustomerID')['Dayofyear'].count()\n",
        "total_days_per_customer = pd.DataFrame(total_days_per_customer)\n",
        "total_days_per_customer = total_days_per_customer.rename(columns = {'Dayofyear':'total_days_per_customer'})\n",
        "train = train.merge(total_days_per_customer, how='left', on='CustomerID')\n",
        "total_days_per_customer.head()"
      ],
      "execution_count": null,
      "outputs": [
        {
          "output_type": "execute_result",
          "data": {
            "text/html": [
              "<div>\n",
              "<style scoped>\n",
              "    .dataframe tbody tr th:only-of-type {\n",
              "        vertical-align: middle;\n",
              "    }\n",
              "\n",
              "    .dataframe tbody tr th {\n",
              "        vertical-align: top;\n",
              "    }\n",
              "\n",
              "    .dataframe thead th {\n",
              "        text-align: right;\n",
              "    }\n",
              "</style>\n",
              "<table border=\"1\" class=\"dataframe\">\n",
              "  <thead>\n",
              "    <tr style=\"text-align: right;\">\n",
              "      <th></th>\n",
              "      <th>total_days_per_customer</th>\n",
              "    </tr>\n",
              "    <tr>\n",
              "      <th>CustomerID</th>\n",
              "      <th></th>\n",
              "    </tr>\n",
              "  </thead>\n",
              "  <tbody>\n",
              "    <tr>\n",
              "      <th>12346.0</th>\n",
              "      <td>2</td>\n",
              "    </tr>\n",
              "    <tr>\n",
              "      <th>12347.0</th>\n",
              "      <td>132</td>\n",
              "    </tr>\n",
              "    <tr>\n",
              "      <th>12348.0</th>\n",
              "      <td>22</td>\n",
              "    </tr>\n",
              "    <tr>\n",
              "      <th>12349.0</th>\n",
              "      <td>53</td>\n",
              "    </tr>\n",
              "    <tr>\n",
              "      <th>12350.0</th>\n",
              "      <td>11</td>\n",
              "    </tr>\n",
              "  </tbody>\n",
              "</table>\n",
              "</div>"
            ],
            "text/plain": [
              "            total_days_per_customer\n",
              "CustomerID                         \n",
              "12346.0                           2\n",
              "12347.0                         132\n",
              "12348.0                          22\n",
              "12349.0                          53\n",
              "12350.0                          11"
            ]
          },
          "metadata": {
            "tags": []
          },
          "execution_count": 56
        }
      ]
    },
    {
      "cell_type": "code",
      "metadata": {
        "id": "sBrX83iyB14M",
        "colab": {
          "base_uri": "https://localhost:8080/",
          "height": 228
        },
        "outputId": "15b4b6af-c280-4b05-da22-150556bb96da"
      },
      "source": [
        "# Total days per customer (test)\n",
        "total_days_per_customer = test.groupby('CustomerID')['Dayofyear'].count()\n",
        "total_days_per_customer = pd.DataFrame(total_days_per_customer)\n",
        "total_days_per_customer = total_days_per_customer.rename(columns = {'Dayofyear':'total_days_per_customer'})\n",
        "test = test.merge(total_days_per_customer, how='left', on='CustomerID')\n",
        "total_days_per_customer.head()"
      ],
      "execution_count": null,
      "outputs": [
        {
          "output_type": "execute_result",
          "data": {
            "text/html": [
              "<div>\n",
              "<style scoped>\n",
              "    .dataframe tbody tr th:only-of-type {\n",
              "        vertical-align: middle;\n",
              "    }\n",
              "\n",
              "    .dataframe tbody tr th {\n",
              "        vertical-align: top;\n",
              "    }\n",
              "\n",
              "    .dataframe thead th {\n",
              "        text-align: right;\n",
              "    }\n",
              "</style>\n",
              "<table border=\"1\" class=\"dataframe\">\n",
              "  <thead>\n",
              "    <tr style=\"text-align: right;\">\n",
              "      <th></th>\n",
              "      <th>total_days_per_customer</th>\n",
              "    </tr>\n",
              "    <tr>\n",
              "      <th>CustomerID</th>\n",
              "      <th></th>\n",
              "    </tr>\n",
              "  </thead>\n",
              "  <tbody>\n",
              "    <tr>\n",
              "      <th>12347.0</th>\n",
              "      <td>50</td>\n",
              "    </tr>\n",
              "    <tr>\n",
              "      <th>12348.0</th>\n",
              "      <td>9</td>\n",
              "    </tr>\n",
              "    <tr>\n",
              "      <th>12349.0</th>\n",
              "      <td>20</td>\n",
              "    </tr>\n",
              "    <tr>\n",
              "      <th>12350.0</th>\n",
              "      <td>6</td>\n",
              "    </tr>\n",
              "    <tr>\n",
              "      <th>12352.0</th>\n",
              "      <td>26</td>\n",
              "    </tr>\n",
              "  </tbody>\n",
              "</table>\n",
              "</div>"
            ],
            "text/plain": [
              "            total_days_per_customer\n",
              "CustomerID                         \n",
              "12347.0                          50\n",
              "12348.0                           9\n",
              "12349.0                          20\n",
              "12350.0                           6\n",
              "12352.0                          26"
            ]
          },
          "metadata": {
            "tags": []
          },
          "execution_count": 57
        }
      ]
    },
    {
      "cell_type": "code",
      "metadata": {
        "id": "er28vUTcB2Op",
        "colab": {
          "base_uri": "https://localhost:8080/"
        },
        "outputId": "aa442456-b1dd-4a30-b96d-127a2ba15cba"
      },
      "source": [
        "print(train.shape)\n",
        "print(test.shape)"
      ],
      "execution_count": null,
      "outputs": [
        {
          "output_type": "stream",
          "text": [
            "(284780, 24)\n",
            "(122049, 23)\n"
          ],
          "name": "stdout"
        }
      ]
    },
    {
      "cell_type": "code",
      "metadata": {
        "id": "-X7_ljgxB2Hr",
        "colab": {
          "base_uri": "https://localhost:8080/"
        },
        "outputId": "232a420e-24c2-43b8-c9d3-0a77b3b09c6f"
      },
      "source": [
        "test.info()"
      ],
      "execution_count": null,
      "outputs": [
        {
          "output_type": "stream",
          "text": [
            "<class 'pandas.core.frame.DataFrame'>\n",
            "Int64Index: 122049 entries, 0 to 122048\n",
            "Data columns (total 23 columns):\n",
            " #   Column                           Non-Null Count   Dtype         \n",
            "---  ------                           --------------   -----         \n",
            " 0   InvoiceNo                        122049 non-null  int64         \n",
            " 1   StockCode                        122049 non-null  int64         \n",
            " 2   Description                      122049 non-null  int64         \n",
            " 3   Quantity                         122049 non-null  int64         \n",
            " 4   InvoiceDate                      122049 non-null  datetime64[ns]\n",
            " 5   CustomerID                       122049 non-null  float64       \n",
            " 6   Country                          122049 non-null  int64         \n",
            " 7   month                            122049 non-null  int64         \n",
            " 8   day                              122049 non-null  int64         \n",
            " 9   year                             122049 non-null  int64         \n",
            " 10  quarter                          122049 non-null  int64         \n",
            " 11  day of the week                  122049 non-null  int64         \n",
            " 12  dayofweek_name                   122049 non-null  object        \n",
            " 13  is_weekend                       122049 non-null  int64         \n",
            " 14  week_of_the_year                 122049 non-null  int64         \n",
            " 15  Dayofyear                        122049 non-null  int64         \n",
            " 16  total_days_per_stockcode         122049 non-null  int64         \n",
            " 17  transactions_per_customer        122049 non-null  int64         \n",
            " 18  stocks_per_customer              122049 non-null  int64         \n",
            " 19  quantity_per_customer            122049 non-null  int64         \n",
            " 20  total_transactions_per_customer  122049 non-null  int64         \n",
            " 21  Unique_weeks_per_customer        122049 non-null  int64         \n",
            " 22  Unique_days_per_customer         122049 non-null  int64         \n",
            "dtypes: datetime64[ns](1), float64(1), int64(20), object(1)\n",
            "memory usage: 22.3+ MB\n"
          ],
          "name": "stdout"
        }
      ]
    },
    {
      "cell_type": "code",
      "metadata": {
        "id": "d938AWzWXFsc",
        "colab": {
          "base_uri": "https://localhost:8080/"
        },
        "outputId": "2f30b588-6d8f-43df-fc7b-9d0927c52b57"
      },
      "source": [
        "train.info()"
      ],
      "execution_count": null,
      "outputs": [
        {
          "output_type": "stream",
          "text": [
            "<class 'pandas.core.frame.DataFrame'>\n",
            "Int64Index: 284780 entries, 0 to 284779\n",
            "Data columns (total 26 columns):\n",
            " #   Column                           Non-Null Count   Dtype         \n",
            "---  ------                           --------------   -----         \n",
            " 0   InvoiceNo                        284780 non-null  int64         \n",
            " 1   StockCode                        284780 non-null  int64         \n",
            " 2   Description                      284780 non-null  int64         \n",
            " 3   Quantity                         284780 non-null  int64         \n",
            " 4   InvoiceDate                      284780 non-null  datetime64[ns]\n",
            " 5   UnitPrice                        284780 non-null  float64       \n",
            " 6   CustomerID                       284780 non-null  float64       \n",
            " 7   Country                          284780 non-null  int64         \n",
            " 8   month                            284780 non-null  int64         \n",
            " 9   day                              284780 non-null  int64         \n",
            " 10  year                             284780 non-null  int64         \n",
            " 11  quarter                          284780 non-null  int64         \n",
            " 12  day of the week                  284780 non-null  int64         \n",
            " 13  dayofweek_name                   284780 non-null  object        \n",
            " 14  is_weekend                       284780 non-null  int64         \n",
            " 15  week_of_the_year                 284780 non-null  int64         \n",
            " 16  Dayofyear                        284780 non-null  int64         \n",
            " 17  total_days_per_stockcode         284780 non-null  int64         \n",
            " 18  Unique_days_per_stockcode        284780 non-null  int64         \n",
            " 19  Unique_weeks_per_stockcode       284780 non-null  int64         \n",
            " 20  transactions_per_customer        284780 non-null  int64         \n",
            " 21  stocks_per_customer              284780 non-null  int64         \n",
            " 22  quantity_per_customer            284780 non-null  int64         \n",
            " 23  total_transactions_per_customer  284780 non-null  int64         \n",
            " 24  Unique_weeks_per_customer        284780 non-null  int64         \n",
            " 25  Unique_days_per_customer         284780 non-null  int64         \n",
            "dtypes: datetime64[ns](1), float64(2), int64(22), object(1)\n",
            "memory usage: 58.7+ MB\n"
          ],
          "name": "stdout"
        }
      ]
    },
    {
      "cell_type": "code",
      "metadata": {
        "id": "r45pyPs_AYv7"
      },
      "source": [
        ""
      ],
      "execution_count": null,
      "outputs": []
    },
    {
      "cell_type": "code",
      "metadata": {
        "id": "K8p74H3zFriY"
      },
      "source": [
        ""
      ],
      "execution_count": null,
      "outputs": []
    },
    {
      "cell_type": "code",
      "metadata": {
        "id": "1dBuXdUSP2ka"
      },
      "source": [
        "train = train.drop([\"Unique_weeks_per_stockcode\" ,\"Unique_days_per_stockcode\"],axis =1)"
      ],
      "execution_count": null,
      "outputs": []
    },
    {
      "cell_type": "code",
      "metadata": {
        "id": "3IiKKdcVM58f"
      },
      "source": [
        "# train.loc[train.quantity_per_customer == 0]"
      ],
      "execution_count": null,
      "outputs": []
    },
    {
      "cell_type": "code",
      "metadata": {
        "id": "Djg1XUD5Hvz3"
      },
      "source": [
        ""
      ],
      "execution_count": null,
      "outputs": []
    },
    {
      "cell_type": "code",
      "metadata": {
        "id": "bZRydrCkAWdw"
      },
      "source": [
        ""
      ],
      "execution_count": null,
      "outputs": []
    },
    {
      "cell_type": "code",
      "metadata": {
        "id": "yyWG4LCWP1xO",
        "colab": {
          "base_uri": "https://localhost:8080/"
        },
        "outputId": "9c2bb218-5cf2-44d5-a830-ada94cbca047"
      },
      "source": [
        "train.shape"
      ],
      "execution_count": null,
      "outputs": [
        {
          "output_type": "execute_result",
          "data": {
            "text/plain": [
              "(284780, 25)"
            ]
          },
          "metadata": {
            "tags": []
          },
          "execution_count": 168
        }
      ]
    },
    {
      "cell_type": "code",
      "metadata": {
        "id": "_SIafRu9QDnu",
        "colab": {
          "base_uri": "https://localhost:8080/"
        },
        "outputId": "11fb265a-7c60-4e24-e653-9dde39d65c6d"
      },
      "source": [
        "test.shape"
      ],
      "execution_count": null,
      "outputs": [
        {
          "output_type": "execute_result",
          "data": {
            "text/plain": [
              "(122049, 24)"
            ]
          },
          "metadata": {
            "tags": []
          },
          "execution_count": 169
        }
      ]
    },
    {
      "cell_type": "code",
      "metadata": {
        "id": "mnaP9eRlNenF",
        "colab": {
          "base_uri": "https://localhost:8080/",
          "height": 356
        },
        "outputId": "1632fcbc-4071-470b-c290-ed7471a26349"
      },
      "source": [
        "train.head()"
      ],
      "execution_count": null,
      "outputs": [
        {
          "output_type": "execute_result",
          "data": {
            "text/html": [
              "<div>\n",
              "<style scoped>\n",
              "    .dataframe tbody tr th:only-of-type {\n",
              "        vertical-align: middle;\n",
              "    }\n",
              "\n",
              "    .dataframe tbody tr th {\n",
              "        vertical-align: top;\n",
              "    }\n",
              "\n",
              "    .dataframe thead th {\n",
              "        text-align: right;\n",
              "    }\n",
              "</style>\n",
              "<table border=\"1\" class=\"dataframe\">\n",
              "  <thead>\n",
              "    <tr style=\"text-align: right;\">\n",
              "      <th></th>\n",
              "      <th>InvoiceNo</th>\n",
              "      <th>StockCode</th>\n",
              "      <th>Description</th>\n",
              "      <th>Quantity</th>\n",
              "      <th>InvoiceDate</th>\n",
              "      <th>UnitPrice</th>\n",
              "      <th>CustomerID</th>\n",
              "      <th>Country</th>\n",
              "      <th>month</th>\n",
              "      <th>day</th>\n",
              "      <th>year</th>\n",
              "      <th>quarter</th>\n",
              "      <th>day of the week</th>\n",
              "      <th>dayofweek_name</th>\n",
              "      <th>is_weekend</th>\n",
              "      <th>week_of_the_year</th>\n",
              "      <th>Dayofyear</th>\n",
              "      <th>total_days_per_stockcode</th>\n",
              "      <th>transactions_per_customer</th>\n",
              "      <th>stocks_per_customer</th>\n",
              "      <th>quantity_per_customer</th>\n",
              "      <th>total_transactions_per_customer_x</th>\n",
              "      <th>total_transactions_per_customer_y</th>\n",
              "      <th>total_weeks_per_customer</th>\n",
              "      <th>Unique_weeks_per_customer</th>\n",
              "      <th>Unique_days_per_customer</th>\n",
              "      <th>total_days_per_customer</th>\n",
              "    </tr>\n",
              "  </thead>\n",
              "  <tbody>\n",
              "    <tr>\n",
              "      <th>0</th>\n",
              "      <td>6141</td>\n",
              "      <td>1583</td>\n",
              "      <td>144</td>\n",
              "      <td>3</td>\n",
              "      <td>2011-05-06 16:54:00</td>\n",
              "      <td>3.75</td>\n",
              "      <td>14056.0</td>\n",
              "      <td>35</td>\n",
              "      <td>5</td>\n",
              "      <td>6</td>\n",
              "      <td>2011</td>\n",
              "      <td>2</td>\n",
              "      <td>4</td>\n",
              "      <td>Friday</td>\n",
              "      <td>0</td>\n",
              "      <td>18</td>\n",
              "      <td>126</td>\n",
              "      <td>331</td>\n",
              "      <td>28</td>\n",
              "      <td>301</td>\n",
              "      <td>2970</td>\n",
              "      <td>791</td>\n",
              "      <td>791</td>\n",
              "      <td>791</td>\n",
              "      <td>22</td>\n",
              "      <td>24</td>\n",
              "      <td>791</td>\n",
              "    </tr>\n",
              "    <tr>\n",
              "      <th>1</th>\n",
              "      <td>6349</td>\n",
              "      <td>1300</td>\n",
              "      <td>3682</td>\n",
              "      <td>6</td>\n",
              "      <td>2011-05-11 07:35:00</td>\n",
              "      <td>1.95</td>\n",
              "      <td>13098.0</td>\n",
              "      <td>35</td>\n",
              "      <td>5</td>\n",
              "      <td>11</td>\n",
              "      <td>2011</td>\n",
              "      <td>2</td>\n",
              "      <td>2</td>\n",
              "      <td>Wednesday</td>\n",
              "      <td>0</td>\n",
              "      <td>19</td>\n",
              "      <td>131</td>\n",
              "      <td>194</td>\n",
              "      <td>38</td>\n",
              "      <td>146</td>\n",
              "      <td>9960</td>\n",
              "      <td>394</td>\n",
              "      <td>394</td>\n",
              "      <td>394</td>\n",
              "      <td>25</td>\n",
              "      <td>33</td>\n",
              "      <td>394</td>\n",
              "    </tr>\n",
              "    <tr>\n",
              "      <th>2</th>\n",
              "      <td>16783</td>\n",
              "      <td>2178</td>\n",
              "      <td>1939</td>\n",
              "      <td>4</td>\n",
              "      <td>2011-11-20 13:20:00</td>\n",
              "      <td>5.95</td>\n",
              "      <td>15044.0</td>\n",
              "      <td>35</td>\n",
              "      <td>11</td>\n",
              "      <td>20</td>\n",
              "      <td>2011</td>\n",
              "      <td>4</td>\n",
              "      <td>6</td>\n",
              "      <td>Sunday</td>\n",
              "      <td>1</td>\n",
              "      <td>46</td>\n",
              "      <td>324</td>\n",
              "      <td>317</td>\n",
              "      <td>20</td>\n",
              "      <td>170</td>\n",
              "      <td>1787</td>\n",
              "      <td>307</td>\n",
              "      <td>307</td>\n",
              "      <td>307</td>\n",
              "      <td>15</td>\n",
              "      <td>15</td>\n",
              "      <td>307</td>\n",
              "    </tr>\n",
              "    <tr>\n",
              "      <th>3</th>\n",
              "      <td>16971</td>\n",
              "      <td>2115</td>\n",
              "      <td>2983</td>\n",
              "      <td>1</td>\n",
              "      <td>2011-11-22 12:07:00</td>\n",
              "      <td>0.83</td>\n",
              "      <td>15525.0</td>\n",
              "      <td>35</td>\n",
              "      <td>11</td>\n",
              "      <td>22</td>\n",
              "      <td>2011</td>\n",
              "      <td>4</td>\n",
              "      <td>1</td>\n",
              "      <td>Tuesday</td>\n",
              "      <td>0</td>\n",
              "      <td>47</td>\n",
              "      <td>326</td>\n",
              "      <td>328</td>\n",
              "      <td>4</td>\n",
              "      <td>105</td>\n",
              "      <td>323</td>\n",
              "      <td>128</td>\n",
              "      <td>128</td>\n",
              "      <td>128</td>\n",
              "      <td>3</td>\n",
              "      <td>3</td>\n",
              "      <td>128</td>\n",
              "    </tr>\n",
              "    <tr>\n",
              "      <th>4</th>\n",
              "      <td>6080</td>\n",
              "      <td>1210</td>\n",
              "      <td>2886</td>\n",
              "      <td>12</td>\n",
              "      <td>2011-05-06 09:00:00</td>\n",
              "      <td>1.65</td>\n",
              "      <td>13952.0</td>\n",
              "      <td>35</td>\n",
              "      <td>5</td>\n",
              "      <td>6</td>\n",
              "      <td>2011</td>\n",
              "      <td>2</td>\n",
              "      <td>4</td>\n",
              "      <td>Friday</td>\n",
              "      <td>0</td>\n",
              "      <td>18</td>\n",
              "      <td>126</td>\n",
              "      <td>114</td>\n",
              "      <td>2</td>\n",
              "      <td>86</td>\n",
              "      <td>1042</td>\n",
              "      <td>95</td>\n",
              "      <td>95</td>\n",
              "      <td>95</td>\n",
              "      <td>2</td>\n",
              "      <td>2</td>\n",
              "      <td>95</td>\n",
              "    </tr>\n",
              "  </tbody>\n",
              "</table>\n",
              "</div>"
            ],
            "text/plain": [
              "   InvoiceNo  StockCode  ...  Unique_days_per_customer  total_days_per_customer\n",
              "0       6141       1583  ...                        24                      791\n",
              "1       6349       1300  ...                        33                      394\n",
              "2      16783       2178  ...                        15                      307\n",
              "3      16971       2115  ...                         3                      128\n",
              "4       6080       1210  ...                         2                       95\n",
              "\n",
              "[5 rows x 27 columns]"
            ]
          },
          "metadata": {
            "tags": []
          },
          "execution_count": 35
        }
      ]
    },
    {
      "cell_type": "code",
      "metadata": {
        "id": "Ye-nJbM1DPss",
        "colab": {
          "base_uri": "https://localhost:8080/",
          "height": 356
        },
        "outputId": "13e9529e-08ee-4862-ca2c-185407e12f21"
      },
      "source": [
        "train.head()"
      ],
      "execution_count": null,
      "outputs": [
        {
          "output_type": "execute_result",
          "data": {
            "text/html": [
              "<div>\n",
              "<style scoped>\n",
              "    .dataframe tbody tr th:only-of-type {\n",
              "        vertical-align: middle;\n",
              "    }\n",
              "\n",
              "    .dataframe tbody tr th {\n",
              "        vertical-align: top;\n",
              "    }\n",
              "\n",
              "    .dataframe thead th {\n",
              "        text-align: right;\n",
              "    }\n",
              "</style>\n",
              "<table border=\"1\" class=\"dataframe\">\n",
              "  <thead>\n",
              "    <tr style=\"text-align: right;\">\n",
              "      <th></th>\n",
              "      <th>InvoiceNo</th>\n",
              "      <th>StockCode</th>\n",
              "      <th>Description</th>\n",
              "      <th>Quantity</th>\n",
              "      <th>InvoiceDate</th>\n",
              "      <th>UnitPrice</th>\n",
              "      <th>CustomerID</th>\n",
              "      <th>Country</th>\n",
              "      <th>month</th>\n",
              "      <th>day</th>\n",
              "      <th>year</th>\n",
              "      <th>quarter</th>\n",
              "      <th>day of the week</th>\n",
              "      <th>dayofweek_name</th>\n",
              "      <th>is_weekend</th>\n",
              "      <th>week_of_the_year</th>\n",
              "      <th>Dayofyear</th>\n",
              "      <th>total_days_per_stockcode</th>\n",
              "      <th>transactions_per_customer</th>\n",
              "      <th>stocks_per_customer</th>\n",
              "      <th>quantity_per_customer</th>\n",
              "      <th>total_transactions_per_customer</th>\n",
              "      <th>Unique_weeks_per_customer</th>\n",
              "      <th>Unique_days_per_customer</th>\n",
              "    </tr>\n",
              "  </thead>\n",
              "  <tbody>\n",
              "    <tr>\n",
              "      <th>0</th>\n",
              "      <td>6141</td>\n",
              "      <td>1583</td>\n",
              "      <td>144</td>\n",
              "      <td>3</td>\n",
              "      <td>2011-05-06 16:54:00</td>\n",
              "      <td>3.75</td>\n",
              "      <td>14056.0</td>\n",
              "      <td>35</td>\n",
              "      <td>5</td>\n",
              "      <td>6</td>\n",
              "      <td>2011</td>\n",
              "      <td>2</td>\n",
              "      <td>4</td>\n",
              "      <td>Friday</td>\n",
              "      <td>0</td>\n",
              "      <td>18</td>\n",
              "      <td>126</td>\n",
              "      <td>331</td>\n",
              "      <td>28</td>\n",
              "      <td>301</td>\n",
              "      <td>2970</td>\n",
              "      <td>791</td>\n",
              "      <td>22</td>\n",
              "      <td>24</td>\n",
              "    </tr>\n",
              "    <tr>\n",
              "      <th>1</th>\n",
              "      <td>6349</td>\n",
              "      <td>1300</td>\n",
              "      <td>3682</td>\n",
              "      <td>6</td>\n",
              "      <td>2011-05-11 07:35:00</td>\n",
              "      <td>1.95</td>\n",
              "      <td>13098.0</td>\n",
              "      <td>35</td>\n",
              "      <td>5</td>\n",
              "      <td>11</td>\n",
              "      <td>2011</td>\n",
              "      <td>2</td>\n",
              "      <td>2</td>\n",
              "      <td>Wednesday</td>\n",
              "      <td>0</td>\n",
              "      <td>19</td>\n",
              "      <td>131</td>\n",
              "      <td>194</td>\n",
              "      <td>38</td>\n",
              "      <td>146</td>\n",
              "      <td>9960</td>\n",
              "      <td>394</td>\n",
              "      <td>25</td>\n",
              "      <td>33</td>\n",
              "    </tr>\n",
              "    <tr>\n",
              "      <th>2</th>\n",
              "      <td>16783</td>\n",
              "      <td>2178</td>\n",
              "      <td>1939</td>\n",
              "      <td>4</td>\n",
              "      <td>2011-11-20 13:20:00</td>\n",
              "      <td>5.95</td>\n",
              "      <td>15044.0</td>\n",
              "      <td>35</td>\n",
              "      <td>11</td>\n",
              "      <td>20</td>\n",
              "      <td>2011</td>\n",
              "      <td>4</td>\n",
              "      <td>6</td>\n",
              "      <td>Sunday</td>\n",
              "      <td>1</td>\n",
              "      <td>46</td>\n",
              "      <td>324</td>\n",
              "      <td>317</td>\n",
              "      <td>20</td>\n",
              "      <td>170</td>\n",
              "      <td>1787</td>\n",
              "      <td>307</td>\n",
              "      <td>15</td>\n",
              "      <td>15</td>\n",
              "    </tr>\n",
              "    <tr>\n",
              "      <th>3</th>\n",
              "      <td>16971</td>\n",
              "      <td>2115</td>\n",
              "      <td>2983</td>\n",
              "      <td>1</td>\n",
              "      <td>2011-11-22 12:07:00</td>\n",
              "      <td>0.83</td>\n",
              "      <td>15525.0</td>\n",
              "      <td>35</td>\n",
              "      <td>11</td>\n",
              "      <td>22</td>\n",
              "      <td>2011</td>\n",
              "      <td>4</td>\n",
              "      <td>1</td>\n",
              "      <td>Tuesday</td>\n",
              "      <td>0</td>\n",
              "      <td>47</td>\n",
              "      <td>326</td>\n",
              "      <td>328</td>\n",
              "      <td>4</td>\n",
              "      <td>105</td>\n",
              "      <td>323</td>\n",
              "      <td>128</td>\n",
              "      <td>3</td>\n",
              "      <td>3</td>\n",
              "    </tr>\n",
              "    <tr>\n",
              "      <th>4</th>\n",
              "      <td>6080</td>\n",
              "      <td>1210</td>\n",
              "      <td>2886</td>\n",
              "      <td>12</td>\n",
              "      <td>2011-05-06 09:00:00</td>\n",
              "      <td>1.65</td>\n",
              "      <td>13952.0</td>\n",
              "      <td>35</td>\n",
              "      <td>5</td>\n",
              "      <td>6</td>\n",
              "      <td>2011</td>\n",
              "      <td>2</td>\n",
              "      <td>4</td>\n",
              "      <td>Friday</td>\n",
              "      <td>0</td>\n",
              "      <td>18</td>\n",
              "      <td>126</td>\n",
              "      <td>114</td>\n",
              "      <td>2</td>\n",
              "      <td>86</td>\n",
              "      <td>1042</td>\n",
              "      <td>95</td>\n",
              "      <td>2</td>\n",
              "      <td>2</td>\n",
              "    </tr>\n",
              "  </tbody>\n",
              "</table>\n",
              "</div>"
            ],
            "text/plain": [
              "   InvoiceNo  StockCode  ...  Unique_weeks_per_customer  Unique_days_per_customer\n",
              "0       6141       1583  ...                         22                        24\n",
              "1       6349       1300  ...                         25                        33\n",
              "2      16783       2178  ...                         15                        15\n",
              "3      16971       2115  ...                          3                         3\n",
              "4       6080       1210  ...                          2                         2\n",
              "\n",
              "[5 rows x 24 columns]"
            ]
          },
          "metadata": {
            "tags": []
          },
          "execution_count": 31
        }
      ]
    },
    {
      "cell_type": "code",
      "metadata": {
        "id": "LBJ2uS-WrTB2"
      },
      "source": [
        ""
      ],
      "execution_count": null,
      "outputs": []
    },
    {
      "cell_type": "code",
      "metadata": {
        "id": "3VOREJZp3DwE",
        "colab": {
          "base_uri": "https://localhost:8080/",
          "height": 214
        },
        "outputId": "c933719c-8f97-4165-ce0f-0930cd9f63b7"
      },
      "source": [
        "test.loc[test.quantity_per_customer == 0]"
      ],
      "execution_count": null,
      "outputs": [
        {
          "output_type": "execute_result",
          "data": {
            "text/html": [
              "<div>\n",
              "<style scoped>\n",
              "    .dataframe tbody tr th:only-of-type {\n",
              "        vertical-align: middle;\n",
              "    }\n",
              "\n",
              "    .dataframe tbody tr th {\n",
              "        vertical-align: top;\n",
              "    }\n",
              "\n",
              "    .dataframe thead th {\n",
              "        text-align: right;\n",
              "    }\n",
              "</style>\n",
              "<table border=\"1\" class=\"dataframe\">\n",
              "  <thead>\n",
              "    <tr style=\"text-align: right;\">\n",
              "      <th></th>\n",
              "      <th>InvoiceNo</th>\n",
              "      <th>StockCode</th>\n",
              "      <th>Description</th>\n",
              "      <th>Quantity</th>\n",
              "      <th>InvoiceDate</th>\n",
              "      <th>CustomerID</th>\n",
              "      <th>Country</th>\n",
              "      <th>month</th>\n",
              "      <th>day</th>\n",
              "      <th>year</th>\n",
              "      <th>quarter</th>\n",
              "      <th>day of the week</th>\n",
              "      <th>dayofweek_name</th>\n",
              "      <th>is_weekend</th>\n",
              "      <th>week_of_the_year</th>\n",
              "      <th>Dayofyear</th>\n",
              "      <th>total_days_per_stockcode</th>\n",
              "      <th>transactions_per_customer</th>\n",
              "      <th>stocks_per_customer</th>\n",
              "      <th>quantity_per_customer</th>\n",
              "      <th>total_transactions_per_customer</th>\n",
              "      <th>Unique_weeks_per_customer</th>\n",
              "      <th>Unique_days_per_customer</th>\n",
              "      <th>35</th>\n",
              "      <th>quantity_returned</th>\n",
              "    </tr>\n",
              "  </thead>\n",
              "  <tbody>\n",
              "    <tr>\n",
              "      <th>2319</th>\n",
              "      <td>10028</td>\n",
              "      <td>3118</td>\n",
              "      <td>2994</td>\n",
              "      <td>2</td>\n",
              "      <td>2011-07-28 19:13:00</td>\n",
              "      <td>18268.0</td>\n",
              "      <td>35</td>\n",
              "      <td>7</td>\n",
              "      <td>28</td>\n",
              "      <td>2011</td>\n",
              "      <td>3</td>\n",
              "      <td>3</td>\n",
              "      <td>Thursday</td>\n",
              "      <td>0</td>\n",
              "      <td>30</td>\n",
              "      <td>209</td>\n",
              "      <td>17</td>\n",
              "      <td>2</td>\n",
              "      <td>1</td>\n",
              "      <td>0</td>\n",
              "      <td>2</td>\n",
              "      <td>1</td>\n",
              "      <td>1</td>\n",
              "      <td>1</td>\n",
              "      <td>1</td>\n",
              "    </tr>\n",
              "    <tr>\n",
              "      <th>36185</th>\n",
              "      <td>20675</td>\n",
              "      <td>3118</td>\n",
              "      <td>2994</td>\n",
              "      <td>-2</td>\n",
              "      <td>2011-07-28 11:16:00</td>\n",
              "      <td>18268.0</td>\n",
              "      <td>35</td>\n",
              "      <td>7</td>\n",
              "      <td>28</td>\n",
              "      <td>2011</td>\n",
              "      <td>3</td>\n",
              "      <td>3</td>\n",
              "      <td>Thursday</td>\n",
              "      <td>0</td>\n",
              "      <td>30</td>\n",
              "      <td>209</td>\n",
              "      <td>17</td>\n",
              "      <td>2</td>\n",
              "      <td>1</td>\n",
              "      <td>0</td>\n",
              "      <td>2</td>\n",
              "      <td>1</td>\n",
              "      <td>1</td>\n",
              "      <td>1</td>\n",
              "      <td>1</td>\n",
              "    </tr>\n",
              "  </tbody>\n",
              "</table>\n",
              "</div>"
            ],
            "text/plain": [
              "       InvoiceNo  StockCode  ...  35  quantity_returned\n",
              "2319       10028       3118  ...   1                  1\n",
              "36185      20675       3118  ...   1                  1\n",
              "\n",
              "[2 rows x 25 columns]"
            ]
          },
          "metadata": {
            "tags": []
          },
          "execution_count": 40
        }
      ]
    },
    {
      "cell_type": "code",
      "metadata": {
        "id": "kWxpRaPZzAYF"
      },
      "source": [
        ""
      ],
      "execution_count": null,
      "outputs": []
    },
    {
      "cell_type": "code",
      "metadata": {
        "id": "FJcnWc6dswHa",
        "colab": {
          "base_uri": "https://localhost:8080/"
        },
        "outputId": "8f52e010-75b7-4b72-802d-b02406482d01"
      },
      "source": [
        "y.shape"
      ],
      "execution_count": null,
      "outputs": [
        {
          "output_type": "execute_result",
          "data": {
            "text/plain": [
              "(284780,)"
            ]
          },
          "metadata": {
            "tags": []
          },
          "execution_count": 110
        }
      ]
    },
    {
      "cell_type": "code",
      "metadata": {
        "id": "YujjfdvzR41A",
        "colab": {
          "base_uri": "https://localhost:8080/"
        },
        "outputId": "62220b33-cd0d-45fc-8d9a-7ed8eadb5762"
      },
      "source": [
        "train.info()"
      ],
      "execution_count": null,
      "outputs": [
        {
          "output_type": "stream",
          "text": [
            "<class 'pandas.core.frame.DataFrame'>\n",
            "Int64Index: 284780 entries, 0 to 284779\n",
            "Data columns (total 25 columns):\n",
            " #   Column                           Non-Null Count   Dtype         \n",
            "---  ------                           --------------   -----         \n",
            " 0   InvoiceNo                        284780 non-null  int64         \n",
            " 1   StockCode                        284780 non-null  int64         \n",
            " 2   Description                      284780 non-null  int64         \n",
            " 3   Quantity                         284780 non-null  int64         \n",
            " 4   InvoiceDate                      284780 non-null  datetime64[ns]\n",
            " 5   UnitPrice                        284780 non-null  float64       \n",
            " 6   CustomerID                       284780 non-null  float64       \n",
            " 7   Country                          284780 non-null  int64         \n",
            " 8   month                            284780 non-null  int64         \n",
            " 9   day                              284780 non-null  int64         \n",
            " 10  year                             284780 non-null  int64         \n",
            " 11  quarter                          284780 non-null  int64         \n",
            " 12  day of the week                  284780 non-null  int64         \n",
            " 13  dayofweek_name                   284780 non-null  object        \n",
            " 14  is_weekend                       284780 non-null  int64         \n",
            " 15  week_of_the_year                 284780 non-null  int64         \n",
            " 16  Dayofyear                        284780 non-null  int64         \n",
            " 17  transactions_per_customer        284780 non-null  int64         \n",
            " 18  stocks_per_customer              284780 non-null  int64         \n",
            " 19  quantity_per_customer            284780 non-null  int64         \n",
            " 20  total_transactions_per_customer  284780 non-null  int64         \n",
            " 21  total_weeks_per_customer         284780 non-null  int64         \n",
            " 22  Unique_weeks_per_customer        284780 non-null  int64         \n",
            " 23  Unique_days_per_customer         284780 non-null  int64         \n",
            " 24  total_days_per_customer          284780 non-null  int64         \n",
            "dtypes: datetime64[ns](1), float64(2), int64(21), object(1)\n",
            "memory usage: 56.5+ MB\n"
          ],
          "name": "stdout"
        }
      ]
    },
    {
      "cell_type": "code",
      "metadata": {
        "id": "9qj-dDUdlvn8"
      },
      "source": [
        ""
      ],
      "execution_count": null,
      "outputs": []
    },
    {
      "cell_type": "code",
      "metadata": {
        "id": "9wRZCX9USqCS",
        "colab": {
          "base_uri": "https://localhost:8080/"
        },
        "outputId": "7d56b69d-63bc-4aa6-c4ea-9072aa300177"
      },
      "source": [
        "# Checking if any null values are present \n",
        "train.isnull().values.any()"
      ],
      "execution_count": null,
      "outputs": [
        {
          "output_type": "execute_result",
          "data": {
            "text/plain": [
              "False"
            ]
          },
          "metadata": {
            "tags": []
          },
          "execution_count": 37
        }
      ]
    },
    {
      "cell_type": "code",
      "metadata": {
        "id": "4E3lYmqGjxqA",
        "colab": {
          "base_uri": "https://localhost:8080/"
        },
        "outputId": "93197bd8-d582-4e4c-ca1f-16086b276795"
      },
      "source": [
        "print(train.StockCode.nunique())\n",
        "print(train.Description.nunique())"
      ],
      "execution_count": null,
      "outputs": [
        {
          "output_type": "stream",
          "text": [
            "3619\n",
            "3819\n"
          ],
          "name": "stdout"
        }
      ]
    },
    {
      "cell_type": "code",
      "metadata": {
        "id": "Otrb4SKRnAxo",
        "colab": {
          "base_uri": "https://localhost:8080/"
        },
        "outputId": "0f5b28bb-6043-46c4-be0c-fef7352a512b"
      },
      "source": [
        "# StockCodes have multiple descriptions\n",
        "train.groupby(\"StockCode\").Description.nunique().sort_values(ascending=False)"
      ],
      "execution_count": null,
      "outputs": [
        {
          "output_type": "execute_result",
          "data": {
            "text/plain": [
              "StockCode\n",
              "2030    4\n",
              "2070    4\n",
              "2188    3\n",
              "2209    3\n",
              "1966    3\n",
              "       ..\n",
              "2455    1\n",
              "2454    1\n",
              "2453    1\n",
              "2452    1\n",
              "0       1\n",
              "Name: Description, Length: 3619, dtype: int64"
            ]
          },
          "metadata": {
            "tags": []
          },
          "execution_count": 82
        }
      ]
    },
    {
      "cell_type": "code",
      "metadata": {
        "id": "bt8Qr9gBnRLU",
        "colab": {
          "base_uri": "https://localhost:8080/"
        },
        "outputId": "4fa3f8f5-568b-44dc-c0c1-fbdd6063046e"
      },
      "source": [
        "# Number Of Customers \n",
        "train.CustomerID.nunique()"
      ],
      "execution_count": null,
      "outputs": [
        {
          "output_type": "execute_result",
          "data": {
            "text/plain": [
              "4339"
            ]
          },
          "metadata": {
            "tags": []
          },
          "execution_count": 83
        }
      ]
    },
    {
      "cell_type": "code",
      "metadata": {
        "id": "7n45xL8pnnpz",
        "colab": {
          "base_uri": "https://localhost:8080/"
        },
        "outputId": "e26cd326-7cd9-44cc-ca38-7bed0ab8aec7"
      },
      "source": [
        "# Number Of Unique Countries\n",
        "train.Country.nunique()\n"
      ],
      "execution_count": null,
      "outputs": [
        {
          "output_type": "execute_result",
          "data": {
            "text/plain": [
              "37"
            ]
          },
          "metadata": {
            "tags": []
          },
          "execution_count": 84
        }
      ]
    },
    {
      "cell_type": "code",
      "metadata": {
        "id": "GIBax9Don4UX",
        "colab": {
          "base_uri": "https://localhost:8080/",
          "height": 292
        },
        "outputId": "87e337d3-304b-44d8-e385-4f7da0bb5ca6"
      },
      "source": [
        "country_counts = train.Country.value_counts().sort_values(ascending=False)\n",
        "plt.figure(figsize=(20,5))\n",
        "sns.barplot(country_counts.index, country_counts.values, palette=\"Greens_r\")\n",
        "plt.ylabel(\"Counts\")\n",
        "plt.title(\"Which countries made the most transactions?\");\n",
        "plt.xticks(rotation=90);\n",
        "plt.yscale(\"log\")"
      ],
      "execution_count": null,
      "outputs": [
        {
          "output_type": "stream",
          "text": [
            "/usr/local/lib/python3.6/dist-packages/seaborn/_decorators.py:43: FutureWarning: Pass the following variables as keyword args: x, y. From version 0.12, the only valid positional argument will be `data`, and passing other arguments without an explicit keyword will result in an error or misinterpretation.\n",
            "  FutureWarning\n"
          ],
          "name": "stderr"
        },
        {
          "output_type": "display_data",
          "data": {
            "image/png": "[encoded data removed]",
            "text/plain": [
              "<Figure size 1440x360 with 1 Axes>"
            ]
          },
          "metadata": {
            "tags": [],
            "needs_background": "light"
          }
        }
      ]
    },
    {
      "cell_type": "code",
      "metadata": {
        "id": "vAT6HTTwoXD_",
        "colab": {
          "base_uri": "https://localhost:8080/"
        },
        "outputId": "ebf2e6ad-b409-4783-9fac-067ab2ebe2f1"
      },
      "source": [
        "print(train.loc[train.Country==35].shape[0] )\n",
        "print(train.shape[0])\n",
        "train.loc[train.Country==35].shape[0] / train.shape[0] * 100\n"
      ],
      "execution_count": null,
      "outputs": [
        {
          "output_type": "stream",
          "text": [
            "253253\n",
            "284780\n"
          ],
          "name": "stdout"
        },
        {
          "output_type": "execute_result",
          "data": {
            "text/plain": [
              "88.92934897113561"
            ]
          },
          "metadata": {
            "tags": []
          },
          "execution_count": 19
        }
      ]
    },
    {
      "cell_type": "code",
      "metadata": {
        "id": "UX_e67NkpofI"
      },
      "source": [
        "# Creating a feature to describe whether inside or outside of country 35\n",
        "train[\"35\"] = np.where(train.Country == 35, 1, 0)\n"
      ],
      "execution_count": null,
      "outputs": []
    },
    {
      "cell_type": "code",
      "metadata": {
        "id": "Qzk9bjGfqiQf",
        "colab": {
          "base_uri": "https://localhost:8080/"
        },
        "outputId": "a002e036-0f0b-4c35-8296-f37651efd4e1"
      },
      "source": [
        "train.shape"
      ],
      "execution_count": null,
      "outputs": [
        {
          "output_type": "execute_result",
          "data": {
            "text/plain": [
              "(284780, 25)"
            ]
          },
          "metadata": {
            "tags": []
          },
          "execution_count": 40
        }
      ]
    },
    {
      "cell_type": "code",
      "metadata": {
        "id": "q-1z_yJDl3cr",
        "colab": {
          "base_uri": "https://localhost:8080/"
        },
        "outputId": "cb4b6415-9de5-4e37-8e6e-7b551da433fc"
      },
      "source": [
        "test.shape"
      ],
      "execution_count": null,
      "outputs": [
        {
          "output_type": "execute_result",
          "data": {
            "text/plain": [
              "(122049, 24)"
            ]
          },
          "metadata": {
            "tags": []
          },
          "execution_count": 39
        }
      ]
    },
    {
      "cell_type": "code",
      "metadata": {
        "id": "OryHPgA8lxVx"
      },
      "source": [
        "test[\"35\"] = np.where(test.Country == 35, 1, 0)\n"
      ],
      "execution_count": null,
      "outputs": []
    },
    {
      "cell_type": "code",
      "metadata": {
        "id": "yCuaGAHCrl7J"
      },
      "source": [
        ""
      ],
      "execution_count": null,
      "outputs": []
    },
    {
      "cell_type": "code",
      "metadata": {
        "id": "btp6morAY5JN"
      },
      "source": [
        "train[\"quantity_returned\"] = np.where(train.quantity_per_customer == 0, 1, 0)\n",
        "test[\"quantity_returned\"] = np.where(test.quantity_per_customer == 0, 1, 0)\n"
      ],
      "execution_count": null,
      "outputs": []
    },
    {
      "cell_type": "code",
      "metadata": {
        "id": "5I8Ul_bO5YsG",
        "colab": {
          "base_uri": "https://localhost:8080/",
          "height": 228
        },
        "outputId": "01cb57e0-02f8-4e1b-993d-78712882aeb4"
      },
      "source": [
        "train_join = train.groupby('InvoiceNo')[['Quantity']].sum()\n",
        "train_join.head()"
      ],
      "execution_count": null,
      "outputs": [
        {
          "output_type": "execute_result",
          "data": {
            "text/html": [
              "<div>\n",
              "<style scoped>\n",
              "    .dataframe tbody tr th:only-of-type {\n",
              "        vertical-align: middle;\n",
              "    }\n",
              "\n",
              "    .dataframe tbody tr th {\n",
              "        vertical-align: top;\n",
              "    }\n",
              "\n",
              "    .dataframe thead th {\n",
              "        text-align: right;\n",
              "    }\n",
              "</style>\n",
              "<table border=\"1\" class=\"dataframe\">\n",
              "  <thead>\n",
              "    <tr style=\"text-align: right;\">\n",
              "      <th></th>\n",
              "      <th>Quantity</th>\n",
              "    </tr>\n",
              "    <tr>\n",
              "      <th>InvoiceNo</th>\n",
              "      <th></th>\n",
              "    </tr>\n",
              "  </thead>\n",
              "  <tbody>\n",
              "    <tr>\n",
              "      <th>0</th>\n",
              "      <td>34</td>\n",
              "    </tr>\n",
              "    <tr>\n",
              "      <th>1</th>\n",
              "      <td>6</td>\n",
              "    </tr>\n",
              "    <tr>\n",
              "      <th>2</th>\n",
              "      <td>74</td>\n",
              "    </tr>\n",
              "    <tr>\n",
              "      <th>3</th>\n",
              "      <td>15</td>\n",
              "    </tr>\n",
              "    <tr>\n",
              "      <th>4</th>\n",
              "      <td>3</td>\n",
              "    </tr>\n",
              "  </tbody>\n",
              "</table>\n",
              "</div>"
            ],
            "text/plain": [
              "           Quantity\n",
              "InvoiceNo          \n",
              "0                34\n",
              "1                 6\n",
              "2                74\n",
              "3                15\n",
              "4                 3"
            ]
          },
          "metadata": {
            "tags": []
          },
          "execution_count": 10
        }
      ]
    },
    {
      "cell_type": "code",
      "metadata": {
        "id": "e0iVgAeG4CQR",
        "colab": {
          "base_uri": "https://localhost:8080/"
        },
        "outputId": "873ac862-5203-4ec1-ad32-bc430f25f34a"
      },
      "source": [
        "train.CustomerID.nunique()"
      ],
      "execution_count": null,
      "outputs": [
        {
          "output_type": "execute_result",
          "data": {
            "text/plain": [
              "4339"
            ]
          },
          "metadata": {
            "tags": []
          },
          "execution_count": 8
        }
      ]
    },
    {
      "cell_type": "code",
      "metadata": {
        "id": "wrnlHREu5YEt"
      },
      "source": [
        ""
      ],
      "execution_count": null,
      "outputs": []
    },
    {
      "cell_type": "code",
      "metadata": {
        "id": "CLKGdmkUS_ge",
        "colab": {
          "base_uri": "https://localhost:8080/"
        },
        "outputId": "1a0fe622-9dd9-41c2-bd2e-f5acf4d146ae"
      },
      "source": [
        "train.UnitPrice.describe()"
      ],
      "execution_count": null,
      "outputs": [
        {
          "output_type": "execute_result",
          "data": {
            "text/plain": [
              "count    284780.000000\n",
              "mean          3.451216\n",
              "std          78.399541\n",
              "min           0.000000\n",
              "25%           1.250000\n",
              "50%           1.950000\n",
              "75%           3.750000\n",
              "max       38970.000000\n",
              "Name: UnitPrice, dtype: float64"
            ]
          },
          "metadata": {
            "tags": []
          },
          "execution_count": 23
        }
      ]
    },
    {
      "cell_type": "code",
      "metadata": {
        "id": "i2ZBEiyAoB1c",
        "colab": {
          "base_uri": "https://localhost:8080/"
        },
        "outputId": "e0563199-2c5f-4963-a81b-317fd35d5e95"
      },
      "source": [
        "# Different invoice numbers \n",
        "train.InvoiceNo.nunique()"
      ],
      "execution_count": null,
      "outputs": [
        {
          "output_type": "execute_result",
          "data": {
            "text/plain": [
              "20971"
            ]
          },
          "metadata": {
            "tags": []
          },
          "execution_count": 14
        }
      ]
    },
    {
      "cell_type": "code",
      "metadata": {
        "id": "L1RdLpwvo47i",
        "colab": {
          "base_uri": "https://localhost:8080/"
        },
        "outputId": "457a0222-b699-45af-db5c-7f06da944b34"
      },
      "source": [
        "train.InvoiceNo.describe()"
      ],
      "execution_count": null,
      "outputs": [
        {
          "output_type": "execute_result",
          "data": {
            "text/plain": [
              "count    284780.000000\n",
              "mean       9955.394083\n",
              "std        5551.519138\n",
              "min           0.000000\n",
              "25%        5069.000000\n",
              "50%       10310.000000\n",
              "75%       14657.000000\n",
              "max       22188.000000\n",
              "Name: InvoiceNo, dtype: float64"
            ]
          },
          "metadata": {
            "tags": []
          },
          "execution_count": 88
        }
      ]
    },
    {
      "cell_type": "code",
      "metadata": {
        "id": "Bv0xmXNFo44R",
        "colab": {
          "base_uri": "https://localhost:8080/"
        },
        "outputId": "4922f027-7a39-41fc-c471-485ec6350d28"
      },
      "source": [
        "train.StockCode.describe()\n"
      ],
      "execution_count": null,
      "outputs": [
        {
          "output_type": "execute_result",
          "data": {
            "text/plain": [
              "count    284780.000000\n",
              "mean       1573.386807\n",
              "std         843.604991\n",
              "min           0.000000\n",
              "25%         939.000000\n",
              "50%        1521.000000\n",
              "75%        2106.000000\n",
              "max        3683.000000\n",
              "Name: StockCode, dtype: float64"
            ]
          },
          "metadata": {
            "tags": []
          },
          "execution_count": 89
        }
      ]
    },
    {
      "cell_type": "code",
      "metadata": {
        "id": "5VKYqztKoCGG",
        "colab": {
          "base_uri": "https://localhost:8080/",
          "height": 931
        },
        "outputId": "6d2c579c-3864-47a9-d9c0-bac5ed4b1b76"
      },
      "source": [
        "# Common Stock Codes\n",
        "stockcode_counts = train.StockCode.value_counts().sort_values(ascending=False)\n",
        "fig, ax = plt.subplots(2,1,figsize=(20,15))\n",
        "sns.barplot(stockcode_counts.iloc[0:20].index,\n",
        "            stockcode_counts.iloc[0:20].values,\n",
        "            ax = ax[0], palette=\"Oranges_r\")\n",
        "ax[0].set_ylabel(\"Counts\")\n",
        "ax[0].set_xlabel(\"Stockcode\")\n",
        "ax[0].set_title(\"Which stockcodes are most common?\");\n",
        "sns.distplot(np.round(stockcode_counts/train.shape[0]*100,2),\n",
        "             kde=False,\n",
        "             bins=20,\n",
        "             ax=ax[1], color=\"Orange\")\n",
        "ax[1].set_title(\"How seldom are stockcodes?\")\n",
        "ax[1].set_xlabel(\"% of data with this stockcode\")\n",
        "ax[1].set_ylabel(\"Frequency\");\n"
      ],
      "execution_count": null,
      "outputs": [
        {
          "output_type": "stream",
          "text": [
            "/usr/local/lib/python3.6/dist-packages/seaborn/_decorators.py:43: FutureWarning: Pass the following variables as keyword args: x, y. From version 0.12, the only valid positional argument will be `data`, and passing other arguments without an explicit keyword will result in an error or misinterpretation.\n",
            "  FutureWarning\n",
            "/usr/local/lib/python3.6/dist-packages/seaborn/distributions.py:2551: FutureWarning: `distplot` is a deprecated function and will be removed in a future version. Please adapt your code to use either `displot` (a figure-level function with similar flexibility) or `histplot` (an axes-level function for histograms).\n",
            "  warnings.warn(msg, FutureWarning)\n"
          ],
          "name": "stderr"
        },
        {
          "output_type": "display_data",
          "data": {
            "image/png": "[encoded data removed]",
            "text/plain": [
              "<Figure size 1440x1080 with 2 Axes>"
            ]
          },
          "metadata": {
            "tags": [],
            "needs_background": "light"
          }
        }
      ]
    },
    {
      "cell_type": "code",
      "metadata": {
        "id": "Q4uTW7N7rOxc",
        "colab": {
          "base_uri": "https://localhost:8080/"
        },
        "outputId": "c4aef027-b4f2-4e35-fece-789b2287bb94"
      },
      "source": [
        "train.Description.nunique()\n"
      ],
      "execution_count": null,
      "outputs": [
        {
          "output_type": "execute_result",
          "data": {
            "text/plain": [
              "3819"
            ]
          },
          "metadata": {
            "tags": []
          },
          "execution_count": 260
        }
      ]
    },
    {
      "cell_type": "code",
      "metadata": {
        "id": "AZS3mlA0LhNg",
        "colab": {
          "base_uri": "https://localhost:8080/"
        },
        "outputId": "530ae7a0-d7ef-45b6-9ab5-accf77ceda21"
      },
      "source": [
        "train.Description.describe()\n"
      ],
      "execution_count": null,
      "outputs": [
        {
          "output_type": "execute_result",
          "data": {
            "text/plain": [
              "count    284780.000000\n",
              "mean       2023.955573\n",
              "std        1089.812078\n",
              "min           0.000000\n",
              "25%        1141.000000\n",
              "50%        1987.000000\n",
              "75%        2945.000000\n",
              "max        3895.000000\n",
              "Name: Description, dtype: float64"
            ]
          },
          "metadata": {
            "tags": []
          },
          "execution_count": 90
        }
      ]
    },
    {
      "cell_type": "code",
      "metadata": {
        "id": "yHgIpOnmrPAm",
        "colab": {
          "base_uri": "https://localhost:8080/",
          "height": 386
        },
        "outputId": "e156db9e-cc1c-4eef-ddff-f384113a85f6"
      },
      "source": [
        "description_counts = train.Description.value_counts().sort_values(ascending=False).iloc[0:30]\n",
        "plt.figure(figsize=(20,5))\n",
        "sns.barplot(description_counts.index, description_counts.values, palette=\"Purples_r\")\n",
        "plt.ylabel(\"Counts\")\n",
        "plt.title(\"Which product descriptions are most common?\");\n",
        "plt.xticks(rotation=90);"
      ],
      "execution_count": null,
      "outputs": [
        {
          "output_type": "stream",
          "text": [
            "/usr/local/lib/python3.6/dist-packages/seaborn/_decorators.py:43: FutureWarning: Pass the following variables as keyword args: x, y. From version 0.12, the only valid positional argument will be `data`, and passing other arguments without an explicit keyword will result in an error or misinterpretation.\n",
            "  FutureWarning\n"
          ],
          "name": "stderr"
        },
        {
          "output_type": "display_data",
          "data": {
            "image/png": "[encoded data removed]",
            "text/plain": [
              "<Figure size 1440x360 with 1 Axes>"
            ]
          },
          "metadata": {
            "tags": [],
            "needs_background": "light"
          }
        }
      ]
    },
    {
      "cell_type": "code",
      "metadata": {
        "id": "pVuiJJE5sFcK",
        "colab": {
          "base_uri": "https://localhost:8080/"
        },
        "outputId": "c74cad31-c0f6-44dd-a050-33d07aa0c399"
      },
      "source": [
        "train.CustomerID.nunique()\n"
      ],
      "execution_count": null,
      "outputs": [
        {
          "output_type": "execute_result",
          "data": {
            "text/plain": [
              "4339"
            ]
          },
          "metadata": {
            "tags": []
          },
          "execution_count": 91
        }
      ]
    },
    {
      "cell_type": "code",
      "metadata": {
        "id": "NAu_Qj2NLqVx",
        "colab": {
          "base_uri": "https://localhost:8080/"
        },
        "outputId": "6ce8b83c-f085-4152-beea-01e684d45599"
      },
      "source": [
        "train.CustomerID.describe()\n"
      ],
      "execution_count": null,
      "outputs": [
        {
          "output_type": "execute_result",
          "data": {
            "text/plain": [
              "count    284780.000000\n",
              "mean      15288.224278\n",
              "std        1714.336529\n",
              "min       12346.000000\n",
              "25%       13953.000000\n",
              "50%       15152.000000\n",
              "75%       16794.000000\n",
              "max       18287.000000\n",
              "Name: CustomerID, dtype: float64"
            ]
          },
          "metadata": {
            "tags": []
          },
          "execution_count": 92
        }
      ]
    },
    {
      "cell_type": "code",
      "metadata": {
        "id": "vjL9IyIYsFZF",
        "colab": {
          "base_uri": "https://localhost:8080/",
          "height": 385
        },
        "outputId": "1ba4d036-08ff-4c37-b2dd-abad50811673"
      },
      "source": [
        "customer_counts = train.CustomerID.value_counts().sort_values(ascending=False).iloc[0:20] \n",
        "plt.figure(figsize=(20,5))\n",
        "sns.barplot(customer_counts.index, customer_counts.values, order=customer_counts.index)\n",
        "plt.ylabel(\"Counts\")\n",
        "plt.xlabel(\"CustomerID\")\n",
        "plt.title(\"Which customers are most common?\");\n",
        "#plt.xticks(rotation=90);"
      ],
      "execution_count": null,
      "outputs": [
        {
          "output_type": "stream",
          "text": [
            "/usr/local/lib/python3.6/dist-packages/seaborn/_decorators.py:43: FutureWarning: Pass the following variables as keyword args: x, y. From version 0.12, the only valid positional argument will be `data`, and passing other arguments without an explicit keyword will result in an error or misinterpretation.\n",
            "  FutureWarning\n"
          ],
          "name": "stderr"
        },
        {
          "output_type": "display_data",
          "data": {
            "image/png": "[encoded data removed]",
            "text/plain": [
              "<Figure size 1440x360 with 1 Axes>"
            ]
          },
          "metadata": {
            "tags": [],
            "needs_background": "light"
          }
        }
      ]
    },
    {
      "cell_type": "code",
      "metadata": {
        "id": "WjP9evPPvCcl",
        "colab": {
          "base_uri": "https://localhost:8080/"
        },
        "outputId": "82e2bb92-e02b-433b-e7fa-8a7576f8cc29"
      },
      "source": [
        "train.UnitPrice.describe()"
      ],
      "execution_count": null,
      "outputs": [
        {
          "output_type": "execute_result",
          "data": {
            "text/plain": [
              "count    284780.000000\n",
              "mean          3.451216\n",
              "std          78.399541\n",
              "min           0.000000\n",
              "25%           1.250000\n",
              "50%           1.950000\n",
              "75%           3.750000\n",
              "max       38970.000000\n",
              "Name: UnitPrice, dtype: float64"
            ]
          },
          "metadata": {
            "tags": []
          },
          "execution_count": 25
        }
      ]
    },
    {
      "cell_type": "code",
      "metadata": {
        "id": "0cOIfSX4vCPg",
        "colab": {
          "base_uri": "https://localhost:8080/",
          "height": 356
        },
        "outputId": "43a236d5-6f60-4f5d-cba6-a2b6b687a492"
      },
      "source": [
        "train.loc[train.Quantity < 0].head()"
      ],
      "execution_count": null,
      "outputs": [
        {
          "output_type": "execute_result",
          "data": {
            "text/html": [
              "<div>\n",
              "<style scoped>\n",
              "    .dataframe tbody tr th:only-of-type {\n",
              "        vertical-align: middle;\n",
              "    }\n",
              "\n",
              "    .dataframe tbody tr th {\n",
              "        vertical-align: top;\n",
              "    }\n",
              "\n",
              "    .dataframe thead th {\n",
              "        text-align: right;\n",
              "    }\n",
              "</style>\n",
              "<table border=\"1\" class=\"dataframe\">\n",
              "  <thead>\n",
              "    <tr style=\"text-align: right;\">\n",
              "      <th></th>\n",
              "      <th>InvoiceNo</th>\n",
              "      <th>StockCode</th>\n",
              "      <th>Description</th>\n",
              "      <th>Quantity</th>\n",
              "      <th>InvoiceDate</th>\n",
              "      <th>UnitPrice</th>\n",
              "      <th>CustomerID</th>\n",
              "      <th>Country</th>\n",
              "      <th>month</th>\n",
              "      <th>day</th>\n",
              "      <th>year</th>\n",
              "      <th>quarter</th>\n",
              "      <th>day of the week</th>\n",
              "      <th>dayofweek_name</th>\n",
              "      <th>is_weekend</th>\n",
              "      <th>week_of_the_year</th>\n",
              "      <th>Dayofyear</th>\n",
              "      <th>hour</th>\n",
              "      <th>minute</th>\n",
              "      <th>Quantity_per_Stock</th>\n",
              "      <th>Quantity_per_invoice</th>\n",
              "      <th>Unique_customers_per_stock</th>\n",
              "      <th>transactions_per_stock</th>\n",
              "      <th>35</th>\n",
              "      <th>quant</th>\n",
              "    </tr>\n",
              "  </thead>\n",
              "  <tbody>\n",
              "    <tr>\n",
              "      <th>20</th>\n",
              "      <td>20652</td>\n",
              "      <td>3131</td>\n",
              "      <td>1576</td>\n",
              "      <td>-36</td>\n",
              "      <td>2011-07-26 10:15:00</td>\n",
              "      <td>1.06</td>\n",
              "      <td>12431.0</td>\n",
              "      <td>0</td>\n",
              "      <td>7</td>\n",
              "      <td>26</td>\n",
              "      <td>2011</td>\n",
              "      <td>3</td>\n",
              "      <td>1</td>\n",
              "      <td>Tuesday</td>\n",
              "      <td>0</td>\n",
              "      <td>30</td>\n",
              "      <td>207</td>\n",
              "      <td>10</td>\n",
              "      <td>10:15:00</td>\n",
              "      <td>7440</td>\n",
              "      <td>-36</td>\n",
              "      <td>240.0</td>\n",
              "      <td>419</td>\n",
              "      <td>0</td>\n",
              "      <td>-1</td>\n",
              "    </tr>\n",
              "    <tr>\n",
              "      <th>152</th>\n",
              "      <td>22083</td>\n",
              "      <td>2224</td>\n",
              "      <td>11</td>\n",
              "      <td>-1</td>\n",
              "      <td>2011-12-01 10:41:00</td>\n",
              "      <td>4.95</td>\n",
              "      <td>15993.0</td>\n",
              "      <td>35</td>\n",
              "      <td>12</td>\n",
              "      <td>1</td>\n",
              "      <td>2011</td>\n",
              "      <td>4</td>\n",
              "      <td>3</td>\n",
              "      <td>Thursday</td>\n",
              "      <td>0</td>\n",
              "      <td>48</td>\n",
              "      <td>335</td>\n",
              "      <td>10</td>\n",
              "      <td>10:41:00</td>\n",
              "      <td>173</td>\n",
              "      <td>-3</td>\n",
              "      <td>29.0</td>\n",
              "      <td>32</td>\n",
              "      <td>1</td>\n",
              "      <td>-1</td>\n",
              "    </tr>\n",
              "    <tr>\n",
              "      <th>157</th>\n",
              "      <td>19796</td>\n",
              "      <td>1521</td>\n",
              "      <td>2679</td>\n",
              "      <td>-6</td>\n",
              "      <td>2011-04-26 11:19:00</td>\n",
              "      <td>2.95</td>\n",
              "      <td>12705.0</td>\n",
              "      <td>14</td>\n",
              "      <td>4</td>\n",
              "      <td>26</td>\n",
              "      <td>2011</td>\n",
              "      <td>2</td>\n",
              "      <td>1</td>\n",
              "      <td>Tuesday</td>\n",
              "      <td>0</td>\n",
              "      <td>17</td>\n",
              "      <td>116</td>\n",
              "      <td>11</td>\n",
              "      <td>11:19:00</td>\n",
              "      <td>1780</td>\n",
              "      <td>-14</td>\n",
              "      <td>185.0</td>\n",
              "      <td>327</td>\n",
              "      <td>0</td>\n",
              "      <td>-1</td>\n",
              "    </tr>\n",
              "    <tr>\n",
              "      <th>186</th>\n",
              "      <td>21750</td>\n",
              "      <td>2166</td>\n",
              "      <td>1760</td>\n",
              "      <td>-100</td>\n",
              "      <td>2011-11-09 11:41:00</td>\n",
              "      <td>1.79</td>\n",
              "      <td>17511.0</td>\n",
              "      <td>35</td>\n",
              "      <td>11</td>\n",
              "      <td>9</td>\n",
              "      <td>2011</td>\n",
              "      <td>4</td>\n",
              "      <td>2</td>\n",
              "      <td>Wednesday</td>\n",
              "      <td>0</td>\n",
              "      <td>45</td>\n",
              "      <td>313</td>\n",
              "      <td>11</td>\n",
              "      <td>11:41:00</td>\n",
              "      <td>6066</td>\n",
              "      <td>-1000</td>\n",
              "      <td>290.0</td>\n",
              "      <td>400</td>\n",
              "      <td>1</td>\n",
              "      <td>-1</td>\n",
              "    </tr>\n",
              "    <tr>\n",
              "      <th>196</th>\n",
              "      <td>21369</td>\n",
              "      <td>1014</td>\n",
              "      <td>2934</td>\n",
              "      <td>-17</td>\n",
              "      <td>2011-10-06 20:08:00</td>\n",
              "      <td>4.25</td>\n",
              "      <td>16839.0</td>\n",
              "      <td>35</td>\n",
              "      <td>10</td>\n",
              "      <td>6</td>\n",
              "      <td>2011</td>\n",
              "      <td>4</td>\n",
              "      <td>3</td>\n",
              "      <td>Thursday</td>\n",
              "      <td>0</td>\n",
              "      <td>40</td>\n",
              "      <td>279</td>\n",
              "      <td>20</td>\n",
              "      <td>20:08:00</td>\n",
              "      <td>3037</td>\n",
              "      <td>-394</td>\n",
              "      <td>327.0</td>\n",
              "      <td>454</td>\n",
              "      <td>1</td>\n",
              "      <td>-1</td>\n",
              "    </tr>\n",
              "  </tbody>\n",
              "</table>\n",
              "</div>"
            ],
            "text/plain": [
              "     InvoiceNo  StockCode  Description  ...  transactions_per_stock 35  quant\n",
              "20       20652       3131         1576  ...                     419  0     -1\n",
              "152      22083       2224           11  ...                      32  1     -1\n",
              "157      19796       1521         2679  ...                     327  0     -1\n",
              "186      21750       2166         1760  ...                     400  1     -1\n",
              "196      21369       1014         2934  ...                     454  1     -1\n",
              "\n",
              "[5 rows x 25 columns]"
            ]
          },
          "metadata": {
            "tags": []
          },
          "execution_count": 68
        }
      ]
    },
    {
      "cell_type": "code",
      "metadata": {
        "id": "ILovHV4FtBzv",
        "colab": {
          "base_uri": "https://localhost:8080/"
        },
        "outputId": "650c48c3-aeaf-45fb-91f9-eb214a1d51dd"
      },
      "source": [
        "train.loc[train.UnitPrice == 0].sort_values(by=\"Quantity\", ascending=False).shape"
      ],
      "execution_count": null,
      "outputs": [
        {
          "output_type": "execute_result",
          "data": {
            "text/plain": [
              "(34, 18)"
            ]
          },
          "metadata": {
            "tags": []
          },
          "execution_count": 29
        }
      ]
    },
    {
      "cell_type": "code",
      "metadata": {
        "id": "rAOIC826AZmk",
        "colab": {
          "base_uri": "https://localhost:8080/"
        },
        "outputId": "1f002d80-658b-4006-d12f-20bdb3576660"
      },
      "source": [
        "test.loc[test.UnitPrice == 0].sort_values(by=\"Quantity\", ascending=False).shape"
      ],
      "execution_count": null,
      "outputs": [
        {
          "output_type": "execute_result",
          "data": {
            "text/plain": [
              "(10, 7)"
            ]
          },
          "metadata": {
            "tags": []
          },
          "execution_count": 30
        }
      ]
    },
    {
      "cell_type": "code",
      "metadata": {
        "id": "b0adUrCovCNE"
      },
      "source": [
        "train1 = train.loc[train.UnitPrice > 0].copy()"
      ],
      "execution_count": null,
      "outputs": []
    },
    {
      "cell_type": "code",
      "metadata": {
        "id": "qsp1QztzRVHA",
        "colab": {
          "base_uri": "https://localhost:8080/",
          "height": 593
        },
        "outputId": "cbe25ede-ca22-4755-8189-21676ffb0c04"
      },
      "source": [
        "train1.loc[train1.quantity_per_customer == 0]"
      ],
      "execution_count": null,
      "outputs": [
        {
          "output_type": "execute_result",
          "data": {
            "text/html": [
              "<div>\n",
              "<style scoped>\n",
              "    .dataframe tbody tr th:only-of-type {\n",
              "        vertical-align: middle;\n",
              "    }\n",
              "\n",
              "    .dataframe tbody tr th {\n",
              "        vertical-align: top;\n",
              "    }\n",
              "\n",
              "    .dataframe thead th {\n",
              "        text-align: right;\n",
              "    }\n",
              "</style>\n",
              "<table border=\"1\" class=\"dataframe\">\n",
              "  <thead>\n",
              "    <tr style=\"text-align: right;\">\n",
              "      <th></th>\n",
              "      <th>InvoiceNo</th>\n",
              "      <th>StockCode</th>\n",
              "      <th>Description</th>\n",
              "      <th>Quantity</th>\n",
              "      <th>InvoiceDate</th>\n",
              "      <th>UnitPrice</th>\n",
              "      <th>CustomerID</th>\n",
              "      <th>Country</th>\n",
              "      <th>month</th>\n",
              "      <th>day</th>\n",
              "      <th>year</th>\n",
              "      <th>quarter</th>\n",
              "      <th>day of the week</th>\n",
              "      <th>dayofweek_name</th>\n",
              "      <th>is_weekend</th>\n",
              "      <th>week_of_the_year</th>\n",
              "      <th>Dayofyear</th>\n",
              "      <th>transactions_per_customer</th>\n",
              "      <th>stocks_per_customer</th>\n",
              "      <th>quantity_per_customer</th>\n",
              "      <th>total_transactions_per_customer</th>\n",
              "      <th>total_weeks_per_customer</th>\n",
              "      <th>Unique_weeks_per_customer</th>\n",
              "      <th>Unique_days_per_customer</th>\n",
              "      <th>total_days_per_customer</th>\n",
              "    </tr>\n",
              "  </thead>\n",
              "  <tbody>\n",
              "    <tr>\n",
              "      <th>4127</th>\n",
              "      <td>20238</td>\n",
              "      <td>1366</td>\n",
              "      <td>2407</td>\n",
              "      <td>-60</td>\n",
              "      <td>2011-06-10 15:39:00</td>\n",
              "      <td>4.95</td>\n",
              "      <td>15098.0</td>\n",
              "      <td>35</td>\n",
              "      <td>6</td>\n",
              "      <td>10</td>\n",
              "      <td>2011</td>\n",
              "      <td>2</td>\n",
              "      <td>4</td>\n",
              "      <td>Friday</td>\n",
              "      <td>0</td>\n",
              "      <td>23</td>\n",
              "      <td>161</td>\n",
              "      <td>4</td>\n",
              "      <td>2</td>\n",
              "      <td>0</td>\n",
              "      <td>4</td>\n",
              "      <td>4</td>\n",
              "      <td>1</td>\n",
              "      <td>1</td>\n",
              "      <td>4</td>\n",
              "    </tr>\n",
              "    <tr>\n",
              "      <th>52291</th>\n",
              "      <td>21339</td>\n",
              "      <td>1247</td>\n",
              "      <td>139</td>\n",
              "      <td>-1</td>\n",
              "      <td>2011-10-06 18:34:00</td>\n",
              "      <td>4.25</td>\n",
              "      <td>14792.0</td>\n",
              "      <td>35</td>\n",
              "      <td>10</td>\n",
              "      <td>6</td>\n",
              "      <td>2011</td>\n",
              "      <td>4</td>\n",
              "      <td>3</td>\n",
              "      <td>Thursday</td>\n",
              "      <td>0</td>\n",
              "      <td>40</td>\n",
              "      <td>279</td>\n",
              "      <td>2</td>\n",
              "      <td>2</td>\n",
              "      <td>0</td>\n",
              "      <td>4</td>\n",
              "      <td>4</td>\n",
              "      <td>1</td>\n",
              "      <td>2</td>\n",
              "      <td>4</td>\n",
              "    </tr>\n",
              "    <tr>\n",
              "      <th>81197</th>\n",
              "      <td>7927</td>\n",
              "      <td>1366</td>\n",
              "      <td>2405</td>\n",
              "      <td>1</td>\n",
              "      <td>2011-06-10 15:33:00</td>\n",
              "      <td>649.50</td>\n",
              "      <td>15098.0</td>\n",
              "      <td>35</td>\n",
              "      <td>6</td>\n",
              "      <td>10</td>\n",
              "      <td>2011</td>\n",
              "      <td>2</td>\n",
              "      <td>4</td>\n",
              "      <td>Friday</td>\n",
              "      <td>0</td>\n",
              "      <td>23</td>\n",
              "      <td>161</td>\n",
              "      <td>4</td>\n",
              "      <td>2</td>\n",
              "      <td>0</td>\n",
              "      <td>4</td>\n",
              "      <td>4</td>\n",
              "      <td>1</td>\n",
              "      <td>1</td>\n",
              "      <td>4</td>\n",
              "    </tr>\n",
              "    <tr>\n",
              "      <th>126817</th>\n",
              "      <td>7924</td>\n",
              "      <td>1366</td>\n",
              "      <td>2407</td>\n",
              "      <td>60</td>\n",
              "      <td>2011-06-10 15:22:00</td>\n",
              "      <td>4.95</td>\n",
              "      <td>15098.0</td>\n",
              "      <td>35</td>\n",
              "      <td>6</td>\n",
              "      <td>10</td>\n",
              "      <td>2011</td>\n",
              "      <td>2</td>\n",
              "      <td>4</td>\n",
              "      <td>Friday</td>\n",
              "      <td>0</td>\n",
              "      <td>23</td>\n",
              "      <td>161</td>\n",
              "      <td>4</td>\n",
              "      <td>2</td>\n",
              "      <td>0</td>\n",
              "      <td>4</td>\n",
              "      <td>4</td>\n",
              "      <td>1</td>\n",
              "      <td>1</td>\n",
              "      <td>4</td>\n",
              "    </tr>\n",
              "    <tr>\n",
              "      <th>140723</th>\n",
              "      <td>20237</td>\n",
              "      <td>3681</td>\n",
              "      <td>2140</td>\n",
              "      <td>-1</td>\n",
              "      <td>2011-06-10 15:31:00</td>\n",
              "      <td>38970.00</td>\n",
              "      <td>15098.0</td>\n",
              "      <td>35</td>\n",
              "      <td>6</td>\n",
              "      <td>10</td>\n",
              "      <td>2011</td>\n",
              "      <td>2</td>\n",
              "      <td>4</td>\n",
              "      <td>Friday</td>\n",
              "      <td>0</td>\n",
              "      <td>23</td>\n",
              "      <td>161</td>\n",
              "      <td>4</td>\n",
              "      <td>2</td>\n",
              "      <td>0</td>\n",
              "      <td>4</td>\n",
              "      <td>4</td>\n",
              "      <td>1</td>\n",
              "      <td>1</td>\n",
              "      <td>4</td>\n",
              "    </tr>\n",
              "    <tr>\n",
              "      <th>141379</th>\n",
              "      <td>1909</td>\n",
              "      <td>2001</td>\n",
              "      <td>2002</td>\n",
              "      <td>74215</td>\n",
              "      <td>2011-01-18 10:01:00</td>\n",
              "      <td>1.04</td>\n",
              "      <td>12346.0</td>\n",
              "      <td>35</td>\n",
              "      <td>1</td>\n",
              "      <td>18</td>\n",
              "      <td>2011</td>\n",
              "      <td>1</td>\n",
              "      <td>1</td>\n",
              "      <td>Tuesday</td>\n",
              "      <td>0</td>\n",
              "      <td>3</td>\n",
              "      <td>18</td>\n",
              "      <td>2</td>\n",
              "      <td>1</td>\n",
              "      <td>0</td>\n",
              "      <td>2</td>\n",
              "      <td>2</td>\n",
              "      <td>1</td>\n",
              "      <td>1</td>\n",
              "      <td>2</td>\n",
              "    </tr>\n",
              "    <tr>\n",
              "      <th>161153</th>\n",
              "      <td>21339</td>\n",
              "      <td>2617</td>\n",
              "      <td>632</td>\n",
              "      <td>-1</td>\n",
              "      <td>2011-10-06 18:34:00</td>\n",
              "      <td>1.95</td>\n",
              "      <td>14792.0</td>\n",
              "      <td>35</td>\n",
              "      <td>10</td>\n",
              "      <td>6</td>\n",
              "      <td>2011</td>\n",
              "      <td>4</td>\n",
              "      <td>3</td>\n",
              "      <td>Thursday</td>\n",
              "      <td>0</td>\n",
              "      <td>40</td>\n",
              "      <td>279</td>\n",
              "      <td>2</td>\n",
              "      <td>2</td>\n",
              "      <td>0</td>\n",
              "      <td>4</td>\n",
              "      <td>4</td>\n",
              "      <td>1</td>\n",
              "      <td>2</td>\n",
              "      <td>4</td>\n",
              "    </tr>\n",
              "    <tr>\n",
              "      <th>164002</th>\n",
              "      <td>13560</td>\n",
              "      <td>1247</td>\n",
              "      <td>139</td>\n",
              "      <td>1</td>\n",
              "      <td>2011-10-07 09:19:00</td>\n",
              "      <td>4.25</td>\n",
              "      <td>14792.0</td>\n",
              "      <td>35</td>\n",
              "      <td>10</td>\n",
              "      <td>7</td>\n",
              "      <td>2011</td>\n",
              "      <td>4</td>\n",
              "      <td>4</td>\n",
              "      <td>Friday</td>\n",
              "      <td>0</td>\n",
              "      <td>40</td>\n",
              "      <td>280</td>\n",
              "      <td>2</td>\n",
              "      <td>2</td>\n",
              "      <td>0</td>\n",
              "      <td>4</td>\n",
              "      <td>4</td>\n",
              "      <td>1</td>\n",
              "      <td>2</td>\n",
              "      <td>4</td>\n",
              "    </tr>\n",
              "    <tr>\n",
              "      <th>216853</th>\n",
              "      <td>13560</td>\n",
              "      <td>2617</td>\n",
              "      <td>632</td>\n",
              "      <td>1</td>\n",
              "      <td>2011-10-07 09:19:00</td>\n",
              "      <td>1.95</td>\n",
              "      <td>14792.0</td>\n",
              "      <td>35</td>\n",
              "      <td>10</td>\n",
              "      <td>7</td>\n",
              "      <td>2011</td>\n",
              "      <td>4</td>\n",
              "      <td>4</td>\n",
              "      <td>Friday</td>\n",
              "      <td>0</td>\n",
              "      <td>40</td>\n",
              "      <td>280</td>\n",
              "      <td>2</td>\n",
              "      <td>2</td>\n",
              "      <td>0</td>\n",
              "      <td>4</td>\n",
              "      <td>4</td>\n",
              "      <td>1</td>\n",
              "      <td>2</td>\n",
              "      <td>4</td>\n",
              "    </tr>\n",
              "    <tr>\n",
              "      <th>271013</th>\n",
              "      <td>18958</td>\n",
              "      <td>2001</td>\n",
              "      <td>2002</td>\n",
              "      <td>-74215</td>\n",
              "      <td>2011-01-18 10:17:00</td>\n",
              "      <td>1.04</td>\n",
              "      <td>12346.0</td>\n",
              "      <td>35</td>\n",
              "      <td>1</td>\n",
              "      <td>18</td>\n",
              "      <td>2011</td>\n",
              "      <td>1</td>\n",
              "      <td>1</td>\n",
              "      <td>Tuesday</td>\n",
              "      <td>0</td>\n",
              "      <td>3</td>\n",
              "      <td>18</td>\n",
              "      <td>2</td>\n",
              "      <td>1</td>\n",
              "      <td>0</td>\n",
              "      <td>2</td>\n",
              "      <td>2</td>\n",
              "      <td>1</td>\n",
              "      <td>1</td>\n",
              "      <td>2</td>\n",
              "    </tr>\n",
              "  </tbody>\n",
              "</table>\n",
              "</div>"
            ],
            "text/plain": [
              "        InvoiceNo  StockCode  ...  Unique_days_per_customer  total_days_per_customer\n",
              "4127        20238       1366  ...                         1                        4\n",
              "52291       21339       1247  ...                         2                        4\n",
              "81197        7927       1366  ...                         1                        4\n",
              "126817       7924       1366  ...                         1                        4\n",
              "140723      20237       3681  ...                         1                        4\n",
              "141379       1909       2001  ...                         1                        2\n",
              "161153      21339       2617  ...                         2                        4\n",
              "164002      13560       1247  ...                         2                        4\n",
              "216853      13560       2617  ...                         2                        4\n",
              "271013      18958       2001  ...                         1                        2\n",
              "\n",
              "[10 rows x 25 columns]"
            ]
          },
          "metadata": {
            "tags": []
          },
          "execution_count": 65
        }
      ]
    },
    {
      "cell_type": "code",
      "metadata": {
        "id": "tH6xtBnvvCIe",
        "colab": {
          "base_uri": "https://localhost:8080/",
          "height": 370
        },
        "outputId": "2bc9cb97-0bd4-4dde-b1a3-1a3e3df95a8a"
      },
      "source": [
        "fig, ax = plt.subplots(1,2,figsize=(20,5))\n",
        "sns.distplot(train1.UnitPrice, ax=ax[0], kde=False, color=\"red\")\n",
        "sns.distplot(np.log(train1.UnitPrice), ax=ax[1], bins=20, color=\"tomato\", kde=False)\n",
        "ax[1].set_xlabel(\"Log-Unit-Price\");"
      ],
      "execution_count": null,
      "outputs": [
        {
          "output_type": "stream",
          "text": [
            "/usr/local/lib/python3.6/dist-packages/seaborn/distributions.py:2551: FutureWarning: `distplot` is a deprecated function and will be removed in a future version. Please adapt your code to use either `displot` (a figure-level function with similar flexibility) or `histplot` (an axes-level function for histograms).\n",
            "  warnings.warn(msg, FutureWarning)\n"
          ],
          "name": "stderr"
        },
        {
          "output_type": "display_data",
          "data": {
            "image/png": "[encoded data removed]",
            "text/plain": [
              "<Figure size 1440x360 with 2 Axes>"
            ]
          },
          "metadata": {
            "tags": [],
            "needs_background": "light"
          }
        }
      ]
    },
    {
      "cell_type": "code",
      "metadata": {
        "id": "BV946GxuoBxO",
        "colab": {
          "base_uri": "https://localhost:8080/"
        },
        "outputId": "16acba95-aa47-4218-927f-f5588b111416"
      },
      "source": [
        "print(np.exp(-2.53))\n",
        "print(np.exp(3.9))\n"
      ],
      "execution_count": null,
      "outputs": [
        {
          "output_type": "stream",
          "text": [
            "0.07965902028589804\n",
            "49.40244910553017\n"
          ],
          "name": "stdout"
        }
      ]
    },
    {
      "cell_type": "code",
      "metadata": {
        "id": "NB4aQx4045mx",
        "colab": {
          "base_uri": "https://localhost:8080/"
        },
        "outputId": "c0655cce-0be9-4f93-ebfe-1be5d06d7e95"
      },
      "source": [
        "np.quantile(train1.UnitPrice, 0.95)\n"
      ],
      "execution_count": null,
      "outputs": [
        {
          "output_type": "execute_result",
          "data": {
            "text/plain": [
              "8.5"
            ]
          },
          "metadata": {
            "tags": []
          },
          "execution_count": 36
        }
      ]
    },
    {
      "cell_type": "code",
      "metadata": {
        "id": "mm0CelBJ2Qxb"
      },
      "source": [
        "train1 = train1.loc[(train1.UnitPrice > 0.07) & (train1.UnitPrice < 49.402)].copy()"
      ],
      "execution_count": null,
      "outputs": []
    },
    {
      "cell_type": "code",
      "metadata": {
        "id": "NI_XTrVb5Ddc",
        "colab": {
          "base_uri": "https://localhost:8080/",
          "height": 356
        },
        "outputId": "7afad209-4241-4a1f-d151-759370cfbcc9"
      },
      "source": [
        "train1.head()"
      ],
      "execution_count": null,
      "outputs": [
        {
          "output_type": "execute_result",
          "data": {
            "text/html": [
              "<div>\n",
              "<style scoped>\n",
              "    .dataframe tbody tr th:only-of-type {\n",
              "        vertical-align: middle;\n",
              "    }\n",
              "\n",
              "    .dataframe tbody tr th {\n",
              "        vertical-align: top;\n",
              "    }\n",
              "\n",
              "    .dataframe thead th {\n",
              "        text-align: right;\n",
              "    }\n",
              "</style>\n",
              "<table border=\"1\" class=\"dataframe\">\n",
              "  <thead>\n",
              "    <tr style=\"text-align: right;\">\n",
              "      <th></th>\n",
              "      <th>InvoiceNo</th>\n",
              "      <th>StockCode</th>\n",
              "      <th>Description</th>\n",
              "      <th>Quantity</th>\n",
              "      <th>InvoiceDate</th>\n",
              "      <th>UnitPrice</th>\n",
              "      <th>CustomerID</th>\n",
              "      <th>Country</th>\n",
              "      <th>month</th>\n",
              "      <th>day</th>\n",
              "      <th>year</th>\n",
              "      <th>quarter</th>\n",
              "      <th>day of the week</th>\n",
              "      <th>dayofweek_name</th>\n",
              "      <th>is_weekend</th>\n",
              "      <th>week_of_the_year</th>\n",
              "      <th>Dayofyear</th>\n",
              "      <th>transactions_per_customer</th>\n",
              "      <th>stocks_per_customer</th>\n",
              "      <th>quantity_per_customer</th>\n",
              "      <th>total_transactions_per_customer</th>\n",
              "      <th>total_weeks_per_customer</th>\n",
              "      <th>Unique_weeks_per_customer</th>\n",
              "      <th>Unique_days_per_customer</th>\n",
              "      <th>total_days_per_customer</th>\n",
              "    </tr>\n",
              "  </thead>\n",
              "  <tbody>\n",
              "    <tr>\n",
              "      <th>0</th>\n",
              "      <td>6141</td>\n",
              "      <td>1583</td>\n",
              "      <td>144</td>\n",
              "      <td>3</td>\n",
              "      <td>2011-05-06 16:54:00</td>\n",
              "      <td>3.75</td>\n",
              "      <td>14056.0</td>\n",
              "      <td>35</td>\n",
              "      <td>5</td>\n",
              "      <td>6</td>\n",
              "      <td>2011</td>\n",
              "      <td>2</td>\n",
              "      <td>4</td>\n",
              "      <td>Friday</td>\n",
              "      <td>0</td>\n",
              "      <td>18</td>\n",
              "      <td>126</td>\n",
              "      <td>28</td>\n",
              "      <td>301</td>\n",
              "      <td>2970</td>\n",
              "      <td>791</td>\n",
              "      <td>791</td>\n",
              "      <td>22</td>\n",
              "      <td>24</td>\n",
              "      <td>791</td>\n",
              "    </tr>\n",
              "    <tr>\n",
              "      <th>1</th>\n",
              "      <td>6349</td>\n",
              "      <td>1300</td>\n",
              "      <td>3682</td>\n",
              "      <td>6</td>\n",
              "      <td>2011-05-11 07:35:00</td>\n",
              "      <td>1.95</td>\n",
              "      <td>13098.0</td>\n",
              "      <td>35</td>\n",
              "      <td>5</td>\n",
              "      <td>11</td>\n",
              "      <td>2011</td>\n",
              "      <td>2</td>\n",
              "      <td>2</td>\n",
              "      <td>Wednesday</td>\n",
              "      <td>0</td>\n",
              "      <td>19</td>\n",
              "      <td>131</td>\n",
              "      <td>38</td>\n",
              "      <td>146</td>\n",
              "      <td>9960</td>\n",
              "      <td>394</td>\n",
              "      <td>394</td>\n",
              "      <td>25</td>\n",
              "      <td>33</td>\n",
              "      <td>394</td>\n",
              "    </tr>\n",
              "    <tr>\n",
              "      <th>2</th>\n",
              "      <td>16783</td>\n",
              "      <td>2178</td>\n",
              "      <td>1939</td>\n",
              "      <td>4</td>\n",
              "      <td>2011-11-20 13:20:00</td>\n",
              "      <td>5.95</td>\n",
              "      <td>15044.0</td>\n",
              "      <td>35</td>\n",
              "      <td>11</td>\n",
              "      <td>20</td>\n",
              "      <td>2011</td>\n",
              "      <td>4</td>\n",
              "      <td>6</td>\n",
              "      <td>Sunday</td>\n",
              "      <td>1</td>\n",
              "      <td>46</td>\n",
              "      <td>324</td>\n",
              "      <td>20</td>\n",
              "      <td>170</td>\n",
              "      <td>1787</td>\n",
              "      <td>307</td>\n",
              "      <td>307</td>\n",
              "      <td>15</td>\n",
              "      <td>15</td>\n",
              "      <td>307</td>\n",
              "    </tr>\n",
              "    <tr>\n",
              "      <th>3</th>\n",
              "      <td>16971</td>\n",
              "      <td>2115</td>\n",
              "      <td>2983</td>\n",
              "      <td>1</td>\n",
              "      <td>2011-11-22 12:07:00</td>\n",
              "      <td>0.83</td>\n",
              "      <td>15525.0</td>\n",
              "      <td>35</td>\n",
              "      <td>11</td>\n",
              "      <td>22</td>\n",
              "      <td>2011</td>\n",
              "      <td>4</td>\n",
              "      <td>1</td>\n",
              "      <td>Tuesday</td>\n",
              "      <td>0</td>\n",
              "      <td>47</td>\n",
              "      <td>326</td>\n",
              "      <td>4</td>\n",
              "      <td>105</td>\n",
              "      <td>323</td>\n",
              "      <td>128</td>\n",
              "      <td>128</td>\n",
              "      <td>3</td>\n",
              "      <td>3</td>\n",
              "      <td>128</td>\n",
              "    </tr>\n",
              "    <tr>\n",
              "      <th>4</th>\n",
              "      <td>6080</td>\n",
              "      <td>1210</td>\n",
              "      <td>2886</td>\n",
              "      <td>12</td>\n",
              "      <td>2011-05-06 09:00:00</td>\n",
              "      <td>1.65</td>\n",
              "      <td>13952.0</td>\n",
              "      <td>35</td>\n",
              "      <td>5</td>\n",
              "      <td>6</td>\n",
              "      <td>2011</td>\n",
              "      <td>2</td>\n",
              "      <td>4</td>\n",
              "      <td>Friday</td>\n",
              "      <td>0</td>\n",
              "      <td>18</td>\n",
              "      <td>126</td>\n",
              "      <td>2</td>\n",
              "      <td>86</td>\n",
              "      <td>1042</td>\n",
              "      <td>95</td>\n",
              "      <td>95</td>\n",
              "      <td>2</td>\n",
              "      <td>2</td>\n",
              "      <td>95</td>\n",
              "    </tr>\n",
              "  </tbody>\n",
              "</table>\n",
              "</div>"
            ],
            "text/plain": [
              "   InvoiceNo  StockCode  ...  Unique_days_per_customer  total_days_per_customer\n",
              "0       6141       1583  ...                        24                      791\n",
              "1       6349       1300  ...                        33                      394\n",
              "2      16783       2178  ...                        15                      307\n",
              "3      16971       2115  ...                         3                      128\n",
              "4       6080       1210  ...                         2                       95\n",
              "\n",
              "[5 rows x 25 columns]"
            ]
          },
          "metadata": {
            "tags": []
          },
          "execution_count": 69
        }
      ]
    },
    {
      "cell_type": "code",
      "metadata": {
        "id": "qQfOylXN2Q_R",
        "colab": {
          "base_uri": "https://localhost:8080/"
        },
        "outputId": "771f71a5-741b-4013-bbde-6f297109978f"
      },
      "source": [
        "train.Quantity.describe()"
      ],
      "execution_count": null,
      "outputs": [
        {
          "output_type": "execute_result",
          "data": {
            "text/plain": [
              "count    284780.000000\n",
              "mean         12.028468\n",
              "std         295.111588\n",
              "min      -80995.000000\n",
              "25%           2.000000\n",
              "50%           5.000000\n",
              "75%          12.000000\n",
              "max       80995.000000\n",
              "Name: Quantity, dtype: float64"
            ]
          },
          "metadata": {
            "tags": []
          },
          "execution_count": 26
        }
      ]
    },
    {
      "cell_type": "code",
      "metadata": {
        "id": "e4mWek5JhTfu",
        "colab": {
          "base_uri": "https://localhost:8080/"
        },
        "outputId": "e94946e0-a2d1-4d65-f0de-b3e1fb1140b5"
      },
      "source": [
        "train.loc[train.Quantity < 0].shape"
      ],
      "execution_count": null,
      "outputs": [
        {
          "output_type": "execute_result",
          "data": {
            "text/plain": [
              "(6167, 18)"
            ]
          },
          "metadata": {
            "tags": []
          },
          "execution_count": 200
        }
      ]
    },
    {
      "cell_type": "code",
      "metadata": {
        "id": "xDvcdcXhHPfb"
      },
      "source": [
        "train = train.loc[train.Quantity > 0]"
      ],
      "execution_count": null,
      "outputs": []
    },
    {
      "cell_type": "code",
      "metadata": {
        "id": "cYCZjSxahwtr",
        "colab": {
          "base_uri": "https://localhost:8080/"
        },
        "outputId": "42a1460b-9d47-402d-d6c6-86e187e12e72"
      },
      "source": [
        "test.loc[test.Quantity < 0].shape"
      ],
      "execution_count": null,
      "outputs": [
        {
          "output_type": "execute_result",
          "data": {
            "text/plain": [
              "(2738, 7)"
            ]
          },
          "metadata": {
            "tags": []
          },
          "execution_count": 198
        }
      ]
    },
    {
      "cell_type": "code",
      "metadata": {
        "id": "zcR-qLkRi5m6"
      },
      "source": [
        "train[\"quant\"] = np.where(train.Quantity >0, 1, -1)"
      ],
      "execution_count": null,
      "outputs": []
    },
    {
      "cell_type": "code",
      "metadata": {
        "id": "0gi2JSK1i6Rj",
        "colab": {
          "base_uri": "https://localhost:8080/",
          "height": 270
        },
        "outputId": "90a0b173-1d6a-46da-fa82-1ea3b62f41a2"
      },
      "source": [
        "train1_combo.head()"
      ],
      "execution_count": null,
      "outputs": [
        {
          "output_type": "execute_result",
          "data": {
            "text/html": [
              "<div>\n",
              "<style scoped>\n",
              "    .dataframe tbody tr th:only-of-type {\n",
              "        vertical-align: middle;\n",
              "    }\n",
              "\n",
              "    .dataframe tbody tr th {\n",
              "        vertical-align: top;\n",
              "    }\n",
              "\n",
              "    .dataframe thead th {\n",
              "        text-align: right;\n",
              "    }\n",
              "</style>\n",
              "<table border=\"1\" class=\"dataframe\">\n",
              "  <thead>\n",
              "    <tr style=\"text-align: right;\">\n",
              "      <th></th>\n",
              "      <th>InvoiceNo</th>\n",
              "      <th>StockCode</th>\n",
              "      <th>Description</th>\n",
              "      <th>Quantity</th>\n",
              "      <th>CustomerID</th>\n",
              "      <th>month</th>\n",
              "      <th>day</th>\n",
              "      <th>year</th>\n",
              "      <th>quarter</th>\n",
              "      <th>day of the week</th>\n",
              "      <th>is_weekend</th>\n",
              "      <th>week_of_the_year</th>\n",
              "      <th>Dayofyear</th>\n",
              "      <th>Country__0</th>\n",
              "      <th>Country__1</th>\n",
              "      <th>Country__2</th>\n",
              "      <th>Country__3</th>\n",
              "      <th>Country__4</th>\n",
              "      <th>Country__5</th>\n",
              "      <th>Country__6</th>\n",
              "      <th>Country__7</th>\n",
              "      <th>Country__8</th>\n",
              "      <th>Country__9</th>\n",
              "      <th>Country__10</th>\n",
              "      <th>Country__11</th>\n",
              "      <th>Country__12</th>\n",
              "      <th>Country__13</th>\n",
              "      <th>Country__14</th>\n",
              "      <th>Country__15</th>\n",
              "      <th>Country__16</th>\n",
              "      <th>Country__17</th>\n",
              "      <th>Country__18</th>\n",
              "      <th>Country__19</th>\n",
              "      <th>Country__20</th>\n",
              "      <th>Country__21</th>\n",
              "      <th>Country__22</th>\n",
              "      <th>Country__23</th>\n",
              "      <th>Country__24</th>\n",
              "      <th>Country__25</th>\n",
              "      <th>Country__26</th>\n",
              "      <th>Country__27</th>\n",
              "      <th>Country__28</th>\n",
              "      <th>Country__29</th>\n",
              "      <th>Country__30</th>\n",
              "      <th>Country__31</th>\n",
              "      <th>Country__32</th>\n",
              "      <th>Country__33</th>\n",
              "      <th>Country__34</th>\n",
              "      <th>Country__35</th>\n",
              "      <th>Country__36</th>\n",
              "      <th>Quantity_per_Stock</th>\n",
              "      <th>Quantity_per_invoice</th>\n",
              "      <th>quant</th>\n",
              "    </tr>\n",
              "  </thead>\n",
              "  <tbody>\n",
              "    <tr>\n",
              "      <th>0</th>\n",
              "      <td>6141</td>\n",
              "      <td>1583</td>\n",
              "      <td>144</td>\n",
              "      <td>3</td>\n",
              "      <td>14056.0</td>\n",
              "      <td>5</td>\n",
              "      <td>6</td>\n",
              "      <td>2011</td>\n",
              "      <td>2</td>\n",
              "      <td>4</td>\n",
              "      <td>0</td>\n",
              "      <td>18</td>\n",
              "      <td>126</td>\n",
              "      <td>0</td>\n",
              "      <td>0</td>\n",
              "      <td>0</td>\n",
              "      <td>0</td>\n",
              "      <td>0</td>\n",
              "      <td>0</td>\n",
              "      <td>0</td>\n",
              "      <td>0</td>\n",
              "      <td>0</td>\n",
              "      <td>0</td>\n",
              "      <td>0</td>\n",
              "      <td>0</td>\n",
              "      <td>0</td>\n",
              "      <td>0</td>\n",
              "      <td>0</td>\n",
              "      <td>0</td>\n",
              "      <td>0</td>\n",
              "      <td>0</td>\n",
              "      <td>0</td>\n",
              "      <td>0</td>\n",
              "      <td>0</td>\n",
              "      <td>0</td>\n",
              "      <td>0</td>\n",
              "      <td>0</td>\n",
              "      <td>0</td>\n",
              "      <td>0</td>\n",
              "      <td>0</td>\n",
              "      <td>0</td>\n",
              "      <td>0</td>\n",
              "      <td>0</td>\n",
              "      <td>0</td>\n",
              "      <td>0</td>\n",
              "      <td>0</td>\n",
              "      <td>0</td>\n",
              "      <td>0</td>\n",
              "      <td>1</td>\n",
              "      <td>0</td>\n",
              "      <td>1829</td>\n",
              "      <td>125</td>\n",
              "      <td>1</td>\n",
              "    </tr>\n",
              "    <tr>\n",
              "      <th>1</th>\n",
              "      <td>6349</td>\n",
              "      <td>1300</td>\n",
              "      <td>3682</td>\n",
              "      <td>6</td>\n",
              "      <td>13098.0</td>\n",
              "      <td>5</td>\n",
              "      <td>11</td>\n",
              "      <td>2011</td>\n",
              "      <td>2</td>\n",
              "      <td>2</td>\n",
              "      <td>0</td>\n",
              "      <td>19</td>\n",
              "      <td>131</td>\n",
              "      <td>0</td>\n",
              "      <td>0</td>\n",
              "      <td>0</td>\n",
              "      <td>0</td>\n",
              "      <td>0</td>\n",
              "      <td>0</td>\n",
              "      <td>0</td>\n",
              "      <td>0</td>\n",
              "      <td>0</td>\n",
              "      <td>0</td>\n",
              "      <td>0</td>\n",
              "      <td>0</td>\n",
              "      <td>0</td>\n",
              "      <td>0</td>\n",
              "      <td>0</td>\n",
              "      <td>0</td>\n",
              "      <td>0</td>\n",
              "      <td>0</td>\n",
              "      <td>0</td>\n",
              "      <td>0</td>\n",
              "      <td>0</td>\n",
              "      <td>0</td>\n",
              "      <td>0</td>\n",
              "      <td>0</td>\n",
              "      <td>0</td>\n",
              "      <td>0</td>\n",
              "      <td>0</td>\n",
              "      <td>0</td>\n",
              "      <td>0</td>\n",
              "      <td>0</td>\n",
              "      <td>0</td>\n",
              "      <td>0</td>\n",
              "      <td>0</td>\n",
              "      <td>0</td>\n",
              "      <td>0</td>\n",
              "      <td>1</td>\n",
              "      <td>0</td>\n",
              "      <td>1341</td>\n",
              "      <td>623</td>\n",
              "      <td>1</td>\n",
              "    </tr>\n",
              "    <tr>\n",
              "      <th>2</th>\n",
              "      <td>16783</td>\n",
              "      <td>2178</td>\n",
              "      <td>1939</td>\n",
              "      <td>4</td>\n",
              "      <td>15044.0</td>\n",
              "      <td>11</td>\n",
              "      <td>20</td>\n",
              "      <td>2011</td>\n",
              "      <td>4</td>\n",
              "      <td>6</td>\n",
              "      <td>1</td>\n",
              "      <td>46</td>\n",
              "      <td>324</td>\n",
              "      <td>0</td>\n",
              "      <td>0</td>\n",
              "      <td>0</td>\n",
              "      <td>0</td>\n",
              "      <td>0</td>\n",
              "      <td>0</td>\n",
              "      <td>0</td>\n",
              "      <td>0</td>\n",
              "      <td>0</td>\n",
              "      <td>0</td>\n",
              "      <td>0</td>\n",
              "      <td>0</td>\n",
              "      <td>0</td>\n",
              "      <td>0</td>\n",
              "      <td>0</td>\n",
              "      <td>0</td>\n",
              "      <td>0</td>\n",
              "      <td>0</td>\n",
              "      <td>0</td>\n",
              "      <td>0</td>\n",
              "      <td>0</td>\n",
              "      <td>0</td>\n",
              "      <td>0</td>\n",
              "      <td>0</td>\n",
              "      <td>0</td>\n",
              "      <td>0</td>\n",
              "      <td>0</td>\n",
              "      <td>0</td>\n",
              "      <td>0</td>\n",
              "      <td>0</td>\n",
              "      <td>0</td>\n",
              "      <td>0</td>\n",
              "      <td>0</td>\n",
              "      <td>0</td>\n",
              "      <td>0</td>\n",
              "      <td>1</td>\n",
              "      <td>0</td>\n",
              "      <td>1434</td>\n",
              "      <td>426</td>\n",
              "      <td>1</td>\n",
              "    </tr>\n",
              "    <tr>\n",
              "      <th>3</th>\n",
              "      <td>16971</td>\n",
              "      <td>2115</td>\n",
              "      <td>2983</td>\n",
              "      <td>1</td>\n",
              "      <td>15525.0</td>\n",
              "      <td>11</td>\n",
              "      <td>22</td>\n",
              "      <td>2011</td>\n",
              "      <td>4</td>\n",
              "      <td>1</td>\n",
              "      <td>0</td>\n",
              "      <td>47</td>\n",
              "      <td>326</td>\n",
              "      <td>0</td>\n",
              "      <td>0</td>\n",
              "      <td>0</td>\n",
              "      <td>0</td>\n",
              "      <td>0</td>\n",
              "      <td>0</td>\n",
              "      <td>0</td>\n",
              "      <td>0</td>\n",
              "      <td>0</td>\n",
              "      <td>0</td>\n",
              "      <td>0</td>\n",
              "      <td>0</td>\n",
              "      <td>0</td>\n",
              "      <td>0</td>\n",
              "      <td>0</td>\n",
              "      <td>0</td>\n",
              "      <td>0</td>\n",
              "      <td>0</td>\n",
              "      <td>0</td>\n",
              "      <td>0</td>\n",
              "      <td>0</td>\n",
              "      <td>0</td>\n",
              "      <td>0</td>\n",
              "      <td>0</td>\n",
              "      <td>0</td>\n",
              "      <td>0</td>\n",
              "      <td>0</td>\n",
              "      <td>0</td>\n",
              "      <td>0</td>\n",
              "      <td>0</td>\n",
              "      <td>0</td>\n",
              "      <td>0</td>\n",
              "      <td>0</td>\n",
              "      <td>0</td>\n",
              "      <td>0</td>\n",
              "      <td>1</td>\n",
              "      <td>0</td>\n",
              "      <td>4962</td>\n",
              "      <td>135</td>\n",
              "      <td>1</td>\n",
              "    </tr>\n",
              "    <tr>\n",
              "      <th>4</th>\n",
              "      <td>6080</td>\n",
              "      <td>1210</td>\n",
              "      <td>2886</td>\n",
              "      <td>12</td>\n",
              "      <td>13952.0</td>\n",
              "      <td>5</td>\n",
              "      <td>6</td>\n",
              "      <td>2011</td>\n",
              "      <td>2</td>\n",
              "      <td>4</td>\n",
              "      <td>0</td>\n",
              "      <td>18</td>\n",
              "      <td>126</td>\n",
              "      <td>0</td>\n",
              "      <td>0</td>\n",
              "      <td>0</td>\n",
              "      <td>0</td>\n",
              "      <td>0</td>\n",
              "      <td>0</td>\n",
              "      <td>0</td>\n",
              "      <td>0</td>\n",
              "      <td>0</td>\n",
              "      <td>0</td>\n",
              "      <td>0</td>\n",
              "      <td>0</td>\n",
              "      <td>0</td>\n",
              "      <td>0</td>\n",
              "      <td>0</td>\n",
              "      <td>0</td>\n",
              "      <td>0</td>\n",
              "      <td>0</td>\n",
              "      <td>0</td>\n",
              "      <td>0</td>\n",
              "      <td>0</td>\n",
              "      <td>0</td>\n",
              "      <td>0</td>\n",
              "      <td>0</td>\n",
              "      <td>0</td>\n",
              "      <td>0</td>\n",
              "      <td>0</td>\n",
              "      <td>0</td>\n",
              "      <td>0</td>\n",
              "      <td>0</td>\n",
              "      <td>0</td>\n",
              "      <td>0</td>\n",
              "      <td>0</td>\n",
              "      <td>0</td>\n",
              "      <td>0</td>\n",
              "      <td>1</td>\n",
              "      <td>0</td>\n",
              "      <td>1101</td>\n",
              "      <td>341</td>\n",
              "      <td>1</td>\n",
              "    </tr>\n",
              "  </tbody>\n",
              "</table>\n",
              "</div>"
            ],
            "text/plain": [
              "   InvoiceNo  StockCode  ...  Quantity_per_invoice  quant\n",
              "0       6141       1583  ...                   125      1\n",
              "1       6349       1300  ...                   623      1\n",
              "2      16783       2178  ...                   426      1\n",
              "3      16971       2115  ...                   135      1\n",
              "4       6080       1210  ...                   341      1\n",
              "\n",
              "[5 rows x 53 columns]"
            ]
          },
          "metadata": {
            "tags": []
          },
          "execution_count": 82
        }
      ]
    },
    {
      "cell_type": "code",
      "metadata": {
        "id": "KIkmtrdm2RKx",
        "colab": {
          "base_uri": "https://localhost:8080/",
          "height": 425
        },
        "outputId": "add04cab-cfe8-4504-f514-2373e0736963"
      },
      "source": [
        "fig, ax = plt.subplots(1,2,figsize=(20,5))\n",
        "sns.distplot(train.Quantity, ax=ax[0], kde=False, color=\"limegreen\");\n",
        "sns.distplot(np.log(train.Quantity), ax=ax[1], bins=20, kde=False, color=\"limegreen\");\n",
        "ax[0].set_title(\"Quantity distribution\")\n",
        "ax[0].set_yscale(\"log\")\n",
        "ax[1].set_title(\"Log-Quantity distribution\")\n",
        "ax[1].set_xlabel(\"Natural-Log Quantity\");"
      ],
      "execution_count": null,
      "outputs": [
        {
          "output_type": "stream",
          "text": [
            "/usr/local/lib/python3.6/dist-packages/seaborn/distributions.py:2551: FutureWarning: `distplot` is a deprecated function and will be removed in a future version. Please adapt your code to use either `displot` (a figure-level function with similar flexibility) or `histplot` (an axes-level function for histograms).\n",
            "  warnings.warn(msg, FutureWarning)\n",
            "/usr/local/lib/python3.6/dist-packages/pandas/core/series.py:726: RuntimeWarning: invalid value encountered in log\n",
            "  result = getattr(ufunc, method)(*inputs, **kwargs)\n"
          ],
          "name": "stderr"
        },
        {
          "output_type": "display_data",
          "data": {
            "image/png": "[encoded data removed]",
            "text/plain": [
              "<Figure size 1440x360 with 2 Axes>"
            ]
          },
          "metadata": {
            "tags": [],
            "needs_background": "light"
          }
        }
      ]
    },
    {
      "cell_type": "code",
      "metadata": {
        "id": "zwNfZochhLNy"
      },
      "source": [
        ""
      ],
      "execution_count": null,
      "outputs": []
    },
    {
      "cell_type": "code",
      "metadata": {
        "id": "TY4DemH82RbG",
        "colab": {
          "base_uri": "https://localhost:8080/"
        },
        "outputId": "e629a523-9a33-4124-9acc-e3c6c783307a"
      },
      "source": [
        "print(np.exp(4))\n"
      ],
      "execution_count": null,
      "outputs": [
        {
          "output_type": "stream",
          "text": [
            "54.598150033144236\n"
          ],
          "name": "stdout"
        }
      ]
    },
    {
      "cell_type": "code",
      "metadata": {
        "id": "zVOssHNH2QuI",
        "colab": {
          "base_uri": "https://localhost:8080/"
        },
        "outputId": "a3375f23-ba5e-40f7-bf36-0b7ca4df0d7c"
      },
      "source": [
        "np.quantile(train.Quantity, 0.95)"
      ],
      "execution_count": null,
      "outputs": [
        {
          "output_type": "execute_result",
          "data": {
            "text/plain": [
              "36.0"
            ]
          },
          "metadata": {
            "tags": []
          },
          "execution_count": 41
        }
      ]
    },
    {
      "cell_type": "code",
      "metadata": {
        "id": "CQ6-A4v00rnp"
      },
      "source": [
        "train1 = train1.loc[train1.Quantity < 55].copy()"
      ],
      "execution_count": null,
      "outputs": []
    },
    {
      "cell_type": "code",
      "metadata": {
        "id": "YOGDjFCk0r8j",
        "colab": {
          "base_uri": "https://localhost:8080/",
          "height": 593
        },
        "outputId": "0ac92700-a6ed-4ab3-d96f-d8b389a3c48d"
      },
      "source": [
        "train.loc[train.quantity_per_customer == 0]"
      ],
      "execution_count": null,
      "outputs": [
        {
          "output_type": "execute_result",
          "data": {
            "text/html": [
              "<div>\n",
              "<style scoped>\n",
              "    .dataframe tbody tr th:only-of-type {\n",
              "        vertical-align: middle;\n",
              "    }\n",
              "\n",
              "    .dataframe tbody tr th {\n",
              "        vertical-align: top;\n",
              "    }\n",
              "\n",
              "    .dataframe thead th {\n",
              "        text-align: right;\n",
              "    }\n",
              "</style>\n",
              "<table border=\"1\" class=\"dataframe\">\n",
              "  <thead>\n",
              "    <tr style=\"text-align: right;\">\n",
              "      <th></th>\n",
              "      <th>InvoiceNo</th>\n",
              "      <th>StockCode</th>\n",
              "      <th>Description</th>\n",
              "      <th>Quantity</th>\n",
              "      <th>InvoiceDate</th>\n",
              "      <th>UnitPrice</th>\n",
              "      <th>CustomerID</th>\n",
              "      <th>Country</th>\n",
              "      <th>month</th>\n",
              "      <th>day</th>\n",
              "      <th>year</th>\n",
              "      <th>quarter</th>\n",
              "      <th>day of the week</th>\n",
              "      <th>dayofweek_name</th>\n",
              "      <th>is_weekend</th>\n",
              "      <th>week_of_the_year</th>\n",
              "      <th>Dayofyear</th>\n",
              "      <th>total_days_per_stockcode</th>\n",
              "      <th>transactions_per_customer</th>\n",
              "      <th>stocks_per_customer</th>\n",
              "      <th>quantity_per_customer</th>\n",
              "      <th>total_transactions_per_customer</th>\n",
              "      <th>Unique_weeks_per_customer</th>\n",
              "      <th>Unique_days_per_customer</th>\n",
              "      <th>35</th>\n",
              "      <th>quantity_returned</th>\n",
              "    </tr>\n",
              "  </thead>\n",
              "  <tbody>\n",
              "    <tr>\n",
              "      <th>4127</th>\n",
              "      <td>20238</td>\n",
              "      <td>1366</td>\n",
              "      <td>2407</td>\n",
              "      <td>-60</td>\n",
              "      <td>2011-06-10 15:39:00</td>\n",
              "      <td>4.95</td>\n",
              "      <td>15098.0</td>\n",
              "      <td>35</td>\n",
              "      <td>6</td>\n",
              "      <td>10</td>\n",
              "      <td>2011</td>\n",
              "      <td>2</td>\n",
              "      <td>4</td>\n",
              "      <td>Friday</td>\n",
              "      <td>0</td>\n",
              "      <td>23</td>\n",
              "      <td>161</td>\n",
              "      <td>173</td>\n",
              "      <td>4</td>\n",
              "      <td>2</td>\n",
              "      <td>0</td>\n",
              "      <td>4</td>\n",
              "      <td>1</td>\n",
              "      <td>1</td>\n",
              "      <td>1</td>\n",
              "      <td>1</td>\n",
              "    </tr>\n",
              "    <tr>\n",
              "      <th>52291</th>\n",
              "      <td>21339</td>\n",
              "      <td>1247</td>\n",
              "      <td>139</td>\n",
              "      <td>-1</td>\n",
              "      <td>2011-10-06 18:34:00</td>\n",
              "      <td>4.25</td>\n",
              "      <td>14792.0</td>\n",
              "      <td>35</td>\n",
              "      <td>10</td>\n",
              "      <td>6</td>\n",
              "      <td>2011</td>\n",
              "      <td>4</td>\n",
              "      <td>3</td>\n",
              "      <td>Thursday</td>\n",
              "      <td>0</td>\n",
              "      <td>40</td>\n",
              "      <td>279</td>\n",
              "      <td>179</td>\n",
              "      <td>2</td>\n",
              "      <td>2</td>\n",
              "      <td>0</td>\n",
              "      <td>4</td>\n",
              "      <td>1</td>\n",
              "      <td>2</td>\n",
              "      <td>1</td>\n",
              "      <td>1</td>\n",
              "    </tr>\n",
              "    <tr>\n",
              "      <th>81197</th>\n",
              "      <td>7927</td>\n",
              "      <td>1366</td>\n",
              "      <td>2405</td>\n",
              "      <td>1</td>\n",
              "      <td>2011-06-10 15:33:00</td>\n",
              "      <td>649.50</td>\n",
              "      <td>15098.0</td>\n",
              "      <td>35</td>\n",
              "      <td>6</td>\n",
              "      <td>10</td>\n",
              "      <td>2011</td>\n",
              "      <td>2</td>\n",
              "      <td>4</td>\n",
              "      <td>Friday</td>\n",
              "      <td>0</td>\n",
              "      <td>23</td>\n",
              "      <td>161</td>\n",
              "      <td>173</td>\n",
              "      <td>4</td>\n",
              "      <td>2</td>\n",
              "      <td>0</td>\n",
              "      <td>4</td>\n",
              "      <td>1</td>\n",
              "      <td>1</td>\n",
              "      <td>1</td>\n",
              "      <td>1</td>\n",
              "    </tr>\n",
              "    <tr>\n",
              "      <th>126817</th>\n",
              "      <td>7924</td>\n",
              "      <td>1366</td>\n",
              "      <td>2407</td>\n",
              "      <td>60</td>\n",
              "      <td>2011-06-10 15:22:00</td>\n",
              "      <td>4.95</td>\n",
              "      <td>15098.0</td>\n",
              "      <td>35</td>\n",
              "      <td>6</td>\n",
              "      <td>10</td>\n",
              "      <td>2011</td>\n",
              "      <td>2</td>\n",
              "      <td>4</td>\n",
              "      <td>Friday</td>\n",
              "      <td>0</td>\n",
              "      <td>23</td>\n",
              "      <td>161</td>\n",
              "      <td>173</td>\n",
              "      <td>4</td>\n",
              "      <td>2</td>\n",
              "      <td>0</td>\n",
              "      <td>4</td>\n",
              "      <td>1</td>\n",
              "      <td>1</td>\n",
              "      <td>1</td>\n",
              "      <td>1</td>\n",
              "    </tr>\n",
              "    <tr>\n",
              "      <th>140723</th>\n",
              "      <td>20237</td>\n",
              "      <td>3681</td>\n",
              "      <td>2140</td>\n",
              "      <td>-1</td>\n",
              "      <td>2011-06-10 15:31:00</td>\n",
              "      <td>38970.00</td>\n",
              "      <td>15098.0</td>\n",
              "      <td>35</td>\n",
              "      <td>6</td>\n",
              "      <td>10</td>\n",
              "      <td>2011</td>\n",
              "      <td>2</td>\n",
              "      <td>4</td>\n",
              "      <td>Friday</td>\n",
              "      <td>0</td>\n",
              "      <td>23</td>\n",
              "      <td>161</td>\n",
              "      <td>320</td>\n",
              "      <td>4</td>\n",
              "      <td>2</td>\n",
              "      <td>0</td>\n",
              "      <td>4</td>\n",
              "      <td>1</td>\n",
              "      <td>1</td>\n",
              "      <td>1</td>\n",
              "      <td>1</td>\n",
              "    </tr>\n",
              "    <tr>\n",
              "      <th>141379</th>\n",
              "      <td>1909</td>\n",
              "      <td>2001</td>\n",
              "      <td>2002</td>\n",
              "      <td>74215</td>\n",
              "      <td>2011-01-18 10:01:00</td>\n",
              "      <td>1.04</td>\n",
              "      <td>12346.0</td>\n",
              "      <td>35</td>\n",
              "      <td>1</td>\n",
              "      <td>18</td>\n",
              "      <td>2011</td>\n",
              "      <td>1</td>\n",
              "      <td>1</td>\n",
              "      <td>Tuesday</td>\n",
              "      <td>0</td>\n",
              "      <td>3</td>\n",
              "      <td>18</td>\n",
              "      <td>141</td>\n",
              "      <td>2</td>\n",
              "      <td>1</td>\n",
              "      <td>0</td>\n",
              "      <td>2</td>\n",
              "      <td>1</td>\n",
              "      <td>1</td>\n",
              "      <td>1</td>\n",
              "      <td>1</td>\n",
              "    </tr>\n",
              "    <tr>\n",
              "      <th>161153</th>\n",
              "      <td>21339</td>\n",
              "      <td>2617</td>\n",
              "      <td>632</td>\n",
              "      <td>-1</td>\n",
              "      <td>2011-10-06 18:34:00</td>\n",
              "      <td>1.95</td>\n",
              "      <td>14792.0</td>\n",
              "      <td>35</td>\n",
              "      <td>10</td>\n",
              "      <td>6</td>\n",
              "      <td>2011</td>\n",
              "      <td>4</td>\n",
              "      <td>3</td>\n",
              "      <td>Thursday</td>\n",
              "      <td>0</td>\n",
              "      <td>40</td>\n",
              "      <td>279</td>\n",
              "      <td>24</td>\n",
              "      <td>2</td>\n",
              "      <td>2</td>\n",
              "      <td>0</td>\n",
              "      <td>4</td>\n",
              "      <td>1</td>\n",
              "      <td>2</td>\n",
              "      <td>1</td>\n",
              "      <td>1</td>\n",
              "    </tr>\n",
              "    <tr>\n",
              "      <th>164002</th>\n",
              "      <td>13560</td>\n",
              "      <td>1247</td>\n",
              "      <td>139</td>\n",
              "      <td>1</td>\n",
              "      <td>2011-10-07 09:19:00</td>\n",
              "      <td>4.25</td>\n",
              "      <td>14792.0</td>\n",
              "      <td>35</td>\n",
              "      <td>10</td>\n",
              "      <td>7</td>\n",
              "      <td>2011</td>\n",
              "      <td>4</td>\n",
              "      <td>4</td>\n",
              "      <td>Friday</td>\n",
              "      <td>0</td>\n",
              "      <td>40</td>\n",
              "      <td>280</td>\n",
              "      <td>179</td>\n",
              "      <td>2</td>\n",
              "      <td>2</td>\n",
              "      <td>0</td>\n",
              "      <td>4</td>\n",
              "      <td>1</td>\n",
              "      <td>2</td>\n",
              "      <td>1</td>\n",
              "      <td>1</td>\n",
              "    </tr>\n",
              "    <tr>\n",
              "      <th>216853</th>\n",
              "      <td>13560</td>\n",
              "      <td>2617</td>\n",
              "      <td>632</td>\n",
              "      <td>1</td>\n",
              "      <td>2011-10-07 09:19:00</td>\n",
              "      <td>1.95</td>\n",
              "      <td>14792.0</td>\n",
              "      <td>35</td>\n",
              "      <td>10</td>\n",
              "      <td>7</td>\n",
              "      <td>2011</td>\n",
              "      <td>4</td>\n",
              "      <td>4</td>\n",
              "      <td>Friday</td>\n",
              "      <td>0</td>\n",
              "      <td>40</td>\n",
              "      <td>280</td>\n",
              "      <td>24</td>\n",
              "      <td>2</td>\n",
              "      <td>2</td>\n",
              "      <td>0</td>\n",
              "      <td>4</td>\n",
              "      <td>1</td>\n",
              "      <td>2</td>\n",
              "      <td>1</td>\n",
              "      <td>1</td>\n",
              "    </tr>\n",
              "    <tr>\n",
              "      <th>271013</th>\n",
              "      <td>18958</td>\n",
              "      <td>2001</td>\n",
              "      <td>2002</td>\n",
              "      <td>-74215</td>\n",
              "      <td>2011-01-18 10:17:00</td>\n",
              "      <td>1.04</td>\n",
              "      <td>12346.0</td>\n",
              "      <td>35</td>\n",
              "      <td>1</td>\n",
              "      <td>18</td>\n",
              "      <td>2011</td>\n",
              "      <td>1</td>\n",
              "      <td>1</td>\n",
              "      <td>Tuesday</td>\n",
              "      <td>0</td>\n",
              "      <td>3</td>\n",
              "      <td>18</td>\n",
              "      <td>141</td>\n",
              "      <td>2</td>\n",
              "      <td>1</td>\n",
              "      <td>0</td>\n",
              "      <td>2</td>\n",
              "      <td>1</td>\n",
              "      <td>1</td>\n",
              "      <td>1</td>\n",
              "      <td>1</td>\n",
              "    </tr>\n",
              "  </tbody>\n",
              "</table>\n",
              "</div>"
            ],
            "text/plain": [
              "        InvoiceNo  StockCode  ...  35  quantity_returned\n",
              "4127        20238       1366  ...   1                  1\n",
              "52291       21339       1247  ...   1                  1\n",
              "81197        7927       1366  ...   1                  1\n",
              "126817       7924       1366  ...   1                  1\n",
              "140723      20237       3681  ...   1                  1\n",
              "141379       1909       2001  ...   1                  1\n",
              "161153      21339       2617  ...   1                  1\n",
              "164002      13560       1247  ...   1                  1\n",
              "216853      13560       2617  ...   1                  1\n",
              "271013      18958       2001  ...   1                  1\n",
              "\n",
              "[10 rows x 26 columns]"
            ]
          },
          "metadata": {
            "tags": []
          },
          "execution_count": 42
        }
      ]
    },
    {
      "cell_type": "code",
      "metadata": {
        "id": "7VDTDXEq94il",
        "colab": {
          "base_uri": "https://localhost:8080/",
          "height": 288
        },
        "outputId": "172c4987-4696-4eba-dd68-e322d7f59842"
      },
      "source": [
        "train1.loc[:, [\"UnitPrice\", \"Quantity\"]].describe()\n",
        "\n"
      ],
      "execution_count": null,
      "outputs": [
        {
          "output_type": "execute_result",
          "data": {
            "text/html": [
              "<div>\n",
              "<style scoped>\n",
              "    .dataframe tbody tr th:only-of-type {\n",
              "        vertical-align: middle;\n",
              "    }\n",
              "\n",
              "    .dataframe tbody tr th {\n",
              "        vertical-align: top;\n",
              "    }\n",
              "\n",
              "    .dataframe thead th {\n",
              "        text-align: right;\n",
              "    }\n",
              "</style>\n",
              "<table border=\"1\" class=\"dataframe\">\n",
              "  <thead>\n",
              "    <tr style=\"text-align: right;\">\n",
              "      <th></th>\n",
              "      <th>UnitPrice</th>\n",
              "      <th>Quantity</th>\n",
              "    </tr>\n",
              "  </thead>\n",
              "  <tbody>\n",
              "    <tr>\n",
              "      <th>count</th>\n",
              "      <td>276247.000000</td>\n",
              "      <td>276247.000000</td>\n",
              "    </tr>\n",
              "    <tr>\n",
              "      <th>mean</th>\n",
              "      <td>2.933869</td>\n",
              "      <td>7.285299</td>\n",
              "    </tr>\n",
              "    <tr>\n",
              "      <th>std</th>\n",
              "      <td>3.140555</td>\n",
              "      <td>209.428141</td>\n",
              "    </tr>\n",
              "    <tr>\n",
              "      <th>min</th>\n",
              "      <td>0.080000</td>\n",
              "      <td>-80995.000000</td>\n",
              "    </tr>\n",
              "    <tr>\n",
              "      <th>25%</th>\n",
              "      <td>1.250000</td>\n",
              "      <td>2.000000</td>\n",
              "    </tr>\n",
              "    <tr>\n",
              "      <th>50%</th>\n",
              "      <td>1.950000</td>\n",
              "      <td>4.000000</td>\n",
              "    </tr>\n",
              "    <tr>\n",
              "      <th>75%</th>\n",
              "      <td>3.750000</td>\n",
              "      <td>12.000000</td>\n",
              "    </tr>\n",
              "    <tr>\n",
              "      <th>max</th>\n",
              "      <td>48.000000</td>\n",
              "      <td>54.000000</td>\n",
              "    </tr>\n",
              "  </tbody>\n",
              "</table>\n",
              "</div>"
            ],
            "text/plain": [
              "           UnitPrice       Quantity\n",
              "count  276247.000000  276247.000000\n",
              "mean        2.933869       7.285299\n",
              "std         3.140555     209.428141\n",
              "min         0.080000  -80995.000000\n",
              "25%         1.250000       2.000000\n",
              "50%         1.950000       4.000000\n",
              "75%         3.750000      12.000000\n",
              "max        48.000000      54.000000"
            ]
          },
          "metadata": {
            "tags": []
          },
          "execution_count": 304
        }
      ]
    },
    {
      "cell_type": "code",
      "metadata": {
        "id": "2MzFWQ640rkh",
        "colab": {
          "base_uri": "https://localhost:8080/"
        },
        "outputId": "111c1d22-7a1f-4703-edeb-d74e01cbc7f6"
      },
      "source": [
        "print(train.shape)\n",
        "print(train1.shape)"
      ],
      "execution_count": null,
      "outputs": [
        {
          "output_type": "stream",
          "text": [
            "(284780, 19)\n",
            "(284780, 9)\n"
          ],
          "name": "stdout"
        }
      ]
    },
    {
      "cell_type": "code",
      "metadata": {
        "id": "QvVZ65UOF33m",
        "colab": {
          "base_uri": "https://localhost:8080/",
          "height": 356
        },
        "outputId": "d144e2da-aad0-4e87-d226-4370a4f1be6b"
      },
      "source": [
        "train.head()"
      ],
      "execution_count": null,
      "outputs": [
        {
          "output_type": "execute_result",
          "data": {
            "text/html": [
              "<div>\n",
              "<style scoped>\n",
              "    .dataframe tbody tr th:only-of-type {\n",
              "        vertical-align: middle;\n",
              "    }\n",
              "\n",
              "    .dataframe tbody tr th {\n",
              "        vertical-align: top;\n",
              "    }\n",
              "\n",
              "    .dataframe thead th {\n",
              "        text-align: right;\n",
              "    }\n",
              "</style>\n",
              "<table border=\"1\" class=\"dataframe\">\n",
              "  <thead>\n",
              "    <tr style=\"text-align: right;\">\n",
              "      <th></th>\n",
              "      <th>InvoiceNo</th>\n",
              "      <th>StockCode</th>\n",
              "      <th>Description</th>\n",
              "      <th>Quantity</th>\n",
              "      <th>InvoiceDate</th>\n",
              "      <th>UnitPrice</th>\n",
              "      <th>CustomerID</th>\n",
              "      <th>Country</th>\n",
              "      <th>month</th>\n",
              "      <th>day</th>\n",
              "      <th>year</th>\n",
              "      <th>quarter</th>\n",
              "      <th>day of the week</th>\n",
              "      <th>dayofweek_name</th>\n",
              "      <th>is_weekend</th>\n",
              "      <th>week_of_the_year</th>\n",
              "      <th>Dayofyear</th>\n",
              "      <th>total_days_per_stockcode</th>\n",
              "      <th>transactions_per_customer</th>\n",
              "      <th>stocks_per_customer</th>\n",
              "      <th>quantity_per_customer</th>\n",
              "      <th>total_transactions_per_customer</th>\n",
              "      <th>Unique_weeks_per_customer</th>\n",
              "      <th>Unique_days_per_customer</th>\n",
              "      <th>35</th>\n",
              "      <th>quantity_returned</th>\n",
              "    </tr>\n",
              "  </thead>\n",
              "  <tbody>\n",
              "    <tr>\n",
              "      <th>0</th>\n",
              "      <td>6141</td>\n",
              "      <td>1583</td>\n",
              "      <td>144</td>\n",
              "      <td>3</td>\n",
              "      <td>2011-05-06 16:54:00</td>\n",
              "      <td>3.75</td>\n",
              "      <td>14056.0</td>\n",
              "      <td>35</td>\n",
              "      <td>5</td>\n",
              "      <td>6</td>\n",
              "      <td>2011</td>\n",
              "      <td>2</td>\n",
              "      <td>4</td>\n",
              "      <td>Friday</td>\n",
              "      <td>0</td>\n",
              "      <td>18</td>\n",
              "      <td>126</td>\n",
              "      <td>331</td>\n",
              "      <td>28</td>\n",
              "      <td>301</td>\n",
              "      <td>2970</td>\n",
              "      <td>791</td>\n",
              "      <td>22</td>\n",
              "      <td>24</td>\n",
              "      <td>1</td>\n",
              "      <td>0</td>\n",
              "    </tr>\n",
              "    <tr>\n",
              "      <th>1</th>\n",
              "      <td>6349</td>\n",
              "      <td>1300</td>\n",
              "      <td>3682</td>\n",
              "      <td>6</td>\n",
              "      <td>2011-05-11 07:35:00</td>\n",
              "      <td>1.95</td>\n",
              "      <td>13098.0</td>\n",
              "      <td>35</td>\n",
              "      <td>5</td>\n",
              "      <td>11</td>\n",
              "      <td>2011</td>\n",
              "      <td>2</td>\n",
              "      <td>2</td>\n",
              "      <td>Wednesday</td>\n",
              "      <td>0</td>\n",
              "      <td>19</td>\n",
              "      <td>131</td>\n",
              "      <td>194</td>\n",
              "      <td>38</td>\n",
              "      <td>146</td>\n",
              "      <td>9960</td>\n",
              "      <td>394</td>\n",
              "      <td>25</td>\n",
              "      <td>33</td>\n",
              "      <td>1</td>\n",
              "      <td>0</td>\n",
              "    </tr>\n",
              "    <tr>\n",
              "      <th>2</th>\n",
              "      <td>16783</td>\n",
              "      <td>2178</td>\n",
              "      <td>1939</td>\n",
              "      <td>4</td>\n",
              "      <td>2011-11-20 13:20:00</td>\n",
              "      <td>5.95</td>\n",
              "      <td>15044.0</td>\n",
              "      <td>35</td>\n",
              "      <td>11</td>\n",
              "      <td>20</td>\n",
              "      <td>2011</td>\n",
              "      <td>4</td>\n",
              "      <td>6</td>\n",
              "      <td>Sunday</td>\n",
              "      <td>1</td>\n",
              "      <td>46</td>\n",
              "      <td>324</td>\n",
              "      <td>317</td>\n",
              "      <td>20</td>\n",
              "      <td>170</td>\n",
              "      <td>1787</td>\n",
              "      <td>307</td>\n",
              "      <td>15</td>\n",
              "      <td>15</td>\n",
              "      <td>1</td>\n",
              "      <td>0</td>\n",
              "    </tr>\n",
              "    <tr>\n",
              "      <th>3</th>\n",
              "      <td>16971</td>\n",
              "      <td>2115</td>\n",
              "      <td>2983</td>\n",
              "      <td>1</td>\n",
              "      <td>2011-11-22 12:07:00</td>\n",
              "      <td>0.83</td>\n",
              "      <td>15525.0</td>\n",
              "      <td>35</td>\n",
              "      <td>11</td>\n",
              "      <td>22</td>\n",
              "      <td>2011</td>\n",
              "      <td>4</td>\n",
              "      <td>1</td>\n",
              "      <td>Tuesday</td>\n",
              "      <td>0</td>\n",
              "      <td>47</td>\n",
              "      <td>326</td>\n",
              "      <td>328</td>\n",
              "      <td>4</td>\n",
              "      <td>105</td>\n",
              "      <td>323</td>\n",
              "      <td>128</td>\n",
              "      <td>3</td>\n",
              "      <td>3</td>\n",
              "      <td>1</td>\n",
              "      <td>0</td>\n",
              "    </tr>\n",
              "    <tr>\n",
              "      <th>4</th>\n",
              "      <td>6080</td>\n",
              "      <td>1210</td>\n",
              "      <td>2886</td>\n",
              "      <td>12</td>\n",
              "      <td>2011-05-06 09:00:00</td>\n",
              "      <td>1.65</td>\n",
              "      <td>13952.0</td>\n",
              "      <td>35</td>\n",
              "      <td>5</td>\n",
              "      <td>6</td>\n",
              "      <td>2011</td>\n",
              "      <td>2</td>\n",
              "      <td>4</td>\n",
              "      <td>Friday</td>\n",
              "      <td>0</td>\n",
              "      <td>18</td>\n",
              "      <td>126</td>\n",
              "      <td>114</td>\n",
              "      <td>2</td>\n",
              "      <td>86</td>\n",
              "      <td>1042</td>\n",
              "      <td>95</td>\n",
              "      <td>2</td>\n",
              "      <td>2</td>\n",
              "      <td>1</td>\n",
              "      <td>0</td>\n",
              "    </tr>\n",
              "  </tbody>\n",
              "</table>\n",
              "</div>"
            ],
            "text/plain": [
              "   InvoiceNo  StockCode  ...  35  quantity_returned\n",
              "0       6141       1583  ...   1                  0\n",
              "1       6349       1300  ...   1                  0\n",
              "2      16783       2178  ...   1                  0\n",
              "3      16971       2115  ...   1                  0\n",
              "4       6080       1210  ...   1                  0\n",
              "\n",
              "[5 rows x 26 columns]"
            ]
          },
          "metadata": {
            "tags": []
          },
          "execution_count": 43
        }
      ]
    },
    {
      "cell_type": "code",
      "metadata": {
        "id": "5EdjXtbUF4BJ"
      },
      "source": [
        ""
      ],
      "execution_count": null,
      "outputs": []
    },
    {
      "cell_type": "code",
      "metadata": {
        "id": "uEvz1k7fEqMm"
      },
      "source": [
        ""
      ],
      "execution_count": null,
      "outputs": []
    },
    {
      "cell_type": "code",
      "metadata": {
        "id": "ijDPqBx6EqVk"
      },
      "source": [
        ""
      ],
      "execution_count": null,
      "outputs": []
    },
    {
      "cell_type": "code",
      "metadata": {
        "id": "ahzZr19X0rgT",
        "colab": {
          "base_uri": "https://localhost:8080/",
          "height": 455
        },
        "outputId": "1b6f63c2-5782-4e6c-9eaa-a7577329cc85"
      },
      "source": [
        "# Remaining distributions of daily quantities\n",
        "fig, ax = plt.subplots(1,2,figsize=(20,5))\n",
        "sns.distplot(train1.Quantity.values, kde=True, ax=ax[0], color=\"Orange\", bins=30);\n",
        "sns.distplot(np.log(train1.Quantity.values), kde=True, ax=ax[1], color=\"Orange\", bins=30);\n",
        "ax[0].set_xlabel(\"Number of daily product sales\");\n",
        "ax[0].set_ylabel(\"Frequency\");\n",
        "ax[0].set_title(\"How many products are sold per day?\");\n"
      ],
      "execution_count": null,
      "outputs": [
        {
          "output_type": "stream",
          "text": [
            "/usr/local/lib/python3.6/dist-packages/seaborn/distributions.py:2551: FutureWarning: `distplot` is a deprecated function and will be removed in a future version. Please adapt your code to use either `displot` (a figure-level function with similar flexibility) or `histplot` (an axes-level function for histograms).\n",
            "  warnings.warn(msg, FutureWarning)\n",
            "/usr/local/lib/python3.6/dist-packages/ipykernel_launcher.py:4: RuntimeWarning: invalid value encountered in log\n",
            "  after removing the cwd from sys.path.\n",
            "/usr/local/lib/python3.6/dist-packages/seaborn/distributions.py:2551: FutureWarning: `distplot` is a deprecated function and will be removed in a future version. Please adapt your code to use either `displot` (a figure-level function with similar flexibility) or `histplot` (an axes-level function for histograms).\n",
            "  warnings.warn(msg, FutureWarning)\n"
          ],
          "name": "stderr"
        },
        {
          "output_type": "display_data",
          "data": {
            "image/png": "[encoded data removed]",
            "text/plain": [
              "<Figure size 1440x360 with 2 Axes>"
            ]
          },
          "metadata": {
            "tags": [],
            "needs_background": "light"
          }
        }
      ]
    },
    {
      "cell_type": "code",
      "metadata": {
        "id": "cWkTIPZ3CR1w",
        "colab": {
          "base_uri": "https://localhost:8080/",
          "height": 356
        },
        "outputId": "7b5d9009-e363-43ae-cc5b-e332fe547262"
      },
      "source": [
        "train1.head()"
      ],
      "execution_count": null,
      "outputs": [
        {
          "output_type": "execute_result",
          "data": {
            "text/html": [
              "<div>\n",
              "<style scoped>\n",
              "    .dataframe tbody tr th:only-of-type {\n",
              "        vertical-align: middle;\n",
              "    }\n",
              "\n",
              "    .dataframe tbody tr th {\n",
              "        vertical-align: top;\n",
              "    }\n",
              "\n",
              "    .dataframe thead th {\n",
              "        text-align: right;\n",
              "    }\n",
              "</style>\n",
              "<table border=\"1\" class=\"dataframe\">\n",
              "  <thead>\n",
              "    <tr style=\"text-align: right;\">\n",
              "      <th></th>\n",
              "      <th>InvoiceNo</th>\n",
              "      <th>StockCode</th>\n",
              "      <th>Description</th>\n",
              "      <th>Quantity</th>\n",
              "      <th>InvoiceDate</th>\n",
              "      <th>UnitPrice</th>\n",
              "      <th>CustomerID</th>\n",
              "      <th>Country</th>\n",
              "      <th>month</th>\n",
              "      <th>day</th>\n",
              "      <th>year</th>\n",
              "      <th>quarter</th>\n",
              "      <th>day of the week</th>\n",
              "      <th>dayofweek_name</th>\n",
              "      <th>is_weekend</th>\n",
              "      <th>week_of_the_year</th>\n",
              "      <th>Dayofyear</th>\n",
              "      <th>transactions_per_customer</th>\n",
              "      <th>stocks_per_customer</th>\n",
              "      <th>quantity_per_customer</th>\n",
              "      <th>total_transactions_per_customer</th>\n",
              "      <th>total_weeks_per_customer</th>\n",
              "      <th>Unique_weeks_per_customer</th>\n",
              "      <th>Unique_days_per_customer</th>\n",
              "      <th>total_days_per_customer</th>\n",
              "    </tr>\n",
              "  </thead>\n",
              "  <tbody>\n",
              "    <tr>\n",
              "      <th>0</th>\n",
              "      <td>6141</td>\n",
              "      <td>1583</td>\n",
              "      <td>144</td>\n",
              "      <td>3</td>\n",
              "      <td>2011-05-06 16:54:00</td>\n",
              "      <td>3.75</td>\n",
              "      <td>14056.0</td>\n",
              "      <td>35</td>\n",
              "      <td>5</td>\n",
              "      <td>6</td>\n",
              "      <td>2011</td>\n",
              "      <td>2</td>\n",
              "      <td>4</td>\n",
              "      <td>Friday</td>\n",
              "      <td>0</td>\n",
              "      <td>18</td>\n",
              "      <td>126</td>\n",
              "      <td>28</td>\n",
              "      <td>301</td>\n",
              "      <td>2970</td>\n",
              "      <td>791</td>\n",
              "      <td>791</td>\n",
              "      <td>22</td>\n",
              "      <td>24</td>\n",
              "      <td>791</td>\n",
              "    </tr>\n",
              "    <tr>\n",
              "      <th>1</th>\n",
              "      <td>6349</td>\n",
              "      <td>1300</td>\n",
              "      <td>3682</td>\n",
              "      <td>6</td>\n",
              "      <td>2011-05-11 07:35:00</td>\n",
              "      <td>1.95</td>\n",
              "      <td>13098.0</td>\n",
              "      <td>35</td>\n",
              "      <td>5</td>\n",
              "      <td>11</td>\n",
              "      <td>2011</td>\n",
              "      <td>2</td>\n",
              "      <td>2</td>\n",
              "      <td>Wednesday</td>\n",
              "      <td>0</td>\n",
              "      <td>19</td>\n",
              "      <td>131</td>\n",
              "      <td>38</td>\n",
              "      <td>146</td>\n",
              "      <td>9960</td>\n",
              "      <td>394</td>\n",
              "      <td>394</td>\n",
              "      <td>25</td>\n",
              "      <td>33</td>\n",
              "      <td>394</td>\n",
              "    </tr>\n",
              "    <tr>\n",
              "      <th>2</th>\n",
              "      <td>16783</td>\n",
              "      <td>2178</td>\n",
              "      <td>1939</td>\n",
              "      <td>4</td>\n",
              "      <td>2011-11-20 13:20:00</td>\n",
              "      <td>5.95</td>\n",
              "      <td>15044.0</td>\n",
              "      <td>35</td>\n",
              "      <td>11</td>\n",
              "      <td>20</td>\n",
              "      <td>2011</td>\n",
              "      <td>4</td>\n",
              "      <td>6</td>\n",
              "      <td>Sunday</td>\n",
              "      <td>1</td>\n",
              "      <td>46</td>\n",
              "      <td>324</td>\n",
              "      <td>20</td>\n",
              "      <td>170</td>\n",
              "      <td>1787</td>\n",
              "      <td>307</td>\n",
              "      <td>307</td>\n",
              "      <td>15</td>\n",
              "      <td>15</td>\n",
              "      <td>307</td>\n",
              "    </tr>\n",
              "    <tr>\n",
              "      <th>3</th>\n",
              "      <td>16971</td>\n",
              "      <td>2115</td>\n",
              "      <td>2983</td>\n",
              "      <td>1</td>\n",
              "      <td>2011-11-22 12:07:00</td>\n",
              "      <td>0.83</td>\n",
              "      <td>15525.0</td>\n",
              "      <td>35</td>\n",
              "      <td>11</td>\n",
              "      <td>22</td>\n",
              "      <td>2011</td>\n",
              "      <td>4</td>\n",
              "      <td>1</td>\n",
              "      <td>Tuesday</td>\n",
              "      <td>0</td>\n",
              "      <td>47</td>\n",
              "      <td>326</td>\n",
              "      <td>4</td>\n",
              "      <td>105</td>\n",
              "      <td>323</td>\n",
              "      <td>128</td>\n",
              "      <td>128</td>\n",
              "      <td>3</td>\n",
              "      <td>3</td>\n",
              "      <td>128</td>\n",
              "    </tr>\n",
              "    <tr>\n",
              "      <th>4</th>\n",
              "      <td>6080</td>\n",
              "      <td>1210</td>\n",
              "      <td>2886</td>\n",
              "      <td>12</td>\n",
              "      <td>2011-05-06 09:00:00</td>\n",
              "      <td>1.65</td>\n",
              "      <td>13952.0</td>\n",
              "      <td>35</td>\n",
              "      <td>5</td>\n",
              "      <td>6</td>\n",
              "      <td>2011</td>\n",
              "      <td>2</td>\n",
              "      <td>4</td>\n",
              "      <td>Friday</td>\n",
              "      <td>0</td>\n",
              "      <td>18</td>\n",
              "      <td>126</td>\n",
              "      <td>2</td>\n",
              "      <td>86</td>\n",
              "      <td>1042</td>\n",
              "      <td>95</td>\n",
              "      <td>95</td>\n",
              "      <td>2</td>\n",
              "      <td>2</td>\n",
              "      <td>95</td>\n",
              "    </tr>\n",
              "  </tbody>\n",
              "</table>\n",
              "</div>"
            ],
            "text/plain": [
              "   InvoiceNo  StockCode  ...  Unique_days_per_customer  total_days_per_customer\n",
              "0       6141       1583  ...                        24                      791\n",
              "1       6349       1300  ...                        33                      394\n",
              "2      16783       2178  ...                        15                      307\n",
              "3      16971       2115  ...                         3                      128\n",
              "4       6080       1210  ...                         2                       95\n",
              "\n",
              "[5 rows x 25 columns]"
            ]
          },
          "metadata": {
            "tags": []
          },
          "execution_count": 76
        }
      ]
    },
    {
      "cell_type": "code",
      "metadata": {
        "id": "7b5pEeCFCRzJ"
      },
      "source": [
        "train =train.drop([\"Year:_2010\",\"Year:_2011\"],axis =1)"
      ],
      "execution_count": null,
      "outputs": []
    },
    {
      "cell_type": "code",
      "metadata": {
        "id": "hpIaj1vUCRwg",
        "colab": {
          "base_uri": "https://localhost:8080/",
          "height": 270
        },
        "outputId": "57b9315f-78aa-4530-97b8-7fae2fc44b28"
      },
      "source": [
        "train.head()"
      ],
      "execution_count": null,
      "outputs": [
        {
          "output_type": "execute_result",
          "data": {
            "text/html": [
              "<div>\n",
              "<style scoped>\n",
              "    .dataframe tbody tr th:only-of-type {\n",
              "        vertical-align: middle;\n",
              "    }\n",
              "\n",
              "    .dataframe tbody tr th {\n",
              "        vertical-align: top;\n",
              "    }\n",
              "\n",
              "    .dataframe thead th {\n",
              "        text-align: right;\n",
              "    }\n",
              "</style>\n",
              "<table border=\"1\" class=\"dataframe\">\n",
              "  <thead>\n",
              "    <tr style=\"text-align: right;\">\n",
              "      <th></th>\n",
              "      <th>InvoiceNo</th>\n",
              "      <th>StockCode</th>\n",
              "      <th>Description</th>\n",
              "      <th>Quantity</th>\n",
              "      <th>UnitPrice</th>\n",
              "      <th>CustomerID</th>\n",
              "      <th>Country</th>\n",
              "      <th>month</th>\n",
              "      <th>day</th>\n",
              "      <th>year</th>\n",
              "      <th>quarter</th>\n",
              "      <th>day of the week</th>\n",
              "      <th>is_weekend</th>\n",
              "      <th>week_of_the_year</th>\n",
              "      <th>35</th>\n",
              "      <th>year_2010</th>\n",
              "      <th>year_2011</th>\n",
              "    </tr>\n",
              "  </thead>\n",
              "  <tbody>\n",
              "    <tr>\n",
              "      <th>0</th>\n",
              "      <td>6141</td>\n",
              "      <td>1583</td>\n",
              "      <td>144</td>\n",
              "      <td>3</td>\n",
              "      <td>3.75</td>\n",
              "      <td>14056.0</td>\n",
              "      <td>35</td>\n",
              "      <td>5</td>\n",
              "      <td>6</td>\n",
              "      <td>2011</td>\n",
              "      <td>2</td>\n",
              "      <td>4</td>\n",
              "      <td>0</td>\n",
              "      <td>18</td>\n",
              "      <td>1</td>\n",
              "      <td>0</td>\n",
              "      <td>1</td>\n",
              "    </tr>\n",
              "    <tr>\n",
              "      <th>1</th>\n",
              "      <td>6349</td>\n",
              "      <td>1300</td>\n",
              "      <td>3682</td>\n",
              "      <td>6</td>\n",
              "      <td>1.95</td>\n",
              "      <td>13098.0</td>\n",
              "      <td>35</td>\n",
              "      <td>5</td>\n",
              "      <td>11</td>\n",
              "      <td>2011</td>\n",
              "      <td>2</td>\n",
              "      <td>2</td>\n",
              "      <td>0</td>\n",
              "      <td>19</td>\n",
              "      <td>1</td>\n",
              "      <td>0</td>\n",
              "      <td>1</td>\n",
              "    </tr>\n",
              "    <tr>\n",
              "      <th>2</th>\n",
              "      <td>16783</td>\n",
              "      <td>2178</td>\n",
              "      <td>1939</td>\n",
              "      <td>4</td>\n",
              "      <td>5.95</td>\n",
              "      <td>15044.0</td>\n",
              "      <td>35</td>\n",
              "      <td>11</td>\n",
              "      <td>20</td>\n",
              "      <td>2011</td>\n",
              "      <td>4</td>\n",
              "      <td>6</td>\n",
              "      <td>1</td>\n",
              "      <td>46</td>\n",
              "      <td>1</td>\n",
              "      <td>0</td>\n",
              "      <td>1</td>\n",
              "    </tr>\n",
              "    <tr>\n",
              "      <th>3</th>\n",
              "      <td>16971</td>\n",
              "      <td>2115</td>\n",
              "      <td>2983</td>\n",
              "      <td>1</td>\n",
              "      <td>0.83</td>\n",
              "      <td>15525.0</td>\n",
              "      <td>35</td>\n",
              "      <td>11</td>\n",
              "      <td>22</td>\n",
              "      <td>2011</td>\n",
              "      <td>4</td>\n",
              "      <td>1</td>\n",
              "      <td>0</td>\n",
              "      <td>47</td>\n",
              "      <td>1</td>\n",
              "      <td>0</td>\n",
              "      <td>1</td>\n",
              "    </tr>\n",
              "    <tr>\n",
              "      <th>4</th>\n",
              "      <td>6080</td>\n",
              "      <td>1210</td>\n",
              "      <td>2886</td>\n",
              "      <td>12</td>\n",
              "      <td>1.65</td>\n",
              "      <td>13952.0</td>\n",
              "      <td>35</td>\n",
              "      <td>5</td>\n",
              "      <td>6</td>\n",
              "      <td>2011</td>\n",
              "      <td>2</td>\n",
              "      <td>4</td>\n",
              "      <td>0</td>\n",
              "      <td>18</td>\n",
              "      <td>1</td>\n",
              "      <td>0</td>\n",
              "      <td>1</td>\n",
              "    </tr>\n",
              "  </tbody>\n",
              "</table>\n",
              "</div>"
            ],
            "text/plain": [
              "   InvoiceNo  StockCode  Description  ...  35  year_2010  year_2011\n",
              "0       6141       1583          144  ...   1          0          1\n",
              "1       6349       1300         3682  ...   1          0          1\n",
              "2      16783       2178         1939  ...   1          0          1\n",
              "3      16971       2115         2983  ...   1          0          1\n",
              "4       6080       1210         2886  ...   1          0          1\n",
              "\n",
              "[5 rows x 17 columns]"
            ]
          },
          "metadata": {
            "tags": []
          },
          "execution_count": 195
        }
      ]
    },
    {
      "cell_type": "code",
      "metadata": {
        "id": "tLg6cTU2chRj",
        "colab": {
          "base_uri": "https://localhost:8080/"
        },
        "outputId": "d013e7b2-38e9-42ce-fbcc-cc84af3affe5"
      },
      "source": [
        "train.shape"
      ],
      "execution_count": null,
      "outputs": [
        {
          "output_type": "execute_result",
          "data": {
            "text/plain": [
              "(284780, 15)"
            ]
          },
          "metadata": {
            "tags": []
          },
          "execution_count": 182
        }
      ]
    },
    {
      "cell_type": "code",
      "metadata": {
        "id": "OAYLRDzvCRsw",
        "colab": {
          "base_uri": "https://localhost:8080/"
        },
        "outputId": "3bc74f2b-7edd-401e-86af-3484e4af93e0"
      },
      "source": [
        "train.year.unique()"
      ],
      "execution_count": null,
      "outputs": [
        {
          "output_type": "execute_result",
          "data": {
            "text/plain": [
              "array([2011, 2010])"
            ]
          },
          "metadata": {
            "tags": []
          },
          "execution_count": 181
        }
      ]
    },
    {
      "cell_type": "code",
      "metadata": {
        "id": "W22ZOEDAc7Rt",
        "colab": {
          "base_uri": "https://localhost:8080/"
        },
        "outputId": "eb1e0180-d606-42b6-b3c6-9a713ba94920"
      },
      "source": [
        "train.year.value_counts()"
      ],
      "execution_count": null,
      "outputs": [
        {
          "output_type": "execute_result",
          "data": {
            "text/plain": [
              "2011    265959\n",
              "2010     18821\n",
              "Name: year, dtype: int64"
            ]
          },
          "metadata": {
            "tags": []
          },
          "execution_count": 187
        }
      ]
    },
    {
      "cell_type": "code",
      "metadata": {
        "id": "5ZTkkKxpu2G9",
        "colab": {
          "base_uri": "https://localhost:8080/"
        },
        "outputId": "9e5e9429-bf5a-4135-d88e-5669a746428a"
      },
      "source": [
        "week = train.week_of_the_year.max() - 2\n",
        "print(week)"
      ],
      "execution_count": null,
      "outputs": [
        {
          "output_type": "stream",
          "text": [
            "49\n"
          ],
          "name": "stdout"
        }
      ]
    },
    {
      "cell_type": "markdown",
      "metadata": {
        "id": "ZLdb2lSO3UNc"
      },
      "source": [
        "## Feature Engineering"
      ]
    },
    {
      "cell_type": "code",
      "metadata": {
        "id": "cIP8MLGVitaY",
        "colab": {
          "base_uri": "https://localhost:8080/",
          "height": 198
        },
        "outputId": "cbf2fc33-48f2-445c-c98e-087a44003eb9"
      },
      "source": [
        "# Creating Product types\n",
        "week = train.week_of_the_year.max() - 2\n",
        "products = pd.DataFrame(index=train.loc[train.week_of_the_year < week].StockCode.unique(), columns = [\"MedianQuantities\"])\n",
        "\n",
        "# products[\"MedianPrice\"] = train.loc[train.week_of_the_year < week].groupby(\"StockCode\").UnitPrice.median()\n",
        "products[\"MedianQuantities\"] = train.loc[train.week_of_the_year < week].groupby(\"StockCode\").Quantity.median()\n",
        "products[\"Customers\"] = train.loc[train.week_of_the_year < week].groupby(\"StockCode\").CustomerID.nunique()\n",
        "products[\"Description\"] = train.loc[train.week_of_the_year < week].groupby(\"StockCode\").Description.median()\n",
        "\n",
        "org_cols = np.copy(products.columns.values)\n",
        "products.head()\n"
      ],
      "execution_count": null,
      "outputs": [
        {
          "output_type": "execute_result",
          "data": {
            "text/html": [
              "<div>\n",
              "<style scoped>\n",
              "    .dataframe tbody tr th:only-of-type {\n",
              "        vertical-align: middle;\n",
              "    }\n",
              "\n",
              "    .dataframe tbody tr th {\n",
              "        vertical-align: top;\n",
              "    }\n",
              "\n",
              "    .dataframe thead th {\n",
              "        text-align: right;\n",
              "    }\n",
              "</style>\n",
              "<table border=\"1\" class=\"dataframe\">\n",
              "  <thead>\n",
              "    <tr style=\"text-align: right;\">\n",
              "      <th></th>\n",
              "      <th>MedianQuantities</th>\n",
              "      <th>Customers</th>\n",
              "      <th>Description</th>\n",
              "    </tr>\n",
              "  </thead>\n",
              "  <tbody>\n",
              "    <tr>\n",
              "      <th>1583</th>\n",
              "      <td>4.0</td>\n",
              "      <td>189</td>\n",
              "      <td>144.0</td>\n",
              "    </tr>\n",
              "    <tr>\n",
              "      <th>1300</th>\n",
              "      <td>6.0</td>\n",
              "      <td>124</td>\n",
              "      <td>3682.0</td>\n",
              "    </tr>\n",
              "    <tr>\n",
              "      <th>2178</th>\n",
              "      <td>3.0</td>\n",
              "      <td>225</td>\n",
              "      <td>1939.0</td>\n",
              "    </tr>\n",
              "    <tr>\n",
              "      <th>2115</th>\n",
              "      <td>8.0</td>\n",
              "      <td>247</td>\n",
              "      <td>2983.0</td>\n",
              "    </tr>\n",
              "    <tr>\n",
              "      <th>1210</th>\n",
              "      <td>3.0</td>\n",
              "      <td>74</td>\n",
              "      <td>2886.0</td>\n",
              "    </tr>\n",
              "  </tbody>\n",
              "</table>\n",
              "</div>"
            ],
            "text/plain": [
              "      MedianQuantities  Customers  Description\n",
              "1583               4.0        189        144.0\n",
              "1300               6.0        124       3682.0\n",
              "2178               3.0        225       1939.0\n",
              "2115               8.0        247       2983.0\n",
              "1210               3.0         74       2886.0"
            ]
          },
          "metadata": {
            "tags": []
          },
          "execution_count": 88
        }
      ]
    },
    {
      "cell_type": "code",
      "metadata": {
        "id": "e9GDWDs1csTk"
      },
      "source": [
        "from sklearn.preprocessing import StandardScaler\n",
        "X = products.values\n",
        "scaler = StandardScaler()\n",
        "X = scaler.fit_transform(X)"
      ],
      "execution_count": null,
      "outputs": []
    },
    {
      "cell_type": "code",
      "metadata": {
        "id": "SnGwJnONlNIx",
        "colab": {
          "base_uri": "https://localhost:8080/",
          "height": 356
        },
        "outputId": "887f9d3b-3d1a-4876-fd94-7cc0be569ed7"
      },
      "source": [
        " from sklearn.cluster import KMeans\n",
        " km = KMeans(n_clusters=30)\n",
        "products[\"cluster\"] = km.fit_predict(X)\n",
        "\n",
        "train[\"ProductType\"] = train.StockCode.map(products.cluster)\n",
        "train.ProductType = train.ProductType.astype(\"object\")\n",
        "train.head()"
      ],
      "execution_count": null,
      "outputs": [
        {
          "output_type": "execute_result",
          "data": {
            "text/html": [
              "<div>\n",
              "<style scoped>\n",
              "    .dataframe tbody tr th:only-of-type {\n",
              "        vertical-align: middle;\n",
              "    }\n",
              "\n",
              "    .dataframe tbody tr th {\n",
              "        vertical-align: top;\n",
              "    }\n",
              "\n",
              "    .dataframe thead th {\n",
              "        text-align: right;\n",
              "    }\n",
              "</style>\n",
              "<table border=\"1\" class=\"dataframe\">\n",
              "  <thead>\n",
              "    <tr style=\"text-align: right;\">\n",
              "      <th></th>\n",
              "      <th>InvoiceNo</th>\n",
              "      <th>StockCode</th>\n",
              "      <th>Description</th>\n",
              "      <th>Quantity</th>\n",
              "      <th>InvoiceDate</th>\n",
              "      <th>UnitPrice</th>\n",
              "      <th>CustomerID</th>\n",
              "      <th>Country</th>\n",
              "      <th>month</th>\n",
              "      <th>day</th>\n",
              "      <th>year</th>\n",
              "      <th>quarter</th>\n",
              "      <th>day of the week</th>\n",
              "      <th>dayofweek_name</th>\n",
              "      <th>is_weekend</th>\n",
              "      <th>week_of_the_year</th>\n",
              "      <th>Dayofyear</th>\n",
              "      <th>35</th>\n",
              "      <th>quantity_negative</th>\n",
              "      <th>ProductType</th>\n",
              "    </tr>\n",
              "  </thead>\n",
              "  <tbody>\n",
              "    <tr>\n",
              "      <th>0</th>\n",
              "      <td>6141</td>\n",
              "      <td>1583</td>\n",
              "      <td>144</td>\n",
              "      <td>3</td>\n",
              "      <td>2011-05-06 16:54:00</td>\n",
              "      <td>3.75</td>\n",
              "      <td>14056.0</td>\n",
              "      <td>35</td>\n",
              "      <td>5</td>\n",
              "      <td>6</td>\n",
              "      <td>2011</td>\n",
              "      <td>2</td>\n",
              "      <td>4</td>\n",
              "      <td>Friday</td>\n",
              "      <td>0</td>\n",
              "      <td>18</td>\n",
              "      <td>126</td>\n",
              "      <td>1</td>\n",
              "      <td>0</td>\n",
              "      <td>13</td>\n",
              "    </tr>\n",
              "    <tr>\n",
              "      <th>1</th>\n",
              "      <td>6349</td>\n",
              "      <td>1300</td>\n",
              "      <td>3682</td>\n",
              "      <td>6</td>\n",
              "      <td>2011-05-11 07:35:00</td>\n",
              "      <td>1.95</td>\n",
              "      <td>13098.0</td>\n",
              "      <td>35</td>\n",
              "      <td>5</td>\n",
              "      <td>11</td>\n",
              "      <td>2011</td>\n",
              "      <td>2</td>\n",
              "      <td>2</td>\n",
              "      <td>Wednesday</td>\n",
              "      <td>0</td>\n",
              "      <td>19</td>\n",
              "      <td>131</td>\n",
              "      <td>1</td>\n",
              "      <td>0</td>\n",
              "      <td>3</td>\n",
              "    </tr>\n",
              "    <tr>\n",
              "      <th>2</th>\n",
              "      <td>16783</td>\n",
              "      <td>2178</td>\n",
              "      <td>1939</td>\n",
              "      <td>4</td>\n",
              "      <td>2011-11-20 13:20:00</td>\n",
              "      <td>5.95</td>\n",
              "      <td>15044.0</td>\n",
              "      <td>35</td>\n",
              "      <td>11</td>\n",
              "      <td>20</td>\n",
              "      <td>2011</td>\n",
              "      <td>4</td>\n",
              "      <td>6</td>\n",
              "      <td>Sunday</td>\n",
              "      <td>1</td>\n",
              "      <td>46</td>\n",
              "      <td>324</td>\n",
              "      <td>1</td>\n",
              "      <td>0</td>\n",
              "      <td>16</td>\n",
              "    </tr>\n",
              "    <tr>\n",
              "      <th>3</th>\n",
              "      <td>16971</td>\n",
              "      <td>2115</td>\n",
              "      <td>2983</td>\n",
              "      <td>1</td>\n",
              "      <td>2011-11-22 12:07:00</td>\n",
              "      <td>0.83</td>\n",
              "      <td>15525.0</td>\n",
              "      <td>35</td>\n",
              "      <td>11</td>\n",
              "      <td>22</td>\n",
              "      <td>2011</td>\n",
              "      <td>4</td>\n",
              "      <td>1</td>\n",
              "      <td>Tuesday</td>\n",
              "      <td>0</td>\n",
              "      <td>47</td>\n",
              "      <td>326</td>\n",
              "      <td>1</td>\n",
              "      <td>0</td>\n",
              "      <td>19</td>\n",
              "    </tr>\n",
              "    <tr>\n",
              "      <th>4</th>\n",
              "      <td>6080</td>\n",
              "      <td>1210</td>\n",
              "      <td>2886</td>\n",
              "      <td>12</td>\n",
              "      <td>2011-05-06 09:00:00</td>\n",
              "      <td>1.65</td>\n",
              "      <td>13952.0</td>\n",
              "      <td>35</td>\n",
              "      <td>5</td>\n",
              "      <td>6</td>\n",
              "      <td>2011</td>\n",
              "      <td>2</td>\n",
              "      <td>4</td>\n",
              "      <td>Friday</td>\n",
              "      <td>0</td>\n",
              "      <td>18</td>\n",
              "      <td>126</td>\n",
              "      <td>1</td>\n",
              "      <td>0</td>\n",
              "      <td>8</td>\n",
              "    </tr>\n",
              "  </tbody>\n",
              "</table>\n",
              "</div>"
            ],
            "text/plain": [
              "   InvoiceNo  StockCode  Description  ...  35 quantity_negative  ProductType\n",
              "0       6141       1583          144  ...   1                 0           13\n",
              "1       6349       1300         3682  ...   1                 0            3\n",
              "2      16783       2178         1939  ...   1                 0           16\n",
              "3      16971       2115         2983  ...   1                 0           19\n",
              "4       6080       1210         2886  ...   1                 0            8\n",
              "\n",
              "[5 rows x 20 columns]"
            ]
          },
          "metadata": {
            "tags": []
          },
          "execution_count": 90
        }
      ]
    },
    {
      "cell_type": "code",
      "metadata": {
        "id": "QB-sc4-klNSK"
      },
      "source": [
        "# Baseline for product types\n",
        "# train[\"KnownStockCodeUnitPriceMedian\"] = train.StockCode.map(train.groupby(\"StockCode\").UnitPrice.median())\n",
        "\n",
        "# known_price_iqr = train.groupby(\"StockCode\").UnitPrice.quantile(0.75) \n",
        "# known_price_iqr -= train.groupby(\"StockCode\").UnitPrice.quantile(0.25) \n",
        "# train[\"KnownStockCodeUnitPriceIQR\"] = train.StockCode.map(known_price_iqr)"
      ],
      "execution_count": null,
      "outputs": []
    },
    {
      "cell_type": "code",
      "metadata": {
        "id": "IuHm9VfKcsbA",
        "colab": {
          "base_uri": "https://localhost:8080/",
          "height": 356
        },
        "outputId": "b8603766-fd3d-40ce-9a6c-a9d02a8b0f21"
      },
      "source": [
        "train.head()"
      ],
      "execution_count": null,
      "outputs": [
        {
          "output_type": "execute_result",
          "data": {
            "text/html": [
              "<div>\n",
              "<style scoped>\n",
              "    .dataframe tbody tr th:only-of-type {\n",
              "        vertical-align: middle;\n",
              "    }\n",
              "\n",
              "    .dataframe tbody tr th {\n",
              "        vertical-align: top;\n",
              "    }\n",
              "\n",
              "    .dataframe thead th {\n",
              "        text-align: right;\n",
              "    }\n",
              "</style>\n",
              "<table border=\"1\" class=\"dataframe\">\n",
              "  <thead>\n",
              "    <tr style=\"text-align: right;\">\n",
              "      <th></th>\n",
              "      <th>InvoiceNo</th>\n",
              "      <th>StockCode</th>\n",
              "      <th>Description</th>\n",
              "      <th>Quantity</th>\n",
              "      <th>InvoiceDate</th>\n",
              "      <th>UnitPrice</th>\n",
              "      <th>CustomerID</th>\n",
              "      <th>Country</th>\n",
              "      <th>month</th>\n",
              "      <th>day</th>\n",
              "      <th>year</th>\n",
              "      <th>quarter</th>\n",
              "      <th>day of the week</th>\n",
              "      <th>dayofweek_name</th>\n",
              "      <th>is_weekend</th>\n",
              "      <th>week_of_the_year</th>\n",
              "      <th>Dayofyear</th>\n",
              "      <th>35</th>\n",
              "    </tr>\n",
              "  </thead>\n",
              "  <tbody>\n",
              "    <tr>\n",
              "      <th>0</th>\n",
              "      <td>6141</td>\n",
              "      <td>1583</td>\n",
              "      <td>144</td>\n",
              "      <td>3</td>\n",
              "      <td>2011-05-06 16:54:00</td>\n",
              "      <td>3.75</td>\n",
              "      <td>14056.0</td>\n",
              "      <td>35</td>\n",
              "      <td>5</td>\n",
              "      <td>6</td>\n",
              "      <td>2011</td>\n",
              "      <td>2</td>\n",
              "      <td>4</td>\n",
              "      <td>Friday</td>\n",
              "      <td>0</td>\n",
              "      <td>18</td>\n",
              "      <td>126</td>\n",
              "      <td>1</td>\n",
              "    </tr>\n",
              "    <tr>\n",
              "      <th>1</th>\n",
              "      <td>6349</td>\n",
              "      <td>1300</td>\n",
              "      <td>3682</td>\n",
              "      <td>6</td>\n",
              "      <td>2011-05-11 07:35:00</td>\n",
              "      <td>1.95</td>\n",
              "      <td>13098.0</td>\n",
              "      <td>35</td>\n",
              "      <td>5</td>\n",
              "      <td>11</td>\n",
              "      <td>2011</td>\n",
              "      <td>2</td>\n",
              "      <td>2</td>\n",
              "      <td>Wednesday</td>\n",
              "      <td>0</td>\n",
              "      <td>19</td>\n",
              "      <td>131</td>\n",
              "      <td>1</td>\n",
              "    </tr>\n",
              "    <tr>\n",
              "      <th>2</th>\n",
              "      <td>16783</td>\n",
              "      <td>2178</td>\n",
              "      <td>1939</td>\n",
              "      <td>4</td>\n",
              "      <td>2011-11-20 13:20:00</td>\n",
              "      <td>5.95</td>\n",
              "      <td>15044.0</td>\n",
              "      <td>35</td>\n",
              "      <td>11</td>\n",
              "      <td>20</td>\n",
              "      <td>2011</td>\n",
              "      <td>4</td>\n",
              "      <td>6</td>\n",
              "      <td>Sunday</td>\n",
              "      <td>1</td>\n",
              "      <td>46</td>\n",
              "      <td>324</td>\n",
              "      <td>1</td>\n",
              "    </tr>\n",
              "    <tr>\n",
              "      <th>3</th>\n",
              "      <td>16971</td>\n",
              "      <td>2115</td>\n",
              "      <td>2983</td>\n",
              "      <td>1</td>\n",
              "      <td>2011-11-22 12:07:00</td>\n",
              "      <td>0.83</td>\n",
              "      <td>15525.0</td>\n",
              "      <td>35</td>\n",
              "      <td>11</td>\n",
              "      <td>22</td>\n",
              "      <td>2011</td>\n",
              "      <td>4</td>\n",
              "      <td>1</td>\n",
              "      <td>Tuesday</td>\n",
              "      <td>0</td>\n",
              "      <td>47</td>\n",
              "      <td>326</td>\n",
              "      <td>1</td>\n",
              "    </tr>\n",
              "    <tr>\n",
              "      <th>4</th>\n",
              "      <td>6080</td>\n",
              "      <td>1210</td>\n",
              "      <td>2886</td>\n",
              "      <td>12</td>\n",
              "      <td>2011-05-06 09:00:00</td>\n",
              "      <td>1.65</td>\n",
              "      <td>13952.0</td>\n",
              "      <td>35</td>\n",
              "      <td>5</td>\n",
              "      <td>6</td>\n",
              "      <td>2011</td>\n",
              "      <td>2</td>\n",
              "      <td>4</td>\n",
              "      <td>Friday</td>\n",
              "      <td>0</td>\n",
              "      <td>18</td>\n",
              "      <td>126</td>\n",
              "      <td>1</td>\n",
              "    </tr>\n",
              "  </tbody>\n",
              "</table>\n",
              "</div>"
            ],
            "text/plain": [
              "   InvoiceNo  StockCode  Description  ...  week_of_the_year Dayofyear  35\n",
              "0       6141       1583          144  ...                18       126   1\n",
              "1       6349       1300         3682  ...                19       131   1\n",
              "2      16783       2178         1939  ...                46       324   1\n",
              "3      16971       2115         2983  ...                47       326   1\n",
              "4       6080       1210         2886  ...                18       126   1\n",
              "\n",
              "[5 rows x 18 columns]"
            ]
          },
          "metadata": {
            "tags": []
          },
          "execution_count": 203
        }
      ]
    },
    {
      "cell_type": "code",
      "metadata": {
        "id": "tcfjaVHrcshj"
      },
      "source": [
        "# to_group = [\"StockCode\", \"year\", \"month\", \"week_of_the_year\", \"day of the week\"]\n",
        "\n",
        "# train = train.set_index(to_group)\n",
        "# train[\"KnownStockCodePrice_WW_median\"] = train.index.map(\n",
        "#     train.groupby(to_group).UnitPrice.median())\n",
        "# train[\"KnownStockCodePrice_WW_mean\"] = train.index.map(\n",
        "#     train.groupby(to_group).UnitPrice.mean().apply(lambda l: np.round(l, 2)))\n",
        "# train[\"KnownStockCodePrice_WW_std\"] = train.index.map(\n",
        "#     train.groupby(to_group).UnitPrice.std().apply(lambda l: np.round(l, 2)))\n",
        "\n",
        "# train = train.reset_index()"
      ],
      "execution_count": null,
      "outputs": []
    },
    {
      "cell_type": "code",
      "metadata": {
        "id": "0csDV4f2sqvQ",
        "colab": {
          "base_uri": "https://localhost:8080/",
          "height": 356
        },
        "outputId": "24d73beb-e6b1-4550-ebcd-5e813d7ea4e1"
      },
      "source": [
        "train.head()"
      ],
      "execution_count": null,
      "outputs": [
        {
          "output_type": "execute_result",
          "data": {
            "text/html": [
              "<div>\n",
              "<style scoped>\n",
              "    .dataframe tbody tr th:only-of-type {\n",
              "        vertical-align: middle;\n",
              "    }\n",
              "\n",
              "    .dataframe tbody tr th {\n",
              "        vertical-align: top;\n",
              "    }\n",
              "\n",
              "    .dataframe thead th {\n",
              "        text-align: right;\n",
              "    }\n",
              "</style>\n",
              "<table border=\"1\" class=\"dataframe\">\n",
              "  <thead>\n",
              "    <tr style=\"text-align: right;\">\n",
              "      <th></th>\n",
              "      <th>InvoiceNo</th>\n",
              "      <th>StockCode</th>\n",
              "      <th>Description</th>\n",
              "      <th>Quantity</th>\n",
              "      <th>InvoiceDate</th>\n",
              "      <th>UnitPrice</th>\n",
              "      <th>CustomerID</th>\n",
              "      <th>Country</th>\n",
              "      <th>month</th>\n",
              "      <th>day</th>\n",
              "      <th>year</th>\n",
              "      <th>quarter</th>\n",
              "      <th>day of the week</th>\n",
              "      <th>dayofweek_name</th>\n",
              "      <th>is_weekend</th>\n",
              "      <th>week_of_the_year</th>\n",
              "      <th>Dayofyear</th>\n",
              "      <th>total_days_per_stockcode</th>\n",
              "      <th>transactions_per_customer</th>\n",
              "      <th>stocks_per_customer</th>\n",
              "      <th>quantity_per_customer</th>\n",
              "      <th>total_transactions_per_customer</th>\n",
              "      <th>Unique_weeks_per_customer</th>\n",
              "      <th>Unique_days_per_customer</th>\n",
              "      <th>35</th>\n",
              "      <th>quantity_returned</th>\n",
              "    </tr>\n",
              "  </thead>\n",
              "  <tbody>\n",
              "    <tr>\n",
              "      <th>0</th>\n",
              "      <td>6141</td>\n",
              "      <td>1583</td>\n",
              "      <td>144</td>\n",
              "      <td>3</td>\n",
              "      <td>2011-05-06 16:54:00</td>\n",
              "      <td>3.75</td>\n",
              "      <td>14056.0</td>\n",
              "      <td>35</td>\n",
              "      <td>5</td>\n",
              "      <td>6</td>\n",
              "      <td>2011</td>\n",
              "      <td>2</td>\n",
              "      <td>4</td>\n",
              "      <td>Friday</td>\n",
              "      <td>0</td>\n",
              "      <td>18</td>\n",
              "      <td>126</td>\n",
              "      <td>331</td>\n",
              "      <td>28</td>\n",
              "      <td>301</td>\n",
              "      <td>2970</td>\n",
              "      <td>791</td>\n",
              "      <td>22</td>\n",
              "      <td>24</td>\n",
              "      <td>1</td>\n",
              "      <td>0</td>\n",
              "    </tr>\n",
              "    <tr>\n",
              "      <th>1</th>\n",
              "      <td>6349</td>\n",
              "      <td>1300</td>\n",
              "      <td>3682</td>\n",
              "      <td>6</td>\n",
              "      <td>2011-05-11 07:35:00</td>\n",
              "      <td>1.95</td>\n",
              "      <td>13098.0</td>\n",
              "      <td>35</td>\n",
              "      <td>5</td>\n",
              "      <td>11</td>\n",
              "      <td>2011</td>\n",
              "      <td>2</td>\n",
              "      <td>2</td>\n",
              "      <td>Wednesday</td>\n",
              "      <td>0</td>\n",
              "      <td>19</td>\n",
              "      <td>131</td>\n",
              "      <td>194</td>\n",
              "      <td>38</td>\n",
              "      <td>146</td>\n",
              "      <td>9960</td>\n",
              "      <td>394</td>\n",
              "      <td>25</td>\n",
              "      <td>33</td>\n",
              "      <td>1</td>\n",
              "      <td>0</td>\n",
              "    </tr>\n",
              "    <tr>\n",
              "      <th>2</th>\n",
              "      <td>16783</td>\n",
              "      <td>2178</td>\n",
              "      <td>1939</td>\n",
              "      <td>4</td>\n",
              "      <td>2011-11-20 13:20:00</td>\n",
              "      <td>5.95</td>\n",
              "      <td>15044.0</td>\n",
              "      <td>35</td>\n",
              "      <td>11</td>\n",
              "      <td>20</td>\n",
              "      <td>2011</td>\n",
              "      <td>4</td>\n",
              "      <td>6</td>\n",
              "      <td>Sunday</td>\n",
              "      <td>1</td>\n",
              "      <td>46</td>\n",
              "      <td>324</td>\n",
              "      <td>317</td>\n",
              "      <td>20</td>\n",
              "      <td>170</td>\n",
              "      <td>1787</td>\n",
              "      <td>307</td>\n",
              "      <td>15</td>\n",
              "      <td>15</td>\n",
              "      <td>1</td>\n",
              "      <td>0</td>\n",
              "    </tr>\n",
              "    <tr>\n",
              "      <th>3</th>\n",
              "      <td>16971</td>\n",
              "      <td>2115</td>\n",
              "      <td>2983</td>\n",
              "      <td>1</td>\n",
              "      <td>2011-11-22 12:07:00</td>\n",
              "      <td>0.83</td>\n",
              "      <td>15525.0</td>\n",
              "      <td>35</td>\n",
              "      <td>11</td>\n",
              "      <td>22</td>\n",
              "      <td>2011</td>\n",
              "      <td>4</td>\n",
              "      <td>1</td>\n",
              "      <td>Tuesday</td>\n",
              "      <td>0</td>\n",
              "      <td>47</td>\n",
              "      <td>326</td>\n",
              "      <td>328</td>\n",
              "      <td>4</td>\n",
              "      <td>105</td>\n",
              "      <td>323</td>\n",
              "      <td>128</td>\n",
              "      <td>3</td>\n",
              "      <td>3</td>\n",
              "      <td>1</td>\n",
              "      <td>0</td>\n",
              "    </tr>\n",
              "    <tr>\n",
              "      <th>4</th>\n",
              "      <td>6080</td>\n",
              "      <td>1210</td>\n",
              "      <td>2886</td>\n",
              "      <td>12</td>\n",
              "      <td>2011-05-06 09:00:00</td>\n",
              "      <td>1.65</td>\n",
              "      <td>13952.0</td>\n",
              "      <td>35</td>\n",
              "      <td>5</td>\n",
              "      <td>6</td>\n",
              "      <td>2011</td>\n",
              "      <td>2</td>\n",
              "      <td>4</td>\n",
              "      <td>Friday</td>\n",
              "      <td>0</td>\n",
              "      <td>18</td>\n",
              "      <td>126</td>\n",
              "      <td>114</td>\n",
              "      <td>2</td>\n",
              "      <td>86</td>\n",
              "      <td>1042</td>\n",
              "      <td>95</td>\n",
              "      <td>2</td>\n",
              "      <td>2</td>\n",
              "      <td>1</td>\n",
              "      <td>0</td>\n",
              "    </tr>\n",
              "  </tbody>\n",
              "</table>\n",
              "</div>"
            ],
            "text/plain": [
              "   InvoiceNo  StockCode  ...  35  quantity_returned\n",
              "0       6141       1583  ...   1                  0\n",
              "1       6349       1300  ...   1                  0\n",
              "2      16783       2178  ...   1                  0\n",
              "3      16971       2115  ...   1                  0\n",
              "4       6080       1210  ...   1                  0\n",
              "\n",
              "[5 rows x 26 columns]"
            ]
          },
          "metadata": {
            "tags": []
          },
          "execution_count": 44
        }
      ]
    },
    {
      "cell_type": "code",
      "metadata": {
        "id": "4peY15kZnTmp",
        "colab": {
          "base_uri": "https://localhost:8080/"
        },
        "outputId": "48c5ae0c-f467-4041-9278-c4a84d261426"
      },
      "source": [
        "week = train.week_of_the_year.max() - 2\n",
        "print(\"Validation after week {}\".format(week))\n",
        "print(\"Validation starts at timepoint {}\".format(train[train.week_of_the_year==week].InvoiceDate.min()))"
      ],
      "execution_count": null,
      "outputs": [
        {
          "output_type": "stream",
          "text": [
            "Validation after week 49\n",
            "Validation starts at timepoint 2010-12-06 08:34:00\n"
          ],
          "name": "stdout"
        }
      ]
    },
    {
      "cell_type": "code",
      "metadata": {
        "id": "QqA7Ur3mdUW4",
        "colab": {
          "base_uri": "https://localhost:8080/",
          "height": 346
        },
        "outputId": "97dc4465-1162-476f-ad1f-e38d4c11616e"
      },
      "source": [
        "plt.figure(figsize=(20,5))\n",
        "plt.plot(train.groupby(\"InvoiceDate\").Quantity.sum(), marker='+', c=\"darkorange\")\n",
        "plt.plot(train.groupby(\"InvoiceDate\").Quantity.sum().rolling(window=30, center=True).mean(),c=\"red\")\n",
        "plt.xticks(rotation=90);\n",
        "plt.title(\"How many quantities are sold per day over the given time?\");"
      ],
      "execution_count": null,
      "outputs": [
        {
          "output_type": "display_data",
          "data": {
            "image/png": "[encoded data removed]",
            "text/plain": [
              "<Figure size 1440x360 with 1 Axes>"
            ]
          },
          "metadata": {
            "tags": [],
            "needs_background": "light"
          }
        }
      ]
    },
    {
      "cell_type": "code",
      "metadata": {
        "id": "w2CFKdowdUq1",
        "colab": {
          "base_uri": "https://localhost:8080/",
          "height": 354
        },
        "outputId": "42ac44ea-ba66-4322-89ab-2408feb3c970"
      },
      "source": [
        "fig, ax = plt.subplots(1,2,figsize=(20,5))\n",
        "\n",
        "weekdays = [\"Monday\", \"Tuesday\", \"Wednesday\", \"Thursday\", \"Friday\", \"Saturday\", \"Sunday\"]\n",
        "yearmonth = [\"Dec-2010\", \"Jan-2011\", \"Feb-2011\", \"Mar-2011\", \"Apr-2011\", \"May-2011\",\n",
        "             \"Jun-2011\", \"Jul-1011\", \"Aug-2011\", \"Sep-2011\", \"Oct-2011\", \"Nov-2011\", \n",
        "             \"Dec-2011\"]\n",
        "\n",
        "train.groupby(\"day of the week\").Quantity.sum().plot(ax=ax[0], marker='o', label=\"Quantity\", c=\"darkorange\");\n",
        "ax[0].legend();\n",
        "ax[0].set_xticks(np.arange(0,7))\n",
        "ax[0].set_xticklabels(weekdays);\n",
        "ax[0].set_xlabel(\"\")\n",
        "ax[0].set_title(\"Total sales per weekday\");\n",
        "\n",
        "ax[1].plot(train.groupby([\"year\", \"month\"]).Quantity.sum().values,\n",
        "    marker='o', label=\"Quantities\", c=\"darkorange\");\n",
        "ax[1].set_xticklabels(yearmonth, rotation=90)\n",
        "ax[1].set_xticks(np.arange(0, len(yearmonth)))\n",
        "ax[1].legend();\n",
        "ax[1].set_title(\"Total sales per month\");"
      ],
      "execution_count": null,
      "outputs": [
        {
          "output_type": "display_data",
          "data": {
            "image/png": "[encoded data removed]",
            "text/plain": [
              "<Figure size 1440x360 with 2 Axes>"
            ]
          },
          "metadata": {
            "tags": [],
            "needs_background": "light"
          }
        }
      ]
    },
    {
      "cell_type": "code",
      "metadata": {
        "id": "tCZHfl5qnT3f"
      },
      "source": [
        "train[\"PreChristmas\"] = (train.Dayofyear <= 358) & (train.Dayofyear >= 243) "
      ],
      "execution_count": null,
      "outputs": []
    },
    {
      "cell_type": "code",
      "metadata": {
        "id": "drPUcjmznT0u",
        "colab": {
          "base_uri": "https://localhost:8080/",
          "height": 356
        },
        "outputId": "1f2609da-8585-4ee8-85e7-2ee3dc077726"
      },
      "source": [
        "for col in [\"day of the week\", \"month\", \"quarter\"]:\n",
        "    train = train.set_index(col)\n",
        "    train[col+\"Quantity_mean\"] = train.loc[train.week_of_the_year < week].groupby(col).Quantity.mean()\n",
        "    train[col+\"Quantity_median\"] = train.loc[train.week_of_the_year < week].groupby(col).Quantity.median()\n",
        "    train[col+\"Quantity_mean_median_diff\"] = train[col+\"Quantity_mean\"] - train[col+\"Quantity_median\"]\n",
        "    train[col+\"Quantity_IQR\"] = train.loc[\n",
        "        train.week_of_the_year < week].groupby(col).Quantity.quantile(0.75) - train.loc[\n",
        "        train.week_of_the_year < week].groupby(col).Quantity.quantile(0.25)\n",
        "    train = train.reset_index()\n",
        "train.head()"
      ],
      "execution_count": null,
      "outputs": [
        {
          "output_type": "execute_result",
          "data": {
            "text/html": [
              "<div>\n",
              "<style scoped>\n",
              "    .dataframe tbody tr th:only-of-type {\n",
              "        vertical-align: middle;\n",
              "    }\n",
              "\n",
              "    .dataframe tbody tr th {\n",
              "        vertical-align: top;\n",
              "    }\n",
              "\n",
              "    .dataframe thead th {\n",
              "        text-align: right;\n",
              "    }\n",
              "</style>\n",
              "<table border=\"1\" class=\"dataframe\">\n",
              "  <thead>\n",
              "    <tr style=\"text-align: right;\">\n",
              "      <th></th>\n",
              "      <th>quarter</th>\n",
              "      <th>month</th>\n",
              "      <th>day of the week</th>\n",
              "      <th>InvoiceNo</th>\n",
              "      <th>StockCode</th>\n",
              "      <th>Description</th>\n",
              "      <th>Quantity</th>\n",
              "      <th>InvoiceDate</th>\n",
              "      <th>UnitPrice</th>\n",
              "      <th>CustomerID</th>\n",
              "      <th>Country</th>\n",
              "      <th>day</th>\n",
              "      <th>year</th>\n",
              "      <th>dayofweek_name</th>\n",
              "      <th>is_weekend</th>\n",
              "      <th>week_of_the_year</th>\n",
              "      <th>Dayofyear</th>\n",
              "      <th>total_days_per_stockcode</th>\n",
              "      <th>transactions_per_customer</th>\n",
              "      <th>stocks_per_customer</th>\n",
              "      <th>quantity_per_customer</th>\n",
              "      <th>total_transactions_per_customer</th>\n",
              "      <th>Unique_weeks_per_customer</th>\n",
              "      <th>Unique_days_per_customer</th>\n",
              "      <th>35</th>\n",
              "      <th>quantity_returned</th>\n",
              "      <th>PreChristmas</th>\n",
              "      <th>day of the weekQuantity_mean</th>\n",
              "      <th>day of the weekQuantity_median</th>\n",
              "      <th>day of the weekQuantity_mean_median_diff</th>\n",
              "      <th>day of the weekQuantity_IQR</th>\n",
              "      <th>monthQuantity_mean</th>\n",
              "      <th>monthQuantity_median</th>\n",
              "      <th>monthQuantity_mean_median_diff</th>\n",
              "      <th>monthQuantity_IQR</th>\n",
              "      <th>quarterQuantity_mean</th>\n",
              "      <th>quarterQuantity_median</th>\n",
              "      <th>quarterQuantity_mean_median_diff</th>\n",
              "      <th>quarterQuantity_IQR</th>\n",
              "    </tr>\n",
              "  </thead>\n",
              "  <tbody>\n",
              "    <tr>\n",
              "      <th>0</th>\n",
              "      <td>2</td>\n",
              "      <td>5</td>\n",
              "      <td>4</td>\n",
              "      <td>6141</td>\n",
              "      <td>1583</td>\n",
              "      <td>144</td>\n",
              "      <td>3</td>\n",
              "      <td>2011-05-06 16:54:00</td>\n",
              "      <td>3.75</td>\n",
              "      <td>14056.0</td>\n",
              "      <td>35</td>\n",
              "      <td>6</td>\n",
              "      <td>2011</td>\n",
              "      <td>Friday</td>\n",
              "      <td>0</td>\n",
              "      <td>18</td>\n",
              "      <td>126</td>\n",
              "      <td>331</td>\n",
              "      <td>28</td>\n",
              "      <td>301</td>\n",
              "      <td>2970</td>\n",
              "      <td>791</td>\n",
              "      <td>22</td>\n",
              "      <td>24</td>\n",
              "      <td>1</td>\n",
              "      <td>0</td>\n",
              "      <td>False</td>\n",
              "      <td>13.166229</td>\n",
              "      <td>6</td>\n",
              "      <td>7.166229</td>\n",
              "      <td>10.0</td>\n",
              "      <td>12.620444</td>\n",
              "      <td>6</td>\n",
              "      <td>6.620444</td>\n",
              "      <td>10.0</td>\n",
              "      <td>12.529040</td>\n",
              "      <td>6</td>\n",
              "      <td>6.529040</td>\n",
              "      <td>10.0</td>\n",
              "    </tr>\n",
              "    <tr>\n",
              "      <th>1</th>\n",
              "      <td>2</td>\n",
              "      <td>5</td>\n",
              "      <td>2</td>\n",
              "      <td>6349</td>\n",
              "      <td>1300</td>\n",
              "      <td>3682</td>\n",
              "      <td>6</td>\n",
              "      <td>2011-05-11 07:35:00</td>\n",
              "      <td>1.95</td>\n",
              "      <td>13098.0</td>\n",
              "      <td>35</td>\n",
              "      <td>11</td>\n",
              "      <td>2011</td>\n",
              "      <td>Wednesday</td>\n",
              "      <td>0</td>\n",
              "      <td>19</td>\n",
              "      <td>131</td>\n",
              "      <td>194</td>\n",
              "      <td>38</td>\n",
              "      <td>146</td>\n",
              "      <td>9960</td>\n",
              "      <td>394</td>\n",
              "      <td>25</td>\n",
              "      <td>33</td>\n",
              "      <td>1</td>\n",
              "      <td>0</td>\n",
              "      <td>False</td>\n",
              "      <td>12.988095</td>\n",
              "      <td>6</td>\n",
              "      <td>6.988095</td>\n",
              "      <td>10.0</td>\n",
              "      <td>12.620444</td>\n",
              "      <td>6</td>\n",
              "      <td>6.620444</td>\n",
              "      <td>10.0</td>\n",
              "      <td>12.529040</td>\n",
              "      <td>6</td>\n",
              "      <td>6.529040</td>\n",
              "      <td>10.0</td>\n",
              "    </tr>\n",
              "    <tr>\n",
              "      <th>2</th>\n",
              "      <td>4</td>\n",
              "      <td>11</td>\n",
              "      <td>6</td>\n",
              "      <td>16783</td>\n",
              "      <td>2178</td>\n",
              "      <td>1939</td>\n",
              "      <td>4</td>\n",
              "      <td>2011-11-20 13:20:00</td>\n",
              "      <td>5.95</td>\n",
              "      <td>15044.0</td>\n",
              "      <td>35</td>\n",
              "      <td>20</td>\n",
              "      <td>2011</td>\n",
              "      <td>Sunday</td>\n",
              "      <td>1</td>\n",
              "      <td>46</td>\n",
              "      <td>324</td>\n",
              "      <td>317</td>\n",
              "      <td>20</td>\n",
              "      <td>170</td>\n",
              "      <td>1787</td>\n",
              "      <td>307</td>\n",
              "      <td>15</td>\n",
              "      <td>15</td>\n",
              "      <td>1</td>\n",
              "      <td>0</td>\n",
              "      <td>True</td>\n",
              "      <td>7.357508</td>\n",
              "      <td>3</td>\n",
              "      <td>4.357508</td>\n",
              "      <td>7.0</td>\n",
              "      <td>10.309326</td>\n",
              "      <td>4</td>\n",
              "      <td>6.309326</td>\n",
              "      <td>10.0</td>\n",
              "      <td>10.568978</td>\n",
              "      <td>4</td>\n",
              "      <td>6.568978</td>\n",
              "      <td>10.0</td>\n",
              "    </tr>\n",
              "    <tr>\n",
              "      <th>3</th>\n",
              "      <td>4</td>\n",
              "      <td>11</td>\n",
              "      <td>1</td>\n",
              "      <td>16971</td>\n",
              "      <td>2115</td>\n",
              "      <td>2983</td>\n",
              "      <td>1</td>\n",
              "      <td>2011-11-22 12:07:00</td>\n",
              "      <td>0.83</td>\n",
              "      <td>15525.0</td>\n",
              "      <td>35</td>\n",
              "      <td>22</td>\n",
              "      <td>2011</td>\n",
              "      <td>Tuesday</td>\n",
              "      <td>0</td>\n",
              "      <td>47</td>\n",
              "      <td>326</td>\n",
              "      <td>328</td>\n",
              "      <td>4</td>\n",
              "      <td>105</td>\n",
              "      <td>323</td>\n",
              "      <td>128</td>\n",
              "      <td>3</td>\n",
              "      <td>3</td>\n",
              "      <td>1</td>\n",
              "      <td>0</td>\n",
              "      <td>True</td>\n",
              "      <td>13.400934</td>\n",
              "      <td>6</td>\n",
              "      <td>7.400934</td>\n",
              "      <td>10.0</td>\n",
              "      <td>10.309326</td>\n",
              "      <td>4</td>\n",
              "      <td>6.309326</td>\n",
              "      <td>10.0</td>\n",
              "      <td>10.568978</td>\n",
              "      <td>4</td>\n",
              "      <td>6.568978</td>\n",
              "      <td>10.0</td>\n",
              "    </tr>\n",
              "    <tr>\n",
              "      <th>4</th>\n",
              "      <td>2</td>\n",
              "      <td>5</td>\n",
              "      <td>4</td>\n",
              "      <td>6080</td>\n",
              "      <td>1210</td>\n",
              "      <td>2886</td>\n",
              "      <td>12</td>\n",
              "      <td>2011-05-06 09:00:00</td>\n",
              "      <td>1.65</td>\n",
              "      <td>13952.0</td>\n",
              "      <td>35</td>\n",
              "      <td>6</td>\n",
              "      <td>2011</td>\n",
              "      <td>Friday</td>\n",
              "      <td>0</td>\n",
              "      <td>18</td>\n",
              "      <td>126</td>\n",
              "      <td>114</td>\n",
              "      <td>2</td>\n",
              "      <td>86</td>\n",
              "      <td>1042</td>\n",
              "      <td>95</td>\n",
              "      <td>2</td>\n",
              "      <td>2</td>\n",
              "      <td>1</td>\n",
              "      <td>0</td>\n",
              "      <td>False</td>\n",
              "      <td>13.166229</td>\n",
              "      <td>6</td>\n",
              "      <td>7.166229</td>\n",
              "      <td>10.0</td>\n",
              "      <td>12.620444</td>\n",
              "      <td>6</td>\n",
              "      <td>6.620444</td>\n",
              "      <td>10.0</td>\n",
              "      <td>12.529040</td>\n",
              "      <td>6</td>\n",
              "      <td>6.529040</td>\n",
              "      <td>10.0</td>\n",
              "    </tr>\n",
              "  </tbody>\n",
              "</table>\n",
              "</div>"
            ],
            "text/plain": [
              "   quarter  month  ...  quarterQuantity_mean_median_diff  quarterQuantity_IQR\n",
              "0        2      5  ...                          6.529040                 10.0\n",
              "1        2      5  ...                          6.529040                 10.0\n",
              "2        4     11  ...                          6.568978                 10.0\n",
              "3        4     11  ...                          6.568978                 10.0\n",
              "4        2      5  ...                          6.529040                 10.0\n",
              "\n",
              "[5 rows x 39 columns]"
            ]
          },
          "metadata": {
            "tags": []
          },
          "execution_count": 45
        }
      ]
    },
    {
      "cell_type": "code",
      "metadata": {
        "id": "qGRuXIcCnTkW"
      },
      "source": [
        ""
      ],
      "execution_count": null,
      "outputs": []
    },
    {
      "cell_type": "code",
      "metadata": {
        "id": "eoJAaQrYttKi"
      },
      "source": [
        "to_group = [\"StockCode\", \"PreChristmas\"]\n",
        "train = train.set_index(to_group)\n",
        "train[\"PreChristmasMeanQuantity\"] = train.loc[\n",
        "    train.week_of_the_year < week].groupby(to_group).Quantity.mean().apply(lambda l: np.round(l, 1))\n",
        "train[\"PreChristmasMedianQuantity\"] = train.loc[\n",
        "    train.week_of_the_year < week].groupby(to_group).Quantity.median().apply(lambda l: np.round(l, 1))\n",
        "train[\"PreChristmasStdQuantity\"] = train.loc[\n",
        "    train.week_of_the_year < week].groupby(to_group).Quantity.std().apply(lambda l: np.round(l, 1))\n",
        "train = train.reset_index()"
      ],
      "execution_count": null,
      "outputs": []
    },
    {
      "cell_type": "code",
      "metadata": {
        "id": "FkpfTzgJttUM"
      },
      "source": [
        "# Lag-Features:\n",
        "for delta in range(1,4):\n",
        "\n",
        "\n",
        "\n",
        "  to_group = [\"week_of_the_year\",\"day of the week\",\"ProductType\"]\n",
        "  train = train.set_index(to_group)\n",
        "        \n",
        "  train[\"QuantityProducttypeWeekWeekdayLag_\" + str(delta) + \"_median\"] = train.groupby(\n",
        "      to_group).Quantity.median().apply(lambda l: np.round(l,1)).shift(delta)\n",
        "    \n",
        "  train = train.reset_index()\n",
        "  train.loc[train.week_of_the_year >= (week+delta),\n",
        "                \"QuantityProductTypeWeekWeekdayLag_\" + str(delta) + \"_median\"] = np.nan\n"
      ],
      "execution_count": null,
      "outputs": []
    },
    {
      "cell_type": "code",
      "metadata": {
        "id": "xEmDvcKZttht"
      },
      "source": [
        "train[\"ProductType\"] = train.StockCode.map(products.cluster)\n"
      ],
      "execution_count": null,
      "outputs": []
    },
    {
      "cell_type": "code",
      "metadata": {
        "id": "QtXxurcYxYHV"
      },
      "source": [
        "train[\"TransactionsPerProductType\"] = train.ProductType.map(train.loc[train.week_of_the_year < week].groupby(\"ProductType\").InvoiceNo.nunique())"
      ],
      "execution_count": null,
      "outputs": []
    },
    {
      "cell_type": "code",
      "metadata": {
        "id": "OLTWDcL0xYN2",
        "colab": {
          "base_uri": "https://localhost:8080/",
          "height": 356
        },
        "outputId": "3ee2a8f2-459a-4cfc-bf8a-85fbb2f3d91b"
      },
      "source": [
        "train.head()"
      ],
      "execution_count": null,
      "outputs": [
        {
          "output_type": "execute_result",
          "data": {
            "text/html": [
              "<div>\n",
              "<style scoped>\n",
              "    .dataframe tbody tr th:only-of-type {\n",
              "        vertical-align: middle;\n",
              "    }\n",
              "\n",
              "    .dataframe tbody tr th {\n",
              "        vertical-align: top;\n",
              "    }\n",
              "\n",
              "    .dataframe thead th {\n",
              "        text-align: right;\n",
              "    }\n",
              "</style>\n",
              "<table border=\"1\" class=\"dataframe\">\n",
              "  <thead>\n",
              "    <tr style=\"text-align: right;\">\n",
              "      <th></th>\n",
              "      <th>StockCode</th>\n",
              "      <th>PreChristmas</th>\n",
              "      <th>quarter</th>\n",
              "      <th>month</th>\n",
              "      <th>day of the week</th>\n",
              "      <th>InvoiceNo</th>\n",
              "      <th>Description</th>\n",
              "      <th>Quantity</th>\n",
              "      <th>InvoiceDate</th>\n",
              "      <th>UnitPrice</th>\n",
              "      <th>CustomerID</th>\n",
              "      <th>Country</th>\n",
              "      <th>day</th>\n",
              "      <th>year</th>\n",
              "      <th>dayofweek_name</th>\n",
              "      <th>is_weekend</th>\n",
              "      <th>week_of_the_year</th>\n",
              "      <th>Dayofyear</th>\n",
              "      <th>total_days_per_stockcode</th>\n",
              "      <th>transactions_per_customer</th>\n",
              "      <th>stocks_per_customer</th>\n",
              "      <th>quantity_per_customer</th>\n",
              "      <th>total_transactions_per_customer</th>\n",
              "      <th>Unique_weeks_per_customer</th>\n",
              "      <th>Unique_days_per_customer</th>\n",
              "      <th>35</th>\n",
              "      <th>quantity_returned</th>\n",
              "      <th>day of the weekQuantity_mean</th>\n",
              "      <th>day of the weekQuantity_median</th>\n",
              "      <th>day of the weekQuantity_mean_median_diff</th>\n",
              "      <th>day of the weekQuantity_IQR</th>\n",
              "      <th>monthQuantity_mean</th>\n",
              "      <th>monthQuantity_median</th>\n",
              "      <th>monthQuantity_mean_median_diff</th>\n",
              "      <th>monthQuantity_IQR</th>\n",
              "      <th>quarterQuantity_mean</th>\n",
              "      <th>quarterQuantity_median</th>\n",
              "      <th>quarterQuantity_mean_median_diff</th>\n",
              "      <th>quarterQuantity_IQR</th>\n",
              "      <th>PreChristmasMeanQuantity</th>\n",
              "      <th>PreChristmasMedianQuantity</th>\n",
              "      <th>PreChristmasStdQuantity</th>\n",
              "    </tr>\n",
              "  </thead>\n",
              "  <tbody>\n",
              "    <tr>\n",
              "      <th>0</th>\n",
              "      <td>1583</td>\n",
              "      <td>False</td>\n",
              "      <td>2</td>\n",
              "      <td>5</td>\n",
              "      <td>4</td>\n",
              "      <td>6141</td>\n",
              "      <td>144</td>\n",
              "      <td>3</td>\n",
              "      <td>2011-05-06 16:54:00</td>\n",
              "      <td>3.75</td>\n",
              "      <td>14056.0</td>\n",
              "      <td>35</td>\n",
              "      <td>6</td>\n",
              "      <td>2011</td>\n",
              "      <td>Friday</td>\n",
              "      <td>0</td>\n",
              "      <td>18</td>\n",
              "      <td>126</td>\n",
              "      <td>331</td>\n",
              "      <td>28</td>\n",
              "      <td>301</td>\n",
              "      <td>2970</td>\n",
              "      <td>791</td>\n",
              "      <td>22</td>\n",
              "      <td>24</td>\n",
              "      <td>1</td>\n",
              "      <td>0</td>\n",
              "      <td>13.166229</td>\n",
              "      <td>6</td>\n",
              "      <td>7.166229</td>\n",
              "      <td>10.0</td>\n",
              "      <td>12.620444</td>\n",
              "      <td>6</td>\n",
              "      <td>6.620444</td>\n",
              "      <td>10.0</td>\n",
              "      <td>12.529040</td>\n",
              "      <td>6</td>\n",
              "      <td>6.529040</td>\n",
              "      <td>10.0</td>\n",
              "      <td>6.2</td>\n",
              "      <td>4.0</td>\n",
              "      <td>20.9</td>\n",
              "    </tr>\n",
              "    <tr>\n",
              "      <th>1</th>\n",
              "      <td>1300</td>\n",
              "      <td>False</td>\n",
              "      <td>2</td>\n",
              "      <td>5</td>\n",
              "      <td>2</td>\n",
              "      <td>6349</td>\n",
              "      <td>3682</td>\n",
              "      <td>6</td>\n",
              "      <td>2011-05-11 07:35:00</td>\n",
              "      <td>1.95</td>\n",
              "      <td>13098.0</td>\n",
              "      <td>35</td>\n",
              "      <td>11</td>\n",
              "      <td>2011</td>\n",
              "      <td>Wednesday</td>\n",
              "      <td>0</td>\n",
              "      <td>19</td>\n",
              "      <td>131</td>\n",
              "      <td>194</td>\n",
              "      <td>38</td>\n",
              "      <td>146</td>\n",
              "      <td>9960</td>\n",
              "      <td>394</td>\n",
              "      <td>25</td>\n",
              "      <td>33</td>\n",
              "      <td>1</td>\n",
              "      <td>0</td>\n",
              "      <td>12.988095</td>\n",
              "      <td>6</td>\n",
              "      <td>6.988095</td>\n",
              "      <td>10.0</td>\n",
              "      <td>12.620444</td>\n",
              "      <td>6</td>\n",
              "      <td>6.620444</td>\n",
              "      <td>10.0</td>\n",
              "      <td>12.529040</td>\n",
              "      <td>6</td>\n",
              "      <td>6.529040</td>\n",
              "      <td>10.0</td>\n",
              "      <td>7.0</td>\n",
              "      <td>6.0</td>\n",
              "      <td>10.8</td>\n",
              "    </tr>\n",
              "    <tr>\n",
              "      <th>2</th>\n",
              "      <td>2178</td>\n",
              "      <td>True</td>\n",
              "      <td>4</td>\n",
              "      <td>11</td>\n",
              "      <td>6</td>\n",
              "      <td>16783</td>\n",
              "      <td>1939</td>\n",
              "      <td>4</td>\n",
              "      <td>2011-11-20 13:20:00</td>\n",
              "      <td>5.95</td>\n",
              "      <td>15044.0</td>\n",
              "      <td>35</td>\n",
              "      <td>20</td>\n",
              "      <td>2011</td>\n",
              "      <td>Sunday</td>\n",
              "      <td>1</td>\n",
              "      <td>46</td>\n",
              "      <td>324</td>\n",
              "      <td>317</td>\n",
              "      <td>20</td>\n",
              "      <td>170</td>\n",
              "      <td>1787</td>\n",
              "      <td>307</td>\n",
              "      <td>15</td>\n",
              "      <td>15</td>\n",
              "      <td>1</td>\n",
              "      <td>0</td>\n",
              "      <td>7.357508</td>\n",
              "      <td>3</td>\n",
              "      <td>4.357508</td>\n",
              "      <td>7.0</td>\n",
              "      <td>10.309326</td>\n",
              "      <td>4</td>\n",
              "      <td>6.309326</td>\n",
              "      <td>10.0</td>\n",
              "      <td>10.568978</td>\n",
              "      <td>4</td>\n",
              "      <td>6.568978</td>\n",
              "      <td>10.0</td>\n",
              "      <td>4.5</td>\n",
              "      <td>3.0</td>\n",
              "      <td>5.9</td>\n",
              "    </tr>\n",
              "    <tr>\n",
              "      <th>3</th>\n",
              "      <td>2115</td>\n",
              "      <td>True</td>\n",
              "      <td>4</td>\n",
              "      <td>11</td>\n",
              "      <td>1</td>\n",
              "      <td>16971</td>\n",
              "      <td>2983</td>\n",
              "      <td>1</td>\n",
              "      <td>2011-11-22 12:07:00</td>\n",
              "      <td>0.83</td>\n",
              "      <td>15525.0</td>\n",
              "      <td>35</td>\n",
              "      <td>22</td>\n",
              "      <td>2011</td>\n",
              "      <td>Tuesday</td>\n",
              "      <td>0</td>\n",
              "      <td>47</td>\n",
              "      <td>326</td>\n",
              "      <td>328</td>\n",
              "      <td>4</td>\n",
              "      <td>105</td>\n",
              "      <td>323</td>\n",
              "      <td>128</td>\n",
              "      <td>3</td>\n",
              "      <td>3</td>\n",
              "      <td>1</td>\n",
              "      <td>0</td>\n",
              "      <td>13.400934</td>\n",
              "      <td>6</td>\n",
              "      <td>7.400934</td>\n",
              "      <td>10.0</td>\n",
              "      <td>10.309326</td>\n",
              "      <td>4</td>\n",
              "      <td>6.309326</td>\n",
              "      <td>10.0</td>\n",
              "      <td>10.568978</td>\n",
              "      <td>4</td>\n",
              "      <td>6.568978</td>\n",
              "      <td>10.0</td>\n",
              "      <td>14.5</td>\n",
              "      <td>8.0</td>\n",
              "      <td>27.2</td>\n",
              "    </tr>\n",
              "    <tr>\n",
              "      <th>4</th>\n",
              "      <td>1210</td>\n",
              "      <td>False</td>\n",
              "      <td>2</td>\n",
              "      <td>5</td>\n",
              "      <td>4</td>\n",
              "      <td>6080</td>\n",
              "      <td>2886</td>\n",
              "      <td>12</td>\n",
              "      <td>2011-05-06 09:00:00</td>\n",
              "      <td>1.65</td>\n",
              "      <td>13952.0</td>\n",
              "      <td>35</td>\n",
              "      <td>6</td>\n",
              "      <td>2011</td>\n",
              "      <td>Friday</td>\n",
              "      <td>0</td>\n",
              "      <td>18</td>\n",
              "      <td>126</td>\n",
              "      <td>114</td>\n",
              "      <td>2</td>\n",
              "      <td>86</td>\n",
              "      <td>1042</td>\n",
              "      <td>95</td>\n",
              "      <td>2</td>\n",
              "      <td>2</td>\n",
              "      <td>1</td>\n",
              "      <td>0</td>\n",
              "      <td>13.166229</td>\n",
              "      <td>6</td>\n",
              "      <td>7.166229</td>\n",
              "      <td>10.0</td>\n",
              "      <td>12.620444</td>\n",
              "      <td>6</td>\n",
              "      <td>6.620444</td>\n",
              "      <td>10.0</td>\n",
              "      <td>12.529040</td>\n",
              "      <td>6</td>\n",
              "      <td>6.529040</td>\n",
              "      <td>10.0</td>\n",
              "      <td>11.7</td>\n",
              "      <td>3.0</td>\n",
              "      <td>22.3</td>\n",
              "    </tr>\n",
              "  </tbody>\n",
              "</table>\n",
              "</div>"
            ],
            "text/plain": [
              "   StockCode  PreChristmas  ...  PreChristmasMedianQuantity  PreChristmasStdQuantity\n",
              "0       1583         False  ...                         4.0                     20.9\n",
              "1       1300         False  ...                         6.0                     10.8\n",
              "2       2178          True  ...                         3.0                      5.9\n",
              "3       2115          True  ...                         8.0                     27.2\n",
              "4       1210         False  ...                         3.0                     22.3\n",
              "\n",
              "[5 rows x 42 columns]"
            ]
          },
          "metadata": {
            "tags": []
          },
          "execution_count": 47
        }
      ]
    },
    {
      "cell_type": "code",
      "metadata": {
        "id": "GCLHwr8OxYY8"
      },
      "source": [
        "train[\"TransactionsPerStockCode\"] = train.StockCode.map(\n",
        "    train.loc[train.week_of_the_year < week].groupby(\"StockCode\").InvoiceNo.nunique())"
      ],
      "execution_count": null,
      "outputs": []
    },
    {
      "cell_type": "code",
      "metadata": {
        "id": "AFpA6wGZxYTs",
        "colab": {
          "base_uri": "https://localhost:8080/",
          "height": 356
        },
        "outputId": "2f70e8fc-788e-49a5-bdbe-1f3f297b0021"
      },
      "source": [
        "train.head()"
      ],
      "execution_count": null,
      "outputs": [
        {
          "output_type": "execute_result",
          "data": {
            "text/html": [
              "<div>\n",
              "<style scoped>\n",
              "    .dataframe tbody tr th:only-of-type {\n",
              "        vertical-align: middle;\n",
              "    }\n",
              "\n",
              "    .dataframe tbody tr th {\n",
              "        vertical-align: top;\n",
              "    }\n",
              "\n",
              "    .dataframe thead th {\n",
              "        text-align: right;\n",
              "    }\n",
              "</style>\n",
              "<table border=\"1\" class=\"dataframe\">\n",
              "  <thead>\n",
              "    <tr style=\"text-align: right;\">\n",
              "      <th></th>\n",
              "      <th>StockCode</th>\n",
              "      <th>PreChristmas</th>\n",
              "      <th>quarter</th>\n",
              "      <th>month</th>\n",
              "      <th>day of the week</th>\n",
              "      <th>InvoiceNo</th>\n",
              "      <th>Description</th>\n",
              "      <th>Quantity</th>\n",
              "      <th>InvoiceDate</th>\n",
              "      <th>UnitPrice</th>\n",
              "      <th>CustomerID</th>\n",
              "      <th>Country</th>\n",
              "      <th>day</th>\n",
              "      <th>year</th>\n",
              "      <th>dayofweek_name</th>\n",
              "      <th>is_weekend</th>\n",
              "      <th>week_of_the_year</th>\n",
              "      <th>Dayofyear</th>\n",
              "      <th>total_days_per_stockcode</th>\n",
              "      <th>transactions_per_customer</th>\n",
              "      <th>stocks_per_customer</th>\n",
              "      <th>quantity_per_customer</th>\n",
              "      <th>total_transactions_per_customer</th>\n",
              "      <th>Unique_weeks_per_customer</th>\n",
              "      <th>Unique_days_per_customer</th>\n",
              "      <th>35</th>\n",
              "      <th>quantity_returned</th>\n",
              "      <th>day of the weekQuantity_mean</th>\n",
              "      <th>day of the weekQuantity_median</th>\n",
              "      <th>day of the weekQuantity_mean_median_diff</th>\n",
              "      <th>day of the weekQuantity_IQR</th>\n",
              "      <th>monthQuantity_mean</th>\n",
              "      <th>monthQuantity_median</th>\n",
              "      <th>monthQuantity_mean_median_diff</th>\n",
              "      <th>monthQuantity_IQR</th>\n",
              "      <th>quarterQuantity_mean</th>\n",
              "      <th>quarterQuantity_median</th>\n",
              "      <th>quarterQuantity_mean_median_diff</th>\n",
              "      <th>quarterQuantity_IQR</th>\n",
              "      <th>PreChristmasMeanQuantity</th>\n",
              "      <th>PreChristmasMedianQuantity</th>\n",
              "      <th>PreChristmasStdQuantity</th>\n",
              "      <th>TransactionsPerStockCode</th>\n",
              "    </tr>\n",
              "  </thead>\n",
              "  <tbody>\n",
              "    <tr>\n",
              "      <th>0</th>\n",
              "      <td>1583</td>\n",
              "      <td>False</td>\n",
              "      <td>2</td>\n",
              "      <td>5</td>\n",
              "      <td>4</td>\n",
              "      <td>6141</td>\n",
              "      <td>144</td>\n",
              "      <td>3</td>\n",
              "      <td>2011-05-06 16:54:00</td>\n",
              "      <td>3.75</td>\n",
              "      <td>14056.0</td>\n",
              "      <td>35</td>\n",
              "      <td>6</td>\n",
              "      <td>2011</td>\n",
              "      <td>Friday</td>\n",
              "      <td>0</td>\n",
              "      <td>18</td>\n",
              "      <td>126</td>\n",
              "      <td>331</td>\n",
              "      <td>28</td>\n",
              "      <td>301</td>\n",
              "      <td>2970</td>\n",
              "      <td>791</td>\n",
              "      <td>22</td>\n",
              "      <td>24</td>\n",
              "      <td>1</td>\n",
              "      <td>0</td>\n",
              "      <td>13.166229</td>\n",
              "      <td>6</td>\n",
              "      <td>7.166229</td>\n",
              "      <td>10.0</td>\n",
              "      <td>12.620444</td>\n",
              "      <td>6</td>\n",
              "      <td>6.620444</td>\n",
              "      <td>10.0</td>\n",
              "      <td>12.529040</td>\n",
              "      <td>6</td>\n",
              "      <td>6.529040</td>\n",
              "      <td>10.0</td>\n",
              "      <td>6.2</td>\n",
              "      <td>4.0</td>\n",
              "      <td>20.9</td>\n",
              "      <td>295.0</td>\n",
              "    </tr>\n",
              "    <tr>\n",
              "      <th>1</th>\n",
              "      <td>1300</td>\n",
              "      <td>False</td>\n",
              "      <td>2</td>\n",
              "      <td>5</td>\n",
              "      <td>2</td>\n",
              "      <td>6349</td>\n",
              "      <td>3682</td>\n",
              "      <td>6</td>\n",
              "      <td>2011-05-11 07:35:00</td>\n",
              "      <td>1.95</td>\n",
              "      <td>13098.0</td>\n",
              "      <td>35</td>\n",
              "      <td>11</td>\n",
              "      <td>2011</td>\n",
              "      <td>Wednesday</td>\n",
              "      <td>0</td>\n",
              "      <td>19</td>\n",
              "      <td>131</td>\n",
              "      <td>194</td>\n",
              "      <td>38</td>\n",
              "      <td>146</td>\n",
              "      <td>9960</td>\n",
              "      <td>394</td>\n",
              "      <td>25</td>\n",
              "      <td>33</td>\n",
              "      <td>1</td>\n",
              "      <td>0</td>\n",
              "      <td>12.988095</td>\n",
              "      <td>6</td>\n",
              "      <td>6.988095</td>\n",
              "      <td>10.0</td>\n",
              "      <td>12.620444</td>\n",
              "      <td>6</td>\n",
              "      <td>6.620444</td>\n",
              "      <td>10.0</td>\n",
              "      <td>12.529040</td>\n",
              "      <td>6</td>\n",
              "      <td>6.529040</td>\n",
              "      <td>10.0</td>\n",
              "      <td>7.0</td>\n",
              "      <td>6.0</td>\n",
              "      <td>10.8</td>\n",
              "      <td>187.0</td>\n",
              "    </tr>\n",
              "    <tr>\n",
              "      <th>2</th>\n",
              "      <td>2178</td>\n",
              "      <td>True</td>\n",
              "      <td>4</td>\n",
              "      <td>11</td>\n",
              "      <td>6</td>\n",
              "      <td>16783</td>\n",
              "      <td>1939</td>\n",
              "      <td>4</td>\n",
              "      <td>2011-11-20 13:20:00</td>\n",
              "      <td>5.95</td>\n",
              "      <td>15044.0</td>\n",
              "      <td>35</td>\n",
              "      <td>20</td>\n",
              "      <td>2011</td>\n",
              "      <td>Sunday</td>\n",
              "      <td>1</td>\n",
              "      <td>46</td>\n",
              "      <td>324</td>\n",
              "      <td>317</td>\n",
              "      <td>20</td>\n",
              "      <td>170</td>\n",
              "      <td>1787</td>\n",
              "      <td>307</td>\n",
              "      <td>15</td>\n",
              "      <td>15</td>\n",
              "      <td>1</td>\n",
              "      <td>0</td>\n",
              "      <td>7.357508</td>\n",
              "      <td>3</td>\n",
              "      <td>4.357508</td>\n",
              "      <td>7.0</td>\n",
              "      <td>10.309326</td>\n",
              "      <td>4</td>\n",
              "      <td>6.309326</td>\n",
              "      <td>10.0</td>\n",
              "      <td>10.568978</td>\n",
              "      <td>4</td>\n",
              "      <td>6.568978</td>\n",
              "      <td>10.0</td>\n",
              "      <td>4.5</td>\n",
              "      <td>3.0</td>\n",
              "      <td>5.9</td>\n",
              "      <td>294.0</td>\n",
              "    </tr>\n",
              "    <tr>\n",
              "      <th>3</th>\n",
              "      <td>2115</td>\n",
              "      <td>True</td>\n",
              "      <td>4</td>\n",
              "      <td>11</td>\n",
              "      <td>1</td>\n",
              "      <td>16971</td>\n",
              "      <td>2983</td>\n",
              "      <td>1</td>\n",
              "      <td>2011-11-22 12:07:00</td>\n",
              "      <td>0.83</td>\n",
              "      <td>15525.0</td>\n",
              "      <td>35</td>\n",
              "      <td>22</td>\n",
              "      <td>2011</td>\n",
              "      <td>Tuesday</td>\n",
              "      <td>0</td>\n",
              "      <td>47</td>\n",
              "      <td>326</td>\n",
              "      <td>328</td>\n",
              "      <td>4</td>\n",
              "      <td>105</td>\n",
              "      <td>323</td>\n",
              "      <td>128</td>\n",
              "      <td>3</td>\n",
              "      <td>3</td>\n",
              "      <td>1</td>\n",
              "      <td>0</td>\n",
              "      <td>13.400934</td>\n",
              "      <td>6</td>\n",
              "      <td>7.400934</td>\n",
              "      <td>10.0</td>\n",
              "      <td>10.309326</td>\n",
              "      <td>4</td>\n",
              "      <td>6.309326</td>\n",
              "      <td>10.0</td>\n",
              "      <td>10.568978</td>\n",
              "      <td>4</td>\n",
              "      <td>6.568978</td>\n",
              "      <td>10.0</td>\n",
              "      <td>14.5</td>\n",
              "      <td>8.0</td>\n",
              "      <td>27.2</td>\n",
              "      <td>315.0</td>\n",
              "    </tr>\n",
              "    <tr>\n",
              "      <th>4</th>\n",
              "      <td>1210</td>\n",
              "      <td>False</td>\n",
              "      <td>2</td>\n",
              "      <td>5</td>\n",
              "      <td>4</td>\n",
              "      <td>6080</td>\n",
              "      <td>2886</td>\n",
              "      <td>12</td>\n",
              "      <td>2011-05-06 09:00:00</td>\n",
              "      <td>1.65</td>\n",
              "      <td>13952.0</td>\n",
              "      <td>35</td>\n",
              "      <td>6</td>\n",
              "      <td>2011</td>\n",
              "      <td>Friday</td>\n",
              "      <td>0</td>\n",
              "      <td>18</td>\n",
              "      <td>126</td>\n",
              "      <td>114</td>\n",
              "      <td>2</td>\n",
              "      <td>86</td>\n",
              "      <td>1042</td>\n",
              "      <td>95</td>\n",
              "      <td>2</td>\n",
              "      <td>2</td>\n",
              "      <td>1</td>\n",
              "      <td>0</td>\n",
              "      <td>13.166229</td>\n",
              "      <td>6</td>\n",
              "      <td>7.166229</td>\n",
              "      <td>10.0</td>\n",
              "      <td>12.620444</td>\n",
              "      <td>6</td>\n",
              "      <td>6.620444</td>\n",
              "      <td>10.0</td>\n",
              "      <td>12.529040</td>\n",
              "      <td>6</td>\n",
              "      <td>6.529040</td>\n",
              "      <td>10.0</td>\n",
              "      <td>11.7</td>\n",
              "      <td>3.0</td>\n",
              "      <td>22.3</td>\n",
              "      <td>108.0</td>\n",
              "    </tr>\n",
              "  </tbody>\n",
              "</table>\n",
              "</div>"
            ],
            "text/plain": [
              "   StockCode  PreChristmas  ...  PreChristmasStdQuantity  TransactionsPerStockCode\n",
              "0       1583         False  ...                     20.9                     295.0\n",
              "1       1300         False  ...                     10.8                     187.0\n",
              "2       2178          True  ...                      5.9                     294.0\n",
              "3       2115          True  ...                     27.2                     315.0\n",
              "4       1210         False  ...                     22.3                     108.0\n",
              "\n",
              "[5 rows x 43 columns]"
            ]
          },
          "metadata": {
            "tags": []
          },
          "execution_count": 50
        }
      ]
    },
    {
      "cell_type": "code",
      "metadata": {
        "id": "8M-NmxargWw4"
      },
      "source": [
        ""
      ],
      "execution_count": null,
      "outputs": []
    },
    {
      "cell_type": "code",
      "metadata": {
        "id": "TVzu21QQnThe",
        "colab": {
          "base_uri": "https://localhost:8080/"
        },
        "outputId": "bc55e59f-5ff3-4fd6-e29f-ff7c9c916d89"
      },
      "source": [
        "train.info()"
      ],
      "execution_count": null,
      "outputs": [
        {
          "output_type": "stream",
          "text": [
            "<class 'pandas.core.frame.DataFrame'>\n",
            "RangeIndex: 284780 entries, 0 to 284779\n",
            "Data columns (total 42 columns):\n",
            " #   Column                                    Non-Null Count   Dtype         \n",
            "---  ------                                    --------------   -----         \n",
            " 0   StockCode                                 284780 non-null  int64         \n",
            " 1   PreChristmas                              284780 non-null  bool          \n",
            " 2   quarter                                   284780 non-null  int64         \n",
            " 3   month                                     284780 non-null  int64         \n",
            " 4   day of the week                           284780 non-null  int64         \n",
            " 5   InvoiceNo                                 284780 non-null  int64         \n",
            " 6   Description                               284780 non-null  int64         \n",
            " 7   Quantity                                  284780 non-null  int64         \n",
            " 8   InvoiceDate                               284780 non-null  datetime64[ns]\n",
            " 9   UnitPrice                                 284780 non-null  float64       \n",
            " 10  CustomerID                                284780 non-null  float64       \n",
            " 11  Country                                   284780 non-null  int64         \n",
            " 12  day                                       284780 non-null  int64         \n",
            " 13  year                                      284780 non-null  int64         \n",
            " 14  dayofweek_name                            284780 non-null  object        \n",
            " 15  is_weekend                                284780 non-null  int64         \n",
            " 16  week_of_the_year                          284780 non-null  int64         \n",
            " 17  Dayofyear                                 284780 non-null  int64         \n",
            " 18  total_days_per_stockcode                  284780 non-null  int64         \n",
            " 19  transactions_per_customer                 284780 non-null  int64         \n",
            " 20  stocks_per_customer                       284780 non-null  int64         \n",
            " 21  quantity_per_customer                     284780 non-null  int64         \n",
            " 22  total_transactions_per_customer           284780 non-null  int64         \n",
            " 23  Unique_weeks_per_customer                 284780 non-null  int64         \n",
            " 24  Unique_days_per_customer                  284780 non-null  int64         \n",
            " 25  35                                        284780 non-null  int64         \n",
            " 26  quantity_returned                         284780 non-null  int64         \n",
            " 27  day of the weekQuantity_mean              284780 non-null  float64       \n",
            " 28  day of the weekQuantity_median            284780 non-null  int64         \n",
            " 29  day of the weekQuantity_mean_median_diff  284780 non-null  float64       \n",
            " 30  day of the weekQuantity_IQR               284780 non-null  float64       \n",
            " 31  monthQuantity_mean                        284780 non-null  float64       \n",
            " 32  monthQuantity_median                      284780 non-null  int64         \n",
            " 33  monthQuantity_mean_median_diff            284780 non-null  float64       \n",
            " 34  monthQuantity_IQR                         284780 non-null  float64       \n",
            " 35  quarterQuantity_mean                      284780 non-null  float64       \n",
            " 36  quarterQuantity_median                    284780 non-null  int64         \n",
            " 37  quarterQuantity_mean_median_diff          284780 non-null  float64       \n",
            " 38  quarterQuantity_IQR                       284780 non-null  float64       \n",
            " 39  PreChristmasMeanQuantity                  284439 non-null  float64       \n",
            " 40  PreChristmasMedianQuantity                284439 non-null  float64       \n",
            " 41  PreChristmasStdQuantity                   283635 non-null  float64       \n",
            "dtypes: bool(1), datetime64[ns](1), float64(14), int64(25), object(1)\n",
            "memory usage: 89.4+ MB\n"
          ],
          "name": "stdout"
        }
      ]
    },
    {
      "cell_type": "code",
      "metadata": {
        "id": "MBHKqeumnTeJ"
      },
      "source": [
        "train1= train[['week_of_the_year','day of the week',\"StockCode\",'InvoiceNo','CustomerID','Dayofyear','PreChristmasMeanQuantity','QuantityProducttypeWeekWeekdayLag_1_median','QuantityProductTypeWeekWeekdayLag_3_median']]"
      ],
      "execution_count": null,
      "outputs": []
    },
    {
      "cell_type": "markdown",
      "metadata": {
        "id": "TMd-8vG9e3IO"
      },
      "source": [
        "## Split the dataset into training and testing"
      ]
    },
    {
      "cell_type": "code",
      "metadata": {
        "id": "4xpxvhUKPc5w",
        "colab": {
          "base_uri": "https://localhost:8080/",
          "height": 356
        },
        "outputId": "28394344-e203-42ee-c570-cb9f6857f7f0"
      },
      "source": [
        "train.head()"
      ],
      "execution_count": null,
      "outputs": [
        {
          "output_type": "execute_result",
          "data": {
            "text/html": [
              "<div>\n",
              "<style scoped>\n",
              "    .dataframe tbody tr th:only-of-type {\n",
              "        vertical-align: middle;\n",
              "    }\n",
              "\n",
              "    .dataframe tbody tr th {\n",
              "        vertical-align: top;\n",
              "    }\n",
              "\n",
              "    .dataframe thead th {\n",
              "        text-align: right;\n",
              "    }\n",
              "</style>\n",
              "<table border=\"1\" class=\"dataframe\">\n",
              "  <thead>\n",
              "    <tr style=\"text-align: right;\">\n",
              "      <th></th>\n",
              "      <th>StockCode</th>\n",
              "      <th>PreChristmas</th>\n",
              "      <th>quarter</th>\n",
              "      <th>month</th>\n",
              "      <th>day of the week</th>\n",
              "      <th>InvoiceNo</th>\n",
              "      <th>Description</th>\n",
              "      <th>Quantity</th>\n",
              "      <th>InvoiceDate</th>\n",
              "      <th>UnitPrice</th>\n",
              "      <th>CustomerID</th>\n",
              "      <th>Country</th>\n",
              "      <th>day</th>\n",
              "      <th>year</th>\n",
              "      <th>dayofweek_name</th>\n",
              "      <th>is_weekend</th>\n",
              "      <th>week_of_the_year</th>\n",
              "      <th>Dayofyear</th>\n",
              "      <th>total_days_per_stockcode</th>\n",
              "      <th>transactions_per_customer</th>\n",
              "      <th>stocks_per_customer</th>\n",
              "      <th>quantity_per_customer</th>\n",
              "      <th>total_transactions_per_customer</th>\n",
              "      <th>Unique_weeks_per_customer</th>\n",
              "      <th>Unique_days_per_customer</th>\n",
              "      <th>35</th>\n",
              "      <th>quantity_returned</th>\n",
              "      <th>day of the weekQuantity_mean</th>\n",
              "      <th>day of the weekQuantity_median</th>\n",
              "      <th>day of the weekQuantity_mean_median_diff</th>\n",
              "      <th>day of the weekQuantity_IQR</th>\n",
              "      <th>monthQuantity_mean</th>\n",
              "      <th>monthQuantity_median</th>\n",
              "      <th>monthQuantity_mean_median_diff</th>\n",
              "      <th>monthQuantity_IQR</th>\n",
              "      <th>quarterQuantity_mean</th>\n",
              "      <th>quarterQuantity_median</th>\n",
              "      <th>quarterQuantity_mean_median_diff</th>\n",
              "      <th>quarterQuantity_IQR</th>\n",
              "      <th>PreChristmasMeanQuantity</th>\n",
              "      <th>PreChristmasMedianQuantity</th>\n",
              "      <th>PreChristmasStdQuantity</th>\n",
              "      <th>TransactionsPerStockCode</th>\n",
              "    </tr>\n",
              "  </thead>\n",
              "  <tbody>\n",
              "    <tr>\n",
              "      <th>0</th>\n",
              "      <td>1583</td>\n",
              "      <td>False</td>\n",
              "      <td>2</td>\n",
              "      <td>5</td>\n",
              "      <td>4</td>\n",
              "      <td>6141</td>\n",
              "      <td>144</td>\n",
              "      <td>3</td>\n",
              "      <td>2011-05-06 16:54:00</td>\n",
              "      <td>3.75</td>\n",
              "      <td>14056.0</td>\n",
              "      <td>35</td>\n",
              "      <td>6</td>\n",
              "      <td>2011</td>\n",
              "      <td>Friday</td>\n",
              "      <td>0</td>\n",
              "      <td>18</td>\n",
              "      <td>126</td>\n",
              "      <td>331</td>\n",
              "      <td>28</td>\n",
              "      <td>301</td>\n",
              "      <td>2970</td>\n",
              "      <td>791</td>\n",
              "      <td>22</td>\n",
              "      <td>24</td>\n",
              "      <td>1</td>\n",
              "      <td>0</td>\n",
              "      <td>13.166229</td>\n",
              "      <td>6</td>\n",
              "      <td>7.166229</td>\n",
              "      <td>10.0</td>\n",
              "      <td>12.620444</td>\n",
              "      <td>6</td>\n",
              "      <td>6.620444</td>\n",
              "      <td>10.0</td>\n",
              "      <td>12.529040</td>\n",
              "      <td>6</td>\n",
              "      <td>6.529040</td>\n",
              "      <td>10.0</td>\n",
              "      <td>6.2</td>\n",
              "      <td>4.0</td>\n",
              "      <td>20.9</td>\n",
              "      <td>295.0</td>\n",
              "    </tr>\n",
              "    <tr>\n",
              "      <th>1</th>\n",
              "      <td>1300</td>\n",
              "      <td>False</td>\n",
              "      <td>2</td>\n",
              "      <td>5</td>\n",
              "      <td>2</td>\n",
              "      <td>6349</td>\n",
              "      <td>3682</td>\n",
              "      <td>6</td>\n",
              "      <td>2011-05-11 07:35:00</td>\n",
              "      <td>1.95</td>\n",
              "      <td>13098.0</td>\n",
              "      <td>35</td>\n",
              "      <td>11</td>\n",
              "      <td>2011</td>\n",
              "      <td>Wednesday</td>\n",
              "      <td>0</td>\n",
              "      <td>19</td>\n",
              "      <td>131</td>\n",
              "      <td>194</td>\n",
              "      <td>38</td>\n",
              "      <td>146</td>\n",
              "      <td>9960</td>\n",
              "      <td>394</td>\n",
              "      <td>25</td>\n",
              "      <td>33</td>\n",
              "      <td>1</td>\n",
              "      <td>0</td>\n",
              "      <td>12.988095</td>\n",
              "      <td>6</td>\n",
              "      <td>6.988095</td>\n",
              "      <td>10.0</td>\n",
              "      <td>12.620444</td>\n",
              "      <td>6</td>\n",
              "      <td>6.620444</td>\n",
              "      <td>10.0</td>\n",
              "      <td>12.529040</td>\n",
              "      <td>6</td>\n",
              "      <td>6.529040</td>\n",
              "      <td>10.0</td>\n",
              "      <td>7.0</td>\n",
              "      <td>6.0</td>\n",
              "      <td>10.8</td>\n",
              "      <td>187.0</td>\n",
              "    </tr>\n",
              "    <tr>\n",
              "      <th>2</th>\n",
              "      <td>2178</td>\n",
              "      <td>True</td>\n",
              "      <td>4</td>\n",
              "      <td>11</td>\n",
              "      <td>6</td>\n",
              "      <td>16783</td>\n",
              "      <td>1939</td>\n",
              "      <td>4</td>\n",
              "      <td>2011-11-20 13:20:00</td>\n",
              "      <td>5.95</td>\n",
              "      <td>15044.0</td>\n",
              "      <td>35</td>\n",
              "      <td>20</td>\n",
              "      <td>2011</td>\n",
              "      <td>Sunday</td>\n",
              "      <td>1</td>\n",
              "      <td>46</td>\n",
              "      <td>324</td>\n",
              "      <td>317</td>\n",
              "      <td>20</td>\n",
              "      <td>170</td>\n",
              "      <td>1787</td>\n",
              "      <td>307</td>\n",
              "      <td>15</td>\n",
              "      <td>15</td>\n",
              "      <td>1</td>\n",
              "      <td>0</td>\n",
              "      <td>7.357508</td>\n",
              "      <td>3</td>\n",
              "      <td>4.357508</td>\n",
              "      <td>7.0</td>\n",
              "      <td>10.309326</td>\n",
              "      <td>4</td>\n",
              "      <td>6.309326</td>\n",
              "      <td>10.0</td>\n",
              "      <td>10.568978</td>\n",
              "      <td>4</td>\n",
              "      <td>6.568978</td>\n",
              "      <td>10.0</td>\n",
              "      <td>4.5</td>\n",
              "      <td>3.0</td>\n",
              "      <td>5.9</td>\n",
              "      <td>294.0</td>\n",
              "    </tr>\n",
              "    <tr>\n",
              "      <th>3</th>\n",
              "      <td>2115</td>\n",
              "      <td>True</td>\n",
              "      <td>4</td>\n",
              "      <td>11</td>\n",
              "      <td>1</td>\n",
              "      <td>16971</td>\n",
              "      <td>2983</td>\n",
              "      <td>1</td>\n",
              "      <td>2011-11-22 12:07:00</td>\n",
              "      <td>0.83</td>\n",
              "      <td>15525.0</td>\n",
              "      <td>35</td>\n",
              "      <td>22</td>\n",
              "      <td>2011</td>\n",
              "      <td>Tuesday</td>\n",
              "      <td>0</td>\n",
              "      <td>47</td>\n",
              "      <td>326</td>\n",
              "      <td>328</td>\n",
              "      <td>4</td>\n",
              "      <td>105</td>\n",
              "      <td>323</td>\n",
              "      <td>128</td>\n",
              "      <td>3</td>\n",
              "      <td>3</td>\n",
              "      <td>1</td>\n",
              "      <td>0</td>\n",
              "      <td>13.400934</td>\n",
              "      <td>6</td>\n",
              "      <td>7.400934</td>\n",
              "      <td>10.0</td>\n",
              "      <td>10.309326</td>\n",
              "      <td>4</td>\n",
              "      <td>6.309326</td>\n",
              "      <td>10.0</td>\n",
              "      <td>10.568978</td>\n",
              "      <td>4</td>\n",
              "      <td>6.568978</td>\n",
              "      <td>10.0</td>\n",
              "      <td>14.5</td>\n",
              "      <td>8.0</td>\n",
              "      <td>27.2</td>\n",
              "      <td>315.0</td>\n",
              "    </tr>\n",
              "    <tr>\n",
              "      <th>4</th>\n",
              "      <td>1210</td>\n",
              "      <td>False</td>\n",
              "      <td>2</td>\n",
              "      <td>5</td>\n",
              "      <td>4</td>\n",
              "      <td>6080</td>\n",
              "      <td>2886</td>\n",
              "      <td>12</td>\n",
              "      <td>2011-05-06 09:00:00</td>\n",
              "      <td>1.65</td>\n",
              "      <td>13952.0</td>\n",
              "      <td>35</td>\n",
              "      <td>6</td>\n",
              "      <td>2011</td>\n",
              "      <td>Friday</td>\n",
              "      <td>0</td>\n",
              "      <td>18</td>\n",
              "      <td>126</td>\n",
              "      <td>114</td>\n",
              "      <td>2</td>\n",
              "      <td>86</td>\n",
              "      <td>1042</td>\n",
              "      <td>95</td>\n",
              "      <td>2</td>\n",
              "      <td>2</td>\n",
              "      <td>1</td>\n",
              "      <td>0</td>\n",
              "      <td>13.166229</td>\n",
              "      <td>6</td>\n",
              "      <td>7.166229</td>\n",
              "      <td>10.0</td>\n",
              "      <td>12.620444</td>\n",
              "      <td>6</td>\n",
              "      <td>6.620444</td>\n",
              "      <td>10.0</td>\n",
              "      <td>12.529040</td>\n",
              "      <td>6</td>\n",
              "      <td>6.529040</td>\n",
              "      <td>10.0</td>\n",
              "      <td>11.7</td>\n",
              "      <td>3.0</td>\n",
              "      <td>22.3</td>\n",
              "      <td>108.0</td>\n",
              "    </tr>\n",
              "  </tbody>\n",
              "</table>\n",
              "</div>"
            ],
            "text/plain": [
              "   StockCode  PreChristmas  ...  PreChristmasStdQuantity  TransactionsPerStockCode\n",
              "0       1583         False  ...                     20.9                     295.0\n",
              "1       1300         False  ...                     10.8                     187.0\n",
              "2       2178          True  ...                      5.9                     294.0\n",
              "3       2115          True  ...                     27.2                     315.0\n",
              "4       1210         False  ...                     22.3                     108.0\n",
              "\n",
              "[5 rows x 43 columns]"
            ]
          },
          "metadata": {
            "tags": []
          },
          "execution_count": 51
        }
      ]
    },
    {
      "cell_type": "code",
      "metadata": {
        "id": "ozLEeSL7Snun",
        "colab": {
          "base_uri": "https://localhost:8080/",
          "height": 356
        },
        "outputId": "9f6a4eab-6d8e-4725-f5e0-696b74c8de5a"
      },
      "source": [
        "train1.head()"
      ],
      "execution_count": null,
      "outputs": [
        {
          "output_type": "execute_result",
          "data": {
            "text/html": [
              "<div>\n",
              "<style scoped>\n",
              "    .dataframe tbody tr th:only-of-type {\n",
              "        vertical-align: middle;\n",
              "    }\n",
              "\n",
              "    .dataframe tbody tr th {\n",
              "        vertical-align: top;\n",
              "    }\n",
              "\n",
              "    .dataframe thead th {\n",
              "        text-align: right;\n",
              "    }\n",
              "</style>\n",
              "<table border=\"1\" class=\"dataframe\">\n",
              "  <thead>\n",
              "    <tr style=\"text-align: right;\">\n",
              "      <th></th>\n",
              "      <th>InvoiceNo</th>\n",
              "      <th>StockCode</th>\n",
              "      <th>Description</th>\n",
              "      <th>Quantity</th>\n",
              "      <th>InvoiceDate</th>\n",
              "      <th>UnitPrice</th>\n",
              "      <th>CustomerID</th>\n",
              "      <th>Country</th>\n",
              "      <th>month</th>\n",
              "      <th>day</th>\n",
              "      <th>year</th>\n",
              "      <th>quarter</th>\n",
              "      <th>day of the week</th>\n",
              "      <th>dayofweek_name</th>\n",
              "      <th>is_weekend</th>\n",
              "      <th>week_of_the_year</th>\n",
              "      <th>Dayofyear</th>\n",
              "      <th>transactions_per_customer</th>\n",
              "      <th>stocks_per_customer</th>\n",
              "      <th>quantity_per_customer</th>\n",
              "      <th>total_transactions_per_customer</th>\n",
              "      <th>total_weeks_per_customer</th>\n",
              "      <th>Unique_weeks_per_customer</th>\n",
              "      <th>Unique_days_per_customer</th>\n",
              "      <th>total_days_per_customer</th>\n",
              "    </tr>\n",
              "  </thead>\n",
              "  <tbody>\n",
              "    <tr>\n",
              "      <th>0</th>\n",
              "      <td>6141</td>\n",
              "      <td>1583</td>\n",
              "      <td>144</td>\n",
              "      <td>3</td>\n",
              "      <td>2011-05-06 16:54:00</td>\n",
              "      <td>3.75</td>\n",
              "      <td>14056.0</td>\n",
              "      <td>35</td>\n",
              "      <td>5</td>\n",
              "      <td>6</td>\n",
              "      <td>2011</td>\n",
              "      <td>2</td>\n",
              "      <td>4</td>\n",
              "      <td>Friday</td>\n",
              "      <td>0</td>\n",
              "      <td>18</td>\n",
              "      <td>126</td>\n",
              "      <td>28</td>\n",
              "      <td>301</td>\n",
              "      <td>2970</td>\n",
              "      <td>791</td>\n",
              "      <td>791</td>\n",
              "      <td>22</td>\n",
              "      <td>24</td>\n",
              "      <td>791</td>\n",
              "    </tr>\n",
              "    <tr>\n",
              "      <th>1</th>\n",
              "      <td>6349</td>\n",
              "      <td>1300</td>\n",
              "      <td>3682</td>\n",
              "      <td>6</td>\n",
              "      <td>2011-05-11 07:35:00</td>\n",
              "      <td>1.95</td>\n",
              "      <td>13098.0</td>\n",
              "      <td>35</td>\n",
              "      <td>5</td>\n",
              "      <td>11</td>\n",
              "      <td>2011</td>\n",
              "      <td>2</td>\n",
              "      <td>2</td>\n",
              "      <td>Wednesday</td>\n",
              "      <td>0</td>\n",
              "      <td>19</td>\n",
              "      <td>131</td>\n",
              "      <td>38</td>\n",
              "      <td>146</td>\n",
              "      <td>9960</td>\n",
              "      <td>394</td>\n",
              "      <td>394</td>\n",
              "      <td>25</td>\n",
              "      <td>33</td>\n",
              "      <td>394</td>\n",
              "    </tr>\n",
              "    <tr>\n",
              "      <th>2</th>\n",
              "      <td>16783</td>\n",
              "      <td>2178</td>\n",
              "      <td>1939</td>\n",
              "      <td>4</td>\n",
              "      <td>2011-11-20 13:20:00</td>\n",
              "      <td>5.95</td>\n",
              "      <td>15044.0</td>\n",
              "      <td>35</td>\n",
              "      <td>11</td>\n",
              "      <td>20</td>\n",
              "      <td>2011</td>\n",
              "      <td>4</td>\n",
              "      <td>6</td>\n",
              "      <td>Sunday</td>\n",
              "      <td>1</td>\n",
              "      <td>46</td>\n",
              "      <td>324</td>\n",
              "      <td>20</td>\n",
              "      <td>170</td>\n",
              "      <td>1787</td>\n",
              "      <td>307</td>\n",
              "      <td>307</td>\n",
              "      <td>15</td>\n",
              "      <td>15</td>\n",
              "      <td>307</td>\n",
              "    </tr>\n",
              "    <tr>\n",
              "      <th>3</th>\n",
              "      <td>16971</td>\n",
              "      <td>2115</td>\n",
              "      <td>2983</td>\n",
              "      <td>1</td>\n",
              "      <td>2011-11-22 12:07:00</td>\n",
              "      <td>0.83</td>\n",
              "      <td>15525.0</td>\n",
              "      <td>35</td>\n",
              "      <td>11</td>\n",
              "      <td>22</td>\n",
              "      <td>2011</td>\n",
              "      <td>4</td>\n",
              "      <td>1</td>\n",
              "      <td>Tuesday</td>\n",
              "      <td>0</td>\n",
              "      <td>47</td>\n",
              "      <td>326</td>\n",
              "      <td>4</td>\n",
              "      <td>105</td>\n",
              "      <td>323</td>\n",
              "      <td>128</td>\n",
              "      <td>128</td>\n",
              "      <td>3</td>\n",
              "      <td>3</td>\n",
              "      <td>128</td>\n",
              "    </tr>\n",
              "    <tr>\n",
              "      <th>4</th>\n",
              "      <td>6080</td>\n",
              "      <td>1210</td>\n",
              "      <td>2886</td>\n",
              "      <td>12</td>\n",
              "      <td>2011-05-06 09:00:00</td>\n",
              "      <td>1.65</td>\n",
              "      <td>13952.0</td>\n",
              "      <td>35</td>\n",
              "      <td>5</td>\n",
              "      <td>6</td>\n",
              "      <td>2011</td>\n",
              "      <td>2</td>\n",
              "      <td>4</td>\n",
              "      <td>Friday</td>\n",
              "      <td>0</td>\n",
              "      <td>18</td>\n",
              "      <td>126</td>\n",
              "      <td>2</td>\n",
              "      <td>86</td>\n",
              "      <td>1042</td>\n",
              "      <td>95</td>\n",
              "      <td>95</td>\n",
              "      <td>2</td>\n",
              "      <td>2</td>\n",
              "      <td>95</td>\n",
              "    </tr>\n",
              "  </tbody>\n",
              "</table>\n",
              "</div>"
            ],
            "text/plain": [
              "   InvoiceNo  StockCode  ...  Unique_days_per_customer  total_days_per_customer\n",
              "0       6141       1583  ...                        24                      791\n",
              "1       6349       1300  ...                        33                      394\n",
              "2      16783       2178  ...                        15                      307\n",
              "3      16971       2115  ...                         3                      128\n",
              "4       6080       1210  ...                         2                       95\n",
              "\n",
              "[5 rows x 25 columns]"
            ]
          },
          "metadata": {
            "tags": []
          },
          "execution_count": 77
        }
      ]
    },
    {
      "cell_type": "code",
      "metadata": {
        "id": "hPHnEfr6QPpX"
      },
      "source": [
        "train =train.drop([\"dayofweek_name\",\"InvoiceDate\"],axis =1)\n",
        "# train1 =train1.drop([\"dayofweek_name\",\"InvoiceDate\"],axis =1)"
      ],
      "execution_count": null,
      "outputs": []
    },
    {
      "cell_type": "code",
      "metadata": {
        "id": "vGeXlxfyUh6F"
      },
      "source": [
        "# train_new = train.drop([\"Quantity\",\"year\",\"quarter\",\"is_weekend\",\"Dayofyear\",\"Quantity_per_Stock\",\"Quantity_per_invoice\",\"35\",\"quant\"],axis =1)"
      ],
      "execution_count": null,
      "outputs": []
    },
    {
      "cell_type": "code",
      "metadata": {
        "id": "8ERblxz5RudH"
      },
      "source": [
        "train = train.fillna(0)\n"
      ],
      "execution_count": null,
      "outputs": []
    },
    {
      "cell_type": "code",
      "metadata": {
        "id": "NThX7tbmeLTn"
      },
      "source": [
        "x = train\n",
        "x = x.drop([\"UnitPrice\"],axis =1)\n",
        "y = train['UnitPrice']\n"
      ],
      "execution_count": null,
      "outputs": []
    },
    {
      "cell_type": "code",
      "metadata": {
        "id": "uGI0V50bgGzt"
      },
      "source": [
        "x = train1\n",
        "x = x.drop([\"UnitPrice\"],axis =1)\n",
        "y = train1['UnitPrice']\n"
      ],
      "execution_count": null,
      "outputs": []
    },
    {
      "cell_type": "code",
      "metadata": {
        "id": "DjkVU-8TgDa2",
        "colab": {
          "base_uri": "https://localhost:8080/",
          "height": 270
        },
        "outputId": "f0d830a7-e413-4682-aee2-486744ae4048"
      },
      "source": [
        "x.head()"
      ],
      "execution_count": null,
      "outputs": [
        {
          "output_type": "execute_result",
          "data": {
            "text/html": [
              "<div>\n",
              "<style scoped>\n",
              "    .dataframe tbody tr th:only-of-type {\n",
              "        vertical-align: middle;\n",
              "    }\n",
              "\n",
              "    .dataframe tbody tr th {\n",
              "        vertical-align: top;\n",
              "    }\n",
              "\n",
              "    .dataframe thead th {\n",
              "        text-align: right;\n",
              "    }\n",
              "</style>\n",
              "<table border=\"1\" class=\"dataframe\">\n",
              "  <thead>\n",
              "    <tr style=\"text-align: right;\">\n",
              "      <th></th>\n",
              "      <th>StockCode</th>\n",
              "      <th>PreChristmas</th>\n",
              "      <th>quarter</th>\n",
              "      <th>month</th>\n",
              "      <th>day of the week</th>\n",
              "      <th>InvoiceNo</th>\n",
              "      <th>Description</th>\n",
              "      <th>Quantity</th>\n",
              "      <th>CustomerID</th>\n",
              "      <th>Country</th>\n",
              "      <th>day</th>\n",
              "      <th>year</th>\n",
              "      <th>is_weekend</th>\n",
              "      <th>week_of_the_year</th>\n",
              "      <th>Dayofyear</th>\n",
              "      <th>total_days_per_stockcode</th>\n",
              "      <th>transactions_per_customer</th>\n",
              "      <th>stocks_per_customer</th>\n",
              "      <th>quantity_per_customer</th>\n",
              "      <th>total_transactions_per_customer</th>\n",
              "      <th>Unique_weeks_per_customer</th>\n",
              "      <th>Unique_days_per_customer</th>\n",
              "      <th>35</th>\n",
              "      <th>quantity_returned</th>\n",
              "      <th>day of the weekQuantity_mean</th>\n",
              "      <th>day of the weekQuantity_median</th>\n",
              "      <th>day of the weekQuantity_mean_median_diff</th>\n",
              "      <th>day of the weekQuantity_IQR</th>\n",
              "      <th>monthQuantity_mean</th>\n",
              "      <th>monthQuantity_median</th>\n",
              "      <th>monthQuantity_mean_median_diff</th>\n",
              "      <th>monthQuantity_IQR</th>\n",
              "      <th>quarterQuantity_mean</th>\n",
              "      <th>quarterQuantity_median</th>\n",
              "      <th>quarterQuantity_mean_median_diff</th>\n",
              "      <th>quarterQuantity_IQR</th>\n",
              "      <th>PreChristmasMeanQuantity</th>\n",
              "      <th>PreChristmasMedianQuantity</th>\n",
              "      <th>PreChristmasStdQuantity</th>\n",
              "    </tr>\n",
              "  </thead>\n",
              "  <tbody>\n",
              "    <tr>\n",
              "      <th>0</th>\n",
              "      <td>1583</td>\n",
              "      <td>False</td>\n",
              "      <td>2</td>\n",
              "      <td>5</td>\n",
              "      <td>4</td>\n",
              "      <td>6141</td>\n",
              "      <td>144</td>\n",
              "      <td>3</td>\n",
              "      <td>14056.0</td>\n",
              "      <td>35</td>\n",
              "      <td>6</td>\n",
              "      <td>2011</td>\n",
              "      <td>0</td>\n",
              "      <td>18</td>\n",
              "      <td>126</td>\n",
              "      <td>331</td>\n",
              "      <td>28</td>\n",
              "      <td>301</td>\n",
              "      <td>2970</td>\n",
              "      <td>791</td>\n",
              "      <td>22</td>\n",
              "      <td>24</td>\n",
              "      <td>1</td>\n",
              "      <td>0</td>\n",
              "      <td>13.166229</td>\n",
              "      <td>6</td>\n",
              "      <td>7.166229</td>\n",
              "      <td>10.0</td>\n",
              "      <td>12.620444</td>\n",
              "      <td>6</td>\n",
              "      <td>6.620444</td>\n",
              "      <td>10.0</td>\n",
              "      <td>12.529040</td>\n",
              "      <td>6</td>\n",
              "      <td>6.529040</td>\n",
              "      <td>10.0</td>\n",
              "      <td>6.2</td>\n",
              "      <td>4.0</td>\n",
              "      <td>20.9</td>\n",
              "    </tr>\n",
              "    <tr>\n",
              "      <th>1</th>\n",
              "      <td>1300</td>\n",
              "      <td>False</td>\n",
              "      <td>2</td>\n",
              "      <td>5</td>\n",
              "      <td>2</td>\n",
              "      <td>6349</td>\n",
              "      <td>3682</td>\n",
              "      <td>6</td>\n",
              "      <td>13098.0</td>\n",
              "      <td>35</td>\n",
              "      <td>11</td>\n",
              "      <td>2011</td>\n",
              "      <td>0</td>\n",
              "      <td>19</td>\n",
              "      <td>131</td>\n",
              "      <td>194</td>\n",
              "      <td>38</td>\n",
              "      <td>146</td>\n",
              "      <td>9960</td>\n",
              "      <td>394</td>\n",
              "      <td>25</td>\n",
              "      <td>33</td>\n",
              "      <td>1</td>\n",
              "      <td>0</td>\n",
              "      <td>12.988095</td>\n",
              "      <td>6</td>\n",
              "      <td>6.988095</td>\n",
              "      <td>10.0</td>\n",
              "      <td>12.620444</td>\n",
              "      <td>6</td>\n",
              "      <td>6.620444</td>\n",
              "      <td>10.0</td>\n",
              "      <td>12.529040</td>\n",
              "      <td>6</td>\n",
              "      <td>6.529040</td>\n",
              "      <td>10.0</td>\n",
              "      <td>7.0</td>\n",
              "      <td>6.0</td>\n",
              "      <td>10.8</td>\n",
              "    </tr>\n",
              "    <tr>\n",
              "      <th>2</th>\n",
              "      <td>2178</td>\n",
              "      <td>True</td>\n",
              "      <td>4</td>\n",
              "      <td>11</td>\n",
              "      <td>6</td>\n",
              "      <td>16783</td>\n",
              "      <td>1939</td>\n",
              "      <td>4</td>\n",
              "      <td>15044.0</td>\n",
              "      <td>35</td>\n",
              "      <td>20</td>\n",
              "      <td>2011</td>\n",
              "      <td>1</td>\n",
              "      <td>46</td>\n",
              "      <td>324</td>\n",
              "      <td>317</td>\n",
              "      <td>20</td>\n",
              "      <td>170</td>\n",
              "      <td>1787</td>\n",
              "      <td>307</td>\n",
              "      <td>15</td>\n",
              "      <td>15</td>\n",
              "      <td>1</td>\n",
              "      <td>0</td>\n",
              "      <td>7.357508</td>\n",
              "      <td>3</td>\n",
              "      <td>4.357508</td>\n",
              "      <td>7.0</td>\n",
              "      <td>10.309326</td>\n",
              "      <td>4</td>\n",
              "      <td>6.309326</td>\n",
              "      <td>10.0</td>\n",
              "      <td>10.568978</td>\n",
              "      <td>4</td>\n",
              "      <td>6.568978</td>\n",
              "      <td>10.0</td>\n",
              "      <td>4.5</td>\n",
              "      <td>3.0</td>\n",
              "      <td>5.9</td>\n",
              "    </tr>\n",
              "    <tr>\n",
              "      <th>3</th>\n",
              "      <td>2115</td>\n",
              "      <td>True</td>\n",
              "      <td>4</td>\n",
              "      <td>11</td>\n",
              "      <td>1</td>\n",
              "      <td>16971</td>\n",
              "      <td>2983</td>\n",
              "      <td>1</td>\n",
              "      <td>15525.0</td>\n",
              "      <td>35</td>\n",
              "      <td>22</td>\n",
              "      <td>2011</td>\n",
              "      <td>0</td>\n",
              "      <td>47</td>\n",
              "      <td>326</td>\n",
              "      <td>328</td>\n",
              "      <td>4</td>\n",
              "      <td>105</td>\n",
              "      <td>323</td>\n",
              "      <td>128</td>\n",
              "      <td>3</td>\n",
              "      <td>3</td>\n",
              "      <td>1</td>\n",
              "      <td>0</td>\n",
              "      <td>13.400934</td>\n",
              "      <td>6</td>\n",
              "      <td>7.400934</td>\n",
              "      <td>10.0</td>\n",
              "      <td>10.309326</td>\n",
              "      <td>4</td>\n",
              "      <td>6.309326</td>\n",
              "      <td>10.0</td>\n",
              "      <td>10.568978</td>\n",
              "      <td>4</td>\n",
              "      <td>6.568978</td>\n",
              "      <td>10.0</td>\n",
              "      <td>14.5</td>\n",
              "      <td>8.0</td>\n",
              "      <td>27.2</td>\n",
              "    </tr>\n",
              "    <tr>\n",
              "      <th>4</th>\n",
              "      <td>1210</td>\n",
              "      <td>False</td>\n",
              "      <td>2</td>\n",
              "      <td>5</td>\n",
              "      <td>4</td>\n",
              "      <td>6080</td>\n",
              "      <td>2886</td>\n",
              "      <td>12</td>\n",
              "      <td>13952.0</td>\n",
              "      <td>35</td>\n",
              "      <td>6</td>\n",
              "      <td>2011</td>\n",
              "      <td>0</td>\n",
              "      <td>18</td>\n",
              "      <td>126</td>\n",
              "      <td>114</td>\n",
              "      <td>2</td>\n",
              "      <td>86</td>\n",
              "      <td>1042</td>\n",
              "      <td>95</td>\n",
              "      <td>2</td>\n",
              "      <td>2</td>\n",
              "      <td>1</td>\n",
              "      <td>0</td>\n",
              "      <td>13.166229</td>\n",
              "      <td>6</td>\n",
              "      <td>7.166229</td>\n",
              "      <td>10.0</td>\n",
              "      <td>12.620444</td>\n",
              "      <td>6</td>\n",
              "      <td>6.620444</td>\n",
              "      <td>10.0</td>\n",
              "      <td>12.529040</td>\n",
              "      <td>6</td>\n",
              "      <td>6.529040</td>\n",
              "      <td>10.0</td>\n",
              "      <td>11.7</td>\n",
              "      <td>3.0</td>\n",
              "      <td>22.3</td>\n",
              "    </tr>\n",
              "  </tbody>\n",
              "</table>\n",
              "</div>"
            ],
            "text/plain": [
              "   StockCode  PreChristmas  ...  PreChristmasMedianQuantity  PreChristmasStdQuantity\n",
              "0       1583         False  ...                         4.0                     20.9\n",
              "1       1300         False  ...                         6.0                     10.8\n",
              "2       2178          True  ...                         3.0                      5.9\n",
              "3       2115          True  ...                         8.0                     27.2\n",
              "4       1210         False  ...                         3.0                     22.3\n",
              "\n",
              "[5 rows x 39 columns]"
            ]
          },
          "metadata": {
            "tags": []
          },
          "execution_count": 65
        }
      ]
    },
    {
      "cell_type": "code",
      "metadata": {
        "id": "MH7gX_LafPSF"
      },
      "source": [
        "x_train, x_test, y_train, y_test = train_test_split(x, y, test_size = 0.3, random_state = 30)"
      ],
      "execution_count": null,
      "outputs": []
    },
    {
      "cell_type": "code",
      "metadata": {
        "id": "JQbmC56qZpoR"
      },
      "source": [
        ""
      ],
      "execution_count": null,
      "outputs": []
    },
    {
      "cell_type": "code",
      "metadata": {
        "id": "OrwPGzK8BoPf",
        "colab": {
          "base_uri": "https://localhost:8080/",
          "height": 270
        },
        "outputId": "8ff58cce-5f05-4d1a-80c6-c387e2b7247d"
      },
      "source": [
        "x_train.head()\n"
      ],
      "execution_count": null,
      "outputs": [
        {
          "output_type": "execute_result",
          "data": {
            "text/html": [
              "<div>\n",
              "<style scoped>\n",
              "    .dataframe tbody tr th:only-of-type {\n",
              "        vertical-align: middle;\n",
              "    }\n",
              "\n",
              "    .dataframe tbody tr th {\n",
              "        vertical-align: top;\n",
              "    }\n",
              "\n",
              "    .dataframe thead th {\n",
              "        text-align: right;\n",
              "    }\n",
              "</style>\n",
              "<table border=\"1\" class=\"dataframe\">\n",
              "  <thead>\n",
              "    <tr style=\"text-align: right;\">\n",
              "      <th></th>\n",
              "      <th>StockCode</th>\n",
              "      <th>PreChristmas</th>\n",
              "      <th>quarter</th>\n",
              "      <th>month</th>\n",
              "      <th>day of the week</th>\n",
              "      <th>InvoiceNo</th>\n",
              "      <th>Description</th>\n",
              "      <th>Quantity</th>\n",
              "      <th>CustomerID</th>\n",
              "      <th>Country</th>\n",
              "      <th>day</th>\n",
              "      <th>year</th>\n",
              "      <th>is_weekend</th>\n",
              "      <th>week_of_the_year</th>\n",
              "      <th>Dayofyear</th>\n",
              "      <th>total_days_per_stockcode</th>\n",
              "      <th>transactions_per_customer</th>\n",
              "      <th>stocks_per_customer</th>\n",
              "      <th>quantity_per_customer</th>\n",
              "      <th>total_transactions_per_customer</th>\n",
              "      <th>Unique_weeks_per_customer</th>\n",
              "      <th>Unique_days_per_customer</th>\n",
              "      <th>35</th>\n",
              "      <th>quantity_returned</th>\n",
              "      <th>day of the weekQuantity_mean</th>\n",
              "      <th>day of the weekQuantity_median</th>\n",
              "      <th>day of the weekQuantity_mean_median_diff</th>\n",
              "      <th>day of the weekQuantity_IQR</th>\n",
              "      <th>monthQuantity_mean</th>\n",
              "      <th>monthQuantity_median</th>\n",
              "      <th>monthQuantity_mean_median_diff</th>\n",
              "      <th>monthQuantity_IQR</th>\n",
              "      <th>quarterQuantity_mean</th>\n",
              "      <th>quarterQuantity_median</th>\n",
              "      <th>quarterQuantity_mean_median_diff</th>\n",
              "      <th>quarterQuantity_IQR</th>\n",
              "      <th>PreChristmasMeanQuantity</th>\n",
              "      <th>PreChristmasMedianQuantity</th>\n",
              "      <th>PreChristmasStdQuantity</th>\n",
              "    </tr>\n",
              "  </thead>\n",
              "  <tbody>\n",
              "    <tr>\n",
              "      <th>192336</th>\n",
              "      <td>1762</td>\n",
              "      <td>False</td>\n",
              "      <td>1</td>\n",
              "      <td>3</td>\n",
              "      <td>1</td>\n",
              "      <td>3672</td>\n",
              "      <td>1648</td>\n",
              "      <td>24</td>\n",
              "      <td>16917.0</td>\n",
              "      <td>35</td>\n",
              "      <td>8</td>\n",
              "      <td>2011</td>\n",
              "      <td>0</td>\n",
              "      <td>10</td>\n",
              "      <td>67</td>\n",
              "      <td>150</td>\n",
              "      <td>1</td>\n",
              "      <td>8</td>\n",
              "      <td>228</td>\n",
              "      <td>8</td>\n",
              "      <td>1</td>\n",
              "      <td>1</td>\n",
              "      <td>1</td>\n",
              "      <td>0</td>\n",
              "      <td>13.400934</td>\n",
              "      <td>6</td>\n",
              "      <td>7.400934</td>\n",
              "      <td>10.0</td>\n",
              "      <td>12.453478</td>\n",
              "      <td>5</td>\n",
              "      <td>7.453478</td>\n",
              "      <td>10.0</td>\n",
              "      <td>12.452936</td>\n",
              "      <td>6</td>\n",
              "      <td>6.452936</td>\n",
              "      <td>10.0</td>\n",
              "      <td>9.1</td>\n",
              "      <td>10.5</td>\n",
              "      <td>12.4</td>\n",
              "    </tr>\n",
              "    <tr>\n",
              "      <th>254543</th>\n",
              "      <td>3144</td>\n",
              "      <td>True</td>\n",
              "      <td>3</td>\n",
              "      <td>9</td>\n",
              "      <td>0</td>\n",
              "      <td>12370</td>\n",
              "      <td>703</td>\n",
              "      <td>72</td>\n",
              "      <td>12752.0</td>\n",
              "      <td>24</td>\n",
              "      <td>19</td>\n",
              "      <td>2011</td>\n",
              "      <td>0</td>\n",
              "      <td>38</td>\n",
              "      <td>262</td>\n",
              "      <td>177</td>\n",
              "      <td>1</td>\n",
              "      <td>44</td>\n",
              "      <td>1934</td>\n",
              "      <td>44</td>\n",
              "      <td>1</td>\n",
              "      <td>1</td>\n",
              "      <td>0</td>\n",
              "      <td>0</td>\n",
              "      <td>11.231336</td>\n",
              "      <td>5</td>\n",
              "      <td>6.231336</td>\n",
              "      <td>10.0</td>\n",
              "      <td>13.168002</td>\n",
              "      <td>6</td>\n",
              "      <td>7.168002</td>\n",
              "      <td>10.0</td>\n",
              "      <td>13.295755</td>\n",
              "      <td>6</td>\n",
              "      <td>7.295755</td>\n",
              "      <td>10.0</td>\n",
              "      <td>11.1</td>\n",
              "      <td>4.0</td>\n",
              "      <td>19.5</td>\n",
              "    </tr>\n",
              "    <tr>\n",
              "      <th>135042</th>\n",
              "      <td>1546</td>\n",
              "      <td>False</td>\n",
              "      <td>2</td>\n",
              "      <td>4</td>\n",
              "      <td>6</td>\n",
              "      <td>5422</td>\n",
              "      <td>1039</td>\n",
              "      <td>2</td>\n",
              "      <td>17320.0</td>\n",
              "      <td>35</td>\n",
              "      <td>17</td>\n",
              "      <td>2011</td>\n",
              "      <td>1</td>\n",
              "      <td>15</td>\n",
              "      <td>107</td>\n",
              "      <td>221</td>\n",
              "      <td>3</td>\n",
              "      <td>44</td>\n",
              "      <td>519</td>\n",
              "      <td>54</td>\n",
              "      <td>3</td>\n",
              "      <td>3</td>\n",
              "      <td>1</td>\n",
              "      <td>0</td>\n",
              "      <td>7.357508</td>\n",
              "      <td>3</td>\n",
              "      <td>4.357508</td>\n",
              "      <td>7.0</td>\n",
              "      <td>12.046096</td>\n",
              "      <td>5</td>\n",
              "      <td>7.046096</td>\n",
              "      <td>10.0</td>\n",
              "      <td>12.529040</td>\n",
              "      <td>6</td>\n",
              "      <td>6.529040</td>\n",
              "      <td>10.0</td>\n",
              "      <td>3.5</td>\n",
              "      <td>2.0</td>\n",
              "      <td>4.1</td>\n",
              "    </tr>\n",
              "    <tr>\n",
              "      <th>172232</th>\n",
              "      <td>550</td>\n",
              "      <td>True</td>\n",
              "      <td>4</td>\n",
              "      <td>12</td>\n",
              "      <td>6</td>\n",
              "      <td>385</td>\n",
              "      <td>481</td>\n",
              "      <td>5</td>\n",
              "      <td>15889.0</td>\n",
              "      <td>35</td>\n",
              "      <td>5</td>\n",
              "      <td>2010</td>\n",
              "      <td>1</td>\n",
              "      <td>48</td>\n",
              "      <td>339</td>\n",
              "      <td>44</td>\n",
              "      <td>2</td>\n",
              "      <td>59</td>\n",
              "      <td>176</td>\n",
              "      <td>68</td>\n",
              "      <td>2</td>\n",
              "      <td>2</td>\n",
              "      <td>1</td>\n",
              "      <td>0</td>\n",
              "      <td>7.357508</td>\n",
              "      <td>3</td>\n",
              "      <td>4.357508</td>\n",
              "      <td>7.0</td>\n",
              "      <td>9.919169</td>\n",
              "      <td>4</td>\n",
              "      <td>5.919169</td>\n",
              "      <td>11.0</td>\n",
              "      <td>10.568978</td>\n",
              "      <td>4</td>\n",
              "      <td>6.568978</td>\n",
              "      <td>10.0</td>\n",
              "      <td>14.6</td>\n",
              "      <td>12.0</td>\n",
              "      <td>12.7</td>\n",
              "    </tr>\n",
              "    <tr>\n",
              "      <th>204288</th>\n",
              "      <td>980</td>\n",
              "      <td>True</td>\n",
              "      <td>4</td>\n",
              "      <td>11</td>\n",
              "      <td>4</td>\n",
              "      <td>17346</td>\n",
              "      <td>103</td>\n",
              "      <td>1</td>\n",
              "      <td>17920.0</td>\n",
              "      <td>35</td>\n",
              "      <td>25</td>\n",
              "      <td>2011</td>\n",
              "      <td>0</td>\n",
              "      <td>47</td>\n",
              "      <td>329</td>\n",
              "      <td>556</td>\n",
              "      <td>17</td>\n",
              "      <td>331</td>\n",
              "      <td>1636</td>\n",
              "      <td>511</td>\n",
              "      <td>14</td>\n",
              "      <td>16</td>\n",
              "      <td>1</td>\n",
              "      <td>0</td>\n",
              "      <td>13.166229</td>\n",
              "      <td>6</td>\n",
              "      <td>7.166229</td>\n",
              "      <td>10.0</td>\n",
              "      <td>10.309326</td>\n",
              "      <td>4</td>\n",
              "      <td>6.309326</td>\n",
              "      <td>10.0</td>\n",
              "      <td>10.568978</td>\n",
              "      <td>4</td>\n",
              "      <td>6.568978</td>\n",
              "      <td>10.0</td>\n",
              "      <td>12.3</td>\n",
              "      <td>12.0</td>\n",
              "      <td>23.0</td>\n",
              "    </tr>\n",
              "  </tbody>\n",
              "</table>\n",
              "</div>"
            ],
            "text/plain": [
              "        StockCode  ...  PreChristmasStdQuantity\n",
              "192336       1762  ...                     12.4\n",
              "254543       3144  ...                     19.5\n",
              "135042       1546  ...                      4.1\n",
              "172232        550  ...                     12.7\n",
              "204288        980  ...                     23.0\n",
              "\n",
              "[5 rows x 39 columns]"
            ]
          },
          "metadata": {
            "tags": []
          },
          "execution_count": 67
        }
      ]
    },
    {
      "cell_type": "code",
      "metadata": {
        "id": "JiNaQYYSe-dh",
        "colab": {
          "base_uri": "https://localhost:8080/"
        },
        "outputId": "5968a077-f51f-41ff-84be-7742763747c3"
      },
      "source": [
        "print(x_train.shape)\n",
        "print(y_train.shape)\n",
        "print(x_test.shape)\n",
        "print(y_test.shape)\n"
      ],
      "execution_count": null,
      "outputs": [
        {
          "output_type": "stream",
          "text": [
            "(199346, 40)\n",
            "(199346,)\n",
            "(85434, 40)\n",
            "(85434,)\n"
          ],
          "name": "stdout"
        }
      ]
    },
    {
      "cell_type": "code",
      "metadata": {
        "id": "FWYXKOxQ-YRv"
      },
      "source": [
        ""
      ],
      "execution_count": null,
      "outputs": []
    },
    {
      "cell_type": "markdown",
      "metadata": {
        "id": "kXdnwzfNirk_"
      },
      "source": [
        "## Model Building : Linear Regression"
      ]
    },
    {
      "cell_type": "code",
      "metadata": {
        "id": "nUdu_nlsff5b",
        "colab": {
          "base_uri": "https://localhost:8080/"
        },
        "outputId": "b8b4c2e1-4403-443c-e453-52d5db010f6c"
      },
      "source": [
        "reg = linear_model.LinearRegression()\n",
        "reg.fit(x_train, y_train)"
      ],
      "execution_count": null,
      "outputs": [
        {
          "output_type": "execute_result",
          "data": {
            "text/plain": [
              "LinearRegression(copy_X=True, fit_intercept=True, n_jobs=None, normalize=False)"
            ]
          },
          "metadata": {
            "tags": []
          },
          "execution_count": 105
        }
      ]
    },
    {
      "cell_type": "code",
      "metadata": {
        "id": "PhDFshgCJXkb"
      },
      "source": [
        "prediction_reg_training = reg.predict(x_train)"
      ],
      "execution_count": null,
      "outputs": []
    },
    {
      "cell_type": "code",
      "metadata": {
        "id": "O_VJc653f0J4"
      },
      "source": [
        "prediction_reg = reg.predict(x_test)"
      ],
      "execution_count": null,
      "outputs": []
    },
    {
      "cell_type": "code",
      "metadata": {
        "id": "jeqSYgXr_ebt"
      },
      "source": [
        "prediction_reg = pd.DataFrame(prediction_reg)"
      ],
      "execution_count": null,
      "outputs": []
    },
    {
      "cell_type": "code",
      "metadata": {
        "id": "YmLiC6PQ_Rss",
        "colab": {
          "base_uri": "https://localhost:8080/"
        },
        "outputId": "66f9e6c2-263a-4592-c4bd-4e80464be1d1"
      },
      "source": [
        "from sklearn.metrics import mean_squared_error \n",
        "print(mean_squared_error(y_test, prediction_reg)**0.5)"
      ],
      "execution_count": null,
      "outputs": [
        {
          "output_type": "stream",
          "text": [
            "23.74151441400395\n"
          ],
          "name": "stdout"
        }
      ]
    },
    {
      "cell_type": "code",
      "metadata": {
        "id": "JqrB8-XhJf7V",
        "colab": {
          "base_uri": "https://localhost:8080/",
          "height": 281
        },
        "outputId": "69cb9a61-3483-400e-c43f-802ef79778d5"
      },
      "source": [
        "# Visualising the Linear Regression results \n",
        "plt.scatter(x_train.iloc[:,0].values, y_train.values, color = 'blue')\n",
        "\n",
        "  \n",
        "plt.plot(x_train.iloc[:,0].values, prediction_reg_training, color = 'red') \n",
        "plt.title('Linear Regression') \n",
        "#plt.xlabel('Temperature') \n",
        "plt.ylabel('UnitPrice') \n",
        "  \n",
        "plt.show() "
      ],
      "execution_count": null,
      "outputs": [
        {
          "output_type": "display_data",
          "data": {
            "image/png": "[encoded data removed]",
            "text/plain": [
              "<Figure size 432x288 with 1 Axes>"
            ]
          },
          "metadata": {
            "tags": [],
            "needs_background": "light"
          }
        }
      ]
    },
    {
      "cell_type": "code",
      "metadata": {
        "id": "z6jxMv208DAX",
        "colab": {
          "base_uri": "https://localhost:8080/",
          "height": 281
        },
        "outputId": "8d3a4e66-6c9a-4a47-9b46-9ce24117ddc6"
      },
      "source": [
        "# Visualising the Linear Regression results \n",
        "plt.scatter(x_test.iloc[:,0].values, y_test.values, color = 'blue')\n",
        "  \n",
        "plt.plot(x_test.iloc[:,0].values, prediction_reg.values, color = 'red') \n",
        "plt.title('Linear Regression') \n",
        "#plt.xlabel('Temperature') \n",
        "plt.ylabel('UnitPrice') \n",
        "  \n",
        "plt.show() "
      ],
      "execution_count": null,
      "outputs": [
        {
          "output_type": "display_data",
          "data": {
            "image/png": "[encoded data removed]",
            "text/plain": [
              "<Figure size 432x288 with 1 Axes>"
            ]
          },
          "metadata": {
            "tags": [],
            "needs_background": "light"
          }
        }
      ]
    },
    {
      "cell_type": "markdown",
      "metadata": {
        "id": "d-905IpVCIhy"
      },
      "source": [
        "## Model Building : XGBoost Regressor"
      ]
    },
    {
      "cell_type": "code",
      "metadata": {
        "id": "mby1CM9CAxhU"
      },
      "source": [
        ""
      ],
      "execution_count": null,
      "outputs": []
    },
    {
      "cell_type": "code",
      "metadata": {
        "id": "_WyQ_f1yArXW",
        "colab": {
          "base_uri": "https://localhost:8080/"
        },
        "outputId": "7a7b750f-1642-4dc4-be86-170ae12d14ee"
      },
      "source": [
        "from xgboost import XGBRegressor\n",
        "\n",
        "xgb = XGBRegressor()\n",
        "xgb.fit(x_train, y_train)"
      ],
      "execution_count": null,
      "outputs": [
        {
          "output_type": "stream",
          "text": [
            "[15:54:46] WARNING: /workspace/src/objective/regression_obj.cu:152: reg:linear is now deprecated in favor of reg:squarederror.\n"
          ],
          "name": "stdout"
        },
        {
          "output_type": "execute_result",
          "data": {
            "text/plain": [
              "XGBRegressor(base_score=0.5, booster='gbtree', colsample_bylevel=1,\n",
              "             colsample_bynode=1, colsample_bytree=1, gamma=0,\n",
              "             importance_type='gain', learning_rate=0.1, max_delta_step=0,\n",
              "             max_depth=3, min_child_weight=1, missing=None, n_estimators=100,\n",
              "             n_jobs=1, nthread=None, objective='reg:linear', random_state=0,\n",
              "             reg_alpha=0, reg_lambda=1, scale_pos_weight=1, seed=None,\n",
              "             silent=None, subsample=1, verbosity=1)"
            ]
          },
          "metadata": {
            "tags": []
          },
          "execution_count": 78
        }
      ]
    },
    {
      "cell_type": "code",
      "metadata": {
        "id": "b8-WaHm3Azw1",
        "colab": {
          "base_uri": "https://localhost:8080/"
        },
        "outputId": "cb960c87-8f33-4d4b-ee5f-2b0813cef47b"
      },
      "source": [
        "xgb_preds = xgb.predict(x_test)\n",
        "print(mean_squared_error(y_test, xgb_preds)**0.5)"
      ],
      "execution_count": null,
      "outputs": [
        {
          "output_type": "stream",
          "text": [
            "21.00835073356703\n"
          ],
          "name": "stdout"
        }
      ]
    },
    {
      "cell_type": "code",
      "metadata": {
        "id": "jdNjgVfJX4Pn",
        "colab": {
          "base_uri": "https://localhost:8080/",
          "height": 956
        },
        "outputId": "32bfc1ea-c9a9-437f-bc30-de24d5b0db08"
      },
      "source": [
        "importance = xgb.feature_importances_\n",
        "# summarize feature importance\n",
        "for i,v in enumerate(importance):\n",
        "\tprint('Feature: %0d, Score: %.5f' % (i,v))\n",
        "# plot feature importance\n",
        "pyplot.bar([x for x in range(len(importance))], importance)\n",
        "pyplot.show()"
      ],
      "execution_count": null,
      "outputs": [
        {
          "output_type": "stream",
          "text": [
            "Feature: 0, Score: 0.35962\n",
            "Feature: 1, Score: 0.00000\n",
            "Feature: 2, Score: 0.00000\n",
            "Feature: 3, Score: 0.00000\n",
            "Feature: 4, Score: 0.01082\n",
            "Feature: 5, Score: 0.01112\n",
            "Feature: 6, Score: 0.00202\n",
            "Feature: 7, Score: 0.00061\n",
            "Feature: 8, Score: 0.02641\n",
            "Feature: 9, Score: 0.04523\n",
            "Feature: 10, Score: 0.00000\n",
            "Feature: 11, Score: 0.00000\n",
            "Feature: 12, Score: 0.00000\n",
            "Feature: 13, Score: 0.00000\n",
            "Feature: 14, Score: 0.00000\n",
            "Feature: 15, Score: 0.00561\n",
            "Feature: 16, Score: 0.19607\n",
            "Feature: 17, Score: 0.00495\n",
            "Feature: 18, Score: 0.04553\n",
            "Feature: 19, Score: 0.02885\n",
            "Feature: 20, Score: 0.07151\n",
            "Feature: 21, Score: 0.00000\n",
            "Feature: 22, Score: 0.00000\n",
            "Feature: 23, Score: 0.18131\n",
            "Feature: 24, Score: 0.00001\n",
            "Feature: 25, Score: 0.00000\n",
            "Feature: 26, Score: 0.00000\n",
            "Feature: 27, Score: 0.00000\n",
            "Feature: 28, Score: 0.00000\n",
            "Feature: 29, Score: 0.00000\n",
            "Feature: 30, Score: 0.00000\n",
            "Feature: 31, Score: 0.00000\n",
            "Feature: 32, Score: 0.00000\n",
            "Feature: 33, Score: 0.00000\n",
            "Feature: 34, Score: 0.00000\n",
            "Feature: 35, Score: 0.00000\n",
            "Feature: 36, Score: 0.00403\n",
            "Feature: 37, Score: 0.00131\n",
            "Feature: 38, Score: 0.00477\n",
            "Feature: 39, Score: 0.00021\n"
          ],
          "name": "stdout"
        },
        {
          "output_type": "display_data",
          "data": {
            "image/png": "[encoded data removed]",
            "text/plain": [
              "<Figure size 432x288 with 1 Axes>"
            ]
          },
          "metadata": {
            "tags": [],
            "needs_background": "light"
          }
        }
      ]
    },
    {
      "cell_type": "markdown",
      "metadata": {
        "id": "Yy8D3Ts30gst"
      },
      "source": [
        "# Model Building : Random Forest Regression\n",
        "\n"
      ]
    },
    {
      "cell_type": "markdown",
      "metadata": {
        "id": "9K0Cy4br0dNC"
      },
      "source": [
        ""
      ]
    },
    {
      "cell_type": "code",
      "metadata": {
        "id": "2UF0NoZg0aQP",
        "colab": {
          "base_uri": "https://localhost:8080/"
        },
        "outputId": "94ed152f-a307-4ade-df17-1f7a5ac681e2"
      },
      "source": [
        "from sklearn.ensemble import RandomForestRegressor \n",
        "# create regressor object \n",
        "reg_rf = RandomForestRegressor() \n",
        "\n",
        "# fit the regressor with x and y data \n",
        "reg_rf.fit(x_train, y_train)\n",
        " \n",
        "\n"
      ],
      "execution_count": null,
      "outputs": [
        {
          "output_type": "execute_result",
          "data": {
            "text/plain": [
              "RandomForestRegressor(bootstrap=True, ccp_alpha=0.0, criterion='mse',\n",
              "                      max_depth=None, max_features='auto', max_leaf_nodes=None,\n",
              "                      max_samples=None, min_impurity_decrease=0.0,\n",
              "                      min_impurity_split=None, min_samples_leaf=1,\n",
              "                      min_samples_split=2, min_weight_fraction_leaf=0.0,\n",
              "                      n_estimators=100, n_jobs=None, oob_score=False,\n",
              "                      random_state=None, verbose=0, warm_start=False)"
            ]
          },
          "metadata": {
            "tags": []
          },
          "execution_count": 100
        }
      ]
    },
    {
      "cell_type": "code",
      "metadata": {
        "id": "NKne6wIC1qrv"
      },
      "source": [
        "prediction_train =  reg_rf.predict(x_train)\n",
        "prediction_reg_rf = reg_rf.predict(x_test)"
      ],
      "execution_count": null,
      "outputs": []
    },
    {
      "cell_type": "code",
      "metadata": {
        "id": "D9an4z7I4oMK",
        "colab": {
          "base_uri": "https://localhost:8080/"
        },
        "outputId": "68b6bedf-3233-47b5-f046-609da2473607"
      },
      "source": [
        "rmse = np.sqrt(mean_squared_error(y_test, prediction_reg_rf)) \n",
        "print('Root mean square error', rmse) "
      ],
      "execution_count": null,
      "outputs": [
        {
          "output_type": "stream",
          "text": [
            "Root mean square error 17.18642238136398\n"
          ],
          "name": "stdout"
        }
      ]
    },
    {
      "cell_type": "code",
      "metadata": {
        "id": "v2p4_IJ0IN2v",
        "colab": {
          "base_uri": "https://localhost:8080/",
          "height": 281
        },
        "outputId": "2d66f43f-93e5-4bf3-9f99-ce7da8e9ecf3"
      },
      "source": [
        "# Visualising the Linear Regression results \n",
        "plt.scatter(x_train.iloc[:,0].values, y_train.values, color = 'blue')\n",
        "\n",
        "  \n",
        "plt.plot(x_train.iloc[:,0].values,prediction_train, color = 'red') \n",
        "plt.title('Linear Regression') \n",
        "#plt.xlabel('Temperature') \n",
        "plt.ylabel('UnitPrice') \n",
        "  \n",
        "plt.show() "
      ],
      "execution_count": null,
      "outputs": [
        {
          "output_type": "display_data",
          "data": {
            "image/png": "[encoded data removed]",
            "text/plain": [
              "<Figure size 432x288 with 1 Axes>"
            ]
          },
          "metadata": {
            "tags": [],
            "needs_background": "light"
          }
        }
      ]
    },
    {
      "cell_type": "code",
      "metadata": {
        "id": "lkO9DzFe4yXU",
        "colab": {
          "base_uri": "https://localhost:8080/",
          "height": 281
        },
        "outputId": "33596c0d-e1fd-41ef-8227-af550c631312"
      },
      "source": [
        "# Visualising the Linear Regression results \n",
        "plt.scatter(x_test.iloc[:,0].values, y_test.values, color = 'blue')\n",
        "  \n",
        "plt.plot(x_test.iloc[:,0].values,prediction_reg_rf, color = 'red') \n",
        "plt.title('Linear Regression') \n",
        "#plt.xlabel('Temperature') \n",
        "plt.ylabel('UnitPrice') \n",
        "  \n",
        "plt.show() "
      ],
      "execution_count": null,
      "outputs": [
        {
          "output_type": "display_data",
          "data": {
            "image/png": "[encoded data removed]",
            "text/plain": [
              "<Figure size 432x288 with 1 Axes>"
            ]
          },
          "metadata": {
            "tags": [],
            "needs_background": "light"
          }
        }
      ]
    },
    {
      "cell_type": "code",
      "metadata": {
        "id": "vWPs3AZKqkM9"
      },
      "source": [
        "x_train, x_test, y_train, y_test = train_test_split(x, y, test_size = 0.3, random_state = 30)"
      ],
      "execution_count": null,
      "outputs": []
    },
    {
      "cell_type": "markdown",
      "metadata": {
        "id": "9SH4qsohHocj"
      },
      "source": [
        "## Model Building : Adaboost Regression"
      ]
    },
    {
      "cell_type": "code",
      "metadata": {
        "id": "Xa7caJC3ZHyl",
        "colab": {
          "base_uri": "https://localhost:8080/"
        },
        "outputId": "ed631880-e28e-4ab2-baa6-645b9bc9cfc5"
      },
      "source": [
        "from sklearn.ensemble import AdaBoostRegressor\n",
        "from sklearn.tree import DecisionTreeRegressor\n",
        "dtc = DecisionTreeRegressor(criterion='friedman_mse')\n",
        "ada = AdaBoostRegressor(base_estimator=dtc)\n",
        "ada.fit(x_train, y_train)"
      ],
      "execution_count": null,
      "outputs": [
        {
          "output_type": "execute_result",
          "data": {
            "text/plain": [
              "AdaBoostRegressor(base_estimator=DecisionTreeRegressor(ccp_alpha=0.0,\n",
              "                                                       criterion='friedman_mse',\n",
              "                                                       max_depth=None,\n",
              "                                                       max_features=None,\n",
              "                                                       max_leaf_nodes=None,\n",
              "                                                       min_impurity_decrease=0.0,\n",
              "                                                       min_impurity_split=None,\n",
              "                                                       min_samples_leaf=1,\n",
              "                                                       min_samples_split=2,\n",
              "                                                       min_weight_fraction_leaf=0.0,\n",
              "                                                       presort='deprecated',\n",
              "                                                       random_state=None,\n",
              "                                                       splitter='best'),\n",
              "                  learning_rate=1.0, loss='linear', n_estimators=50,\n",
              "                  random_state=None)"
            ]
          },
          "metadata": {
            "tags": []
          },
          "execution_count": 60
        }
      ]
    },
    {
      "cell_type": "code",
      "metadata": {
        "id": "CYfn244wOsmE",
        "colab": {
          "base_uri": "https://localhost:8080/"
        },
        "outputId": "c7920b44-b7e2-4c6f-b611-334eb02b7bd5"
      },
      "source": [
        "ada_preds = ada.predict(x_test)\n",
        "print(mean_squared_error(y_test, ada_preds)**0.5)"
      ],
      "execution_count": null,
      "outputs": [
        {
          "output_type": "stream",
          "text": [
            "11.22481736213947\n"
          ],
          "name": "stdout"
        }
      ]
    },
    {
      "cell_type": "code",
      "metadata": {
        "id": "pbOmnvQISyTh"
      },
      "source": [
        ""
      ],
      "execution_count": null,
      "outputs": []
    },
    {
      "cell_type": "code",
      "metadata": {
        "id": "9590vi1Oujdw",
        "colab": {
          "base_uri": "https://localhost:8080/"
        },
        "outputId": "63c6570a-9c00-4942-8a06-b23bb05cd6ec"
      },
      "source": [
        "x_train.info()"
      ],
      "execution_count": null,
      "outputs": [
        {
          "output_type": "stream",
          "text": [
            "<class 'pandas.core.frame.DataFrame'>\n",
            "Int64Index: 199346 entries, 192336 to 48045\n",
            "Data columns (total 40 columns):\n",
            " #   Column                                    Non-Null Count   Dtype  \n",
            "---  ------                                    --------------   -----  \n",
            " 0   StockCode                                 199346 non-null  int64  \n",
            " 1   PreChristmas                              199346 non-null  bool   \n",
            " 2   quarter                                   199346 non-null  int64  \n",
            " 3   month                                     199346 non-null  int64  \n",
            " 4   day of the week                           199346 non-null  int64  \n",
            " 5   InvoiceNo                                 199346 non-null  int64  \n",
            " 6   Description                               199346 non-null  int64  \n",
            " 7   Quantity                                  199346 non-null  int64  \n",
            " 8   CustomerID                                199346 non-null  float64\n",
            " 9   Country                                   199346 non-null  int64  \n",
            " 10  day                                       199346 non-null  int64  \n",
            " 11  year                                      199346 non-null  int64  \n",
            " 12  is_weekend                                199346 non-null  int64  \n",
            " 13  week_of_the_year                          199346 non-null  int64  \n",
            " 14  Dayofyear                                 199346 non-null  int64  \n",
            " 15  total_days_per_stockcode                  199346 non-null  int64  \n",
            " 16  transactions_per_customer                 199346 non-null  int64  \n",
            " 17  stocks_per_customer                       199346 non-null  int64  \n",
            " 18  quantity_per_customer                     199346 non-null  int64  \n",
            " 19  total_transactions_per_customer           199346 non-null  int64  \n",
            " 20  Unique_weeks_per_customer                 199346 non-null  int64  \n",
            " 21  Unique_days_per_customer                  199346 non-null  int64  \n",
            " 22  35                                        199346 non-null  int64  \n",
            " 23  quantity_returned                         199346 non-null  int64  \n",
            " 24  day of the weekQuantity_mean              199346 non-null  float64\n",
            " 25  day of the weekQuantity_median            199346 non-null  int64  \n",
            " 26  day of the weekQuantity_mean_median_diff  199346 non-null  float64\n",
            " 27  day of the weekQuantity_IQR               199346 non-null  float64\n",
            " 28  monthQuantity_mean                        199346 non-null  float64\n",
            " 29  monthQuantity_median                      199346 non-null  int64  \n",
            " 30  monthQuantity_mean_median_diff            199346 non-null  float64\n",
            " 31  monthQuantity_IQR                         199346 non-null  float64\n",
            " 32  quarterQuantity_mean                      199346 non-null  float64\n",
            " 33  quarterQuantity_median                    199346 non-null  int64  \n",
            " 34  quarterQuantity_mean_median_diff          199346 non-null  float64\n",
            " 35  quarterQuantity_IQR                       199346 non-null  float64\n",
            " 36  PreChristmasMeanQuantity                  199346 non-null  float64\n",
            " 37  PreChristmasMedianQuantity                199346 non-null  float64\n",
            " 38  PreChristmasStdQuantity                   199346 non-null  float64\n",
            " 39  TransactionsPerStockCode                  199346 non-null  float64\n",
            "dtypes: bool(1), float64(14), int64(25)\n",
            "memory usage: 61.0 MB\n"
          ],
          "name": "stdout"
        }
      ]
    },
    {
      "cell_type": "code",
      "metadata": {
        "id": "ZY3ErTG5rtUF",
        "colab": {
          "base_uri": "https://localhost:8080/",
          "height": 956
        },
        "outputId": "08379a17-4dc7-4a9e-9a51-52513b2c080b"
      },
      "source": [
        "importance = ada.feature_importances_\n",
        "# summarize feature importance\n",
        "for i,v in enumerate(importance):\n",
        "\tprint('Feature: %0d, Score: %.5f' % (i,v))\n",
        "# plot feature importance\n",
        "pyplot.bar([x for x in range(len(importance))], importance)\n",
        "pyplot.show()\n",
        "\n"
      ],
      "execution_count": null,
      "outputs": [
        {
          "output_type": "stream",
          "text": [
            "Feature: 0, Score: 0.01463\n",
            "Feature: 1, Score: 0.00001\n",
            "Feature: 2, Score: 0.00030\n",
            "Feature: 3, Score: 0.00006\n",
            "Feature: 4, Score: 0.00060\n",
            "Feature: 5, Score: 0.28086\n",
            "Feature: 6, Score: 0.00099\n",
            "Feature: 7, Score: 0.00061\n",
            "Feature: 8, Score: 0.02671\n",
            "Feature: 9, Score: 0.00227\n",
            "Feature: 10, Score: 0.00843\n",
            "Feature: 11, Score: 0.00000\n",
            "Feature: 12, Score: 0.00000\n",
            "Feature: 13, Score: 0.00012\n",
            "Feature: 14, Score: 0.00068\n",
            "Feature: 15, Score: 0.00574\n",
            "Feature: 16, Score: 0.04066\n",
            "Feature: 17, Score: 0.01676\n",
            "Feature: 18, Score: 0.00890\n",
            "Feature: 19, Score: 0.00064\n",
            "Feature: 20, Score: 0.00098\n",
            "Feature: 21, Score: 0.24357\n",
            "Feature: 22, Score: 0.00057\n",
            "Feature: 23, Score: 0.11713\n",
            "Feature: 24, Score: 0.00172\n",
            "Feature: 25, Score: 0.00125\n",
            "Feature: 26, Score: 0.00068\n",
            "Feature: 27, Score: 0.00000\n",
            "Feature: 28, Score: 0.00070\n",
            "Feature: 29, Score: 0.00004\n",
            "Feature: 30, Score: 0.00318\n",
            "Feature: 31, Score: 0.00001\n",
            "Feature: 32, Score: 0.00016\n",
            "Feature: 33, Score: 0.00084\n",
            "Feature: 34, Score: 0.00030\n",
            "Feature: 35, Score: 0.00000\n",
            "Feature: 36, Score: 0.15529\n",
            "Feature: 37, Score: 0.05097\n",
            "Feature: 38, Score: 0.01328\n",
            "Feature: 39, Score: 0.00037\n"
          ],
          "name": "stdout"
        },
        {
          "output_type": "display_data",
          "data": {
            "image/png": "[encoded data removed]",
            "text/plain": [
              "<Figure size 432x288 with 1 Axes>"
            ]
          },
          "metadata": {
            "tags": [],
            "needs_background": "light"
          }
        }
      ]
    },
    {
      "cell_type": "code",
      "metadata": {
        "id": "pEa36I43M3wO",
        "colab": {
          "base_uri": "https://localhost:8080/",
          "height": 270
        },
        "outputId": "d0fc96ca-a3d9-4e59-850b-a33b0af443ea"
      },
      "source": [
        "x_train.head()"
      ],
      "execution_count": null,
      "outputs": [
        {
          "output_type": "execute_result",
          "data": {
            "text/html": [
              "<div>\n",
              "<style scoped>\n",
              "    .dataframe tbody tr th:only-of-type {\n",
              "        vertical-align: middle;\n",
              "    }\n",
              "\n",
              "    .dataframe tbody tr th {\n",
              "        vertical-align: top;\n",
              "    }\n",
              "\n",
              "    .dataframe thead th {\n",
              "        text-align: right;\n",
              "    }\n",
              "</style>\n",
              "<table border=\"1\" class=\"dataframe\">\n",
              "  <thead>\n",
              "    <tr style=\"text-align: right;\">\n",
              "      <th></th>\n",
              "      <th>InvoiceNo</th>\n",
              "      <th>StockCode</th>\n",
              "      <th>Description</th>\n",
              "      <th>Quantity</th>\n",
              "      <th>CustomerID</th>\n",
              "      <th>Country</th>\n",
              "      <th>month</th>\n",
              "      <th>day</th>\n",
              "      <th>year</th>\n",
              "      <th>quarter</th>\n",
              "      <th>day of the week</th>\n",
              "      <th>is_weekend</th>\n",
              "      <th>week_of_the_year</th>\n",
              "      <th>Dayofyear</th>\n",
              "      <th>transactions_per_customer</th>\n",
              "      <th>stocks_per_customer</th>\n",
              "      <th>quantity_per_customer</th>\n",
              "      <th>total_transactions_per_customer</th>\n",
              "      <th>total_weeks_per_customer</th>\n",
              "      <th>Unique_weeks_per_customer</th>\n",
              "      <th>Unique_days_per_customer</th>\n",
              "      <th>total_days_per_customer</th>\n",
              "      <th>35</th>\n",
              "      <th>quant</th>\n",
              "    </tr>\n",
              "  </thead>\n",
              "  <tbody>\n",
              "    <tr>\n",
              "      <th>192336</th>\n",
              "      <td>3672</td>\n",
              "      <td>1762</td>\n",
              "      <td>1648</td>\n",
              "      <td>24</td>\n",
              "      <td>16917.0</td>\n",
              "      <td>35</td>\n",
              "      <td>3</td>\n",
              "      <td>8</td>\n",
              "      <td>2011</td>\n",
              "      <td>1</td>\n",
              "      <td>1</td>\n",
              "      <td>0</td>\n",
              "      <td>10</td>\n",
              "      <td>67</td>\n",
              "      <td>1</td>\n",
              "      <td>8</td>\n",
              "      <td>228</td>\n",
              "      <td>8</td>\n",
              "      <td>8</td>\n",
              "      <td>1</td>\n",
              "      <td>1</td>\n",
              "      <td>8</td>\n",
              "      <td>1</td>\n",
              "      <td>1</td>\n",
              "    </tr>\n",
              "    <tr>\n",
              "      <th>254543</th>\n",
              "      <td>12370</td>\n",
              "      <td>3144</td>\n",
              "      <td>703</td>\n",
              "      <td>72</td>\n",
              "      <td>12752.0</td>\n",
              "      <td>24</td>\n",
              "      <td>9</td>\n",
              "      <td>19</td>\n",
              "      <td>2011</td>\n",
              "      <td>3</td>\n",
              "      <td>0</td>\n",
              "      <td>0</td>\n",
              "      <td>38</td>\n",
              "      <td>262</td>\n",
              "      <td>1</td>\n",
              "      <td>44</td>\n",
              "      <td>1934</td>\n",
              "      <td>44</td>\n",
              "      <td>44</td>\n",
              "      <td>1</td>\n",
              "      <td>1</td>\n",
              "      <td>44</td>\n",
              "      <td>0</td>\n",
              "      <td>1</td>\n",
              "    </tr>\n",
              "    <tr>\n",
              "      <th>135042</th>\n",
              "      <td>5422</td>\n",
              "      <td>1546</td>\n",
              "      <td>1039</td>\n",
              "      <td>2</td>\n",
              "      <td>17320.0</td>\n",
              "      <td>35</td>\n",
              "      <td>4</td>\n",
              "      <td>17</td>\n",
              "      <td>2011</td>\n",
              "      <td>2</td>\n",
              "      <td>6</td>\n",
              "      <td>1</td>\n",
              "      <td>15</td>\n",
              "      <td>107</td>\n",
              "      <td>3</td>\n",
              "      <td>44</td>\n",
              "      <td>519</td>\n",
              "      <td>54</td>\n",
              "      <td>54</td>\n",
              "      <td>3</td>\n",
              "      <td>3</td>\n",
              "      <td>54</td>\n",
              "      <td>1</td>\n",
              "      <td>1</td>\n",
              "    </tr>\n",
              "    <tr>\n",
              "      <th>172232</th>\n",
              "      <td>385</td>\n",
              "      <td>550</td>\n",
              "      <td>481</td>\n",
              "      <td>5</td>\n",
              "      <td>15889.0</td>\n",
              "      <td>35</td>\n",
              "      <td>12</td>\n",
              "      <td>5</td>\n",
              "      <td>2010</td>\n",
              "      <td>4</td>\n",
              "      <td>6</td>\n",
              "      <td>1</td>\n",
              "      <td>48</td>\n",
              "      <td>339</td>\n",
              "      <td>2</td>\n",
              "      <td>59</td>\n",
              "      <td>176</td>\n",
              "      <td>68</td>\n",
              "      <td>68</td>\n",
              "      <td>2</td>\n",
              "      <td>2</td>\n",
              "      <td>68</td>\n",
              "      <td>1</td>\n",
              "      <td>1</td>\n",
              "    </tr>\n",
              "    <tr>\n",
              "      <th>204288</th>\n",
              "      <td>17346</td>\n",
              "      <td>980</td>\n",
              "      <td>103</td>\n",
              "      <td>1</td>\n",
              "      <td>17920.0</td>\n",
              "      <td>35</td>\n",
              "      <td>11</td>\n",
              "      <td>25</td>\n",
              "      <td>2011</td>\n",
              "      <td>4</td>\n",
              "      <td>4</td>\n",
              "      <td>0</td>\n",
              "      <td>47</td>\n",
              "      <td>329</td>\n",
              "      <td>17</td>\n",
              "      <td>331</td>\n",
              "      <td>1636</td>\n",
              "      <td>511</td>\n",
              "      <td>511</td>\n",
              "      <td>14</td>\n",
              "      <td>16</td>\n",
              "      <td>511</td>\n",
              "      <td>1</td>\n",
              "      <td>1</td>\n",
              "    </tr>\n",
              "  </tbody>\n",
              "</table>\n",
              "</div>"
            ],
            "text/plain": [
              "        InvoiceNo  StockCode  Description  ...  total_days_per_customer  35  quant\n",
              "192336       3672       1762         1648  ...                        8   1      1\n",
              "254543      12370       3144          703  ...                       44   0      1\n",
              "135042       5422       1546         1039  ...                       54   1      1\n",
              "172232        385        550          481  ...                       68   1      1\n",
              "204288      17346        980          103  ...                      511   1      1\n",
              "\n",
              "[5 rows x 24 columns]"
            ]
          },
          "metadata": {
            "tags": []
          },
          "execution_count": 87
        }
      ]
    },
    {
      "cell_type": "code",
      "metadata": {
        "id": "MCsbdXhhlnaE",
        "colab": {
          "base_uri": "https://localhost:8080/"
        },
        "outputId": "4617d4e8-736c-49a9-ed90-eaa40ee76ef6"
      },
      "source": [
        "from sklearn.model_selection import RandomizedSearchCV\n",
        "\n",
        "param_dist = {\n",
        " 'n_estimators': [50, 100],\n",
        " 'learning_rate' : [0.01,0.05,0.1,0.3,1],\n",
        " }\n",
        "\n",
        "Ada = RandomizedSearchCV(AdaBoostRegressor(DecisionTreeRegressor(criterion='friedman_mse')),\n",
        " param_distributions = param_dist,\n",
        " cv=3,\n",
        " n_iter = 10,\n",
        " n_jobs=-1)\n",
        "\n",
        "Ada.fit(x_train, y_train)"
      ],
      "execution_count": null,
      "outputs": [
        {
          "output_type": "stream",
          "text": [
            "/usr/local/lib/python3.6/dist-packages/joblib/externals/loky/process_executor.py:691: UserWarning: A worker stopped while some jobs were given to the executor. This can be caused by a too short worker timeout or by a memory leak.\n",
            "  \"timeout or by a memory leak.\", UserWarning\n"
          ],
          "name": "stderr"
        },
        {
          "output_type": "execute_result",
          "data": {
            "text/plain": [
              "RandomizedSearchCV(cv=3, error_score=nan,\n",
              "                   estimator=AdaBoostRegressor(base_estimator=DecisionTreeRegressor(ccp_alpha=0.0,\n",
              "                                                                                    criterion='friedman_mse',\n",
              "                                                                                    max_depth=None,\n",
              "                                                                                    max_features=None,\n",
              "                                                                                    max_leaf_nodes=None,\n",
              "                                                                                    min_impurity_decrease=0.0,\n",
              "                                                                                    min_impurity_split=None,\n",
              "                                                                                    min_samples_leaf=1,\n",
              "                                                                                    min_samples_split=2,\n",
              "                                                                                    min_weight_fraction_leaf=0.0,\n",
              "                                                                                    presort='deprecated',\n",
              "                                                                                    random_state=None,\n",
              "                                                                                    splitter='best'),\n",
              "                                               learning_rate=1.0, loss='linear',\n",
              "                                               n_estimators=50,\n",
              "                                               random_state=None),\n",
              "                   iid='deprecated', n_iter=10, n_jobs=-1,\n",
              "                   param_distributions={'learning_rate': [0.01, 0.05, 0.1, 0.3,\n",
              "                                                          1],\n",
              "                                        'n_estimators': [50, 100]},\n",
              "                   pre_dispatch='2*n_jobs', random_state=None, refit=True,\n",
              "                   return_train_score=False, scoring=None, verbose=0)"
            ]
          },
          "metadata": {
            "tags": []
          },
          "execution_count": 166
        }
      ]
    },
    {
      "cell_type": "code",
      "metadata": {
        "id": "a4Cg_l6AMC3-",
        "colab": {
          "base_uri": "https://localhost:8080/"
        },
        "outputId": "5f1d93f5-d014-485f-f84a-ae37d386c1b6"
      },
      "source": [
        "Ada.best_params_\n"
      ],
      "execution_count": null,
      "outputs": [
        {
          "output_type": "execute_result",
          "data": {
            "text/plain": [
              "{'learning_rate': 0.05, 'n_estimators': 50}"
            ]
          },
          "metadata": {
            "tags": []
          },
          "execution_count": 167
        }
      ]
    },
    {
      "cell_type": "code",
      "metadata": {
        "id": "VWslB_3lQ0Cm"
      },
      "source": [
        "x_train, x_test, y_train, y_test = train_test_split(x, y, test_size = 0.3, random_state = 35)"
      ],
      "execution_count": null,
      "outputs": []
    },
    {
      "cell_type": "code",
      "metadata": {
        "id": "akWlH3usPWKP",
        "colab": {
          "base_uri": "https://localhost:8080/"
        },
        "outputId": "8dd55f1c-ef8e-4dca-fbf7-fe04466affb2"
      },
      "source": [
        "import lightgbm as lgb\n",
        "gbm = lgb.LGBMRegressor()\n",
        "gbm.fit(x_train,y_train)"
      ],
      "execution_count": null,
      "outputs": [
        {
          "output_type": "execute_result",
          "data": {
            "text/plain": [
              "LGBMRegressor(boosting_type='gbdt', class_weight=None, colsample_bytree=1.0,\n",
              "              importance_type='split', learning_rate=0.1, max_depth=-1,\n",
              "              min_child_samples=20, min_child_weight=0.001, min_split_gain=0.0,\n",
              "              n_estimators=100, n_jobs=-1, num_leaves=31, objective=None,\n",
              "              random_state=None, reg_alpha=0.0, reg_lambda=0.0, silent=True,\n",
              "              subsample=1.0, subsample_for_bin=200000, subsample_freq=0)"
            ]
          },
          "metadata": {
            "tags": []
          },
          "execution_count": 182
        }
      ]
    },
    {
      "cell_type": "code",
      "metadata": {
        "id": "8Oz3ZlYBPWbM",
        "colab": {
          "base_uri": "https://localhost:8080/"
        },
        "outputId": "bf4015cc-2fe5-4d0b-b67e-a96011ed2a0c"
      },
      "source": [
        "lgb_preds = gbm.predict(x_test)\n",
        "print(mean_squared_error(y_test, lgb_preds)**0.5)"
      ],
      "execution_count": null,
      "outputs": [
        {
          "output_type": "stream",
          "text": [
            "136.61300397997383\n"
          ],
          "name": "stdout"
        }
      ]
    },
    {
      "cell_type": "code",
      "metadata": {
        "id": "q_oPkRqzPVxV"
      },
      "source": [
        ""
      ],
      "execution_count": null,
      "outputs": []
    },
    {
      "cell_type": "code",
      "metadata": {
        "id": "9Wr8PFJpW2nh"
      },
      "source": [
        "actual = pd.read_csv(\"/content/Actual_revenue.csv\")"
      ],
      "execution_count": null,
      "outputs": []
    },
    {
      "cell_type": "code",
      "metadata": {
        "id": "wqs7z7LpW28h",
        "colab": {
          "base_uri": "https://localhost:8080/",
          "height": 198
        },
        "outputId": "27231cb5-ab41-42ed-ee44-8319b4099ebb"
      },
      "source": [
        "actual.head()"
      ],
      "execution_count": null,
      "outputs": [
        {
          "output_type": "execute_result",
          "data": {
            "text/html": [
              "<div>\n",
              "<style scoped>\n",
              "    .dataframe tbody tr th:only-of-type {\n",
              "        vertical-align: middle;\n",
              "    }\n",
              "\n",
              "    .dataframe tbody tr th {\n",
              "        vertical-align: top;\n",
              "    }\n",
              "\n",
              "    .dataframe thead th {\n",
              "        text-align: right;\n",
              "    }\n",
              "</style>\n",
              "<table border=\"1\" class=\"dataframe\">\n",
              "  <thead>\n",
              "    <tr style=\"text-align: right;\">\n",
              "      <th></th>\n",
              "      <th>InvoiceNo</th>\n",
              "      <th>Description</th>\n",
              "      <th>Quantity</th>\n",
              "      <th>UnitPrice</th>\n",
              "      <th>Country</th>\n",
              "      <th>Actual_UnitPrice</th>\n",
              "    </tr>\n",
              "  </thead>\n",
              "  <tbody>\n",
              "    <tr>\n",
              "      <th>0</th>\n",
              "      <td>26666</td>\n",
              "      <td>3890</td>\n",
              "      <td>0</td>\n",
              "      <td>3.10</td>\n",
              "      <td>70</td>\n",
              "      <td>0.20</td>\n",
              "    </tr>\n",
              "    <tr>\n",
              "      <th>1</th>\n",
              "      <td>29555</td>\n",
              "      <td>3526</td>\n",
              "      <td>0</td>\n",
              "      <td>3.87</td>\n",
              "      <td>70</td>\n",
              "      <td>0.29</td>\n",
              "    </tr>\n",
              "    <tr>\n",
              "      <th>2</th>\n",
              "      <td>33426</td>\n",
              "      <td>7102</td>\n",
              "      <td>0</td>\n",
              "      <td>23.70</td>\n",
              "      <td>70</td>\n",
              "      <td>1.80</td>\n",
              "    </tr>\n",
              "    <tr>\n",
              "      <th>3</th>\n",
              "      <td>54719</td>\n",
              "      <td>7080</td>\n",
              "      <td>0</td>\n",
              "      <td>7.74</td>\n",
              "      <td>140</td>\n",
              "      <td>0.58</td>\n",
              "    </tr>\n",
              "    <tr>\n",
              "      <th>4</th>\n",
              "      <td>25322</td>\n",
              "      <td>5358</td>\n",
              "      <td>0</td>\n",
              "      <td>5.50</td>\n",
              "      <td>70</td>\n",
              "      <td>0.40</td>\n",
              "    </tr>\n",
              "  </tbody>\n",
              "</table>\n",
              "</div>"
            ],
            "text/plain": [
              "   InvoiceNo  Description  Quantity  UnitPrice  Country  Actual_UnitPrice\n",
              "0      26666         3890         0       3.10       70              0.20\n",
              "1      29555         3526         0       3.87       70              0.29\n",
              "2      33426         7102         0      23.70       70              1.80\n",
              "3      54719         7080         0       7.74      140              0.58\n",
              "4      25322         5358         0       5.50       70              0.40"
            ]
          },
          "metadata": {
            "tags": []
          },
          "execution_count": 185
        }
      ]
    },
    {
      "cell_type": "code",
      "metadata": {
        "id": "hEDWxvyCW24n"
      },
      "source": [
        ""
      ],
      "execution_count": null,
      "outputs": []
    },
    {
      "cell_type": "code",
      "metadata": {
        "id": "LQ3n_NA-W202"
      },
      "source": [
        ""
      ],
      "execution_count": null,
      "outputs": []
    },
    {
      "cell_type": "code",
      "metadata": {
        "id": "62-DOXe9W2jp"
      },
      "source": [
        ""
      ],
      "execution_count": null,
      "outputs": []
    },
    {
      "cell_type": "code",
      "metadata": {
        "id": "2teAUmMtW2gi"
      },
      "source": [
        ""
      ],
      "execution_count": null,
      "outputs": []
    },
    {
      "cell_type": "code",
      "metadata": {
        "id": "CC1MZrt04X2k"
      },
      "source": [
        ""
      ],
      "execution_count": null,
      "outputs": []
    },
    {
      "cell_type": "markdown",
      "metadata": {
        "id": "DrxJ39-z4Yis"
      },
      "source": [
        "# Test Data"
      ]
    },
    {
      "cell_type": "code",
      "metadata": {
        "id": "CIg7Q5MrUO2u",
        "colab": {
          "base_uri": "https://localhost:8080/",
          "height": 198
        },
        "outputId": "1331886d-90d2-43d2-817e-ec7f19628b86"
      },
      "source": [
        "test = pd.read_csv('/content/Test.csv')\n",
        "test.head()"
      ],
      "execution_count": null,
      "outputs": [
        {
          "output_type": "execute_result",
          "data": {
            "text/html": [
              "<div>\n",
              "<style scoped>\n",
              "    .dataframe tbody tr th:only-of-type {\n",
              "        vertical-align: middle;\n",
              "    }\n",
              "\n",
              "    .dataframe tbody tr th {\n",
              "        vertical-align: top;\n",
              "    }\n",
              "\n",
              "    .dataframe thead th {\n",
              "        text-align: right;\n",
              "    }\n",
              "</style>\n",
              "<table border=\"1\" class=\"dataframe\">\n",
              "  <thead>\n",
              "    <tr style=\"text-align: right;\">\n",
              "      <th></th>\n",
              "      <th>InvoiceNo</th>\n",
              "      <th>StockCode</th>\n",
              "      <th>Description</th>\n",
              "      <th>Quantity</th>\n",
              "      <th>InvoiceDate</th>\n",
              "      <th>CustomerID</th>\n",
              "      <th>Country</th>\n",
              "    </tr>\n",
              "  </thead>\n",
              "  <tbody>\n",
              "    <tr>\n",
              "      <th>0</th>\n",
              "      <td>3139</td>\n",
              "      <td>1709</td>\n",
              "      <td>1079</td>\n",
              "      <td>3</td>\n",
              "      <td>2011-02-22 15:22:00</td>\n",
              "      <td>16161.0</td>\n",
              "      <td>35</td>\n",
              "    </tr>\n",
              "    <tr>\n",
              "      <th>1</th>\n",
              "      <td>617</td>\n",
              "      <td>510</td>\n",
              "      <td>3457</td>\n",
              "      <td>1</td>\n",
              "      <td>2010-12-08 12:46:00</td>\n",
              "      <td>17341.0</td>\n",
              "      <td>35</td>\n",
              "    </tr>\n",
              "    <tr>\n",
              "      <th>2</th>\n",
              "      <td>14653</td>\n",
              "      <td>604</td>\n",
              "      <td>694</td>\n",
              "      <td>36</td>\n",
              "      <td>2011-10-25 13:53:00</td>\n",
              "      <td>15158.0</td>\n",
              "      <td>35</td>\n",
              "    </tr>\n",
              "    <tr>\n",
              "      <th>3</th>\n",
              "      <td>8634</td>\n",
              "      <td>1478</td>\n",
              "      <td>3473</td>\n",
              "      <td>2</td>\n",
              "      <td>2011-06-27 12:38:00</td>\n",
              "      <td>16033.0</td>\n",
              "      <td>35</td>\n",
              "    </tr>\n",
              "    <tr>\n",
              "      <th>4</th>\n",
              "      <td>15546</td>\n",
              "      <td>3216</td>\n",
              "      <td>871</td>\n",
              "      <td>1</td>\n",
              "      <td>2011-11-06 16:14:00</td>\n",
              "      <td>15351.0</td>\n",
              "      <td>35</td>\n",
              "    </tr>\n",
              "  </tbody>\n",
              "</table>\n",
              "</div>"
            ],
            "text/plain": [
              "   InvoiceNo  StockCode  Description  ...          InvoiceDate CustomerID  Country\n",
              "0       3139       1709         1079  ...  2011-02-22 15:22:00    16161.0       35\n",
              "1        617        510         3457  ...  2010-12-08 12:46:00    17341.0       35\n",
              "2      14653        604          694  ...  2011-10-25 13:53:00    15158.0       35\n",
              "3       8634       1478         3473  ...  2011-06-27 12:38:00    16033.0       35\n",
              "4      15546       3216          871  ...  2011-11-06 16:14:00    15351.0       35\n",
              "\n",
              "[5 rows x 7 columns]"
            ]
          },
          "metadata": {
            "tags": []
          },
          "execution_count": 89
        }
      ]
    },
    {
      "cell_type": "code",
      "metadata": {
        "id": "frXD08C7NXmn",
        "colab": {
          "base_uri": "https://localhost:8080/",
          "height": 356
        },
        "outputId": "6038a477-2f6b-46e1-8198-b8ff310c3bb3"
      },
      "source": [
        "test.head()"
      ],
      "execution_count": null,
      "outputs": [
        {
          "output_type": "execute_result",
          "data": {
            "text/html": [
              "<div>\n",
              "<style scoped>\n",
              "    .dataframe tbody tr th:only-of-type {\n",
              "        vertical-align: middle;\n",
              "    }\n",
              "\n",
              "    .dataframe tbody tr th {\n",
              "        vertical-align: top;\n",
              "    }\n",
              "\n",
              "    .dataframe thead th {\n",
              "        text-align: right;\n",
              "    }\n",
              "</style>\n",
              "<table border=\"1\" class=\"dataframe\">\n",
              "  <thead>\n",
              "    <tr style=\"text-align: right;\">\n",
              "      <th></th>\n",
              "      <th>InvoiceNo</th>\n",
              "      <th>StockCode</th>\n",
              "      <th>Description</th>\n",
              "      <th>Quantity</th>\n",
              "      <th>InvoiceDate</th>\n",
              "      <th>CustomerID</th>\n",
              "      <th>Country</th>\n",
              "      <th>month</th>\n",
              "      <th>day</th>\n",
              "      <th>year</th>\n",
              "      <th>quarter</th>\n",
              "      <th>day of the week</th>\n",
              "      <th>dayofweek_name</th>\n",
              "      <th>is_weekend</th>\n",
              "      <th>week_of_the_year</th>\n",
              "      <th>Dayofyear</th>\n",
              "      <th>total_days_per_stockcode</th>\n",
              "      <th>transactions_per_customer</th>\n",
              "      <th>stocks_per_customer</th>\n",
              "      <th>quantity_per_customer</th>\n",
              "      <th>total_transactions_per_customer</th>\n",
              "      <th>Unique_weeks_per_customer</th>\n",
              "      <th>Unique_days_per_customer</th>\n",
              "      <th>35</th>\n",
              "      <th>quantity_returned</th>\n",
              "    </tr>\n",
              "  </thead>\n",
              "  <tbody>\n",
              "    <tr>\n",
              "      <th>0</th>\n",
              "      <td>3139</td>\n",
              "      <td>1709</td>\n",
              "      <td>1079</td>\n",
              "      <td>3</td>\n",
              "      <td>2011-02-22 15:22:00</td>\n",
              "      <td>16161.0</td>\n",
              "      <td>35</td>\n",
              "      <td>2</td>\n",
              "      <td>22</td>\n",
              "      <td>2011</td>\n",
              "      <td>1</td>\n",
              "      <td>1</td>\n",
              "      <td>Tuesday</td>\n",
              "      <td>0</td>\n",
              "      <td>8</td>\n",
              "      <td>53</td>\n",
              "      <td>14</td>\n",
              "      <td>22</td>\n",
              "      <td>124</td>\n",
              "      <td>830</td>\n",
              "      <td>151</td>\n",
              "      <td>16</td>\n",
              "      <td>19</td>\n",
              "      <td>1</td>\n",
              "      <td>0</td>\n",
              "    </tr>\n",
              "    <tr>\n",
              "      <th>1</th>\n",
              "      <td>617</td>\n",
              "      <td>510</td>\n",
              "      <td>3457</td>\n",
              "      <td>1</td>\n",
              "      <td>2010-12-08 12:46:00</td>\n",
              "      <td>17341.0</td>\n",
              "      <td>35</td>\n",
              "      <td>12</td>\n",
              "      <td>8</td>\n",
              "      <td>2010</td>\n",
              "      <td>4</td>\n",
              "      <td>2</td>\n",
              "      <td>Wednesday</td>\n",
              "      <td>0</td>\n",
              "      <td>49</td>\n",
              "      <td>342</td>\n",
              "      <td>17</td>\n",
              "      <td>3</td>\n",
              "      <td>43</td>\n",
              "      <td>98</td>\n",
              "      <td>45</td>\n",
              "      <td>2</td>\n",
              "      <td>2</td>\n",
              "      <td>1</td>\n",
              "      <td>0</td>\n",
              "    </tr>\n",
              "    <tr>\n",
              "      <th>2</th>\n",
              "      <td>14653</td>\n",
              "      <td>604</td>\n",
              "      <td>694</td>\n",
              "      <td>36</td>\n",
              "      <td>2011-10-25 13:53:00</td>\n",
              "      <td>15158.0</td>\n",
              "      <td>35</td>\n",
              "      <td>10</td>\n",
              "      <td>25</td>\n",
              "      <td>2011</td>\n",
              "      <td>4</td>\n",
              "      <td>1</td>\n",
              "      <td>Tuesday</td>\n",
              "      <td>0</td>\n",
              "      <td>43</td>\n",
              "      <td>298</td>\n",
              "      <td>99</td>\n",
              "      <td>1</td>\n",
              "      <td>4</td>\n",
              "      <td>108</td>\n",
              "      <td>4</td>\n",
              "      <td>1</td>\n",
              "      <td>1</td>\n",
              "      <td>1</td>\n",
              "      <td>0</td>\n",
              "    </tr>\n",
              "    <tr>\n",
              "      <th>3</th>\n",
              "      <td>8634</td>\n",
              "      <td>1478</td>\n",
              "      <td>3473</td>\n",
              "      <td>2</td>\n",
              "      <td>2011-06-27 12:38:00</td>\n",
              "      <td>16033.0</td>\n",
              "      <td>35</td>\n",
              "      <td>6</td>\n",
              "      <td>27</td>\n",
              "      <td>2011</td>\n",
              "      <td>2</td>\n",
              "      <td>0</td>\n",
              "      <td>Monday</td>\n",
              "      <td>0</td>\n",
              "      <td>26</td>\n",
              "      <td>178</td>\n",
              "      <td>156</td>\n",
              "      <td>22</td>\n",
              "      <td>251</td>\n",
              "      <td>1088</td>\n",
              "      <td>342</td>\n",
              "      <td>17</td>\n",
              "      <td>18</td>\n",
              "      <td>1</td>\n",
              "      <td>0</td>\n",
              "    </tr>\n",
              "    <tr>\n",
              "      <th>4</th>\n",
              "      <td>15546</td>\n",
              "      <td>3216</td>\n",
              "      <td>871</td>\n",
              "      <td>1</td>\n",
              "      <td>2011-11-06 16:14:00</td>\n",
              "      <td>15351.0</td>\n",
              "      <td>35</td>\n",
              "      <td>11</td>\n",
              "      <td>6</td>\n",
              "      <td>2011</td>\n",
              "      <td>4</td>\n",
              "      <td>6</td>\n",
              "      <td>Sunday</td>\n",
              "      <td>1</td>\n",
              "      <td>44</td>\n",
              "      <td>310</td>\n",
              "      <td>146</td>\n",
              "      <td>10</td>\n",
              "      <td>58</td>\n",
              "      <td>202</td>\n",
              "      <td>66</td>\n",
              "      <td>6</td>\n",
              "      <td>7</td>\n",
              "      <td>1</td>\n",
              "      <td>0</td>\n",
              "    </tr>\n",
              "  </tbody>\n",
              "</table>\n",
              "</div>"
            ],
            "text/plain": [
              "   InvoiceNo  StockCode  ...  35  quantity_returned\n",
              "0       3139       1709  ...   1                  0\n",
              "1        617        510  ...   1                  0\n",
              "2      14653        604  ...   1                  0\n",
              "3       8634       1478  ...   1                  0\n",
              "4      15546       3216  ...   1                  0\n",
              "\n",
              "[5 rows x 25 columns]"
            ]
          },
          "metadata": {
            "tags": []
          },
          "execution_count": 87
        }
      ]
    },
    {
      "cell_type": "code",
      "metadata": {
        "id": "Z3ipoqO6UO0A",
        "colab": {
          "base_uri": "https://localhost:8080/"
        },
        "outputId": "d1bf36a0-c670-421d-cc35-6281cd673ae8"
      },
      "source": [
        "test['InvoiceDate']= pd.to_datetime(test['InvoiceDate']) \n",
        "test['month'] = test['InvoiceDate'].dt.month\n",
        "test['day'] = test['InvoiceDate'].dt.day\n",
        "test['year'] = test['InvoiceDate'].dt.year\n",
        "test['quarter'] = test['InvoiceDate'].dt.quarter\n",
        "test['day of the week'] = test['InvoiceDate'].dt.dayofweek # Monday = 0 & Sunday = 6\n",
        "test['dayofweek_name'] = test['InvoiceDate'].dt.day_name()\n",
        "test['is_weekend'] = np.where(test['dayofweek_name'].isin(['Sunday','Saturday']),1,0)\n",
        "test[\"week_of_the_year\"] =  test['InvoiceDate'].dt.weekofyear\n",
        "test['Dayofyear'] = test['InvoiceDate'].dt.dayofyear\n"
      ],
      "execution_count": null,
      "outputs": [
        {
          "output_type": "stream",
          "text": [
            "/usr/local/lib/python3.6/dist-packages/ipykernel_launcher.py:9: FutureWarning: Series.dt.weekofyear and Series.dt.week have been deprecated.  Please use Series.dt.isocalendar().week instead.\n",
            "  if __name__ == '__main__':\n"
          ],
          "name": "stderr"
        }
      ]
    },
    {
      "cell_type": "code",
      "metadata": {
        "id": "RywRS5mjQJY3",
        "colab": {
          "base_uri": "https://localhost:8080/",
          "height": 356
        },
        "outputId": "a633231c-1e55-4678-b33f-b56a5d86933e"
      },
      "source": [
        "test.head()"
      ],
      "execution_count": null,
      "outputs": [
        {
          "output_type": "execute_result",
          "data": {
            "text/html": [
              "<div>\n",
              "<style scoped>\n",
              "    .dataframe tbody tr th:only-of-type {\n",
              "        vertical-align: middle;\n",
              "    }\n",
              "\n",
              "    .dataframe tbody tr th {\n",
              "        vertical-align: top;\n",
              "    }\n",
              "\n",
              "    .dataframe thead th {\n",
              "        text-align: right;\n",
              "    }\n",
              "</style>\n",
              "<table border=\"1\" class=\"dataframe\">\n",
              "  <thead>\n",
              "    <tr style=\"text-align: right;\">\n",
              "      <th></th>\n",
              "      <th>InvoiceNo</th>\n",
              "      <th>StockCode</th>\n",
              "      <th>Description</th>\n",
              "      <th>Quantity</th>\n",
              "      <th>InvoiceDate</th>\n",
              "      <th>CustomerID</th>\n",
              "      <th>Country</th>\n",
              "      <th>month</th>\n",
              "      <th>day</th>\n",
              "      <th>year</th>\n",
              "      <th>quarter</th>\n",
              "      <th>day of the week</th>\n",
              "      <th>dayofweek_name</th>\n",
              "      <th>is_weekend</th>\n",
              "      <th>week_of_the_year</th>\n",
              "      <th>Dayofyear</th>\n",
              "      <th>total_days_per_stockcode</th>\n",
              "      <th>transactions_per_customer</th>\n",
              "      <th>stocks_per_customer</th>\n",
              "      <th>quantity_per_customer</th>\n",
              "      <th>total_transactions_per_customer</th>\n",
              "      <th>Unique_weeks_per_customer</th>\n",
              "      <th>Unique_days_per_customer</th>\n",
              "      <th>35</th>\n",
              "      <th>quantity_returned</th>\n",
              "    </tr>\n",
              "  </thead>\n",
              "  <tbody>\n",
              "    <tr>\n",
              "      <th>0</th>\n",
              "      <td>3139</td>\n",
              "      <td>1709</td>\n",
              "      <td>1079</td>\n",
              "      <td>3</td>\n",
              "      <td>2011-02-22 15:22:00</td>\n",
              "      <td>16161.0</td>\n",
              "      <td>35</td>\n",
              "      <td>2</td>\n",
              "      <td>22</td>\n",
              "      <td>2011</td>\n",
              "      <td>1</td>\n",
              "      <td>1</td>\n",
              "      <td>Tuesday</td>\n",
              "      <td>0</td>\n",
              "      <td>8</td>\n",
              "      <td>53</td>\n",
              "      <td>14</td>\n",
              "      <td>22</td>\n",
              "      <td>124</td>\n",
              "      <td>830</td>\n",
              "      <td>151</td>\n",
              "      <td>16</td>\n",
              "      <td>19</td>\n",
              "      <td>1</td>\n",
              "      <td>0</td>\n",
              "    </tr>\n",
              "    <tr>\n",
              "      <th>1</th>\n",
              "      <td>617</td>\n",
              "      <td>510</td>\n",
              "      <td>3457</td>\n",
              "      <td>1</td>\n",
              "      <td>2010-12-08 12:46:00</td>\n",
              "      <td>17341.0</td>\n",
              "      <td>35</td>\n",
              "      <td>12</td>\n",
              "      <td>8</td>\n",
              "      <td>2010</td>\n",
              "      <td>4</td>\n",
              "      <td>2</td>\n",
              "      <td>Wednesday</td>\n",
              "      <td>0</td>\n",
              "      <td>49</td>\n",
              "      <td>342</td>\n",
              "      <td>17</td>\n",
              "      <td>3</td>\n",
              "      <td>43</td>\n",
              "      <td>98</td>\n",
              "      <td>45</td>\n",
              "      <td>2</td>\n",
              "      <td>2</td>\n",
              "      <td>1</td>\n",
              "      <td>0</td>\n",
              "    </tr>\n",
              "    <tr>\n",
              "      <th>2</th>\n",
              "      <td>14653</td>\n",
              "      <td>604</td>\n",
              "      <td>694</td>\n",
              "      <td>36</td>\n",
              "      <td>2011-10-25 13:53:00</td>\n",
              "      <td>15158.0</td>\n",
              "      <td>35</td>\n",
              "      <td>10</td>\n",
              "      <td>25</td>\n",
              "      <td>2011</td>\n",
              "      <td>4</td>\n",
              "      <td>1</td>\n",
              "      <td>Tuesday</td>\n",
              "      <td>0</td>\n",
              "      <td>43</td>\n",
              "      <td>298</td>\n",
              "      <td>99</td>\n",
              "      <td>1</td>\n",
              "      <td>4</td>\n",
              "      <td>108</td>\n",
              "      <td>4</td>\n",
              "      <td>1</td>\n",
              "      <td>1</td>\n",
              "      <td>1</td>\n",
              "      <td>0</td>\n",
              "    </tr>\n",
              "    <tr>\n",
              "      <th>3</th>\n",
              "      <td>8634</td>\n",
              "      <td>1478</td>\n",
              "      <td>3473</td>\n",
              "      <td>2</td>\n",
              "      <td>2011-06-27 12:38:00</td>\n",
              "      <td>16033.0</td>\n",
              "      <td>35</td>\n",
              "      <td>6</td>\n",
              "      <td>27</td>\n",
              "      <td>2011</td>\n",
              "      <td>2</td>\n",
              "      <td>0</td>\n",
              "      <td>Monday</td>\n",
              "      <td>0</td>\n",
              "      <td>26</td>\n",
              "      <td>178</td>\n",
              "      <td>156</td>\n",
              "      <td>22</td>\n",
              "      <td>251</td>\n",
              "      <td>1088</td>\n",
              "      <td>342</td>\n",
              "      <td>17</td>\n",
              "      <td>18</td>\n",
              "      <td>1</td>\n",
              "      <td>0</td>\n",
              "    </tr>\n",
              "    <tr>\n",
              "      <th>4</th>\n",
              "      <td>15546</td>\n",
              "      <td>3216</td>\n",
              "      <td>871</td>\n",
              "      <td>1</td>\n",
              "      <td>2011-11-06 16:14:00</td>\n",
              "      <td>15351.0</td>\n",
              "      <td>35</td>\n",
              "      <td>11</td>\n",
              "      <td>6</td>\n",
              "      <td>2011</td>\n",
              "      <td>4</td>\n",
              "      <td>6</td>\n",
              "      <td>Sunday</td>\n",
              "      <td>1</td>\n",
              "      <td>44</td>\n",
              "      <td>310</td>\n",
              "      <td>146</td>\n",
              "      <td>10</td>\n",
              "      <td>58</td>\n",
              "      <td>202</td>\n",
              "      <td>66</td>\n",
              "      <td>6</td>\n",
              "      <td>7</td>\n",
              "      <td>1</td>\n",
              "      <td>0</td>\n",
              "    </tr>\n",
              "  </tbody>\n",
              "</table>\n",
              "</div>"
            ],
            "text/plain": [
              "   InvoiceNo  StockCode  ...  35  quantity_returned\n",
              "0       3139       1709  ...   1                  0\n",
              "1        617        510  ...   1                  0\n",
              "2      14653        604  ...   1                  0\n",
              "3       8634       1478  ...   1                  0\n",
              "4      15546       3216  ...   1                  0\n",
              "\n",
              "[5 rows x 25 columns]"
            ]
          },
          "metadata": {
            "tags": []
          },
          "execution_count": 64
        }
      ]
    },
    {
      "cell_type": "code",
      "metadata": {
        "id": "r0pBe4prGb35"
      },
      "source": [
        "# Creating a feature to describe whether inside or outside of country 35\n",
        "test[\"35\"] = np.where(test.Country == 35, 1, 0)\n",
        "test[\"quant\"] = np.where(test.Quantity > 0, 1, -1)"
      ],
      "execution_count": null,
      "outputs": []
    },
    {
      "cell_type": "code",
      "metadata": {
        "id": "5IFnTsWy2nSk",
        "colab": {
          "base_uri": "https://localhost:8080/",
          "height": 198
        },
        "outputId": "3745cc98-ed0f-4183-ac71-6baec9086b99"
      },
      "source": [
        "# Creating Product types\n",
        "week = test.week_of_the_year.max() - 2\n",
        "products = pd.DataFrame(index=test.loc[test.week_of_the_year < week].StockCode.unique(), columns = [\"MedianQuantities\"])\n",
        "\n",
        "# products[\"MedianPrice\"] = train.loc[train.week_of_the_year < week].groupby(\"StockCode\").UnitPrice.median()\n",
        "products[\"MedianQuantities\"] = test.loc[test.week_of_the_year < week].groupby(\"StockCode\").Quantity.median()\n",
        "products[\"Customers\"] = test.loc[test.week_of_the_year < week].groupby(\"StockCode\").CustomerID.nunique()\n",
        "products[\"Description\"] = test.loc[test.week_of_the_year < week].groupby(\"StockCode\").Description.median()\n",
        "\n",
        "org_cols = np.copy(products.columns.values)\n",
        "products.head()"
      ],
      "execution_count": null,
      "outputs": [
        {
          "output_type": "execute_result",
          "data": {
            "text/html": [
              "<div>\n",
              "<style scoped>\n",
              "    .dataframe tbody tr th:only-of-type {\n",
              "        vertical-align: middle;\n",
              "    }\n",
              "\n",
              "    .dataframe tbody tr th {\n",
              "        vertical-align: top;\n",
              "    }\n",
              "\n",
              "    .dataframe thead th {\n",
              "        text-align: right;\n",
              "    }\n",
              "</style>\n",
              "<table border=\"1\" class=\"dataframe\">\n",
              "  <thead>\n",
              "    <tr style=\"text-align: right;\">\n",
              "      <th></th>\n",
              "      <th>MedianQuantities</th>\n",
              "      <th>Customers</th>\n",
              "      <th>Description</th>\n",
              "    </tr>\n",
              "  </thead>\n",
              "  <tbody>\n",
              "    <tr>\n",
              "      <th>1709</th>\n",
              "      <td>6.0</td>\n",
              "      <td>14</td>\n",
              "      <td>1079.0</td>\n",
              "    </tr>\n",
              "    <tr>\n",
              "      <th>604</th>\n",
              "      <td>4.0</td>\n",
              "      <td>67</td>\n",
              "      <td>694.0</td>\n",
              "    </tr>\n",
              "    <tr>\n",
              "      <th>1478</th>\n",
              "      <td>12.0</td>\n",
              "      <td>123</td>\n",
              "      <td>3473.0</td>\n",
              "    </tr>\n",
              "    <tr>\n",
              "      <th>3216</th>\n",
              "      <td>2.0</td>\n",
              "      <td>106</td>\n",
              "      <td>871.0</td>\n",
              "    </tr>\n",
              "    <tr>\n",
              "      <th>1817</th>\n",
              "      <td>9.0</td>\n",
              "      <td>48</td>\n",
              "      <td>697.0</td>\n",
              "    </tr>\n",
              "  </tbody>\n",
              "</table>\n",
              "</div>"
            ],
            "text/plain": [
              "      MedianQuantities  Customers  Description\n",
              "1709               6.0         14       1079.0\n",
              "604                4.0         67        694.0\n",
              "1478              12.0        123       3473.0\n",
              "3216               2.0        106        871.0\n",
              "1817               9.0         48        697.0"
            ]
          },
          "metadata": {
            "tags": []
          },
          "execution_count": 130
        }
      ]
    },
    {
      "cell_type": "code",
      "metadata": {
        "id": "T2unModw2nPG"
      },
      "source": [
        "from sklearn.preprocessing import StandardScaler\n",
        "X = products.values\n",
        "scaler = StandardScaler()\n",
        "X = scaler.fit_transform(X)"
      ],
      "execution_count": null,
      "outputs": []
    },
    {
      "cell_type": "code",
      "metadata": {
        "id": "iPRLni7cgJKs",
        "colab": {
          "base_uri": "https://localhost:8080/",
          "height": 356
        },
        "outputId": "137c0898-7851-4825-e2ca-c544e790aa9b"
      },
      "source": [
        "from sklearn.cluster import KMeans\n",
        "km = KMeans(n_clusters=30)\n",
        "products[\"cluster\"] = km.fit_predict(X)\n",
        "\n",
        "test[\"ProductType\"] = test.StockCode.map(products.cluster)\n",
        "test.ProductType = test.ProductType.astype(\"object\")\n",
        "test.head()\n"
      ],
      "execution_count": null,
      "outputs": [
        {
          "output_type": "execute_result",
          "data": {
            "text/html": [
              "<div>\n",
              "<style scoped>\n",
              "    .dataframe tbody tr th:only-of-type {\n",
              "        vertical-align: middle;\n",
              "    }\n",
              "\n",
              "    .dataframe tbody tr th {\n",
              "        vertical-align: top;\n",
              "    }\n",
              "\n",
              "    .dataframe thead th {\n",
              "        text-align: right;\n",
              "    }\n",
              "</style>\n",
              "<table border=\"1\" class=\"dataframe\">\n",
              "  <thead>\n",
              "    <tr style=\"text-align: right;\">\n",
              "      <th></th>\n",
              "      <th>InvoiceNo</th>\n",
              "      <th>StockCode</th>\n",
              "      <th>Description</th>\n",
              "      <th>Quantity</th>\n",
              "      <th>InvoiceDate</th>\n",
              "      <th>CustomerID</th>\n",
              "      <th>Country</th>\n",
              "      <th>month</th>\n",
              "      <th>day</th>\n",
              "      <th>year</th>\n",
              "      <th>quarter</th>\n",
              "      <th>day of the week</th>\n",
              "      <th>dayofweek_name</th>\n",
              "      <th>is_weekend</th>\n",
              "      <th>week_of_the_year</th>\n",
              "      <th>Dayofyear</th>\n",
              "      <th>35</th>\n",
              "      <th>quantity_negative</th>\n",
              "      <th>ProductType</th>\n",
              "    </tr>\n",
              "  </thead>\n",
              "  <tbody>\n",
              "    <tr>\n",
              "      <th>0</th>\n",
              "      <td>3139</td>\n",
              "      <td>1709</td>\n",
              "      <td>1079</td>\n",
              "      <td>3</td>\n",
              "      <td>2011-02-22 15:22:00</td>\n",
              "      <td>16161.0</td>\n",
              "      <td>35</td>\n",
              "      <td>2</td>\n",
              "      <td>22</td>\n",
              "      <td>2011</td>\n",
              "      <td>1</td>\n",
              "      <td>1</td>\n",
              "      <td>Tuesday</td>\n",
              "      <td>0</td>\n",
              "      <td>8</td>\n",
              "      <td>53</td>\n",
              "      <td>1</td>\n",
              "      <td>0</td>\n",
              "      <td>16</td>\n",
              "    </tr>\n",
              "    <tr>\n",
              "      <th>1</th>\n",
              "      <td>617</td>\n",
              "      <td>510</td>\n",
              "      <td>3457</td>\n",
              "      <td>1</td>\n",
              "      <td>2010-12-08 12:46:00</td>\n",
              "      <td>17341.0</td>\n",
              "      <td>35</td>\n",
              "      <td>12</td>\n",
              "      <td>8</td>\n",
              "      <td>2010</td>\n",
              "      <td>4</td>\n",
              "      <td>2</td>\n",
              "      <td>Wednesday</td>\n",
              "      <td>0</td>\n",
              "      <td>49</td>\n",
              "      <td>342</td>\n",
              "      <td>1</td>\n",
              "      <td>0</td>\n",
              "      <td>1</td>\n",
              "    </tr>\n",
              "    <tr>\n",
              "      <th>2</th>\n",
              "      <td>14653</td>\n",
              "      <td>604</td>\n",
              "      <td>694</td>\n",
              "      <td>36</td>\n",
              "      <td>2011-10-25 13:53:00</td>\n",
              "      <td>15158.0</td>\n",
              "      <td>35</td>\n",
              "      <td>10</td>\n",
              "      <td>25</td>\n",
              "      <td>2011</td>\n",
              "      <td>4</td>\n",
              "      <td>1</td>\n",
              "      <td>Tuesday</td>\n",
              "      <td>0</td>\n",
              "      <td>43</td>\n",
              "      <td>298</td>\n",
              "      <td>1</td>\n",
              "      <td>0</td>\n",
              "      <td>21</td>\n",
              "    </tr>\n",
              "    <tr>\n",
              "      <th>3</th>\n",
              "      <td>8634</td>\n",
              "      <td>1478</td>\n",
              "      <td>3473</td>\n",
              "      <td>2</td>\n",
              "      <td>2011-06-27 12:38:00</td>\n",
              "      <td>16033.0</td>\n",
              "      <td>35</td>\n",
              "      <td>6</td>\n",
              "      <td>27</td>\n",
              "      <td>2011</td>\n",
              "      <td>2</td>\n",
              "      <td>0</td>\n",
              "      <td>Monday</td>\n",
              "      <td>0</td>\n",
              "      <td>26</td>\n",
              "      <td>178</td>\n",
              "      <td>1</td>\n",
              "      <td>0</td>\n",
              "      <td>2</td>\n",
              "    </tr>\n",
              "    <tr>\n",
              "      <th>4</th>\n",
              "      <td>15546</td>\n",
              "      <td>3216</td>\n",
              "      <td>871</td>\n",
              "      <td>1</td>\n",
              "      <td>2011-11-06 16:14:00</td>\n",
              "      <td>15351.0</td>\n",
              "      <td>35</td>\n",
              "      <td>11</td>\n",
              "      <td>6</td>\n",
              "      <td>2011</td>\n",
              "      <td>4</td>\n",
              "      <td>6</td>\n",
              "      <td>Sunday</td>\n",
              "      <td>1</td>\n",
              "      <td>44</td>\n",
              "      <td>310</td>\n",
              "      <td>1</td>\n",
              "      <td>0</td>\n",
              "      <td>24</td>\n",
              "    </tr>\n",
              "  </tbody>\n",
              "</table>\n",
              "</div>"
            ],
            "text/plain": [
              "   InvoiceNo  StockCode  Description  ...  35 quantity_negative  ProductType\n",
              "0       3139       1709         1079  ...   1                 0           16\n",
              "1        617        510         3457  ...   1                 0            1\n",
              "2      14653        604          694  ...   1                 0           21\n",
              "3       8634       1478         3473  ...   1                 0            2\n",
              "4      15546       3216          871  ...   1                 0           24\n",
              "\n",
              "[5 rows x 19 columns]"
            ]
          },
          "metadata": {
            "tags": []
          },
          "execution_count": 132
        }
      ]
    },
    {
      "cell_type": "code",
      "metadata": {
        "id": "s4rQ2_nq4QjT"
      },
      "source": [
        "test[\"PreChristmas\"] = (test.Dayofyear <= 358) & (test.Dayofyear >= 243) "
      ],
      "execution_count": null,
      "outputs": []
    },
    {
      "cell_type": "code",
      "metadata": {
        "id": "ZZ2_bfNb4QvR",
        "colab": {
          "base_uri": "https://localhost:8080/",
          "height": 356
        },
        "outputId": "31de7d4f-75ff-4871-8fdd-f10361fd7fce"
      },
      "source": [
        "for col in [\"day of the week\", \"month\", \"quarter\"]:\n",
        "    test = test.set_index(col)\n",
        "    test[col+\"Quantity_mean\"] = test.loc[test.week_of_the_year < week].groupby(col).Quantity.mean()\n",
        "    test[col+\"Quantity_median\"] = test.loc[test.week_of_the_year < week].groupby(col).Quantity.median()\n",
        "    test[col+\"Quantity_mean_median_diff\"] = test[col+\"Quantity_mean\"] - test[col+\"Quantity_median\"]\n",
        "    test[col+\"Quantity_IQR\"] = test.loc[\n",
        "        test.week_of_the_year < week].groupby(col).Quantity.quantile(0.75) - test.loc[\n",
        "        test.week_of_the_year < week].groupby(col).Quantity.quantile(0.25)\n",
        "    test = test.reset_index()\n",
        "test.head()"
      ],
      "execution_count": null,
      "outputs": [
        {
          "output_type": "execute_result",
          "data": {
            "text/html": [
              "<div>\n",
              "<style scoped>\n",
              "    .dataframe tbody tr th:only-of-type {\n",
              "        vertical-align: middle;\n",
              "    }\n",
              "\n",
              "    .dataframe tbody tr th {\n",
              "        vertical-align: top;\n",
              "    }\n",
              "\n",
              "    .dataframe thead th {\n",
              "        text-align: right;\n",
              "    }\n",
              "</style>\n",
              "<table border=\"1\" class=\"dataframe\">\n",
              "  <thead>\n",
              "    <tr style=\"text-align: right;\">\n",
              "      <th></th>\n",
              "      <th>quarter</th>\n",
              "      <th>month</th>\n",
              "      <th>day of the week</th>\n",
              "      <th>InvoiceNo</th>\n",
              "      <th>StockCode</th>\n",
              "      <th>Description</th>\n",
              "      <th>Quantity</th>\n",
              "      <th>InvoiceDate</th>\n",
              "      <th>CustomerID</th>\n",
              "      <th>Country</th>\n",
              "      <th>day</th>\n",
              "      <th>year</th>\n",
              "      <th>dayofweek_name</th>\n",
              "      <th>is_weekend</th>\n",
              "      <th>week_of_the_year</th>\n",
              "      <th>Dayofyear</th>\n",
              "      <th>total_days_per_stockcode</th>\n",
              "      <th>transactions_per_customer</th>\n",
              "      <th>stocks_per_customer</th>\n",
              "      <th>quantity_per_customer</th>\n",
              "      <th>total_transactions_per_customer</th>\n",
              "      <th>Unique_weeks_per_customer</th>\n",
              "      <th>Unique_days_per_customer</th>\n",
              "      <th>35</th>\n",
              "      <th>quantity_returned</th>\n",
              "      <th>PreChristmas</th>\n",
              "      <th>day of the weekQuantity_mean</th>\n",
              "      <th>day of the weekQuantity_median</th>\n",
              "      <th>day of the weekQuantity_mean_median_diff</th>\n",
              "      <th>day of the weekQuantity_IQR</th>\n",
              "      <th>monthQuantity_mean</th>\n",
              "      <th>monthQuantity_median</th>\n",
              "      <th>monthQuantity_mean_median_diff</th>\n",
              "      <th>monthQuantity_IQR</th>\n",
              "      <th>quarterQuantity_mean</th>\n",
              "      <th>quarterQuantity_median</th>\n",
              "      <th>quarterQuantity_mean_median_diff</th>\n",
              "      <th>quarterQuantity_IQR</th>\n",
              "    </tr>\n",
              "  </thead>\n",
              "  <tbody>\n",
              "    <tr>\n",
              "      <th>0</th>\n",
              "      <td>1</td>\n",
              "      <td>2</td>\n",
              "      <td>1</td>\n",
              "      <td>3139</td>\n",
              "      <td>1709</td>\n",
              "      <td>1079</td>\n",
              "      <td>3</td>\n",
              "      <td>2011-02-22 15:22:00</td>\n",
              "      <td>16161.0</td>\n",
              "      <td>35</td>\n",
              "      <td>22</td>\n",
              "      <td>2011</td>\n",
              "      <td>Tuesday</td>\n",
              "      <td>0</td>\n",
              "      <td>8</td>\n",
              "      <td>53</td>\n",
              "      <td>14</td>\n",
              "      <td>22</td>\n",
              "      <td>124</td>\n",
              "      <td>830</td>\n",
              "      <td>151</td>\n",
              "      <td>16</td>\n",
              "      <td>19</td>\n",
              "      <td>1</td>\n",
              "      <td>0</td>\n",
              "      <td>False</td>\n",
              "      <td>13.655154</td>\n",
              "      <td>6</td>\n",
              "      <td>7.655154</td>\n",
              "      <td>10.0</td>\n",
              "      <td>13.459092</td>\n",
              "      <td>6</td>\n",
              "      <td>7.459092</td>\n",
              "      <td>10.0</td>\n",
              "      <td>12.608347</td>\n",
              "      <td>6</td>\n",
              "      <td>6.608347</td>\n",
              "      <td>10.0</td>\n",
              "    </tr>\n",
              "    <tr>\n",
              "      <th>1</th>\n",
              "      <td>4</td>\n",
              "      <td>12</td>\n",
              "      <td>2</td>\n",
              "      <td>617</td>\n",
              "      <td>510</td>\n",
              "      <td>3457</td>\n",
              "      <td>1</td>\n",
              "      <td>2010-12-08 12:46:00</td>\n",
              "      <td>17341.0</td>\n",
              "      <td>35</td>\n",
              "      <td>8</td>\n",
              "      <td>2010</td>\n",
              "      <td>Wednesday</td>\n",
              "      <td>0</td>\n",
              "      <td>49</td>\n",
              "      <td>342</td>\n",
              "      <td>17</td>\n",
              "      <td>3</td>\n",
              "      <td>43</td>\n",
              "      <td>98</td>\n",
              "      <td>45</td>\n",
              "      <td>2</td>\n",
              "      <td>2</td>\n",
              "      <td>1</td>\n",
              "      <td>0</td>\n",
              "      <td>True</td>\n",
              "      <td>13.764454</td>\n",
              "      <td>6</td>\n",
              "      <td>7.764454</td>\n",
              "      <td>10.0</td>\n",
              "      <td>8.707583</td>\n",
              "      <td>4</td>\n",
              "      <td>4.707583</td>\n",
              "      <td>11.0</td>\n",
              "      <td>10.472944</td>\n",
              "      <td>4</td>\n",
              "      <td>6.472944</td>\n",
              "      <td>10.0</td>\n",
              "    </tr>\n",
              "    <tr>\n",
              "      <th>2</th>\n",
              "      <td>4</td>\n",
              "      <td>10</td>\n",
              "      <td>1</td>\n",
              "      <td>14653</td>\n",
              "      <td>604</td>\n",
              "      <td>694</td>\n",
              "      <td>36</td>\n",
              "      <td>2011-10-25 13:53:00</td>\n",
              "      <td>15158.0</td>\n",
              "      <td>35</td>\n",
              "      <td>25</td>\n",
              "      <td>2011</td>\n",
              "      <td>Tuesday</td>\n",
              "      <td>0</td>\n",
              "      <td>43</td>\n",
              "      <td>298</td>\n",
              "      <td>99</td>\n",
              "      <td>1</td>\n",
              "      <td>4</td>\n",
              "      <td>108</td>\n",
              "      <td>4</td>\n",
              "      <td>1</td>\n",
              "      <td>1</td>\n",
              "      <td>1</td>\n",
              "      <td>0</td>\n",
              "      <td>True</td>\n",
              "      <td>13.655154</td>\n",
              "      <td>6</td>\n",
              "      <td>7.655154</td>\n",
              "      <td>10.0</td>\n",
              "      <td>11.584809</td>\n",
              "      <td>4</td>\n",
              "      <td>7.584809</td>\n",
              "      <td>10.0</td>\n",
              "      <td>10.472944</td>\n",
              "      <td>4</td>\n",
              "      <td>6.472944</td>\n",
              "      <td>10.0</td>\n",
              "    </tr>\n",
              "    <tr>\n",
              "      <th>3</th>\n",
              "      <td>2</td>\n",
              "      <td>6</td>\n",
              "      <td>0</td>\n",
              "      <td>8634</td>\n",
              "      <td>1478</td>\n",
              "      <td>3473</td>\n",
              "      <td>2</td>\n",
              "      <td>2011-06-27 12:38:00</td>\n",
              "      <td>16033.0</td>\n",
              "      <td>35</td>\n",
              "      <td>27</td>\n",
              "      <td>2011</td>\n",
              "      <td>Monday</td>\n",
              "      <td>0</td>\n",
              "      <td>26</td>\n",
              "      <td>178</td>\n",
              "      <td>156</td>\n",
              "      <td>22</td>\n",
              "      <td>251</td>\n",
              "      <td>1088</td>\n",
              "      <td>342</td>\n",
              "      <td>17</td>\n",
              "      <td>18</td>\n",
              "      <td>1</td>\n",
              "      <td>0</td>\n",
              "      <td>False</td>\n",
              "      <td>11.168391</td>\n",
              "      <td>5</td>\n",
              "      <td>6.168391</td>\n",
              "      <td>10.0</td>\n",
              "      <td>12.792444</td>\n",
              "      <td>6</td>\n",
              "      <td>6.792444</td>\n",
              "      <td>10.0</td>\n",
              "      <td>12.602735</td>\n",
              "      <td>6</td>\n",
              "      <td>6.602735</td>\n",
              "      <td>10.0</td>\n",
              "    </tr>\n",
              "    <tr>\n",
              "      <th>4</th>\n",
              "      <td>4</td>\n",
              "      <td>11</td>\n",
              "      <td>6</td>\n",
              "      <td>15546</td>\n",
              "      <td>3216</td>\n",
              "      <td>871</td>\n",
              "      <td>1</td>\n",
              "      <td>2011-11-06 16:14:00</td>\n",
              "      <td>15351.0</td>\n",
              "      <td>35</td>\n",
              "      <td>6</td>\n",
              "      <td>2011</td>\n",
              "      <td>Sunday</td>\n",
              "      <td>1</td>\n",
              "      <td>44</td>\n",
              "      <td>310</td>\n",
              "      <td>146</td>\n",
              "      <td>10</td>\n",
              "      <td>58</td>\n",
              "      <td>202</td>\n",
              "      <td>66</td>\n",
              "      <td>6</td>\n",
              "      <td>7</td>\n",
              "      <td>1</td>\n",
              "      <td>0</td>\n",
              "      <td>True</td>\n",
              "      <td>7.247342</td>\n",
              "      <td>3</td>\n",
              "      <td>4.247342</td>\n",
              "      <td>6.0</td>\n",
              "      <td>9.984784</td>\n",
              "      <td>4</td>\n",
              "      <td>5.984784</td>\n",
              "      <td>11.0</td>\n",
              "      <td>10.472944</td>\n",
              "      <td>4</td>\n",
              "      <td>6.472944</td>\n",
              "      <td>10.0</td>\n",
              "    </tr>\n",
              "  </tbody>\n",
              "</table>\n",
              "</div>"
            ],
            "text/plain": [
              "   quarter  month  ...  quarterQuantity_mean_median_diff  quarterQuantity_IQR\n",
              "0        1      2  ...                          6.608347                 10.0\n",
              "1        4     12  ...                          6.472944                 10.0\n",
              "2        4     10  ...                          6.472944                 10.0\n",
              "3        2      6  ...                          6.602735                 10.0\n",
              "4        4     11  ...                          6.472944                 10.0\n",
              "\n",
              "[5 rows x 38 columns]"
            ]
          },
          "metadata": {
            "tags": []
          },
          "execution_count": 66
        }
      ]
    },
    {
      "cell_type": "code",
      "metadata": {
        "id": "BixpxMPg5AXK"
      },
      "source": [
        "to_group = [\"StockCode\", \"PreChristmas\"]\n",
        "test = test.set_index(to_group)\n",
        "test[\"PreChristmasMeanQuantity\"] = test.loc[\n",
        "    test.week_of_the_year < week].groupby(to_group).Quantity.mean().apply(lambda l: np.round(l, 1))\n",
        "test[\"PreChristmasMedianQuantity\"] = test.loc[\n",
        "    test.week_of_the_year < week].groupby(to_group).Quantity.median().apply(lambda l: np.round(l, 1))\n",
        "test[\"PreChristmasStdQuantity\"] = test.loc[\n",
        "    test.week_of_the_year < week].groupby(to_group).Quantity.std().apply(lambda l: np.round(l, 1))\n",
        "test = test.reset_index()"
      ],
      "execution_count": null,
      "outputs": []
    },
    {
      "cell_type": "code",
      "metadata": {
        "id": "52GgpafK4QsM"
      },
      "source": [
        "# Lag-Features:\n",
        "for delta in range(1,4):\n",
        "\n",
        "\n",
        "\n",
        "  to_group = [\"week_of_the_year\",\"day of the week\",\"ProductType\"]\n",
        "  test = test.set_index(to_group)\n",
        "        \n",
        "  test[\"QuantityProducttypeWeekWeekdayLag_\" + str(delta) + \"_median\"] = test.groupby(\n",
        "      to_group).Quantity.median().apply(lambda l: np.round(l,1)).shift(delta)\n",
        "    \n",
        "  test = test.reset_index()\n",
        "  test.loc[test.week_of_the_year >= (week+delta),\n",
        "                \"QuantityProductTypeWeekWeekdayLag_\" + str(delta) + \"_median\"] = np.nan"
      ],
      "execution_count": null,
      "outputs": []
    },
    {
      "cell_type": "code",
      "metadata": {
        "id": "T8vA8-zj5f9x"
      },
      "source": [
        "test[\"ProductType\"] = test.StockCode.map(products.cluster)\n",
        "test[\"TransactionsPerProductType\"] = test.ProductType.map(test.loc[test.week_of_the_year < week].groupby(\"ProductType\").InvoiceNo.nunique())"
      ],
      "execution_count": null,
      "outputs": []
    },
    {
      "cell_type": "code",
      "metadata": {
        "id": "J4IlNYa85gQU"
      },
      "source": [
        "test[\"TransactionsPerStockCode\"] = test.StockCode.map(\n",
        "    test.loc[test.week_of_the_year < week].groupby(\"StockCode\").InvoiceNo.nunique())"
      ],
      "execution_count": null,
      "outputs": []
    },
    {
      "cell_type": "code",
      "metadata": {
        "id": "F3Yz_7bQpi6I",
        "colab": {
          "base_uri": "https://localhost:8080/",
          "height": 198
        },
        "outputId": "43a6d2de-d78e-4091-a056-c48e668160dc"
      },
      "source": [
        "# Quantity of each stock\n",
        "test_join = test.groupby('StockCode')[['Quantity']].sum()\n",
        "test_join = test_join.reset_index()\n",
        "test_join.head()"
      ],
      "execution_count": null,
      "outputs": [
        {
          "output_type": "execute_result",
          "data": {
            "text/html": [
              "<div>\n",
              "<style scoped>\n",
              "    .dataframe tbody tr th:only-of-type {\n",
              "        vertical-align: middle;\n",
              "    }\n",
              "\n",
              "    .dataframe tbody tr th {\n",
              "        vertical-align: top;\n",
              "    }\n",
              "\n",
              "    .dataframe thead th {\n",
              "        text-align: right;\n",
              "    }\n",
              "</style>\n",
              "<table border=\"1\" class=\"dataframe\">\n",
              "  <thead>\n",
              "    <tr style=\"text-align: right;\">\n",
              "      <th></th>\n",
              "      <th>StockCode</th>\n",
              "      <th>Quantity</th>\n",
              "    </tr>\n",
              "  </thead>\n",
              "  <tbody>\n",
              "    <tr>\n",
              "      <th>0</th>\n",
              "      <td>0</td>\n",
              "      <td>249</td>\n",
              "    </tr>\n",
              "    <tr>\n",
              "      <th>1</th>\n",
              "      <td>1</td>\n",
              "      <td>101</td>\n",
              "    </tr>\n",
              "    <tr>\n",
              "      <th>2</th>\n",
              "      <td>2</td>\n",
              "      <td>64</td>\n",
              "    </tr>\n",
              "    <tr>\n",
              "      <th>3</th>\n",
              "      <td>4</td>\n",
              "      <td>4</td>\n",
              "    </tr>\n",
              "    <tr>\n",
              "      <th>4</th>\n",
              "      <td>5</td>\n",
              "      <td>5</td>\n",
              "    </tr>\n",
              "  </tbody>\n",
              "</table>\n",
              "</div>"
            ],
            "text/plain": [
              "   StockCode  Quantity\n",
              "0          0       249\n",
              "1          1       101\n",
              "2          2        64\n",
              "3          4         4\n",
              "4          5         5"
            ]
          },
          "metadata": {
            "tags": []
          },
          "execution_count": 91
        }
      ]
    },
    {
      "cell_type": "code",
      "metadata": {
        "id": "-FZQcRVMpvU7"
      },
      "source": [
        "test = test.merge(test_join, how='left', on='StockCode')\n",
        "test = test.rename(columns={'Quantity_x' : 'Quantity', 'Quantity_y' : 'Quantity_per_Stock'})\n"
      ],
      "execution_count": null,
      "outputs": []
    },
    {
      "cell_type": "code",
      "metadata": {
        "id": "bWNQzyyopwUw",
        "colab": {
          "base_uri": "https://localhost:8080/",
          "height": 198
        },
        "outputId": "2fae6d03-b011-40a8-bf16-981f98b13ff5"
      },
      "source": [
        "# Total Quantity per invoice\n",
        "test_in = test.groupby('InvoiceNo')[['Quantity']].sum()\n",
        "test_in = test_in.reset_index()\n",
        "test_in.head()"
      ],
      "execution_count": null,
      "outputs": [
        {
          "output_type": "execute_result",
          "data": {
            "text/html": [
              "<div>\n",
              "<style scoped>\n",
              "    .dataframe tbody tr th:only-of-type {\n",
              "        vertical-align: middle;\n",
              "    }\n",
              "\n",
              "    .dataframe tbody tr th {\n",
              "        vertical-align: top;\n",
              "    }\n",
              "\n",
              "    .dataframe thead th {\n",
              "        text-align: right;\n",
              "    }\n",
              "</style>\n",
              "<table border=\"1\" class=\"dataframe\">\n",
              "  <thead>\n",
              "    <tr style=\"text-align: right;\">\n",
              "      <th></th>\n",
              "      <th>InvoiceNo</th>\n",
              "      <th>Quantity</th>\n",
              "    </tr>\n",
              "  </thead>\n",
              "  <tbody>\n",
              "    <tr>\n",
              "      <th>0</th>\n",
              "      <td>0</td>\n",
              "      <td>6</td>\n",
              "    </tr>\n",
              "    <tr>\n",
              "      <th>1</th>\n",
              "      <td>1</td>\n",
              "      <td>6</td>\n",
              "    </tr>\n",
              "    <tr>\n",
              "      <th>2</th>\n",
              "      <td>2</td>\n",
              "      <td>9</td>\n",
              "    </tr>\n",
              "    <tr>\n",
              "      <th>3</th>\n",
              "      <td>5</td>\n",
              "      <td>36</td>\n",
              "    </tr>\n",
              "    <tr>\n",
              "      <th>4</th>\n",
              "      <td>6</td>\n",
              "      <td>80</td>\n",
              "    </tr>\n",
              "  </tbody>\n",
              "</table>\n",
              "</div>"
            ],
            "text/plain": [
              "   InvoiceNo  Quantity\n",
              "0          0         6\n",
              "1          1         6\n",
              "2          2         9\n",
              "3          5        36\n",
              "4          6        80"
            ]
          },
          "metadata": {
            "tags": []
          },
          "execution_count": 93
        }
      ]
    },
    {
      "cell_type": "code",
      "metadata": {
        "id": "AdBygUk2pwfU"
      },
      "source": [
        "test = test.merge(test_in, how='left', on='InvoiceNo')\n",
        "test = test.rename(columns={'Quantity_x' : 'Quantity', 'Quantity_y' : 'Quantity_per_invoice'})\n"
      ],
      "execution_count": null,
      "outputs": []
    },
    {
      "cell_type": "code",
      "metadata": {
        "id": "wLgMdWrdyLVO"
      },
      "source": [
        "test[\"quant\"] = np.where(test.Quantity > 0, 1, -1)"
      ],
      "execution_count": null,
      "outputs": []
    },
    {
      "cell_type": "code",
      "metadata": {
        "id": "91gXYavg-Gs8",
        "colab": {
          "base_uri": "https://localhost:8080/",
          "height": 198
        },
        "outputId": "8d7a49d9-abff-4c42-dad8-ff9dc2b7e847"
      },
      "source": [
        "# Unique customers per stock\n",
        "test_cust_per_stock = test.groupby(by='StockCode', as_index=False).agg({'CustomerID': pd.Series.nunique})\n",
        "test_cust_per_stock = test_cust_per_stock.rename(columns = {'CustomerID':'Unique_customers_per_stock'})\n",
        "test = test.merge(test_cust_per_stock, how='left', on='StockCode')\n",
        "test_cust_per_stock.head()"
      ],
      "execution_count": null,
      "outputs": [
        {
          "output_type": "execute_result",
          "data": {
            "text/html": [
              "<div>\n",
              "<style scoped>\n",
              "    .dataframe tbody tr th:only-of-type {\n",
              "        vertical-align: middle;\n",
              "    }\n",
              "\n",
              "    .dataframe tbody tr th {\n",
              "        vertical-align: top;\n",
              "    }\n",
              "\n",
              "    .dataframe thead th {\n",
              "        text-align: right;\n",
              "    }\n",
              "</style>\n",
              "<table border=\"1\" class=\"dataframe\">\n",
              "  <thead>\n",
              "    <tr style=\"text-align: right;\">\n",
              "      <th></th>\n",
              "      <th>StockCode</th>\n",
              "      <th>Unique_customers_per_stock</th>\n",
              "    </tr>\n",
              "  </thead>\n",
              "  <tbody>\n",
              "    <tr>\n",
              "      <th>0</th>\n",
              "      <td>0</td>\n",
              "      <td>16.0</td>\n",
              "    </tr>\n",
              "    <tr>\n",
              "      <th>1</th>\n",
              "      <td>1</td>\n",
              "      <td>7.0</td>\n",
              "    </tr>\n",
              "    <tr>\n",
              "      <th>2</th>\n",
              "      <td>2</td>\n",
              "      <td>7.0</td>\n",
              "    </tr>\n",
              "    <tr>\n",
              "      <th>3</th>\n",
              "      <td>4</td>\n",
              "      <td>1.0</td>\n",
              "    </tr>\n",
              "    <tr>\n",
              "      <th>4</th>\n",
              "      <td>5</td>\n",
              "      <td>1.0</td>\n",
              "    </tr>\n",
              "  </tbody>\n",
              "</table>\n",
              "</div>"
            ],
            "text/plain": [
              "   StockCode  Unique_customers_per_stock\n",
              "0          0                        16.0\n",
              "1          1                         7.0\n",
              "2          2                         7.0\n",
              "3          4                         1.0\n",
              "4          5                         1.0"
            ]
          },
          "metadata": {
            "tags": []
          },
          "execution_count": 96
        }
      ]
    },
    {
      "cell_type": "code",
      "metadata": {
        "id": "2a83Ni9Z-dQp",
        "colab": {
          "base_uri": "https://localhost:8080/",
          "height": 198
        },
        "outputId": "6f7b1d0f-c463-4a37-c15a-7f9e9bd0960b"
      },
      "source": [
        "# Unique transactions per stock\n",
        "transactions_per_stock = test.groupby(by='StockCode', as_index=False).agg({'InvoiceNo': pd.Series.nunique})\n",
        "transactions_per_stock = transactions_per_stock.rename(columns = {'InvoiceNo':'transactions_per_stock'})\n",
        "test = test.merge(transactions_per_stock, how='left', on='StockCode')\n",
        "transactions_per_stock.head()"
      ],
      "execution_count": null,
      "outputs": [
        {
          "output_type": "execute_result",
          "data": {
            "text/html": [
              "<div>\n",
              "<style scoped>\n",
              "    .dataframe tbody tr th:only-of-type {\n",
              "        vertical-align: middle;\n",
              "    }\n",
              "\n",
              "    .dataframe tbody tr th {\n",
              "        vertical-align: top;\n",
              "    }\n",
              "\n",
              "    .dataframe thead th {\n",
              "        text-align: right;\n",
              "    }\n",
              "</style>\n",
              "<table border=\"1\" class=\"dataframe\">\n",
              "  <thead>\n",
              "    <tr style=\"text-align: right;\">\n",
              "      <th></th>\n",
              "      <th>StockCode</th>\n",
              "      <th>transactions_per_stock</th>\n",
              "    </tr>\n",
              "  </thead>\n",
              "  <tbody>\n",
              "    <tr>\n",
              "      <th>0</th>\n",
              "      <td>0</td>\n",
              "      <td>17</td>\n",
              "    </tr>\n",
              "    <tr>\n",
              "      <th>1</th>\n",
              "      <td>1</td>\n",
              "      <td>7</td>\n",
              "    </tr>\n",
              "    <tr>\n",
              "      <th>2</th>\n",
              "      <td>2</td>\n",
              "      <td>7</td>\n",
              "    </tr>\n",
              "    <tr>\n",
              "      <th>3</th>\n",
              "      <td>4</td>\n",
              "      <td>1</td>\n",
              "    </tr>\n",
              "    <tr>\n",
              "      <th>4</th>\n",
              "      <td>5</td>\n",
              "      <td>1</td>\n",
              "    </tr>\n",
              "  </tbody>\n",
              "</table>\n",
              "</div>"
            ],
            "text/plain": [
              "   StockCode  transactions_per_stock\n",
              "0          0                      17\n",
              "1          1                       7\n",
              "2          2                       7\n",
              "3          4                       1\n",
              "4          5                       1"
            ]
          },
          "metadata": {
            "tags": []
          },
          "execution_count": 97
        }
      ]
    },
    {
      "cell_type": "code",
      "metadata": {
        "id": "ZpPPFzL1-dc8",
        "colab": {
          "base_uri": "https://localhost:8080/",
          "height": 228
        },
        "outputId": "b4e02cd8-dc4f-4746-b044-822d21039af9"
      },
      "source": [
        "# Total transactions per customer\n",
        "total_transactions_per_customer = test.groupby('CustomerID')['InvoiceNo'].count()\n",
        "total_transactions_per_customer = pd.DataFrame(total_transactions_per_customer)\n",
        "total_transactions_per_customer = total_transactions_per_customer.rename(columns = {'InvoiceNo':'total_transactions_per_customer'})\n",
        "test = test.merge(total_transactions_per_customer, how='left', on='CustomerID')\n",
        "total_transactions_per_customer.head()\n"
      ],
      "execution_count": null,
      "outputs": [
        {
          "output_type": "execute_result",
          "data": {
            "text/html": [
              "<div>\n",
              "<style scoped>\n",
              "    .dataframe tbody tr th:only-of-type {\n",
              "        vertical-align: middle;\n",
              "    }\n",
              "\n",
              "    .dataframe tbody tr th {\n",
              "        vertical-align: top;\n",
              "    }\n",
              "\n",
              "    .dataframe thead th {\n",
              "        text-align: right;\n",
              "    }\n",
              "</style>\n",
              "<table border=\"1\" class=\"dataframe\">\n",
              "  <thead>\n",
              "    <tr style=\"text-align: right;\">\n",
              "      <th></th>\n",
              "      <th>total_transactions_per_customer</th>\n",
              "    </tr>\n",
              "    <tr>\n",
              "      <th>CustomerID</th>\n",
              "      <th></th>\n",
              "    </tr>\n",
              "  </thead>\n",
              "  <tbody>\n",
              "    <tr>\n",
              "      <th>12347.0</th>\n",
              "      <td>50</td>\n",
              "    </tr>\n",
              "    <tr>\n",
              "      <th>12348.0</th>\n",
              "      <td>9</td>\n",
              "    </tr>\n",
              "    <tr>\n",
              "      <th>12349.0</th>\n",
              "      <td>20</td>\n",
              "    </tr>\n",
              "    <tr>\n",
              "      <th>12350.0</th>\n",
              "      <td>6</td>\n",
              "    </tr>\n",
              "    <tr>\n",
              "      <th>12352.0</th>\n",
              "      <td>26</td>\n",
              "    </tr>\n",
              "  </tbody>\n",
              "</table>\n",
              "</div>"
            ],
            "text/plain": [
              "            total_transactions_per_customer\n",
              "CustomerID                                 \n",
              "12347.0                                  50\n",
              "12348.0                                   9\n",
              "12349.0                                  20\n",
              "12350.0                                   6\n",
              "12352.0                                  26"
            ]
          },
          "metadata": {
            "tags": []
          },
          "execution_count": 158
        }
      ]
    },
    {
      "cell_type": "code",
      "metadata": {
        "id": "bjGKuidX4rDW",
        "colab": {
          "base_uri": "https://localhost:8080/",
          "height": 479
        },
        "outputId": "f0e17c9a-0ea8-4ed4-fe1c-65ad46076a68"
      },
      "source": [
        "x_train\n",
        "\n"
      ],
      "execution_count": null,
      "outputs": [
        {
          "output_type": "execute_result",
          "data": {
            "text/html": [
              "<div>\n",
              "<style scoped>\n",
              "    .dataframe tbody tr th:only-of-type {\n",
              "        vertical-align: middle;\n",
              "    }\n",
              "\n",
              "    .dataframe tbody tr th {\n",
              "        vertical-align: top;\n",
              "    }\n",
              "\n",
              "    .dataframe thead th {\n",
              "        text-align: right;\n",
              "    }\n",
              "</style>\n",
              "<table border=\"1\" class=\"dataframe\">\n",
              "  <thead>\n",
              "    <tr style=\"text-align: right;\">\n",
              "      <th></th>\n",
              "      <th>InvoiceNo</th>\n",
              "      <th>StockCode</th>\n",
              "      <th>Description</th>\n",
              "      <th>Quantity</th>\n",
              "      <th>CustomerID</th>\n",
              "      <th>Country</th>\n",
              "      <th>month</th>\n",
              "      <th>day</th>\n",
              "      <th>year</th>\n",
              "      <th>quarter</th>\n",
              "      <th>day of the week</th>\n",
              "      <th>is_weekend</th>\n",
              "      <th>week_of_the_year</th>\n",
              "      <th>Dayofyear</th>\n",
              "      <th>transactions_per_customer</th>\n",
              "      <th>stocks_per_customer</th>\n",
              "      <th>quantity_per_customer</th>\n",
              "      <th>total_transactions_per_customer</th>\n",
              "      <th>total_weeks_per_customer</th>\n",
              "      <th>Unique_weeks_per_customer</th>\n",
              "      <th>Unique_days_per_customer</th>\n",
              "      <th>total_days_per_customer</th>\n",
              "    </tr>\n",
              "  </thead>\n",
              "  <tbody>\n",
              "    <tr>\n",
              "      <th>261715</th>\n",
              "      <td>8260</td>\n",
              "      <td>2062</td>\n",
              "      <td>1221</td>\n",
              "      <td>24</td>\n",
              "      <td>13618.0</td>\n",
              "      <td>35</td>\n",
              "      <td>6</td>\n",
              "      <td>19</td>\n",
              "      <td>2011</td>\n",
              "      <td>2</td>\n",
              "      <td>6</td>\n",
              "      <td>1</td>\n",
              "      <td>24</td>\n",
              "      <td>170</td>\n",
              "      <td>1</td>\n",
              "      <td>9</td>\n",
              "      <td>200</td>\n",
              "      <td>9</td>\n",
              "      <td>9</td>\n",
              "      <td>1</td>\n",
              "      <td>1</td>\n",
              "      <td>9</td>\n",
              "    </tr>\n",
              "    <tr>\n",
              "      <th>253201</th>\n",
              "      <td>17405</td>\n",
              "      <td>1521</td>\n",
              "      <td>2679</td>\n",
              "      <td>2</td>\n",
              "      <td>13546.0</td>\n",
              "      <td>35</td>\n",
              "      <td>11</td>\n",
              "      <td>27</td>\n",
              "      <td>2011</td>\n",
              "      <td>4</td>\n",
              "      <td>6</td>\n",
              "      <td>1</td>\n",
              "      <td>47</td>\n",
              "      <td>331</td>\n",
              "      <td>3</td>\n",
              "      <td>53</td>\n",
              "      <td>242</td>\n",
              "      <td>63</td>\n",
              "      <td>63</td>\n",
              "      <td>3</td>\n",
              "      <td>3</td>\n",
              "      <td>63</td>\n",
              "    </tr>\n",
              "    <tr>\n",
              "      <th>155713</th>\n",
              "      <td>5536</td>\n",
              "      <td>3547</td>\n",
              "      <td>2697</td>\n",
              "      <td>2</td>\n",
              "      <td>17449.0</td>\n",
              "      <td>35</td>\n",
              "      <td>4</td>\n",
              "      <td>19</td>\n",
              "      <td>2011</td>\n",
              "      <td>2</td>\n",
              "      <td>1</td>\n",
              "      <td>0</td>\n",
              "      <td>16</td>\n",
              "      <td>109</td>\n",
              "      <td>8</td>\n",
              "      <td>141</td>\n",
              "      <td>766</td>\n",
              "      <td>195</td>\n",
              "      <td>195</td>\n",
              "      <td>7</td>\n",
              "      <td>7</td>\n",
              "      <td>195</td>\n",
              "    </tr>\n",
              "    <tr>\n",
              "      <th>251184</th>\n",
              "      <td>13974</td>\n",
              "      <td>2079</td>\n",
              "      <td>3025</td>\n",
              "      <td>4</td>\n",
              "      <td>15367.0</td>\n",
              "      <td>35</td>\n",
              "      <td>10</td>\n",
              "      <td>13</td>\n",
              "      <td>2011</td>\n",
              "      <td>4</td>\n",
              "      <td>3</td>\n",
              "      <td>0</td>\n",
              "      <td>41</td>\n",
              "      <td>286</td>\n",
              "      <td>5</td>\n",
              "      <td>68</td>\n",
              "      <td>766</td>\n",
              "      <td>70</td>\n",
              "      <td>70</td>\n",
              "      <td>4</td>\n",
              "      <td>4</td>\n",
              "      <td>70</td>\n",
              "    </tr>\n",
              "    <tr>\n",
              "      <th>114558</th>\n",
              "      <td>12822</td>\n",
              "      <td>1695</td>\n",
              "      <td>539</td>\n",
              "      <td>2</td>\n",
              "      <td>18016.0</td>\n",
              "      <td>35</td>\n",
              "      <td>9</td>\n",
              "      <td>26</td>\n",
              "      <td>2011</td>\n",
              "      <td>3</td>\n",
              "      <td>0</td>\n",
              "      <td>0</td>\n",
              "      <td>39</td>\n",
              "      <td>269</td>\n",
              "      <td>5</td>\n",
              "      <td>68</td>\n",
              "      <td>576</td>\n",
              "      <td>84</td>\n",
              "      <td>84</td>\n",
              "      <td>5</td>\n",
              "      <td>5</td>\n",
              "      <td>84</td>\n",
              "    </tr>\n",
              "    <tr>\n",
              "      <th>...</th>\n",
              "      <td>...</td>\n",
              "      <td>...</td>\n",
              "      <td>...</td>\n",
              "      <td>...</td>\n",
              "      <td>...</td>\n",
              "      <td>...</td>\n",
              "      <td>...</td>\n",
              "      <td>...</td>\n",
              "      <td>...</td>\n",
              "      <td>...</td>\n",
              "      <td>...</td>\n",
              "      <td>...</td>\n",
              "      <td>...</td>\n",
              "      <td>...</td>\n",
              "      <td>...</td>\n",
              "      <td>...</td>\n",
              "      <td>...</td>\n",
              "      <td>...</td>\n",
              "      <td>...</td>\n",
              "      <td>...</td>\n",
              "      <td>...</td>\n",
              "      <td>...</td>\n",
              "    </tr>\n",
              "    <tr>\n",
              "      <th>123554</th>\n",
              "      <td>8259</td>\n",
              "      <td>1484</td>\n",
              "      <td>2070</td>\n",
              "      <td>2</td>\n",
              "      <td>14646.0</td>\n",
              "      <td>23</td>\n",
              "      <td>6</td>\n",
              "      <td>19</td>\n",
              "      <td>2011</td>\n",
              "      <td>2</td>\n",
              "      <td>6</td>\n",
              "      <td>1</td>\n",
              "      <td>24</td>\n",
              "      <td>170</td>\n",
              "      <td>72</td>\n",
              "      <td>605</td>\n",
              "      <td>142558</td>\n",
              "      <td>1477</td>\n",
              "      <td>1477</td>\n",
              "      <td>31</td>\n",
              "      <td>45</td>\n",
              "      <td>1477</td>\n",
              "    </tr>\n",
              "    <tr>\n",
              "      <th>267144</th>\n",
              "      <td>14242</td>\n",
              "      <td>770</td>\n",
              "      <td>1862</td>\n",
              "      <td>1</td>\n",
              "      <td>16910.0</td>\n",
              "      <td>35</td>\n",
              "      <td>10</td>\n",
              "      <td>18</td>\n",
              "      <td>2011</td>\n",
              "      <td>4</td>\n",
              "      <td>1</td>\n",
              "      <td>0</td>\n",
              "      <td>42</td>\n",
              "      <td>291</td>\n",
              "      <td>8</td>\n",
              "      <td>263</td>\n",
              "      <td>638</td>\n",
              "      <td>393</td>\n",
              "      <td>393</td>\n",
              "      <td>7</td>\n",
              "      <td>8</td>\n",
              "      <td>393</td>\n",
              "    </tr>\n",
              "    <tr>\n",
              "      <th>135983</th>\n",
              "      <td>11973</td>\n",
              "      <td>2065</td>\n",
              "      <td>3814</td>\n",
              "      <td>25</td>\n",
              "      <td>14533.0</td>\n",
              "      <td>35</td>\n",
              "      <td>9</td>\n",
              "      <td>11</td>\n",
              "      <td>2011</td>\n",
              "      <td>3</td>\n",
              "      <td>6</td>\n",
              "      <td>1</td>\n",
              "      <td>36</td>\n",
              "      <td>254</td>\n",
              "      <td>9</td>\n",
              "      <td>42</td>\n",
              "      <td>625</td>\n",
              "      <td>46</td>\n",
              "      <td>46</td>\n",
              "      <td>7</td>\n",
              "      <td>8</td>\n",
              "      <td>46</td>\n",
              "    </tr>\n",
              "    <tr>\n",
              "      <th>151342</th>\n",
              "      <td>14983</td>\n",
              "      <td>2394</td>\n",
              "      <td>2035</td>\n",
              "      <td>12</td>\n",
              "      <td>12597.0</td>\n",
              "      <td>30</td>\n",
              "      <td>10</td>\n",
              "      <td>30</td>\n",
              "      <td>2011</td>\n",
              "      <td>4</td>\n",
              "      <td>6</td>\n",
              "      <td>1</td>\n",
              "      <td>43</td>\n",
              "      <td>303</td>\n",
              "      <td>5</td>\n",
              "      <td>127</td>\n",
              "      <td>1382</td>\n",
              "      <td>139</td>\n",
              "      <td>139</td>\n",
              "      <td>5</td>\n",
              "      <td>5</td>\n",
              "      <td>139</td>\n",
              "    </tr>\n",
              "    <tr>\n",
              "      <th>125697</th>\n",
              "      <td>137</td>\n",
              "      <td>1686</td>\n",
              "      <td>1674</td>\n",
              "      <td>8</td>\n",
              "      <td>14047.0</td>\n",
              "      <td>35</td>\n",
              "      <td>12</td>\n",
              "      <td>2</td>\n",
              "      <td>2010</td>\n",
              "      <td>4</td>\n",
              "      <td>3</td>\n",
              "      <td>0</td>\n",
              "      <td>48</td>\n",
              "      <td>336</td>\n",
              "      <td>5</td>\n",
              "      <td>17</td>\n",
              "      <td>258</td>\n",
              "      <td>26</td>\n",
              "      <td>26</td>\n",
              "      <td>4</td>\n",
              "      <td>5</td>\n",
              "      <td>26</td>\n",
              "    </tr>\n",
              "  </tbody>\n",
              "</table>\n",
              "<p>193372 rows × 22 columns</p>\n",
              "</div>"
            ],
            "text/plain": [
              "        InvoiceNo  StockCode  ...  Unique_days_per_customer  total_days_per_customer\n",
              "261715       8260       2062  ...                         1                        9\n",
              "253201      17405       1521  ...                         3                       63\n",
              "155713       5536       3547  ...                         7                      195\n",
              "251184      13974       2079  ...                         4                       70\n",
              "114558      12822       1695  ...                         5                       84\n",
              "...           ...        ...  ...                       ...                      ...\n",
              "123554       8259       1484  ...                        45                     1477\n",
              "267144      14242        770  ...                         8                      393\n",
              "135983      11973       2065  ...                         8                       46\n",
              "151342      14983       2394  ...                         5                      139\n",
              "125697        137       1686  ...                         5                       26\n",
              "\n",
              "[193372 rows x 22 columns]"
            ]
          },
          "metadata": {
            "tags": []
          },
          "execution_count": 93
        }
      ]
    },
    {
      "cell_type": "code",
      "metadata": {
        "id": "Y-9cohyN413E",
        "colab": {
          "base_uri": "https://localhost:8080/"
        },
        "outputId": "9613f32e-096a-4ab5-bca6-4a94764c562b"
      },
      "source": [
        "test.shape"
      ],
      "execution_count": null,
      "outputs": [
        {
          "output_type": "execute_result",
          "data": {
            "text/plain": [
              "(122049, 41)"
            ]
          },
          "metadata": {
            "tags": []
          },
          "execution_count": 94
        }
      ]
    },
    {
      "cell_type": "code",
      "metadata": {
        "id": "DZtGyFHjnKwh",
        "colab": {
          "base_uri": "https://localhost:8080/"
        },
        "outputId": "4c374dd6-1720-459d-d8cc-db5a8129c089"
      },
      "source": [
        "train.shape"
      ],
      "execution_count": null,
      "outputs": [
        {
          "output_type": "execute_result",
          "data": {
            "text/plain": [
              "(284780, 40)"
            ]
          },
          "metadata": {
            "tags": []
          },
          "execution_count": 93
        }
      ]
    },
    {
      "cell_type": "code",
      "metadata": {
        "id": "pFUTtV8VUpQn"
      },
      "source": [
        "test = test.drop([\"35\"],axis =1)"
      ],
      "execution_count": null,
      "outputs": []
    },
    {
      "cell_type": "code",
      "metadata": {
        "id": "S0KkZB755UFW",
        "colab": {
          "base_uri": "https://localhost:8080/",
          "height": 270
        },
        "outputId": "19742c60-6423-4267-c4bf-4e0672c563fc"
      },
      "source": [
        "test.head()"
      ],
      "execution_count": null,
      "outputs": [
        {
          "output_type": "execute_result",
          "data": {
            "text/html": [
              "<div>\n",
              "<style scoped>\n",
              "    .dataframe tbody tr th:only-of-type {\n",
              "        vertical-align: middle;\n",
              "    }\n",
              "\n",
              "    .dataframe tbody tr th {\n",
              "        vertical-align: top;\n",
              "    }\n",
              "\n",
              "    .dataframe thead th {\n",
              "        text-align: right;\n",
              "    }\n",
              "</style>\n",
              "<table border=\"1\" class=\"dataframe\">\n",
              "  <thead>\n",
              "    <tr style=\"text-align: right;\">\n",
              "      <th></th>\n",
              "      <th>InvoiceNo</th>\n",
              "      <th>StockCode</th>\n",
              "      <th>Description</th>\n",
              "      <th>Quantity</th>\n",
              "      <th>CustomerID</th>\n",
              "      <th>Country</th>\n",
              "      <th>month</th>\n",
              "      <th>day</th>\n",
              "      <th>year</th>\n",
              "      <th>quarter</th>\n",
              "      <th>day of the week</th>\n",
              "      <th>is_weekend</th>\n",
              "      <th>week_of_the_year</th>\n",
              "      <th>Dayofyear</th>\n",
              "      <th>transactions_per_customer</th>\n",
              "      <th>stocks_per_customer</th>\n",
              "      <th>quantity_per_customer</th>\n",
              "      <th>total_transactions_per_customer</th>\n",
              "      <th>total_weeks_per_customer</th>\n",
              "      <th>Unique_weeks_per_customer</th>\n",
              "      <th>Unique_days_per_customer</th>\n",
              "      <th>total_days_per_customer</th>\n",
              "    </tr>\n",
              "  </thead>\n",
              "  <tbody>\n",
              "    <tr>\n",
              "      <th>0</th>\n",
              "      <td>3139</td>\n",
              "      <td>1709</td>\n",
              "      <td>1079</td>\n",
              "      <td>3</td>\n",
              "      <td>16161.0</td>\n",
              "      <td>35</td>\n",
              "      <td>2</td>\n",
              "      <td>22</td>\n",
              "      <td>2011</td>\n",
              "      <td>1</td>\n",
              "      <td>1</td>\n",
              "      <td>0</td>\n",
              "      <td>8</td>\n",
              "      <td>53</td>\n",
              "      <td>22</td>\n",
              "      <td>124</td>\n",
              "      <td>830</td>\n",
              "      <td>151</td>\n",
              "      <td>151</td>\n",
              "      <td>16</td>\n",
              "      <td>19</td>\n",
              "      <td>151</td>\n",
              "    </tr>\n",
              "    <tr>\n",
              "      <th>1</th>\n",
              "      <td>617</td>\n",
              "      <td>510</td>\n",
              "      <td>3457</td>\n",
              "      <td>1</td>\n",
              "      <td>17341.0</td>\n",
              "      <td>35</td>\n",
              "      <td>12</td>\n",
              "      <td>8</td>\n",
              "      <td>2010</td>\n",
              "      <td>4</td>\n",
              "      <td>2</td>\n",
              "      <td>0</td>\n",
              "      <td>49</td>\n",
              "      <td>342</td>\n",
              "      <td>3</td>\n",
              "      <td>43</td>\n",
              "      <td>98</td>\n",
              "      <td>45</td>\n",
              "      <td>45</td>\n",
              "      <td>2</td>\n",
              "      <td>2</td>\n",
              "      <td>45</td>\n",
              "    </tr>\n",
              "    <tr>\n",
              "      <th>2</th>\n",
              "      <td>14653</td>\n",
              "      <td>604</td>\n",
              "      <td>694</td>\n",
              "      <td>36</td>\n",
              "      <td>15158.0</td>\n",
              "      <td>35</td>\n",
              "      <td>10</td>\n",
              "      <td>25</td>\n",
              "      <td>2011</td>\n",
              "      <td>4</td>\n",
              "      <td>1</td>\n",
              "      <td>0</td>\n",
              "      <td>43</td>\n",
              "      <td>298</td>\n",
              "      <td>1</td>\n",
              "      <td>4</td>\n",
              "      <td>108</td>\n",
              "      <td>4</td>\n",
              "      <td>4</td>\n",
              "      <td>1</td>\n",
              "      <td>1</td>\n",
              "      <td>4</td>\n",
              "    </tr>\n",
              "    <tr>\n",
              "      <th>3</th>\n",
              "      <td>8634</td>\n",
              "      <td>1478</td>\n",
              "      <td>3473</td>\n",
              "      <td>2</td>\n",
              "      <td>16033.0</td>\n",
              "      <td>35</td>\n",
              "      <td>6</td>\n",
              "      <td>27</td>\n",
              "      <td>2011</td>\n",
              "      <td>2</td>\n",
              "      <td>0</td>\n",
              "      <td>0</td>\n",
              "      <td>26</td>\n",
              "      <td>178</td>\n",
              "      <td>22</td>\n",
              "      <td>251</td>\n",
              "      <td>1088</td>\n",
              "      <td>342</td>\n",
              "      <td>342</td>\n",
              "      <td>17</td>\n",
              "      <td>18</td>\n",
              "      <td>342</td>\n",
              "    </tr>\n",
              "    <tr>\n",
              "      <th>4</th>\n",
              "      <td>15546</td>\n",
              "      <td>3216</td>\n",
              "      <td>871</td>\n",
              "      <td>1</td>\n",
              "      <td>15351.0</td>\n",
              "      <td>35</td>\n",
              "      <td>11</td>\n",
              "      <td>6</td>\n",
              "      <td>2011</td>\n",
              "      <td>4</td>\n",
              "      <td>6</td>\n",
              "      <td>1</td>\n",
              "      <td>44</td>\n",
              "      <td>310</td>\n",
              "      <td>10</td>\n",
              "      <td>58</td>\n",
              "      <td>202</td>\n",
              "      <td>66</td>\n",
              "      <td>66</td>\n",
              "      <td>6</td>\n",
              "      <td>7</td>\n",
              "      <td>66</td>\n",
              "    </tr>\n",
              "  </tbody>\n",
              "</table>\n",
              "</div>"
            ],
            "text/plain": [
              "   InvoiceNo  StockCode  ...  Unique_days_per_customer  total_days_per_customer\n",
              "0       3139       1709  ...                        19                      151\n",
              "1        617        510  ...                         2                       45\n",
              "2      14653        604  ...                         1                        4\n",
              "3       8634       1478  ...                        18                      342\n",
              "4      15546       3216  ...                         7                       66\n",
              "\n",
              "[5 rows x 22 columns]"
            ]
          },
          "metadata": {
            "tags": []
          },
          "execution_count": 95
        }
      ]
    },
    {
      "cell_type": "code",
      "metadata": {
        "id": "P1IGdhR9WawS"
      },
      "source": [
        "test = test.drop([\"Quantity\",\"year\",\"quarter\",\"is_weekend\",\"Dayofyear\",\"Quantity_per_Stock\",\"Quantity_per_invoice\",\"35\",\"quant\"],axis =1)"
      ],
      "execution_count": null,
      "outputs": []
    },
    {
      "cell_type": "code",
      "metadata": {
        "id": "GiEiRWJ6rv4o",
        "colab": {
          "base_uri": "https://localhost:8080/"
        },
        "outputId": "79f2a5c8-cf3e-4314-9adc-2f8c84e49292"
      },
      "source": [
        "test.shape"
      ],
      "execution_count": null,
      "outputs": [
        {
          "output_type": "execute_result",
          "data": {
            "text/plain": [
              "(122049, 19)"
            ]
          },
          "metadata": {
            "tags": []
          },
          "execution_count": 160
        }
      ]
    },
    {
      "cell_type": "code",
      "metadata": {
        "id": "ia6bFJN1I-M8",
        "colab": {
          "base_uri": "https://localhost:8080/",
          "height": 270
        },
        "outputId": "f350c8bb-c7aa-42ce-bd5d-99c85c2c25c2"
      },
      "source": [
        "test1_combo.head()"
      ],
      "execution_count": null,
      "outputs": [
        {
          "output_type": "execute_result",
          "data": {
            "text/html": [
              "<div>\n",
              "<style scoped>\n",
              "    .dataframe tbody tr th:only-of-type {\n",
              "        vertical-align: middle;\n",
              "    }\n",
              "\n",
              "    .dataframe tbody tr th {\n",
              "        vertical-align: top;\n",
              "    }\n",
              "\n",
              "    .dataframe thead th {\n",
              "        text-align: right;\n",
              "    }\n",
              "</style>\n",
              "<table border=\"1\" class=\"dataframe\">\n",
              "  <thead>\n",
              "    <tr style=\"text-align: right;\">\n",
              "      <th></th>\n",
              "      <th>InvoiceNo</th>\n",
              "      <th>StockCode</th>\n",
              "      <th>Description</th>\n",
              "      <th>Quantity</th>\n",
              "      <th>CustomerID</th>\n",
              "      <th>month</th>\n",
              "      <th>day</th>\n",
              "      <th>year</th>\n",
              "      <th>quarter</th>\n",
              "      <th>day of the week</th>\n",
              "      <th>is_weekend</th>\n",
              "      <th>week_of_the_year</th>\n",
              "      <th>Dayofyear</th>\n",
              "      <th>Country__0</th>\n",
              "      <th>Country__1</th>\n",
              "      <th>Country__2</th>\n",
              "      <th>Country__3</th>\n",
              "      <th>Country__4</th>\n",
              "      <th>Country__5</th>\n",
              "      <th>Country__6</th>\n",
              "      <th>Country__7</th>\n",
              "      <th>Country__8</th>\n",
              "      <th>Country__9</th>\n",
              "      <th>Country__10</th>\n",
              "      <th>Country__11</th>\n",
              "      <th>Country__12</th>\n",
              "      <th>Country__13</th>\n",
              "      <th>Country__14</th>\n",
              "      <th>Country__15</th>\n",
              "      <th>Country__16</th>\n",
              "      <th>Country__17</th>\n",
              "      <th>Country__18</th>\n",
              "      <th>Country__19</th>\n",
              "      <th>Country__20</th>\n",
              "      <th>Country__21</th>\n",
              "      <th>Country__22</th>\n",
              "      <th>Country__23</th>\n",
              "      <th>Country__24</th>\n",
              "      <th>Country__25</th>\n",
              "      <th>Country__26</th>\n",
              "      <th>Country__27</th>\n",
              "      <th>Country__28</th>\n",
              "      <th>Country__29</th>\n",
              "      <th>Country__30</th>\n",
              "      <th>Country__31</th>\n",
              "      <th>Country__32</th>\n",
              "      <th>Country__33</th>\n",
              "      <th>Country__34</th>\n",
              "      <th>Country__35</th>\n",
              "      <th>Country__36</th>\n",
              "      <th>Quantity_per_Stock</th>\n",
              "      <th>Quantity_per_invoice</th>\n",
              "      <th>quant</th>\n",
              "      <th>Number of customers</th>\n",
              "    </tr>\n",
              "  </thead>\n",
              "  <tbody>\n",
              "    <tr>\n",
              "      <th>0</th>\n",
              "      <td>3139</td>\n",
              "      <td>1709</td>\n",
              "      <td>1079</td>\n",
              "      <td>3</td>\n",
              "      <td>16161.0</td>\n",
              "      <td>2</td>\n",
              "      <td>22</td>\n",
              "      <td>2011</td>\n",
              "      <td>1</td>\n",
              "      <td>1</td>\n",
              "      <td>0</td>\n",
              "      <td>8</td>\n",
              "      <td>53</td>\n",
              "      <td>0</td>\n",
              "      <td>0</td>\n",
              "      <td>0</td>\n",
              "      <td>0</td>\n",
              "      <td>0</td>\n",
              "      <td>0</td>\n",
              "      <td>0</td>\n",
              "      <td>0</td>\n",
              "      <td>0</td>\n",
              "      <td>0</td>\n",
              "      <td>0</td>\n",
              "      <td>0</td>\n",
              "      <td>0</td>\n",
              "      <td>0</td>\n",
              "      <td>0</td>\n",
              "      <td>0</td>\n",
              "      <td>0</td>\n",
              "      <td>0</td>\n",
              "      <td>0</td>\n",
              "      <td>0</td>\n",
              "      <td>0</td>\n",
              "      <td>0</td>\n",
              "      <td>0</td>\n",
              "      <td>0</td>\n",
              "      <td>0</td>\n",
              "      <td>0</td>\n",
              "      <td>0</td>\n",
              "      <td>0</td>\n",
              "      <td>0</td>\n",
              "      <td>0</td>\n",
              "      <td>0</td>\n",
              "      <td>0</td>\n",
              "      <td>0</td>\n",
              "      <td>0</td>\n",
              "      <td>0</td>\n",
              "      <td>1</td>\n",
              "      <td>0</td>\n",
              "      <td>102</td>\n",
              "      <td>23</td>\n",
              "      <td>1</td>\n",
              "      <td>14</td>\n",
              "    </tr>\n",
              "    <tr>\n",
              "      <th>1</th>\n",
              "      <td>617</td>\n",
              "      <td>510</td>\n",
              "      <td>3457</td>\n",
              "      <td>1</td>\n",
              "      <td>17341.0</td>\n",
              "      <td>12</td>\n",
              "      <td>8</td>\n",
              "      <td>2010</td>\n",
              "      <td>4</td>\n",
              "      <td>2</td>\n",
              "      <td>0</td>\n",
              "      <td>49</td>\n",
              "      <td>342</td>\n",
              "      <td>0</td>\n",
              "      <td>0</td>\n",
              "      <td>0</td>\n",
              "      <td>0</td>\n",
              "      <td>0</td>\n",
              "      <td>0</td>\n",
              "      <td>0</td>\n",
              "      <td>0</td>\n",
              "      <td>0</td>\n",
              "      <td>0</td>\n",
              "      <td>0</td>\n",
              "      <td>0</td>\n",
              "      <td>0</td>\n",
              "      <td>0</td>\n",
              "      <td>0</td>\n",
              "      <td>0</td>\n",
              "      <td>0</td>\n",
              "      <td>0</td>\n",
              "      <td>0</td>\n",
              "      <td>0</td>\n",
              "      <td>0</td>\n",
              "      <td>0</td>\n",
              "      <td>0</td>\n",
              "      <td>0</td>\n",
              "      <td>0</td>\n",
              "      <td>0</td>\n",
              "      <td>0</td>\n",
              "      <td>0</td>\n",
              "      <td>0</td>\n",
              "      <td>0</td>\n",
              "      <td>0</td>\n",
              "      <td>0</td>\n",
              "      <td>0</td>\n",
              "      <td>0</td>\n",
              "      <td>0</td>\n",
              "      <td>1</td>\n",
              "      <td>0</td>\n",
              "      <td>90</td>\n",
              "      <td>53</td>\n",
              "      <td>1</td>\n",
              "      <td>17</td>\n",
              "    </tr>\n",
              "    <tr>\n",
              "      <th>2</th>\n",
              "      <td>14653</td>\n",
              "      <td>604</td>\n",
              "      <td>694</td>\n",
              "      <td>36</td>\n",
              "      <td>15158.0</td>\n",
              "      <td>10</td>\n",
              "      <td>25</td>\n",
              "      <td>2011</td>\n",
              "      <td>4</td>\n",
              "      <td>1</td>\n",
              "      <td>0</td>\n",
              "      <td>43</td>\n",
              "      <td>298</td>\n",
              "      <td>0</td>\n",
              "      <td>0</td>\n",
              "      <td>0</td>\n",
              "      <td>0</td>\n",
              "      <td>0</td>\n",
              "      <td>0</td>\n",
              "      <td>0</td>\n",
              "      <td>0</td>\n",
              "      <td>0</td>\n",
              "      <td>0</td>\n",
              "      <td>0</td>\n",
              "      <td>0</td>\n",
              "      <td>0</td>\n",
              "      <td>0</td>\n",
              "      <td>0</td>\n",
              "      <td>0</td>\n",
              "      <td>0</td>\n",
              "      <td>0</td>\n",
              "      <td>0</td>\n",
              "      <td>0</td>\n",
              "      <td>0</td>\n",
              "      <td>0</td>\n",
              "      <td>0</td>\n",
              "      <td>0</td>\n",
              "      <td>0</td>\n",
              "      <td>0</td>\n",
              "      <td>0</td>\n",
              "      <td>0</td>\n",
              "      <td>0</td>\n",
              "      <td>0</td>\n",
              "      <td>0</td>\n",
              "      <td>0</td>\n",
              "      <td>0</td>\n",
              "      <td>0</td>\n",
              "      <td>0</td>\n",
              "      <td>1</td>\n",
              "      <td>0</td>\n",
              "      <td>465</td>\n",
              "      <td>108</td>\n",
              "      <td>1</td>\n",
              "      <td>99</td>\n",
              "    </tr>\n",
              "    <tr>\n",
              "      <th>3</th>\n",
              "      <td>8634</td>\n",
              "      <td>1478</td>\n",
              "      <td>3473</td>\n",
              "      <td>2</td>\n",
              "      <td>16033.0</td>\n",
              "      <td>6</td>\n",
              "      <td>27</td>\n",
              "      <td>2011</td>\n",
              "      <td>2</td>\n",
              "      <td>0</td>\n",
              "      <td>0</td>\n",
              "      <td>26</td>\n",
              "      <td>178</td>\n",
              "      <td>0</td>\n",
              "      <td>0</td>\n",
              "      <td>0</td>\n",
              "      <td>0</td>\n",
              "      <td>0</td>\n",
              "      <td>0</td>\n",
              "      <td>0</td>\n",
              "      <td>0</td>\n",
              "      <td>0</td>\n",
              "      <td>0</td>\n",
              "      <td>0</td>\n",
              "      <td>0</td>\n",
              "      <td>0</td>\n",
              "      <td>0</td>\n",
              "      <td>0</td>\n",
              "      <td>0</td>\n",
              "      <td>0</td>\n",
              "      <td>0</td>\n",
              "      <td>0</td>\n",
              "      <td>0</td>\n",
              "      <td>0</td>\n",
              "      <td>0</td>\n",
              "      <td>0</td>\n",
              "      <td>0</td>\n",
              "      <td>0</td>\n",
              "      <td>0</td>\n",
              "      <td>0</td>\n",
              "      <td>0</td>\n",
              "      <td>0</td>\n",
              "      <td>0</td>\n",
              "      <td>0</td>\n",
              "      <td>0</td>\n",
              "      <td>0</td>\n",
              "      <td>0</td>\n",
              "      <td>0</td>\n",
              "      <td>1</td>\n",
              "      <td>0</td>\n",
              "      <td>1869</td>\n",
              "      <td>75</td>\n",
              "      <td>1</td>\n",
              "      <td>156</td>\n",
              "    </tr>\n",
              "    <tr>\n",
              "      <th>4</th>\n",
              "      <td>15546</td>\n",
              "      <td>3216</td>\n",
              "      <td>871</td>\n",
              "      <td>1</td>\n",
              "      <td>15351.0</td>\n",
              "      <td>11</td>\n",
              "      <td>6</td>\n",
              "      <td>2011</td>\n",
              "      <td>4</td>\n",
              "      <td>6</td>\n",
              "      <td>1</td>\n",
              "      <td>44</td>\n",
              "      <td>310</td>\n",
              "      <td>0</td>\n",
              "      <td>0</td>\n",
              "      <td>0</td>\n",
              "      <td>0</td>\n",
              "      <td>0</td>\n",
              "      <td>0</td>\n",
              "      <td>0</td>\n",
              "      <td>0</td>\n",
              "      <td>0</td>\n",
              "      <td>0</td>\n",
              "      <td>0</td>\n",
              "      <td>0</td>\n",
              "      <td>0</td>\n",
              "      <td>0</td>\n",
              "      <td>0</td>\n",
              "      <td>0</td>\n",
              "      <td>0</td>\n",
              "      <td>0</td>\n",
              "      <td>0</td>\n",
              "      <td>0</td>\n",
              "      <td>0</td>\n",
              "      <td>0</td>\n",
              "      <td>0</td>\n",
              "      <td>0</td>\n",
              "      <td>0</td>\n",
              "      <td>0</td>\n",
              "      <td>0</td>\n",
              "      <td>0</td>\n",
              "      <td>0</td>\n",
              "      <td>0</td>\n",
              "      <td>0</td>\n",
              "      <td>0</td>\n",
              "      <td>0</td>\n",
              "      <td>0</td>\n",
              "      <td>0</td>\n",
              "      <td>1</td>\n",
              "      <td>0</td>\n",
              "      <td>525</td>\n",
              "      <td>20</td>\n",
              "      <td>1</td>\n",
              "      <td>146</td>\n",
              "    </tr>\n",
              "  </tbody>\n",
              "</table>\n",
              "</div>"
            ],
            "text/plain": [
              "   InvoiceNo  StockCode  ...  quant  Number of customers\n",
              "0       3139       1709  ...      1                   14\n",
              "1        617        510  ...      1                   17\n",
              "2      14653        604  ...      1                   99\n",
              "3       8634       1478  ...      1                  156\n",
              "4      15546       3216  ...      1                  146\n",
              "\n",
              "[5 rows x 54 columns]"
            ]
          },
          "metadata": {
            "tags": []
          },
          "execution_count": 121
        }
      ]
    },
    {
      "cell_type": "code",
      "metadata": {
        "id": "GnqhD4-o4Qo-",
        "colab": {
          "base_uri": "https://localhost:8080/"
        },
        "outputId": "dcd8d4dc-14f9-4cdc-92d6-ec6b0aa8edd8"
      },
      "source": [
        "test1_combo.shape"
      ],
      "execution_count": null,
      "outputs": [
        {
          "output_type": "execute_result",
          "data": {
            "text/plain": [
              "(122049, 54)"
            ]
          },
          "metadata": {
            "tags": []
          },
          "execution_count": 122
        }
      ]
    },
    {
      "cell_type": "code",
      "metadata": {
        "id": "GfjojtlO4Qfz"
      },
      "source": [
        "test =test.drop([\"dayofweek_name\",\"InvoiceDate\"],axis =1)\n",
        "# test =test.drop([\"minute\"],axis =1)"
      ],
      "execution_count": null,
      "outputs": []
    },
    {
      "cell_type": "code",
      "metadata": {
        "id": "MxZurUjmU3r6",
        "colab": {
          "base_uri": "https://localhost:8080/"
        },
        "outputId": "5cd408d5-6e18-4dc1-8ce2-22befcc3147e"
      },
      "source": [
        "test.shape"
      ],
      "execution_count": null,
      "outputs": [
        {
          "output_type": "execute_result",
          "data": {
            "text/plain": [
              "(122049, 40)"
            ]
          },
          "metadata": {
            "tags": []
          },
          "execution_count": 72
        }
      ]
    },
    {
      "cell_type": "code",
      "metadata": {
        "id": "VEcv5BRKGPnb",
        "colab": {
          "base_uri": "https://localhost:8080/"
        },
        "outputId": "2f88a6a2-05ea-4e74-df25-985d65278adc"
      },
      "source": [
        "print(test.loc[test.Country==35].shape[0] )\n",
        "print(test.shape[0])\n",
        "test.loc[test.Country==35].shape[0] / test.shape[0] * 100"
      ],
      "execution_count": null,
      "outputs": [
        {
          "output_type": "stream",
          "text": [
            "108625\n",
            "122049\n"
          ],
          "name": "stdout"
        },
        {
          "output_type": "execute_result",
          "data": {
            "text/plain": [
              "89.00113888684054"
            ]
          },
          "metadata": {
            "tags": []
          },
          "execution_count": 81
        }
      ]
    },
    {
      "cell_type": "code",
      "metadata": {
        "id": "xIhHUqA9U_DO"
      },
      "source": [
        "test = test.fillna(0)\n"
      ],
      "execution_count": null,
      "outputs": []
    },
    {
      "cell_type": "code",
      "metadata": {
        "id": "LjzI3Dhef10j"
      },
      "source": [
        "# test= test[['week_of_the_year','day of the week',\"StockCode\",'InvoiceNo','CustomerID','Dayofyear','PreChristmasMeanQuantity','QuantityProducttypeWeekWeekdayLag_1_median','QuantityProductTypeWeekWeekdayLag_3_median']]"
      ],
      "execution_count": null,
      "outputs": []
    },
    {
      "cell_type": "code",
      "metadata": {
        "id": "0udW9_aW59bk",
        "colab": {
          "base_uri": "https://localhost:8080/"
        },
        "outputId": "8092eafa-88bb-4b71-9de0-6527bc2518c6"
      },
      "source": [
        "test.shape"
      ],
      "execution_count": null,
      "outputs": [
        {
          "output_type": "execute_result",
          "data": {
            "text/plain": [
              "(122049, 42)"
            ]
          },
          "metadata": {
            "tags": []
          },
          "execution_count": 70
        }
      ]
    },
    {
      "cell_type": "code",
      "metadata": {
        "id": "Ap6AE5rSVS4J"
      },
      "source": [
        "pred = ada.predict(test)"
      ],
      "execution_count": null,
      "outputs": []
    },
    {
      "cell_type": "code",
      "metadata": {
        "id": "bjE7HqudKcjj"
      },
      "source": [
        "# pred = xgb.predict(test)"
      ],
      "execution_count": null,
      "outputs": []
    },
    {
      "cell_type": "code",
      "metadata": {
        "id": "XyWYRHW9VcK3"
      },
      "source": [
        "pred = pd.DataFrame(pred)"
      ],
      "execution_count": null,
      "outputs": []
    },
    {
      "cell_type": "code",
      "metadata": {
        "id": "5jGykR4tVhR1",
        "colab": {
          "base_uri": "https://localhost:8080/",
          "height": 408
        },
        "outputId": "42136db4-76f7-46ca-f810-26ba97e28e24"
      },
      "source": [
        "pred"
      ],
      "execution_count": null,
      "outputs": [
        {
          "output_type": "execute_result",
          "data": {
            "text/html": [
              "<div>\n",
              "<style scoped>\n",
              "    .dataframe tbody tr th:only-of-type {\n",
              "        vertical-align: middle;\n",
              "    }\n",
              "\n",
              "    .dataframe tbody tr th {\n",
              "        vertical-align: top;\n",
              "    }\n",
              "\n",
              "    .dataframe thead th {\n",
              "        text-align: right;\n",
              "    }\n",
              "</style>\n",
              "<table border=\"1\" class=\"dataframe\">\n",
              "  <thead>\n",
              "    <tr style=\"text-align: right;\">\n",
              "      <th></th>\n",
              "      <th>0</th>\n",
              "    </tr>\n",
              "  </thead>\n",
              "  <tbody>\n",
              "    <tr>\n",
              "      <th>0</th>\n",
              "      <td>1.65</td>\n",
              "    </tr>\n",
              "    <tr>\n",
              "      <th>1</th>\n",
              "      <td>1.45</td>\n",
              "    </tr>\n",
              "    <tr>\n",
              "      <th>2</th>\n",
              "      <td>2.95</td>\n",
              "    </tr>\n",
              "    <tr>\n",
              "      <th>3</th>\n",
              "      <td>1.25</td>\n",
              "    </tr>\n",
              "    <tr>\n",
              "      <th>4</th>\n",
              "      <td>4.95</td>\n",
              "    </tr>\n",
              "    <tr>\n",
              "      <th>...</th>\n",
              "      <td>...</td>\n",
              "    </tr>\n",
              "    <tr>\n",
              "      <th>122044</th>\n",
              "      <td>0.83</td>\n",
              "    </tr>\n",
              "    <tr>\n",
              "      <th>122045</th>\n",
              "      <td>0.85</td>\n",
              "    </tr>\n",
              "    <tr>\n",
              "      <th>122046</th>\n",
              "      <td>0.65</td>\n",
              "    </tr>\n",
              "    <tr>\n",
              "      <th>122047</th>\n",
              "      <td>2.55</td>\n",
              "    </tr>\n",
              "    <tr>\n",
              "      <th>122048</th>\n",
              "      <td>4.25</td>\n",
              "    </tr>\n",
              "  </tbody>\n",
              "</table>\n",
              "<p>122049 rows × 1 columns</p>\n",
              "</div>"
            ],
            "text/plain": [
              "           0\n",
              "0       1.65\n",
              "1       1.45\n",
              "2       2.95\n",
              "3       1.25\n",
              "4       4.95\n",
              "...      ...\n",
              "122044  0.83\n",
              "122045  0.85\n",
              "122046  0.65\n",
              "122047  2.55\n",
              "122048  4.25\n",
              "\n",
              "[122049 rows x 1 columns]"
            ]
          },
          "metadata": {
            "tags": []
          },
          "execution_count": 76
        }
      ]
    },
    {
      "cell_type": "code",
      "metadata": {
        "id": "tCGofV1dWkuN",
        "colab": {
          "base_uri": "https://localhost:8080/",
          "height": 17
        },
        "outputId": "ea610d2d-5c53-4681-8160-52468bea0d85"
      },
      "source": [
        "from google.colab import files\n",
        "pred.to_csv('pred_ada_23.csv') \n",
        "files.download('pred_ada_23.csv')"
      ],
      "execution_count": null,
      "outputs": [
        {
          "output_type": "display_data",
          "data": {
            "application/javascript": [
              "\n",
              "    async function download(id, filename, size) {\n",
              "      if (!google.colab.kernel.accessAllowed) {\n",
              "        return;\n",
              "      }\n",
              "      const div = document.createElement('div');\n",
              "      const label = document.createElement('label');\n",
              "      label.textContent = `Downloading \"${filename}\": `;\n",
              "      div.appendChild(label);\n",
              "      const progress = document.createElement('progress');\n",
              "      progress.max = size;\n",
              "      div.appendChild(progress);\n",
              "      document.body.appendChild(div);\n",
              "\n",
              "      const buffers = [];\n",
              "      let downloaded = 0;\n",
              "\n",
              "      const channel = await google.colab.kernel.comms.open(id);\n",
              "      // Send a message to notify the kernel that we're ready.\n",
              "      channel.send({})\n",
              "\n",
              "      for await (const message of channel.messages) {\n",
              "        // Send a message to notify the kernel that we're ready.\n",
              "        channel.send({})\n",
              "        if (message.buffers) {\n",
              "          for (const buffer of message.buffers) {\n",
              "            buffers.push(buffer);\n",
              "            downloaded += buffer.byteLength;\n",
              "            progress.value = downloaded;\n",
              "          }\n",
              "        }\n",
              "      }\n",
              "      const blob = new Blob(buffers, {type: 'application/binary'});\n",
              "      const a = document.createElement('a');\n",
              "      a.href = window.URL.createObjectURL(blob);\n",
              "      a.download = filename;\n",
              "      div.appendChild(a);\n",
              "      a.click();\n",
              "      div.remove();\n",
              "    }\n",
              "  "
            ],
            "text/plain": [
              "<IPython.core.display.Javascript object>"
            ]
          },
          "metadata": {
            "tags": []
          }
        },
        {
          "output_type": "display_data",
          "data": {
            "application/javascript": [
              "download(\"download_7aa03942-f93f-46b6-91ae-e67126398f6b\", \"pred_ada_23.csv\", 1877264)"
            ],
            "text/plain": [
              "<IPython.core.display.Javascript object>"
            ]
          },
          "metadata": {
            "tags": []
          }
        }
      ]
    }
  ]
}